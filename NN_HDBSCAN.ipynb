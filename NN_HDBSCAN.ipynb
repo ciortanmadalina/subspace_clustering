{
 "cells": [
  {
   "cell_type": "markdown",
   "metadata": {},
   "source": [
    "# Summary\n",
    "\n",
    "This notebook trains the neural network with simulated data, to approximate either the Silhouette or the Ratkowski lance scores of clustering feature subspaces with HDBSCAN."
   ]
  },
  {
   "cell_type": "code",
   "execution_count": null,
   "metadata": {
    "ExecuteTime": {
     "end_time": "2020-07-10T11:42:54.466097Z",
     "start_time": "2020-07-10T11:42:52.304683Z"
    }
   },
   "outputs": [],
   "source": [
    "from keras.backend.tensorflow_backend import set_session\n",
    "import tensorflow as tf\n",
    "config = tf.ConfigProto()\n",
    "config.gpu_options.allow_growth = True  # dynamically grow the memory used on the GPU\n",
    "config.log_device_placement = True  # to log device placement (on which device the operation ran)\n",
    "sess = tf.Session(config=config)\n",
    "set_session(sess)  # set this TensorFlow session as the default\n",
    "\n",
    "import matplotlib.pyplot as plt\n",
    "import numpy as np\n",
    "import pandas as pd\n",
    "import seaborn as sns\n",
    "import sklearn\n",
    "from sklearn.cluster import  KMeans, MeanShift\n",
    "from collections import Counter\n",
    "from sklearn import preprocessing\n",
    "from sklearn.metrics.cluster import adjusted_rand_score\n",
    "from sklearn.datasets.samples_generator import make_blobs\n",
    "import itertools\n",
    "import random\n",
    "\n",
    "import scipy\n",
    "from tqdm import tqdm\n",
    "import pickle\n",
    "import sys\n",
    "from keras.utils import to_categorical\n",
    "import keras\n",
    "from keras.models import load_model\n",
    "from datetime import datetime\n",
    "import time\n",
    "from keras.preprocessing.image import ImageDataGenerator#, array_to_img, img_to_array, load_img\n",
    "import scripts.data_generator as data_generator\n",
    "import scripts.internal_scores as validation\n",
    "import scripts.cnn_models as cnn_models\n",
    "import hdbscan\n",
    "import scripts.plot_losses as plot_losses\n",
    "random_state=0\n",
    "random.seed( random_state )\n",
    "np.random.seed(random_state)\n",
    "\n",
    "%load_ext autoreload\n",
    "%autoreload 2"
   ]
  },
  {
   "cell_type": "markdown",
   "metadata": {},
   "source": [
    "# Define score for analysis"
   ]
  },
  {
   "cell_type": "code",
   "execution_count": null,
   "metadata": {},
   "outputs": [],
   "source": [
    "score = \"h_as\" # HDBSCAN + Silhouette\n",
    "# score = \"h_arl\" # HDBSCAN + Ratkowski Lance\n",
    "nb_bins = 20"
   ]
  },
  {
   "cell_type": "markdown",
   "metadata": {},
   "source": [
    "# Load simulated data"
   ]
  },
  {
   "cell_type": "code",
   "execution_count": null,
   "metadata": {
    "ExecuteTime": {
     "end_time": "2020-07-10T13:28:28.322265Z",
     "start_time": "2020-07-10T13:28:26.686228Z"
    }
   },
   "outputs": [],
   "source": [
    "x_train_img = np.load(\"data/nn_data/img_x_train_img.npy\")\n",
    "x_train_k = np.load(\"data/nn_data/img_x_train_k.npy\")\n",
    "y_train= pd.read_pickle(\"data/nn_data/img_y_train.npy\")\n",
    "\n",
    "x_val_img = np.load(\"data/nn_data/img_x_val_img.npy\")\n",
    "x_val_k = np.load(\"data/nn_data/img_x_val_k.npy\")\n",
    "y_val= pd.read_pickle(\"data/nn_data/img_y_val.npy\")\n",
    "\n",
    "\n",
    "\n",
    "\n",
    "x_train_img.shape, x_val_img.shape"
   ]
  },
  {
   "cell_type": "code",
   "execution_count": null,
   "metadata": {
    "ExecuteTime": {
     "end_time": "2020-07-10T13:28:33.654682Z",
     "start_time": "2020-07-10T13:28:33.358420Z"
    }
   },
   "outputs": [],
   "source": [
    "# idx= np.argmax(train_score)\n",
    "idx = np.random.randint(0, len(y_train))\n",
    "plt.imshow(x_train_img[idx][:,:,0])\n",
    "plt.title(y_train[score].values[idx] );\n",
    "print(np.argmax(x_train_k, axis = 1)[idx])"
   ]
  },
  {
   "cell_type": "markdown",
   "metadata": {},
   "source": [
    "## Create model\n"
   ]
  },
  {
   "cell_type": "code",
   "execution_count": null,
   "metadata": {
    "ExecuteTime": {
     "end_time": "2020-07-10T13:28:36.286802Z",
     "start_time": "2020-07-10T13:28:35.976554Z"
    }
   },
   "outputs": [],
   "source": [
    "def img_based_model(input_shape = (21,21,1),\n",
    "                      filter_size=16,\n",
    "                      dropout=0.2,\n",
    "                      noise=0.005,\n",
    "                      firstKernelSize=5,\n",
    "                      secondKernelSize=3,):\n",
    "\n",
    "\n",
    "    input_layer = keras.layers.Input(input_shape)\n",
    "    x = input_layer\n",
    "#     x = GaussianNoise(stddev=noise)(x)\n",
    "    x = keras.layers.Conv2D(filters=filter_size,\n",
    "                                kernel_size=(firstKernelSize,firstKernelSize),\n",
    "                                padding='same')(x)\n",
    "    x = keras.layers.Conv2D(filters=filter_size,\n",
    "                                kernel_size=(firstKernelSize,firstKernelSize),\n",
    "                                padding='same')(x)\n",
    "    x = keras.layers.Activation(activation=\"relu\")(x)\n",
    "#     x = keras.layers.normalization.BatchNormalization()(x)\n",
    "    x = keras.layers.MaxPooling2D(pool_size=(2, 2))(x)\n",
    "    x = keras.layers.Dropout(dropout)(x)\n",
    "    \n",
    "    x = keras.layers.Conv2D(filters=filter_size*2,\n",
    "                                kernel_size=(secondKernelSize, secondKernelSize),\n",
    "                                padding='same')(x)\n",
    "    x = keras.layers.Conv2D(filters=filter_size*2,\n",
    "                                kernel_size=(secondKernelSize, secondKernelSize),\n",
    "                                padding='same')(x)\n",
    "\n",
    "    x = keras.layers.Activation(activation=\"relu\")(x)\n",
    "    x = keras.layers.MaxPooling2D(pool_size=(2,2))(x)\n",
    "    x = keras.layers.Dropout(dropout)(x)\n",
    "    x = keras.layers.Conv2D(filters=filter_size*2,\n",
    "                                kernel_size=(secondKernelSize, secondKernelSize),\n",
    "                                padding='same')(x)\n",
    "    x = keras.layers.Conv2D(filters=filter_size*2,\n",
    "                                kernel_size=(secondKernelSize, secondKernelSize),\n",
    "                                padding='same')(x)\n",
    "\n",
    "    x = keras.layers.Activation(activation=\"relu\")(x)\n",
    "#     x = keras.layers.normalization.BatchNormalization()(x)\n",
    "    x = keras.layers.MaxPooling2D(pool_size=(2,2))(x)\n",
    "    x = keras.layers.Dropout(dropout)(x)\n",
    "\n",
    "    x = keras.layers.Flatten()(x)\n",
    "    x = keras.layers.Dense(10, activation = \"relu\")(x)\n",
    "    x = keras.layers.Dropout(dropout)(x)\n",
    "    x = keras.layers.Dense(1, activation = \"tanh\"\n",
    "                          )(x)\n",
    "\n",
    "\n",
    "    model = keras.models.Model(inputs=input_layer, outputs=x)\n",
    "\n",
    "    model.compile(loss='mean_squared_error',\n",
    "                  optimizer=\"adam\",\n",
    "                  metrics=['mean_absolute_error', 'mse'])\n",
    "\n",
    "    return model\n",
    "model = img_based_model()\n",
    "model.summary()"
   ]
  },
  {
   "cell_type": "markdown",
   "metadata": {},
   "source": [
    "# Train model"
   ]
  },
  {
   "cell_type": "code",
   "execution_count": null,
   "metadata": {
    "ExecuteTime": {
     "end_time": "2020-07-10T13:28:36.813578Z",
     "start_time": "2020-07-10T13:28:36.750062Z"
    }
   },
   "outputs": [],
   "source": [
    "batch_size = 200\n",
    "epochs = 1500\n",
    "\n",
    "# file = f'models/conv_2d.h5'\n",
    "\n",
    "pl = plot_losses.PlotLosses(printInterval=1, name = 'mean_absolute_error')\n",
    "es= keras.callbacks.EarlyStopping(monitor='val_loss', min_delta=0, patience=20,\n",
    "                              verbose=0, mode='auto')\n",
    "reduce_lr = keras.callbacks.ReduceLROnPlateau(monitor='loss', factor=0.2, patience=5, \n",
    "    min_lr=0.0001)"
   ]
  },
  {
   "cell_type": "code",
   "execution_count": null,
   "metadata": {
    "ExecuteTime": {
     "end_time": "2020-07-10T15:29:29.356054Z",
     "start_time": "2020-07-10T13:28:37.590283Z"
    }
   },
   "outputs": [],
   "source": [
    "datagen = ImageDataGenerator(\n",
    "    rotation_range=2,\n",
    "    horizontal_flip=True,\n",
    "    vertical_flip=True,\n",
    "    fill_mode='nearest')\n",
    "\n",
    "model.fit_generator(\n",
    "    datagen.flow(x_train_img, y_train[[score]].values, batch_size=batch_size),\n",
    "    validation_data=(x_val_img ,y_val[[score]].values), \n",
    "    steps_per_epoch=len(x_train_img) // batch_size,\n",
    "    callbacks=[pl, reduce_lr],\n",
    "    epochs=epochs, verbose = True)\n",
    "\n",
    "model.save(f'models/{score}.h5')"
   ]
  },
  {
   "cell_type": "markdown",
   "metadata": {},
   "source": [
    "# Evaluate performance"
   ]
  },
  {
   "cell_type": "code",
   "execution_count": null,
   "metadata": {
    "ExecuteTime": {
     "end_time": "2020-07-10T13:19:41.787095Z",
     "start_time": "2020-07-10T13:19:41.647350Z"
    }
   },
   "outputs": [],
   "source": [
    "score = 'h_as'\n",
    "# score = \"h_arl\""
   ]
  },
  {
   "cell_type": "code",
   "execution_count": null,
   "metadata": {
    "ExecuteTime": {
     "end_time": "2020-07-10T15:29:39.842356Z",
     "start_time": "2020-07-10T15:29:38.836727Z"
    }
   },
   "outputs": [],
   "source": [
    "pred = model.predict(x_val_img )\n",
    "y_val[\"pred\"] = np.ravel(pred)\n",
    "\n",
    "\n",
    "print(\"MSE \", sklearn.metrics.mean_squared_error(y_val[score], y_val[\"pred\"]))\n",
    "print(\"MAE \", sklearn.metrics.mean_absolute_error(y_val[score], y_val[\"pred\"]))\n"
   ]
  },
  {
   "cell_type": "code",
   "execution_count": null,
   "metadata": {
    "ExecuteTime": {
     "end_time": "2020-07-10T15:30:07.581930Z",
     "start_time": "2020-07-10T15:30:07.509802Z"
    }
   },
   "outputs": [],
   "source": [
    "x_test_ma_img = np.load(\"data/nn_data/img_x_test_ma_img.npy\")\n",
    "x_test_ma_k = np.load(\"data/nn_data/img_x_test_ma_k.npy\" )\n",
    "y_test_ma = pd.read_pickle(\"data/nn_data/img_y_test_ma.npy\")"
   ]
  },
  {
   "cell_type": "code",
   "execution_count": null,
   "metadata": {
    "ExecuteTime": {
     "end_time": "2020-07-10T15:30:24.231348Z",
     "start_time": "2020-07-10T15:30:24.037704Z"
    }
   },
   "outputs": [],
   "source": [
    "pred = model.predict(x_test_ma_img )\n",
    "y_test_ma[\"pred\"] = np.ravel(pred)\n",
    "y_test_ma.shape\n",
    "\n",
    "print(\"MSE \", sklearn.metrics.mean_squared_error(y_test_ma[score], y_test_ma[\"pred\"]))\n",
    "print(\"MAE \", sklearn.metrics.mean_absolute_error(y_test_ma[score], y_test_ma[\"pred\"]))"
   ]
  },
  {
   "cell_type": "code",
   "execution_count": null,
   "metadata": {
    "ExecuteTime": {
     "end_time": "2020-07-10T15:30:24.615544Z",
     "start_time": "2020-07-10T15:30:24.539448Z"
    }
   },
   "outputs": [],
   "source": [
    "x_test_rna_img = np.load(\"data/nn_data/img_x_test_rna_img.npy\")\n",
    "x_test_rna_k = np.load(\"data/nn_data/img_x_test_rna_k.npy\")\n",
    "y_test_rna = pd.read_pickle(\"data/nn_data/img_y_test_rna.npy\")"
   ]
  },
  {
   "cell_type": "code",
   "execution_count": null,
   "metadata": {
    "ExecuteTime": {
     "end_time": "2020-07-10T15:31:11.949431Z",
     "start_time": "2020-07-10T15:31:11.855129Z"
    }
   },
   "outputs": [],
   "source": [
    "pred = model.predict(x_test_rna_img )\n",
    "y_test_rna[\"pred\"] = np.ravel(pred)\n",
    "y_test_rna.shape\n",
    "\n",
    "print(\"MSE \", sklearn.metrics.mean_squared_error(y_test_rna[score], y_test_rna[\"pred\"]))\n",
    "print(\"MAE \", sklearn.metrics.mean_absolute_error(y_test_rna[score], y_test_rna[\"pred\"]))\n"
   ]
  },
  {
   "cell_type": "code",
   "execution_count": null,
   "metadata": {},
   "outputs": [],
   "source": []
  },
  {
   "cell_type": "code",
   "execution_count": null,
   "metadata": {},
   "outputs": [],
   "source": []
  },
  {
   "cell_type": "code",
   "execution_count": null,
   "metadata": {},
   "outputs": [],
   "source": []
  }
 ],
 "metadata": {
  "kernelspec": {
   "display_name": "Python 3",
   "language": "python",
   "name": "python3"
  },
  "language_info": {
   "codemirror_mode": {
    "name": "ipython",
    "version": 3
   },
   "file_extension": ".py",
   "mimetype": "text/x-python",
   "name": "python",
   "nbconvert_exporter": "python",
   "pygments_lexer": "ipython3",
   "version": "3.6.9"
  },
  "toc": {
   "base_numbering": 1,
   "nav_menu": {},
   "number_sections": true,
   "sideBar": true,
   "skip_h1_title": false,
   "title_cell": "Table of Contents",
   "title_sidebar": "Contents",
   "toc_cell": false,
   "toc_position": {},
   "toc_section_display": true,
   "toc_window_display": false
  },
  "varInspector": {
   "cols": {
    "lenName": 16,
    "lenType": 16,
    "lenVar": 40
   },
   "kernels_config": {
    "python": {
     "delete_cmd_postfix": "",
     "delete_cmd_prefix": "del ",
     "library": "var_list.py",
     "varRefreshCmd": "print(var_dic_list())"
    },
    "r": {
     "delete_cmd_postfix": ") ",
     "delete_cmd_prefix": "rm(",
     "library": "var_list.r",
     "varRefreshCmd": "cat(var_dic_list()) "
    }
   },
   "oldHeight": 361.5,
   "position": {
    "height": "40px",
    "left": "1035px",
    "right": "20px",
    "top": "120px",
    "width": "313px"
   },
   "types_to_exclude": [
    "module",
    "function",
    "builtin_function_or_method",
    "instance",
    "_Feature"
   ],
   "varInspector_section_display": "none",
   "window_display": false
  }
 },
 "nbformat": 4,
 "nbformat_minor": 2
}
