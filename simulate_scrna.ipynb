{
 "cells": [
  {
   "cell_type": "markdown",
   "metadata": {},
   "source": [
    "# Launch docker:\n",
    "\n",
    "docker run -it --rm -p 8889:8888 -v ~/notebooks:/home/jovyan/work jupyter/r-notebook"
   ]
  },
  {
   "cell_type": "code",
   "execution_count": null,
   "metadata": {},
   "outputs": [],
   "source": [
    "!pip install rpy2"
   ]
  },
  {
   "cell_type": "code",
   "execution_count": null,
   "metadata": {},
   "outputs": [],
   "source": []
  },
  {
   "cell_type": "markdown",
   "metadata": {},
   "source": [
    "# Simulate scRNA-seq data"
   ]
  },
  {
   "cell_type": "code",
   "execution_count": 1,
   "metadata": {},
   "outputs": [
    {
     "name": "stderr",
     "output_type": "stream",
     "text": [
      "Bioconductor version 3.11 (BiocManager 1.30.10), R 4.0.0 (2020-04-24)\n",
      "\n",
      "Installing package(s) 'splatter'\n",
      "\n",
      "Updating HTML index of packages in '.Library'\n",
      "\n",
      "Making 'packages.html' ...\n",
      " done\n",
      "\n",
      "Old packages: 'bit', 'bit64', 'data.table', 'devtools', 'dplyr', 'DT', 'fs',\n",
      "  'htmltools', 'httr', 'IRkernel', 'MASS', 'parsnip', 'ps', 'Rcpp', 'remotes',\n",
      "  'rmarkdown', 'RODBC', 'rvest', 'shiny', 'sys', 'tidyr', 'tinytex', 'TTR',\n",
      "  'workflows', 'xfun'\n",
      "\n",
      "Updating HTML index of packages in '.Library'\n",
      "\n",
      "Making 'packages.html' ...\n",
      " done\n",
      "\n"
     ]
    }
   ],
   "source": [
    "if (!requireNamespace(\"BiocManager\", quietly = TRUE))\n",
    "    install.packages(\"BiocManager\")\n",
    "\n",
    "BiocManager::install(\"splatter\")\n",
    "install.packages(\"Rtsne\")"
   ]
  },
  {
   "cell_type": "code",
   "execution_count": 8,
   "metadata": {
    "scrolled": true
   },
   "outputs": [
    {
     "name": "stderr",
     "output_type": "stream",
     "text": [
      "Getting parameters...\n",
      "\n",
      "Creating simulation object...\n",
      "\n",
      "Simulating library sizes...\n",
      "\n",
      "Simulating gene means...\n",
      "\n",
      "Simulating group DE...\n",
      "\n",
      "Simulating cell means...\n",
      "\n",
      "Simulating BCV...\n",
      "\n",
      "Simulating counts...\n",
      "\n",
      "Simulating dropout (if needed)...\n",
      "\n",
      "Done!\n",
      "\n"
     ]
    },
    {
     "name": "stdout",
     "output_type": "stream",
     "text": [
      "[1] \"Dropout rate\"\n",
      "[1] 0.06404929\n"
     ]
    },
    {
     "data": {
      "text/html": [
       "TRUE"
      ],
      "text/latex": [
       "TRUE"
      ],
      "text/markdown": [
       "TRUE"
      ],
      "text/plain": [
       "[1] TRUE"
      ]
     },
     "metadata": {},
     "output_type": "display_data"
    },
    {
     "data": {
      "text/html": [
       "TRUE"
      ],
      "text/latex": [
       "TRUE"
      ],
      "text/markdown": [
       "TRUE"
      ],
      "text/plain": [
       "[1] TRUE"
      ]
     },
     "metadata": {},
     "output_type": "display_data"
    }
   ],
   "source": [
    "rm(list = ls())\n",
    "library(splatter)\n",
    "library(rhdf5)\n",
    "\n",
    "i <- 2 ## set random seed\n",
    "simulate <- function(nGroups=3, nGenes=300, batchCells=400, dropout=0) # change dropout to simulate various dropout rates\n",
    "  {\n",
    "    if (nGroups > 1) method <- 'groups'\n",
    "    else             method <- 'single'\n",
    "    \n",
    "    group.prob <- rep(1, nGroups) / nGroups\n",
    "    sim <- splatSimulate(group.prob=group.prob, nGenes=nGenes, batchCells=batchCells,\n",
    "                         dropout.type=\"experiment\", method=method,\n",
    "                         seed=100+i, dropout.shape=-1, dropout.mid=dropout\n",
    "                         #, de.facScale=0.25\n",
    "                        )\n",
    "    \n",
    "    counts     <- as.data.frame(t(counts(sim)))\n",
    "    truecounts <- as.data.frame(t(assays(sim)$TrueCounts))\n",
    "    \n",
    "    dropout    <- assays(sim)$Dropout\n",
    "    mode(dropout) <- 'integer'\n",
    "    \n",
    "    cellinfo   <- as.data.frame(colData(sim))\n",
    "    geneinfo   <- as.data.frame(rowData(sim))\n",
    "    \n",
    "    list(sim=sim,\n",
    "         counts=counts,\n",
    "         cellinfo=cellinfo,\n",
    "         geneinfo=geneinfo,\n",
    "         truecounts=truecounts)\n",
    "  }\n",
    "dropout <- 0\n",
    "nGroups <- 3\n",
    "sim <- simulate(nGroups= nGroups, dropout = dropout)\n",
    "  \n",
    "simulation <- sim$sim\n",
    "counts <- sim$counts\n",
    "geneinfo <- sim$geneinfo\n",
    "cellinfo <- sim$cellinfo\n",
    "truecounts <- sim$truecounts\n",
    "\n",
    "\n",
    "dropout.rate <- (sum(counts==0)-sum(truecounts==0))/sum(truecounts>0)\n",
    "print(\"Dropout rate\")\n",
    "exp <- paste(\"dropout\", dropout , sep= \"_\")\n",
    "print(dropout.rate)\n",
    "folder = \"data/scRNAseq_simulated/2/\"\n",
    "save(counts, geneinfo, cellinfo, truecounts, file=paste(folder, \"d\", nGroups, exp,\".RData\", sep=\"\"))\n",
    "\n",
    "X <- t(counts) ## counts with dropout\n",
    "Y <- as.integer(substring(cellinfo$Group,6))\n",
    "Y <- Y-1\n",
    "\n",
    "\n",
    "h5createFile(paste(folder, \"d\", nGroups, exp, \".h5\", sep=\"\"))\n",
    "h5write(X, paste(folder, \"d\", nGroups, exp, \".h5\", sep=\"\"),\"X\")\n",
    "h5write(Y, paste(folder, \"d\", nGroups,  exp,\".h5\", sep=\"\"),\"Y\")\n",
    "h5write(geneinfo[\"Gene\"], paste(folder, \"d\", nGroups, exp, \".h5\", sep=\"\"),\"geneinfo\")\n",
    "h5write(cellinfo[\"Cell\"], paste(folder, \"d\", nGroups,  exp,\".h5\", sep=\"\"),\"cellinfo\")\n",
    "\n",
    "true.X <- t(truecounts) ## counts without dropout\n",
    "h5createFile(paste(folder, \"dt\", nGroups, exp, \".h5\", sep=\"\"))\n",
    "h5write(true.X, paste(folder, \"dt\", nGroups,  exp,\".h5\", sep=\"\"),\"X\")\n",
    "h5write(Y, paste(folder, \"dt\", nGroups,  exp,\".h5\", sep=\"\"),\"Y\")"
   ]
  },
  {
   "cell_type": "code",
   "execution_count": null,
   "metadata": {},
   "outputs": [],
   "source": []
  },
  {
   "cell_type": "code",
   "execution_count": null,
   "metadata": {},
   "outputs": [],
   "source": []
  },
  {
   "cell_type": "code",
   "execution_count": null,
   "metadata": {},
   "outputs": [],
   "source": []
  }
 ],
 "metadata": {
  "kernelspec": {
   "display_name": "R",
   "language": "R",
   "name": "ir"
  },
  "language_info": {
   "codemirror_mode": "r",
   "file_extension": ".r",
   "mimetype": "text/x-r-source",
   "name": "R",
   "pygments_lexer": "r",
   "version": "4.0.0"
  }
 },
 "nbformat": 4,
 "nbformat_minor": 2
}
