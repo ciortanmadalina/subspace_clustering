{
 "cells": [
  {
   "cell_type": "code",
   "execution_count": null,
   "metadata": {
    "ExecuteTime": {
     "end_time": "2020-05-18T18:20:16.318445Z",
     "start_time": "2020-05-18T18:20:15.708621Z"
    }
   },
   "outputs": [],
   "source": [
    "# sudo apt install msttcorefonts -qq\n",
    "!rm ~/.cache/matplotlib -rf"
   ]
  },
  {
   "cell_type": "code",
   "execution_count": 1,
   "metadata": {
    "ExecuteTime": {
     "end_time": "2020-07-13T19:44:59.325818Z",
     "start_time": "2020-07-13T19:44:57.869575Z"
    }
   },
   "outputs": [
    {
     "name": "stderr",
     "output_type": "stream",
     "text": [
      "Using TensorFlow backend.\n"
     ]
    },
    {
     "name": "stdout",
     "output_type": "stream",
     "text": [
      "Device mapping:\n",
      "/job:localhost/replica:0/task:0/device:XLA_CPU:0 -> device: XLA_CPU device\n",
      "/job:localhost/replica:0/task:0/device:XLA_GPU:0 -> device: XLA_GPU device\n",
      "/job:localhost/replica:0/task:0/device:GPU:0 -> device: 0, name: GeForce RTX 2060, pci bus id: 0000:01:00.0, compute capability: 7.5\n",
      "\n"
     ]
    }
   ],
   "source": [
    "from keras.backend.tensorflow_backend import set_session\n",
    "import tensorflow as tf\n",
    "config = tf.ConfigProto()\n",
    "config.gpu_options.allow_growth = True  # dynamically grow the memory used on the GPU\n",
    "config.log_device_placement = True  # to log device placement (on which device the operation ran)\n",
    "sess = tf.Session(config=config)\n",
    "set_session(sess)  # set this TensorFlow session as the default"
   ]
  },
  {
   "cell_type": "code",
   "execution_count": 3,
   "metadata": {
    "ExecuteTime": {
     "end_time": "2020-07-13T19:45:00.122152Z",
     "start_time": "2020-07-13T19:44:59.666637Z"
    }
   },
   "outputs": [],
   "source": [
    "from sklearn.cluster import KMeans\n",
    "import matplotlib.pyplot as plt\n",
    "import numpy as np\n",
    "import pandas as pd\n",
    "import seaborn as sns\n",
    "import itertools\n",
    "from sklearn import mixture\n",
    "import hdbscan\n",
    "import random\n",
    "from tqdm import tqdm\n",
    "plt.ion()\n",
    "plt.show()\n",
    "import os\n",
    "import sys\n",
    "sys.path.append(\"..\")\n",
    "from keras.models import Model\n",
    "import time\n",
    "from keras.models import load_model\n",
    "import scripts.cnn_models as cnn_models\n",
    "import scripts.internal_scores as validation\n",
    "plt.style.use('publication_bigger.mplstyle')\n",
    "plt.ion()\n",
    "plt.show()\n",
    "random_state=0\n",
    "random.seed( random_state )\n",
    "np.random.seed(random_state)\n",
    "method = \"adapted_ratkowsky_lance\""
   ]
  },
  {
   "cell_type": "code",
   "execution_count": 4,
   "metadata": {
    "ExecuteTime": {
     "end_time": "2020-07-13T19:45:00.495053Z",
     "start_time": "2020-07-13T19:45:00.123439Z"
    }
   },
   "outputs": [],
   "source": [
    "%load_ext autoreload\n",
    "%autoreload 2"
   ]
  },
  {
   "cell_type": "markdown",
   "metadata": {},
   "source": [
    "# Save GPU model weights\n",
    "\n"
   ]
  },
  {
   "cell_type": "code",
   "execution_count": 5,
   "metadata": {
    "ExecuteTime": {
     "end_time": "2020-06-28T16:51:15.490798Z",
     "start_time": "2020-06-28T16:51:14.003266Z"
    }
   },
   "outputs": [
    {
     "name": "stdout",
     "output_type": "stream",
     "text": [
      "WARNING:tensorflow:From /usr/local/lib/python3.6/dist-packages/tensorflow_core/python/ops/resource_variable_ops.py:1630: calling BaseResourceVariable.__init__ (from tensorflow.python.ops.resource_variable_ops) with constraint is deprecated and will be removed in a future version.\n",
      "Instructions for updating:\n",
      "If using Keras pass *_constraint arguments to layers.\n",
      "WARNING:tensorflow:From /usr/local/lib/python3.6/dist-packages/keras/backend/tensorflow_backend.py:4070: The name tf.nn.max_pool is deprecated. Please use tf.nn.max_pool2d instead.\n",
      "\n",
      "WARNING:tensorflow:From /usr/local/lib/python3.6/dist-packages/keras/backend/tensorflow_backend.py:422: The name tf.global_variables is deprecated. Please use tf.compat.v1.global_variables instead.\n",
      "\n"
     ]
    }
   ],
   "source": [
    "if os.path.isfile('models/cnn.ckpt') == False:\n",
    "    model_file =  f'models/cnn.h5'\n",
    "    model12d = load_model(model_file)\n",
    "\n",
    "    def freeze_layers(model):\n",
    "        for i in model.layers:\n",
    "            i.trainable = False\n",
    "            if isinstance(i, Model):\n",
    "                freeze_layers(i)\n",
    "        return model\n",
    "\n",
    "    model_freezed = freeze_layers(model12d)\n",
    "    model_freezed.save_weights('models/cnn.ckpt')"
   ]
  },
  {
   "cell_type": "code",
   "execution_count": 5,
   "metadata": {
    "ExecuteTime": {
     "end_time": "2020-07-13T19:48:31.410138Z",
     "start_time": "2020-07-13T19:48:31.367318Z"
    }
   },
   "outputs": [],
   "source": [
    "def load_cpu_model(weights_file = 'models/cnn.ckpt'):\n",
    "    input_shape = (21,2)\n",
    "    params = {\n",
    "        'filter_size': 20,\n",
    "        'activation': 'relu',\n",
    "        'dropout': 0.3,\n",
    "        'optimizer': 'adam',\n",
    "        'learningRate': 0.0001,\n",
    "        'noise': 0.005,\n",
    "        'regularization': True,\n",
    "        'l2': 0.0005\n",
    "    }\n",
    "    model = cnn_models.build_2conv_model(input_shape,\n",
    "                                     firstKernelSize=10,\n",
    "                                     secondKernelSize=10,\n",
    "                                     **params)\n",
    "    model.load_weights(weights_file)\n",
    "    return model\n",
    "\n",
    "def nn_cpu_approximation(data, ids, weights_file =  f'models/cnn.ckpt'):\n",
    "    digitized_data_1d = cnn_models.digitize(data)\n",
    "    model12d = load_cpu_model(weights_file = 'models/cnn.ckpt')\n",
    "    scores = cnn_models.predict(model12d, ids, digitized_data_1d)\n",
    "    return scores\n",
    "def nn_approximation(data, ids, n_clusters, model_file =  f'models/cnn.h5'):\n",
    "    digitized_subspaces = cnn_models.digitize(data)\n",
    "    \n",
    "    model12d = load_model(model_file)\n",
    "    scores = cnn_models.predict(model12d, ids, digitized_subspaces, n_clusters)\n",
    "    return scores\n",
    "\n",
    "def k_means_clustering(data, ids, n_clusters, algorithm):\n",
    "    scores = []\n",
    "    for i, j in ids:\n",
    "        if algorithm == \"gmm\":\n",
    "            gmm = mixture.GaussianMixture(n_components=n_clusters,\n",
    "                      covariance_type=\"full\", random_state=0)\n",
    "            pred = gmm.fit_predict(data[:, [i,j]])\n",
    "        if algorithm == \"hdbscan\":\n",
    "            pred = hdbscan.HDBSCAN(min_cluster_size =10).fit(data[:, [i,j]]).labels_\n",
    "#         pred = KMeans(n_clusters= n_clusters, random_state = 0).fit(data[:, [i,j]]).labels_\n",
    "        scores.append(getattr(validation.validation(), method)(data[:, [i,j]], pred))\n",
    "    return scores"
   ]
  },
  {
   "cell_type": "code",
   "execution_count": 6,
   "metadata": {
    "ExecuteTime": {
     "end_time": "2020-07-13T19:48:32.600843Z",
     "start_time": "2020-07-13T19:48:32.565143Z"
    }
   },
   "outputs": [],
   "source": [
    "# results = pd.DataFrame(columns = [\"Nb. evaluations\",  \"NN CPU time\"])\n",
    "\n",
    "# for size in [10, 20, 50, 100, 200, 300, 400]:\n",
    "#     data = np.random.uniform(size = (300, size))\n",
    "#     ids = np.array(list(itertools.combinations(np.arange(data.shape[1]), 2)))\n",
    "#     print(len(ids), size)\n",
    "\n",
    "#     t1 = time.time()\n",
    "# #     nn_cpu_approximation(data, ids,  weights_file =  f'models/nn.ckpt')\n",
    "# #     nn_approximation(data, ids, model_file =  f'models/nn_cpu.h5')\n",
    "#     nn_approximation(data, ids, model_file =  f'models/nn.h5')\n",
    "#     t2 = time.time()\n",
    "#     nn_time = t2-t1\n",
    "\n",
    "#     runs = [len(ids), nn_time]\n",
    "\n",
    "#     results.loc[results.shape[0]] = runs\n",
    "#     results.to_pickle(\"data/cpu_speed_comparaison.pkl\")"
   ]
  },
  {
   "cell_type": "code",
   "execution_count": 7,
   "metadata": {
    "ExecuteTime": {
     "end_time": "2020-07-13T19:48:42.666427Z",
     "start_time": "2020-07-13T19:48:42.630640Z"
    }
   },
   "outputs": [],
   "source": [
    "# results = pd.DataFrame(columns = [\"Nb. evaluations\",  \"NN GPU time\"])\n",
    "\n",
    "# for size in [10, 20, 50, 100, 200, 300, 400]:\n",
    "#     data = np.random.uniform(size = (300, size))\n",
    "#     ids = np.array(list(itertools.combinations(np.arange(data.shape[1]), 2)))\n",
    "#     print(len(ids), size)\n",
    "\n",
    "#     t1 = time.time()\n",
    "#     nn_approximation(data, ids,2, model_file =  f'models/cnn.h5')\n",
    "#     t2 = time.time()\n",
    "#     nn_time = t2-t1\n",
    "\n",
    "#     runs = [len(ids), nn_time]\n",
    "\n",
    "#     results.loc[results.shape[0]] = runs\n",
    "#     results.to_pickle(\"data/gpu_speed_comparaison_2D.pkl\")"
   ]
  },
  {
   "cell_type": "code",
   "execution_count": 11,
   "metadata": {
    "ExecuteTime": {
     "end_time": "2020-07-13T21:47:30.828478Z",
     "start_time": "2020-07-13T19:49:46.549954Z"
    }
   },
   "outputs": [
    {
     "name": "stdout",
     "output_type": "stream",
     "text": [
      "45 10\n",
      "WARNING:tensorflow:From /usr/local/lib/python3.6/dist-packages/tensorflow_core/python/ops/resource_variable_ops.py:1630: calling BaseResourceVariable.__init__ (from tensorflow.python.ops.resource_variable_ops) with constraint is deprecated and will be removed in a future version.\n",
      "Instructions for updating:\n",
      "If using Keras pass *_constraint arguments to layers.\n",
      "WARNING:tensorflow:From /usr/local/lib/python3.6/dist-packages/keras/backend/tensorflow_backend.py:4070: The name tf.nn.max_pool is deprecated. Please use tf.nn.max_pool2d instead.\n",
      "\n",
      "WARNING:tensorflow:From /usr/local/lib/python3.6/dist-packages/keras/backend/tensorflow_backend.py:422: The name tf.global_variables is deprecated. Please use tf.compat.v1.global_variables instead.\n",
      "\n",
      "190 20\n",
      "1225 50\n",
      "4950 100\n",
      "19900 200\n",
      "44850 300\n",
      "79800 400\n"
     ]
    }
   ],
   "source": [
    "results = pd.DataFrame(columns = [\"Nb. evaluations\",  \"NN time\", \"Clustering+Eval time (2 clusters)\",\n",
    "                                 \"Clustering+Eval time (4 clusters)\", \"Clustering+Eval time (8 clusters)\",\n",
    "                                 \"HDBSCAN\"])\n",
    "\n",
    "for size in [10, 20, 50, 100, 200, 300, 400]:\n",
    "    data = np.random.uniform(size = (300, size))\n",
    "    ids = np.array(list(itertools.combinations(np.arange(data.shape[1]), 2)))\n",
    "    print(len(ids), size)\n",
    "\n",
    "\n",
    "\n",
    "    t1 = time.time()\n",
    "    nn_approximation(data, ids,4, model_file =  f'models/gmm_arl.h5')\n",
    "    t2 = time.time()\n",
    "    nn_time = t2-t1\n",
    "\n",
    "    runs = [len(ids), nn_time]\n",
    "\n",
    "    for n_clusters in [2,4,8]:\n",
    "        t1 = time.time()\n",
    "        k_means_clustering(data, ids, n_clusters, \"gmm\")\n",
    "        t2 = time.time()\n",
    "        clustering_time = t2-t1\n",
    "        runs.append(clustering_time)\n",
    "    t1 = time.time()\n",
    "    k_means_clustering(data, ids, n_clusters, \"hdbscan\")\n",
    "    t2 = time.time()\n",
    "    clustering_time = t2-t1\n",
    "    runs.append(clustering_time)\n",
    "    results.loc[results.shape[0]] = runs\n",
    "    results.to_pickle(\"data/speed_comparaison1.pkl\")"
   ]
  },
  {
   "cell_type": "code",
   "execution_count": 56,
   "metadata": {
    "ExecuteTime": {
     "end_time": "2020-07-14T07:39:07.912773Z",
     "start_time": "2020-07-14T07:39:07.869534Z"
    }
   },
   "outputs": [],
   "source": [
    "results = pd.read_pickle(\"data/speed_comparaison1.pkl\")\n",
    "# results_cpu = pd.read_pickle(\"data/cpu_speed_comparaison.pkl\")\n",
    "# results_gpu = pd.read_pickle(\"data/gpu_speed_comparaison_2D.pkl\")"
   ]
  },
  {
   "cell_type": "code",
   "execution_count": 57,
   "metadata": {
    "ExecuteTime": {
     "end_time": "2020-07-14T07:39:08.099113Z",
     "start_time": "2020-07-14T07:39:08.041910Z"
    }
   },
   "outputs": [
    {
     "data": {
      "text/html": [
       "<div>\n",
       "<style scoped>\n",
       "    .dataframe tbody tr th:only-of-type {\n",
       "        vertical-align: middle;\n",
       "    }\n",
       "\n",
       "    .dataframe tbody tr th {\n",
       "        vertical-align: top;\n",
       "    }\n",
       "\n",
       "    .dataframe thead th {\n",
       "        text-align: right;\n",
       "    }\n",
       "</style>\n",
       "<table border=\"1\" class=\"dataframe\">\n",
       "  <thead>\n",
       "    <tr style=\"text-align: right;\">\n",
       "      <th></th>\n",
       "      <th>Nb. evaluations</th>\n",
       "      <th>NN time</th>\n",
       "      <th>Clustering+Eval time (2 clusters)</th>\n",
       "      <th>Clustering+Eval time (4 clusters)</th>\n",
       "      <th>Clustering+Eval time (8 clusters)</th>\n",
       "      <th>HDBSCAN</th>\n",
       "    </tr>\n",
       "  </thead>\n",
       "  <tbody>\n",
       "    <tr>\n",
       "      <th>0</th>\n",
       "      <td>45.0</td>\n",
       "      <td>2.538476</td>\n",
       "      <td>0.239320</td>\n",
       "      <td>0.473580</td>\n",
       "      <td>1.112989</td>\n",
       "      <td>0.372864</td>\n",
       "    </tr>\n",
       "    <tr>\n",
       "      <th>1</th>\n",
       "      <td>190.0</td>\n",
       "      <td>1.931027</td>\n",
       "      <td>1.034542</td>\n",
       "      <td>2.053211</td>\n",
       "      <td>4.383819</td>\n",
       "      <td>1.550917</td>\n",
       "    </tr>\n",
       "    <tr>\n",
       "      <th>2</th>\n",
       "      <td>1225.0</td>\n",
       "      <td>2.973912</td>\n",
       "      <td>6.925745</td>\n",
       "      <td>12.497273</td>\n",
       "      <td>28.710780</td>\n",
       "      <td>10.310775</td>\n",
       "    </tr>\n",
       "    <tr>\n",
       "      <th>3</th>\n",
       "      <td>4950.0</td>\n",
       "      <td>6.325443</td>\n",
       "      <td>26.664582</td>\n",
       "      <td>47.195092</td>\n",
       "      <td>109.879096</td>\n",
       "      <td>40.770614</td>\n",
       "    </tr>\n",
       "    <tr>\n",
       "      <th>4</th>\n",
       "      <td>19900.0</td>\n",
       "      <td>18.672531</td>\n",
       "      <td>109.429892</td>\n",
       "      <td>195.849726</td>\n",
       "      <td>456.737485</td>\n",
       "      <td>162.211112</td>\n",
       "    </tr>\n",
       "    <tr>\n",
       "      <th>5</th>\n",
       "      <td>44850.0</td>\n",
       "      <td>38.336599</td>\n",
       "      <td>255.990886</td>\n",
       "      <td>442.229201</td>\n",
       "      <td>1013.007849</td>\n",
       "      <td>366.364081</td>\n",
       "    </tr>\n",
       "    <tr>\n",
       "      <th>6</th>\n",
       "      <td>79800.0</td>\n",
       "      <td>65.190657</td>\n",
       "      <td>441.001237</td>\n",
       "      <td>768.034302</td>\n",
       "      <td>1774.023777</td>\n",
       "      <td>649.095406</td>\n",
       "    </tr>\n",
       "  </tbody>\n",
       "</table>\n",
       "</div>"
      ],
      "text/plain": [
       "   Nb. evaluations    NN time  Clustering+Eval time (2 clusters)  \\\n",
       "0             45.0   2.538476                           0.239320   \n",
       "1            190.0   1.931027                           1.034542   \n",
       "2           1225.0   2.973912                           6.925745   \n",
       "3           4950.0   6.325443                          26.664582   \n",
       "4          19900.0  18.672531                         109.429892   \n",
       "5          44850.0  38.336599                         255.990886   \n",
       "6          79800.0  65.190657                         441.001237   \n",
       "\n",
       "   Clustering+Eval time (4 clusters)  Clustering+Eval time (8 clusters)  \\\n",
       "0                           0.473580                           1.112989   \n",
       "1                           2.053211                           4.383819   \n",
       "2                          12.497273                          28.710780   \n",
       "3                          47.195092                         109.879096   \n",
       "4                         195.849726                         456.737485   \n",
       "5                         442.229201                        1013.007849   \n",
       "6                         768.034302                        1774.023777   \n",
       "\n",
       "      HDBSCAN  \n",
       "0    0.372864  \n",
       "1    1.550917  \n",
       "2   10.310775  \n",
       "3   40.770614  \n",
       "4  162.211112  \n",
       "5  366.364081  \n",
       "6  649.095406  "
      ]
     },
     "execution_count": 57,
     "metadata": {},
     "output_type": "execute_result"
    }
   ],
   "source": [
    "results"
   ]
  },
  {
   "cell_type": "code",
   "execution_count": 58,
   "metadata": {
    "ExecuteTime": {
     "end_time": "2020-07-14T07:39:08.292773Z",
     "start_time": "2020-07-14T07:39:08.241631Z"
    }
   },
   "outputs": [
    {
     "data": {
      "text/plain": [
       "Index(['Nb. evaluations', 'NN time', 'Clustering+Eval time (2 clusters)',\n",
       "       'Clustering+Eval time (4 clusters)',\n",
       "       'Clustering+Eval time (8 clusters)', 'HDBSCAN'],\n",
       "      dtype='object')"
      ]
     },
     "execution_count": 58,
     "metadata": {},
     "output_type": "execute_result"
    }
   ],
   "source": [
    "results.columns"
   ]
  },
  {
   "cell_type": "code",
   "execution_count": 59,
   "metadata": {
    "ExecuteTime": {
     "end_time": "2020-07-14T07:39:08.757522Z",
     "start_time": "2020-07-14T07:39:08.704117Z"
    }
   },
   "outputs": [
    {
     "data": {
      "text/plain": [
       "Index(['Nb. evaluations', 'NN time', 'GMM+Eval time (2 clusters)',\n",
       "       'GMM+Eval time (4 clusters)', 'GMM+Eval time (8 clusters)',\n",
       "       'HDBSCAN+Eval time'],\n",
       "      dtype='object')"
      ]
     },
     "execution_count": 59,
     "metadata": {},
     "output_type": "execute_result"
    }
   ],
   "source": [
    "results = results.rename(\n",
    "    columns={\n",
    "        'Clustering+Eval time (2 clusters)': 'GMM+Eval time (2 clusters)',\n",
    "        'Clustering+Eval time (4 clusters)': 'GMM+Eval time (4 clusters)',\n",
    "        'Clustering+Eval time (8 clusters)': 'GMM+Eval time (8 clusters)',\n",
    "        'HDBSCAN': 'HDBSCAN+Eval time'\n",
    "    })\n",
    "results.columns"
   ]
  },
  {
   "cell_type": "code",
   "execution_count": 60,
   "metadata": {
    "ExecuteTime": {
     "end_time": "2020-07-14T07:39:10.729416Z",
     "start_time": "2020-07-14T07:39:10.688442Z"
    }
   },
   "outputs": [
    {
     "data": {
      "text/plain": [
       "Nb. evaluations               float64\n",
       "NN time                       float64\n",
       "GMM+Eval time (2 clusters)    float64\n",
       "GMM+Eval time (4 clusters)    float64\n",
       "GMM+Eval time (8 clusters)    float64\n",
       "HDBSCAN+Eval time             float64\n",
       "dtype: object"
      ]
     },
     "execution_count": 60,
     "metadata": {},
     "output_type": "execute_result"
    }
   ],
   "source": [
    "results.dtypes"
   ]
  },
  {
   "cell_type": "code",
   "execution_count": 61,
   "metadata": {
    "ExecuteTime": {
     "end_time": "2020-07-14T07:39:15.888319Z",
     "start_time": "2020-07-14T07:39:15.843828Z"
    }
   },
   "outputs": [
    {
     "name": "stdout",
     "output_type": "stream",
     "text": [
      "** GMM+Eval time (2 clusters)\n",
      "float64\n",
      "** GMM+Eval time (4 clusters)\n",
      "float64\n",
      "** GMM+Eval time (8 clusters)\n",
      "float64\n",
      "** HDBSCAN+Eval time\n",
      "float64\n"
     ]
    }
   ],
   "source": [
    "for c in [\n",
    "        'GMM+Eval time (2 clusters)', 'GMM+Eval time (4 clusters)',\n",
    "        'GMM+Eval time (8 clusters)', 'HDBSCAN+Eval time'\n",
    "    ]:\n",
    "\n",
    "    results[c] /= results[\"NN time\"]"
   ]
  },
  {
   "cell_type": "code",
   "execution_count": 62,
   "metadata": {
    "ExecuteTime": {
     "end_time": "2020-07-14T07:39:40.717518Z",
     "start_time": "2020-07-14T07:39:40.673621Z"
    }
   },
   "outputs": [
    {
     "data": {
      "text/html": [
       "<div>\n",
       "<style scoped>\n",
       "    .dataframe tbody tr th:only-of-type {\n",
       "        vertical-align: middle;\n",
       "    }\n",
       "\n",
       "    .dataframe tbody tr th {\n",
       "        vertical-align: top;\n",
       "    }\n",
       "\n",
       "    .dataframe thead th {\n",
       "        text-align: right;\n",
       "    }\n",
       "</style>\n",
       "<table border=\"1\" class=\"dataframe\">\n",
       "  <thead>\n",
       "    <tr style=\"text-align: right;\">\n",
       "      <th></th>\n",
       "      <th>Nb. evaluations</th>\n",
       "      <th>GMM+Eval time (2 clusters)</th>\n",
       "      <th>GMM+Eval time (4 clusters)</th>\n",
       "      <th>GMM+Eval time (8 clusters)</th>\n",
       "      <th>HDBSCAN+Eval time</th>\n",
       "    </tr>\n",
       "  </thead>\n",
       "  <tbody>\n",
       "    <tr>\n",
       "      <th>0</th>\n",
       "      <td>45.0</td>\n",
       "      <td>0.094277</td>\n",
       "      <td>0.186561</td>\n",
       "      <td>0.438448</td>\n",
       "      <td>0.146885</td>\n",
       "    </tr>\n",
       "    <tr>\n",
       "      <th>1</th>\n",
       "      <td>190.0</td>\n",
       "      <td>0.535747</td>\n",
       "      <td>1.063274</td>\n",
       "      <td>2.270200</td>\n",
       "      <td>0.803157</td>\n",
       "    </tr>\n",
       "    <tr>\n",
       "      <th>2</th>\n",
       "      <td>1225.0</td>\n",
       "      <td>2.328833</td>\n",
       "      <td>4.202301</td>\n",
       "      <td>9.654213</td>\n",
       "      <td>3.467075</td>\n",
       "    </tr>\n",
       "    <tr>\n",
       "      <th>3</th>\n",
       "      <td>4950.0</td>\n",
       "      <td>4.215449</td>\n",
       "      <td>7.461152</td>\n",
       "      <td>17.370972</td>\n",
       "      <td>6.445495</td>\n",
       "    </tr>\n",
       "    <tr>\n",
       "      <th>4</th>\n",
       "      <td>19900.0</td>\n",
       "      <td>5.860474</td>\n",
       "      <td>10.488654</td>\n",
       "      <td>24.460395</td>\n",
       "      <td>8.687152</td>\n",
       "    </tr>\n",
       "    <tr>\n",
       "      <th>5</th>\n",
       "      <td>44850.0</td>\n",
       "      <td>6.677454</td>\n",
       "      <td>11.535431</td>\n",
       "      <td>26.424041</td>\n",
       "      <td>9.556510</td>\n",
       "    </tr>\n",
       "    <tr>\n",
       "      <th>6</th>\n",
       "      <td>79800.0</td>\n",
       "      <td>6.764792</td>\n",
       "      <td>11.781355</td>\n",
       "      <td>27.212853</td>\n",
       "      <td>9.956878</td>\n",
       "    </tr>\n",
       "  </tbody>\n",
       "</table>\n",
       "</div>"
      ],
      "text/plain": [
       "   Nb. evaluations  GMM+Eval time (2 clusters)  GMM+Eval time (4 clusters)  \\\n",
       "0             45.0                    0.094277                    0.186561   \n",
       "1            190.0                    0.535747                    1.063274   \n",
       "2           1225.0                    2.328833                    4.202301   \n",
       "3           4950.0                    4.215449                    7.461152   \n",
       "4          19900.0                    5.860474                   10.488654   \n",
       "5          44850.0                    6.677454                   11.535431   \n",
       "6          79800.0                    6.764792                   11.781355   \n",
       "\n",
       "   GMM+Eval time (8 clusters)  HDBSCAN+Eval time  \n",
       "0                    0.438448           0.146885  \n",
       "1                    2.270200           0.803157  \n",
       "2                    9.654213           3.467075  \n",
       "3                   17.370972           6.445495  \n",
       "4                   24.460395           8.687152  \n",
       "5                   26.424041           9.556510  \n",
       "6                   27.212853           9.956878  "
      ]
     },
     "execution_count": 62,
     "metadata": {},
     "output_type": "execute_result"
    }
   ],
   "source": [
    "df = results[['Nb. evaluations',  'GMM+Eval time (2 clusters)', 'GMM+Eval time (4 clusters)',\n",
    "        'GMM+Eval time (8 clusters)', 'HDBSCAN+Eval time']]\n",
    "df"
   ]
  },
  {
   "cell_type": "code",
   "execution_count": 80,
   "metadata": {
    "ExecuteTime": {
     "end_time": "2020-07-14T07:48:50.259781Z",
     "start_time": "2020-07-14T07:48:50.216650Z"
    }
   },
   "outputs": [],
   "source": [
    "def format_func(value, tick_number):\n",
    "    barWidth = 0.2\n",
    "    N = value - 1.5*barWidth\n",
    "    if N == 0:\n",
    "        return r\"$\\binom{10}{2}$\" + \"\\n(45)\"\n",
    "    elif N == 1:\n",
    "        return r\"$\\binom{20}{2}$\" + \"\\n(190)\"\n",
    "    elif N == 2:\n",
    "        return r\"$\\binom{50}{2}$\" + \"\\n(1225)\"\n",
    "    elif N == 3:\n",
    "        return r\"$\\binom{100}{2}$\" + \"\\n(4950)\"\n",
    "    elif N == 4:\n",
    "        return r\"$\\binom{200}{2}$\" + \"\\n(19999)\"\n",
    "    elif N == 5:\n",
    "        return r\"$\\binom{300}{2}$\" + \"\\n(44850)\"\n",
    "    elif N == 6:\n",
    "        return r\"$\\binom{400}{2}$\" + \"\\n(79800)\"\n",
    "\n"
   ]
  },
  {
   "cell_type": "code",
   "execution_count": 82,
   "metadata": {
    "ExecuteTime": {
     "end_time": "2020-07-14T07:49:14.809736Z",
     "start_time": "2020-07-14T07:49:14.024198Z"
    }
   },
   "outputs": [
    {
     "data": {
      "image/png": "[encoded data removed]",
      "text/plain": [
       "<Figure size 1008x288 with 1 Axes>"
      ]
     },
     "metadata": {
      "needs_background": "light"
     },
     "output_type": "display_data"
    }
   ],
   "source": [
    "fig = plt.figure(figsize = (14, 4))\n",
    "ax = plt.gca()\n",
    "# set width of bar\n",
    "barWidth = 0.2\n",
    " \n",
    "# set height of bar\n",
    "bars1 = results['GMM+Eval time (2 clusters)'].values\n",
    "bars2 = results['GMM+Eval time (4 clusters)'].values\n",
    "bars3 = results['GMM+Eval time (8 clusters)'].values\n",
    "bars4 = results['HDBSCAN+Eval time'].values\n",
    "\n",
    "bars = np.array([bars1, bars2, bars3, bars4])\n",
    "# Set position of bar on X axis\n",
    "r1 = np.arange(len(bars1))\n",
    "r2 = [x + barWidth for x in r1]\n",
    "r3 = [x + barWidth for x in r2]\n",
    "r4 = [x + barWidth for x in r3]\n",
    " \n",
    "# Make the plot\n",
    "plt.bar(r1, bars1, color='orange', width=barWidth, edgecolor='white', \n",
    "        label='GMM+Eval time (2 clusters)')\n",
    "plt.bar(r2, bars2, color='green', width=barWidth, edgecolor='white', \n",
    "        label='GMM+Eval time (4 clusters)')\n",
    "plt.bar(r3, bars3, color='royalblue', width=barWidth, edgecolor='white', \n",
    "        label='GMM+Eval time (8 clusters)')\n",
    "plt.bar(r4, bars4, color='red', width=barWidth, edgecolor='white', \n",
    "        label='HDBSCAN+Eval time')\n",
    "\n",
    "for i in range(bars.shape[1]):\n",
    "    y = bars[:,i]\n",
    "    y_pos = max(y)+ 2\n",
    "    plt.text(i, y_pos, round(y[0],1), rotation = 90)\n",
    "    plt.text(i + barWidth, y_pos, round(y[1],1),  rotation = 90)\n",
    "    plt.text(i + 2*barWidth, y_pos, round(y[2],1),  rotation = 90)\n",
    "    plt.text(i + 3*barWidth, y_pos, round(y[3],1),  rotation = 90)\n",
    "\n",
    "# Add xticks on the middle of the group bars\n",
    "plt.xlabel('Number of evaluated subspaces')\n",
    "plt.xticks([r + 1.5*barWidth for r in range(len(bars1))], results['Nb. evaluations'].values.astype(int))\n",
    "plt.ylabel(\"Speed gain\")\n",
    "# plt.suptitle(\"Number of times the network is faster than traditional clustering + evaluation\" +\n",
    "#     \"\\nOn exhausive 2D subspace exploration of datasets with 10, 20, 50, 100, 200, 300 and 400 features\")\n",
    "sns.despine()\n",
    "# Create legend & Show graphic\n",
    "plt.legend()\n",
    "# plt.tight_layout()\n",
    "fig.subplots_adjust(wspace=0.3, top = 0.7)\n",
    "ax.xaxis.set_major_formatter(plt.FuncFormatter(format_func))\n",
    "plt.savefig(\"images/NN_speed_comparaison.pdf\", bbox_inches='tight')\n"
   ]
  },
  {
   "cell_type": "code",
   "execution_count": 74,
   "metadata": {
    "ExecuteTime": {
     "end_time": "2020-07-14T07:45:27.822899Z",
     "start_time": "2020-07-14T07:45:27.782669Z"
    }
   },
   "outputs": [
    {
     "data": {
      "text/plain": [
       "array([   45,   190,  1225,  4950, 19900, 44850, 79800])"
      ]
     },
     "execution_count": 74,
     "metadata": {},
     "output_type": "execute_result"
    }
   ],
   "source": [
    "results['Nb. evaluations'].values.astype(int)"
   ]
  },
  {
   "cell_type": "code",
   "execution_count": 19,
   "metadata": {
    "ExecuteTime": {
     "end_time": "2020-07-14T07:32:48.321934Z",
     "start_time": "2020-07-14T07:32:47.864839Z"
    }
   },
   "outputs": [
    {
     "name": "stderr",
     "output_type": "stream",
     "text": [
      "findfont: Font family ['Arial'] not found. Falling back to DejaVu Sans.\n"
     ]
    },
    {
     "data": {
      "image/png": "[encoded data removed]",
      "text/plain": [
       "<Figure size 720x504 with 1 Axes>"
      ]
     },
     "metadata": {
      "needs_background": "light"
     },
     "output_type": "display_data"
    }
   ],
   "source": [
    "plt.figure(figsize=(10, 7))\n",
    "\n",
    "ax = plt.gca()\n",
    "f = 60\n",
    "plt.plot(results['Nb. evaluations'],\n",
    "         results['NN time']/f,\n",
    "         label=\"NN time\",\n",
    "         marker=\"o\")\n",
    "plt.plot(results['Nb. evaluations'],\n",
    "         results['Clustering+Eval time (2 clusters)']/f,\n",
    "         label=\"KMeans(2 clusters) + Ratkowski\",\n",
    "         marker=\"o\")\n",
    "plt.plot(results['Nb. evaluations'],\n",
    "         results['Clustering+Eval time (4 clusters)']/f,\n",
    "         label=\"KMeans(4 clusters) + Ratkowski\",\n",
    "         marker=\"o\")\n",
    "plt.plot(results['Nb. evaluations'],\n",
    "         results['Clustering+Eval time (8 clusters)']/f,\n",
    "         label=\"KMeans(8 clusters) + Ratkowski\",\n",
    "         marker=\"o\")\n",
    "\n",
    "plt.title(\"Evaluations per minute of tested methods\", fontweight=\"bold\")\n",
    "plt.xlabel(\"number of evaluations\")\n",
    "plt.ylabel(\"time (min)\")\n",
    "ax.legend(bbox_to_anchor=(0.55,1))\n",
    "\n",
    "sns.despine()\n",
    "plt.savefig(\"images/NN_vs_clustering_speed.pdf\", bbox_inches='tight')"
   ]
  },
  {
   "cell_type": "markdown",
   "metadata": {},
   "source": [
    "# Importance of Bio training"
   ]
  },
  {
   "cell_type": "code",
   "execution_count": 58,
   "metadata": {
    "ExecuteTime": {
     "end_time": "2020-05-21T16:45:33.129940Z",
     "start_time": "2020-05-21T16:45:33.086199Z"
    }
   },
   "outputs": [],
   "source": [
    "plot_df = pd.read_pickle(\"data/improvement_by_bio_training.pkl\")"
   ]
  },
  {
   "cell_type": "code",
   "execution_count": 62,
   "metadata": {
    "ExecuteTime": {
     "end_time": "2020-05-21T16:46:12.065623Z",
     "start_time": "2020-05-21T16:46:11.279021Z"
    }
   },
   "outputs": [
    {
     "data": {
      "image/png": "[encoded data removed]",
      "text/plain": [
       "<Figure size 432x360 with 2 Axes>"
      ]
     },
     "metadata": {
      "needs_background": "light"
     },
     "output_type": "display_data"
    }
   ],
   "source": [
    "plt.figure(figsize = (6,5))\n",
    "ax =  plt.subplot(111)\n",
    "\n",
    "ax = plt.gca()\n",
    "\n",
    "sns.heatmap( plot_df,\n",
    "annot = True,cmap = \"coolwarm\", vmin = -23, vmax = 23,ax = ax)\n",
    "plt.title(\"(a) NN improvement by training on biological data\")\n",
    "plt.savefig(\"images/bio_improvement.pdf\", bbox_inches='tight')"
   ]
  },
  {
   "cell_type": "markdown",
   "metadata": {},
   "source": [
    "# Make combined plot"
   ]
  },
  {
   "cell_type": "code",
   "execution_count": 57,
   "metadata": {
    "ExecuteTime": {
     "end_time": "2020-05-21T16:44:47.702833Z",
     "start_time": "2020-05-21T16:44:47.661267Z"
    }
   },
   "outputs": [],
   "source": [
    "plot_df = pd.read_pickle(\"data/improvement_by_bio_training.pkl\")"
   ]
  },
  {
   "cell_type": "code",
   "execution_count": null,
   "metadata": {
    "ExecuteTime": {
     "end_time": "2020-05-18T18:21:54.189112Z",
     "start_time": "2020-05-18T18:21:52.671403Z"
    }
   },
   "outputs": [],
   "source": [
    "plt.figure(figsize = (16,7))\n",
    "ax =  plt.subplot(121)\n",
    "\n",
    "ax = plt.gca()\n",
    "\n",
    "sns.heatmap( plot_df,\n",
    "annot = True,cmap = \"coolwarm\", vmin = -23, vmax = 23,ax = ax)\n",
    "plt.title(\"(a) NN improvement by training on biological data\")\n",
    "\n",
    "ax =  plt.subplot(122)\n",
    "\n",
    "f = 60\n",
    "plt.plot(results['Nb. evaluations'],\n",
    "         results['NN time']/f,\n",
    "         label=\"NN time\",\n",
    "         marker=\"o\")\n",
    "plt.plot(results['Nb. evaluations'],\n",
    "         results['Clustering+Eval time (2 clusters)']/f,\n",
    "         label=\"KMeans(2 clusters) + Ratkowski\",\n",
    "         marker=\"o\")\n",
    "plt.plot(results['Nb. evaluations'],\n",
    "         results['Clustering+Eval time (4 clusters)']/f,\n",
    "         label=\"KMeans(4 clusters) + Ratkowski\",\n",
    "         marker=\"o\")\n",
    "plt.plot(results['Nb. evaluations'],\n",
    "         results['Clustering+Eval time (8 clusters)']/f,\n",
    "         label=\"KMeans(8 clusters) + Ratkowski\",\n",
    "         marker=\"o\")\n",
    "\n",
    "plt.title(\"(b) Evaluations per minute for tested methods\")\n",
    "plt.xlabel(\"number of evaluations\")\n",
    "plt.ylabel(\"time (min)\")\n",
    "ax.legend(bbox_to_anchor=(0.62,1))\n",
    "sns.despine()\n",
    "plt.tight_layout()\n",
    "plt.savefig(\"images/NN_speed_and_bio_improvement.pdf\", bbox_inches='tight')"
   ]
  },
  {
   "cell_type": "code",
   "execution_count": null,
   "metadata": {},
   "outputs": [],
   "source": []
  },
  {
   "cell_type": "code",
   "execution_count": null,
   "metadata": {},
   "outputs": [],
   "source": []
  }
 ],
 "metadata": {
  "kernelspec": {
   "display_name": "Python 3",
   "language": "python",
   "name": "python3"
  },
  "language_info": {
   "codemirror_mode": {
    "name": "ipython",
    "version": 3
   },
   "file_extension": ".py",
   "mimetype": "text/x-python",
   "name": "python",
   "nbconvert_exporter": "python",
   "pygments_lexer": "ipython3",
   "version": "3.6.9"
  },
  "toc": {
   "base_numbering": 1,
   "nav_menu": {},
   "number_sections": true,
   "sideBar": true,
   "skip_h1_title": false,
   "title_cell": "Table of Contents",
   "title_sidebar": "Contents",
   "toc_cell": false,
   "toc_position": {},
   "toc_section_display": true,
   "toc_window_display": false
  },
  "varInspector": {
   "cols": {
    "lenName": 16,
    "lenType": 16,
    "lenVar": 40
   },
   "kernels_config": {
    "python": {
     "delete_cmd_postfix": "",
     "delete_cmd_prefix": "del ",
     "library": "var_list.py",
     "varRefreshCmd": "print(var_dic_list())"
    },
    "r": {
     "delete_cmd_postfix": ") ",
     "delete_cmd_prefix": "rm(",
     "library": "var_list.r",
     "varRefreshCmd": "cat(var_dic_list()) "
    }
   },
   "oldHeight": 361.5,
   "position": {
    "height": "40px",
    "left": "1035px",
    "right": "20px",
    "top": "120px",
    "width": "313px"
   },
   "types_to_exclude": [
    "module",
    "function",
    "builtin_function_or_method",
    "instance",
    "_Feature"
   ],
   "varInspector_section_display": "none",
   "window_display": false
  }
 },
 "nbformat": 4,
 "nbformat_minor": 2
}
