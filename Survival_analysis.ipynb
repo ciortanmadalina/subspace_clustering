{
 "cells": [
  {
   "cell_type": "code",
   "execution_count": null,
   "metadata": {
    "ExecuteTime": {
     "end_time": "2020-05-30T19:03:55.801354Z",
     "start_time": "2020-05-30T19:03:49.953529Z"
    }
   },
   "outputs": [],
   "source": [
    "!pip install lifelines"
   ]
  },
  {
   "cell_type": "code",
   "execution_count": null,
   "metadata": {
    "ExecuteTime": {
     "end_time": "2020-05-30T19:03:47.905041Z",
     "start_time": "2020-05-30T19:03:47.255782Z"
    }
   },
   "outputs": [],
   "source": [
    "import matplotlib.pyplot as plt\n",
    "import numpy as np\n",
    "import pandas as pd\n",
    "import seaborn as sns\n",
    "from collections import Counter\n",
    "\n",
    "from sklearn import preprocessing\n",
    "import itertools\n",
    "import random\n",
    "from scipy.spatial import distance as ssd\n",
    "import scipy\n",
    "from tqdm import tqdm\n",
    "import scipy.spatial.distance\n",
    "from lifelines import KaplanMeierFitter\n",
    "#logrank_test\n",
    "from lifelines.statistics import logrank_test\n",
    "plt.ion()\n",
    "plt.show()\n",
    "import pickle\n",
    "import os\n",
    "import sys\n",
    "sys.path.append(\"..\")"
   ]
  },
  {
   "cell_type": "code",
   "execution_count": null,
   "metadata": {
    "ExecuteTime": {
     "end_time": "2020-05-30T19:03:47.924516Z",
     "start_time": "2020-05-30T19:03:47.906437Z"
    }
   },
   "outputs": [],
   "source": [
    "%load_ext autoreload\n",
    "%autoreload 2"
   ]
  },
  {
   "cell_type": "code",
   "execution_count": null,
   "metadata": {
    "ExecuteTime": {
     "end_time": "2020-05-30T19:03:47.940814Z",
     "start_time": "2020-05-30T19:03:47.925974Z"
    }
   },
   "outputs": [],
   "source": [
    "random_state=0\n",
    "random.seed( random_state )\n",
    "np.random.seed(random_state)\n"
   ]
  },
  {
   "cell_type": "code",
   "execution_count": null,
   "metadata": {
    "ExecuteTime": {
     "end_time": "2020-05-30T19:03:55.981813Z",
     "start_time": "2020-05-30T19:03:55.807238Z"
    }
   },
   "outputs": [],
   "source": [
    "from lifelines.datasets import load_waltons\n",
    "df = load_waltons() # returns a Pandas DataFrame\n",
    "print(df.shape)\n",
    "print(df.head())\n",
    "\"\"\"\n",
    "    T  E    group\n",
    "0   6  1  miR-137\n",
    "1  13  1  miR-137\n",
    "2  13  1  miR-137\n",
    "3  13  1  miR-137\n",
    "4  19  1  miR-137\n",
    "\"\"\"\n",
    "\n",
    "T = df['T']\n",
    "E = df['E']"
   ]
  },
  {
   "cell_type": "code",
   "execution_count": null,
   "metadata": {
    "ExecuteTime": {
     "end_time": "2020-04-18T18:37:38.408845Z",
     "start_time": "2020-04-18T18:37:38.389585Z"
    }
   },
   "outputs": [],
   "source": [
    "df.group.value_counts()"
   ]
  },
  {
   "cell_type": "code",
   "execution_count": null,
   "metadata": {
    "ExecuteTime": {
     "end_time": "2020-04-18T18:35:02.359025Z",
     "start_time": "2020-04-18T18:35:02.319761Z"
    }
   },
   "outputs": [],
   "source": [
    "df[df[\"E\"] == 0]"
   ]
  },
  {
   "cell_type": "code",
   "execution_count": null,
   "metadata": {
    "ExecuteTime": {
     "end_time": "2020-05-30T19:07:59.608379Z",
     "start_time": "2020-05-30T19:07:59.455321Z"
    }
   },
   "outputs": [],
   "source": [
    "filename =\"BRCA\"#\"KIRP\" #\n",
    "df = pd.read_pickle(f\"data/rna_data/{filename}_survival.pkl\")\n",
    "solutions = pd.read_pickle(f\"data/rna_data/{filename}_solutions.pkl\")\n",
    "print(df.shape)\n",
    "df.head()"
   ]
  },
  {
   "cell_type": "code",
   "execution_count": null,
   "metadata": {
    "ExecuteTime": {
     "end_time": "2020-05-30T19:07:59.837440Z",
     "start_time": "2020-05-30T19:07:59.807793Z"
    }
   },
   "outputs": [],
   "source": [
    "df[\"vital_status\"].value_counts()"
   ]
  },
  {
   "cell_type": "code",
   "execution_count": null,
   "metadata": {
    "ExecuteTime": {
     "end_time": "2020-05-30T19:08:00.193092Z",
     "start_time": "2020-05-30T19:08:00.108964Z"
    }
   },
   "outputs": [],
   "source": [
    "df[\"event\"] = df[\"vital_status\"].apply(lambda x : int(x == 'dead'))\n",
    "\n",
    "df[\"t\"] = df.apply(lambda row: float(row[\"days_to_last_followup\"])\n",
    "                   if row[\"vital_status\"] == \"alive\" else float(row[\"days_to_death\"]),\n",
    "                   axis=1)\n",
    "\n",
    "df = df[df.columns[-(solutions.shape[0] +2 ):]]\n",
    "\n",
    "df = df.dropna()\n",
    "\n",
    "df"
   ]
  },
  {
   "cell_type": "code",
   "execution_count": null,
   "metadata": {
    "ExecuteTime": {
     "end_time": "2020-05-30T19:12:45.035972Z",
     "start_time": "2020-05-30T19:12:41.852631Z"
    },
    "scrolled": false
   },
   "outputs": [],
   "source": [
    "n_cols = 5\n",
    "n_rows = solutions.shape[0]//n_cols\n",
    "plt.figure(figsize=(16, n_rows * 3))\n",
    "significant = []\n",
    "for i in range(20):\n",
    "    feature = f\"subspace_{i}\"\n",
    "    ax = plt.subplot(n_rows,n_cols,i+1)\n",
    "    kmf = KaplanMeierFitter()\n",
    "    values = df[feature].unique()\n",
    "    p_value = \"\"\n",
    "    if len(values) == 2:\n",
    "        results=logrank_test(df[df[feature] == values[0]][\"t\"].values,\n",
    "                         df[df[feature] == values[1]][\"t\"].values,\n",
    "                         event_observed_A=df[df[feature] == values[0]][\"event\"].values, \n",
    "                         event_observed_B=df[df[feature] == values[1]][\"event\"].values)\n",
    "        p_value = f\"p = {round(results.p_value, 3)}\"\n",
    "        if results.p_value < 0.05:\n",
    "            fontweight = \"bold\"\n",
    "            significant.append(i)\n",
    "        else:\n",
    "            fontweight = \"normal\"\n",
    "\n",
    "    for name, grouped_df in df.groupby(feature):\n",
    "        kmf.fit(grouped_df[\"t\"], grouped_df[\"event\"], label=name)\n",
    "        kmf.plot(ax=ax)\n",
    "    plt.title(f\"Subspace {i+1}, {p_value}\", fontweight = fontweight);\n",
    "# plt.suptitle(f\"Survival curves and logrank test p-values for {filename}\")\n",
    "plt.tight_layout()\n",
    "plt.savefig(f\"images/{filename}_survival.pdf\", bbox_inches='tight')"
   ]
  },
  {
   "cell_type": "code",
   "execution_count": null,
   "metadata": {
    "ExecuteTime": {
     "end_time": "2020-05-30T19:12:45.982887Z",
     "start_time": "2020-05-30T19:12:45.578685Z"
    }
   },
   "outputs": [],
   "source": [
    "n_cols = len(significant)\n",
    "n_rows = 1\n",
    "plt.figure(figsize=(5* len(significant), n_rows * 3))\n",
    "\n",
    "for ii, i in enumerate(significant):\n",
    "    feature = f\"subspace_{i}\"\n",
    "    ax = plt.subplot(n_rows,n_cols,ii+1)\n",
    "    kmf = KaplanMeierFitter()\n",
    "    values = df[feature].unique()\n",
    "    p_value = \"\"\n",
    "    if len(values) == 2:\n",
    "        results=logrank_test(df[df[feature] == values[0]][\"t\"].values,\n",
    "                         df[df[feature] == values[1]][\"t\"].values,\n",
    "                         event_observed_A=df[df[feature] == values[0]][\"event\"].values, \n",
    "                         event_observed_B=df[df[feature] == values[1]][\"event\"].values)\n",
    "        p_value = f\"p = {round(results.p_value, 3)}\"\n",
    "\n",
    "\n",
    "    for name, grouped_df in df.groupby(feature):\n",
    "        kmf.fit(grouped_df[\"t\"], grouped_df[\"event\"], label=name)\n",
    "        kmf.plot(ax=ax)\n",
    "    plt.title(f\"{filename} Subspace {i+1}, {p_value}\", fontweight = fontweight);\n",
    "# plt.suptitle(f\"Survival curves and logrank test p-values for {filename}\")\n",
    "plt.tight_layout()\n",
    "plt.savefig(f\"images/imp_{filename}_survival.pdf\", bbox_inches='tight')"
   ]
  },
  {
   "cell_type": "code",
   "execution_count": null,
   "metadata": {},
   "outputs": [],
   "source": []
  },
  {
   "cell_type": "code",
   "execution_count": null,
   "metadata": {
    "ExecuteTime": {
     "end_time": "2020-04-18T20:35:30.170620Z",
     "start_time": "2020-04-18T20:35:29.926300Z"
    }
   },
   "outputs": [],
   "source": [
    "feature = f\"gender\"\n",
    "ax = plt.subplot(111)\n",
    "\n",
    "kmf = KaplanMeierFitter()\n",
    "\n",
    "values = df[feature].unique()\n",
    "p_value = \"\"\n",
    "if len(values) == 2:\n",
    "    results=logrank_test(df[df[feature] == values[0]][\"t\"].values,\n",
    "                     df[df[feature] == values[1]][\"t\"].values,\n",
    "                     event_observed_A=df[df[feature] == values[0]][\"event\"].values, \n",
    "                     event_observed_B=df[df[feature] == values[1]][\"event\"].values)\n",
    "    p_value = f\"\\nLogrank test p-value {round(results.p_value, 3)}\"\n",
    "    if results.p_value < 0.05:\n",
    "        p_value += \"=> Significantly different\"\n",
    "\n",
    "for name, grouped_df in df.groupby(feature):\n",
    "    kmf.fit(grouped_df[\"t\"], grouped_df[\"event\"], label=name)\n",
    "    kmf.plot(ax=ax)\n",
    "plt.title(f\"KaplanMeier curve for {feature}, {p_value}\");"
   ]
  },
  {
   "cell_type": "code",
   "execution_count": null,
   "metadata": {
    "ExecuteTime": {
     "end_time": "2020-04-18T20:35:56.935523Z",
     "start_time": "2020-04-18T20:35:56.912787Z"
    }
   },
   "outputs": [],
   "source": [
    "df.gender.value_counts()"
   ]
  },
  {
   "cell_type": "code",
   "execution_count": null,
   "metadata": {},
   "outputs": [],
   "source": []
  },
  {
   "cell_type": "code",
   "execution_count": null,
   "metadata": {},
   "outputs": [],
   "source": []
  },
  {
   "cell_type": "code",
   "execution_count": null,
   "metadata": {},
   "outputs": [],
   "source": []
  }
 ],
 "metadata": {
  "kernelspec": {
   "display_name": "Python 3",
   "language": "python",
   "name": "python3"
  },
  "language_info": {
   "codemirror_mode": {
    "name": "ipython",
    "version": 3
   },
   "file_extension": ".py",
   "mimetype": "text/x-python",
   "name": "python",
   "nbconvert_exporter": "python",
   "pygments_lexer": "ipython3",
   "version": "3.6.9"
  }
 },
 "nbformat": 4,
 "nbformat_minor": 4
}
