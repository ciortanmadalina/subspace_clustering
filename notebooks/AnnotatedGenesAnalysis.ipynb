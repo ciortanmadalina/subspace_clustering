{
 "cells": [
  {
   "cell_type": "code",
   "execution_count": 1,
   "metadata": {
    "ExecuteTime": {
     "end_time": "2020-08-04T17:40:03.783959Z",
     "start_time": "2020-08-04T17:40:03.127032Z"
    }
   },
   "outputs": [],
   "source": [
    "import matplotlib.pyplot as plt\n",
    "import numpy as np\n",
    "import pandas as pd\n",
    "import seaborn as sns\n",
    "\n",
    "from collections import Counter\n",
    "\n",
    "from sklearn import preprocessing\n",
    "from sklearn.metrics.cluster import adjusted_rand_score\n",
    "import itertools\n",
    "import random\n",
    "\n",
    "import scipy\n",
    "from tqdm import tqdm\n",
    "\n",
    "plt.ion()\n",
    "plt.show()\n",
    "import pickle\n",
    "import os\n",
    "import sys\n",
    "sys.path.append(\"..\")\n"
   ]
  },
  {
   "cell_type": "markdown",
   "metadata": {},
   "source": [
    "http://www.bushmanlab.org/links/genelists"
   ]
  },
  {
   "cell_type": "code",
   "execution_count": 2,
   "metadata": {
    "ExecuteTime": {
     "end_time": "2020-08-04T17:40:03.794714Z",
     "start_time": "2020-08-04T17:40:03.785478Z"
    }
   },
   "outputs": [],
   "source": [
    "rdf = pd.DataFrame(columns = [\"Dataset\", \"Subspace No\", \"Subspace size\", \"Nb Cancer Genes\", \n",
    "                              \"% Cancer Genes\", \"Genes\"])"
   ]
  },
  {
   "cell_type": "code",
   "execution_count": 4,
   "metadata": {
    "ExecuteTime": {
     "end_time": "2020-08-04T17:40:03.942951Z",
     "start_time": "2020-08-04T17:40:03.932301Z"
    }
   },
   "outputs": [],
   "source": [
    "an_genes_df = pd.read_csv(\"../data/rna_data/allOnco_May2018.tsv\", sep = \"\\t\", low_memory=False)\n",
    "an_genes = an_genes_df[\"symbol\"].values"
   ]
  },
  {
   "cell_type": "markdown",
   "metadata": {},
   "source": [
    "# Load input data"
   ]
  },
  {
   "cell_type": "code",
   "execution_count": 19,
   "metadata": {
    "ExecuteTime": {
     "end_time": "2020-08-04T17:41:02.076905Z",
     "start_time": "2020-08-04T17:41:01.963880Z"
    }
   },
   "outputs": [],
   "source": [
    "filename =\"BRCA\"\n",
    "clustering = \"gmm\"\n",
    "method = \"adapted_ratkowsky_lance\"\n",
    "\n",
    "filename =\"KIRP\" #\n",
    "\n",
    "\n",
    "data = pd.read_pickle(f\"../data/rna_data/{filename}.pkl\")\n",
    "# solutions = pd.read_pickle(f\"data/rna_data/{filename}_solutions.pkl\")\n",
    "solutions = pd.read_pickle(f\"../data/{filename}_{clustering}_{method}.pkl\")"
   ]
  },
  {
   "cell_type": "code",
   "execution_count": 20,
   "metadata": {
    "ExecuteTime": {
     "end_time": "2020-08-04T17:41:02.232840Z",
     "start_time": "2020-08-04T17:41:02.198643Z"
    }
   },
   "outputs": [],
   "source": [
    "input_genes = data.columns[:-1]\n",
    "input_genes = np.array([g.split('|')[0] for g in input_genes])"
   ]
  },
  {
   "cell_type": "code",
   "execution_count": 21,
   "metadata": {
    "ExecuteTime": {
     "end_time": "2020-08-04T17:41:02.738311Z",
     "start_time": "2020-08-04T17:41:02.387164Z"
    }
   },
   "outputs": [
    {
     "name": "stdout",
     "output_type": "stream",
     "text": [
      "Counter({True: 2324, False: 255})\n"
     ]
    }
   ],
   "source": [
    "found = np.array([gi in input_genes for gi in an_genes])\n",
    "print(Counter(found))"
   ]
  },
  {
   "cell_type": "markdown",
   "metadata": {},
   "source": [
    "# How many important genes  are in top 3000 by supervision"
   ]
  },
  {
   "cell_type": "code",
   "execution_count": 22,
   "metadata": {
    "ExecuteTime": {
     "end_time": "2020-08-04T17:41:04.453476Z",
     "start_time": "2020-08-04T17:41:02.845241Z"
    }
   },
   "outputs": [
    {
     "name": "stdout",
     "output_type": "stream",
     "text": [
      "Counter({False: 15614, True: 2324})\n"
     ]
    }
   ],
   "source": [
    "found = np.array([gi in an_genes for gi in input_genes])\n",
    "print(Counter(found))"
   ]
  },
  {
   "cell_type": "markdown",
   "metadata": {},
   "source": [
    "# Find genes which are documented to be cancer related, but they are not in the dataset"
   ]
  },
  {
   "cell_type": "code",
   "execution_count": 23,
   "metadata": {
    "ExecuteTime": {
     "end_time": "2020-08-04T17:41:04.458523Z",
     "start_time": "2020-08-04T17:41:04.455068Z"
    }
   },
   "outputs": [
    {
     "data": {
      "text/plain": [
       "(2324,)"
      ]
     },
     "execution_count": 23,
     "metadata": {},
     "output_type": "execute_result"
    }
   ],
   "source": [
    "cancer_genes = np.where(found == True)[0]\n",
    "cancer_genes.shape"
   ]
  },
  {
   "cell_type": "code",
   "execution_count": 24,
   "metadata": {
    "ExecuteTime": {
     "end_time": "2020-08-04T17:41:04.463871Z",
     "start_time": "2020-08-04T17:41:04.459974Z"
    }
   },
   "outputs": [],
   "source": [
    "solution_subspaces = solutions[\"features\"].values\n",
    "all_subspaces= np.unique(np.concatenate(solution_subspaces))"
   ]
  },
  {
   "cell_type": "code",
   "execution_count": 25,
   "metadata": {
    "ExecuteTime": {
     "end_time": "2020-08-04T17:41:04.469528Z",
     "start_time": "2020-08-04T17:41:04.465317Z"
    }
   },
   "outputs": [
    {
     "data": {
      "text/plain": [
       "(2199,)"
      ]
     },
     "execution_count": 25,
     "metadata": {},
     "output_type": "execute_result"
    }
   ],
   "source": [
    "cancer_genes_not_in_subspaces = np.setdiff1d(cancer_genes, all_subspaces)\n",
    "cancer_genes_not_in_subspaces.shape"
   ]
  },
  {
   "cell_type": "code",
   "execution_count": 26,
   "metadata": {
    "ExecuteTime": {
     "end_time": "2020-08-04T17:41:04.607095Z",
     "start_time": "2020-08-04T17:41:04.593781Z"
    }
   },
   "outputs": [
    {
     "data": {
      "text/plain": [
       "0"
      ]
     },
     "execution_count": 26,
     "metadata": {},
     "output_type": "execute_result"
    }
   ],
   "source": [
    "all_subspaces = solution_subspaces[1]\n",
    "cancer_genes_not_in_subspaces = np.intersect1d(cancer_genes, all_subspaces)\n",
    "len(cancer_genes_not_in_subspaces)"
   ]
  },
  {
   "cell_type": "code",
   "execution_count": 27,
   "metadata": {
    "ExecuteTime": {
     "end_time": "2020-08-04T17:40:15.759005Z",
     "start_time": "2020-08-04T17:40:15.756589Z"
    }
   },
   "outputs": [],
   "source": [
    "from scipy.cluster.hierarchy import fcluster, linkage"
   ]
  },
  {
   "cell_type": "code",
   "execution_count": 28,
   "metadata": {
    "ExecuteTime": {
     "end_time": "2020-08-04T17:40:16.155939Z",
     "start_time": "2020-08-04T17:40:16.139475Z"
    }
   },
   "outputs": [],
   "source": [
    "truth = data[\"y\"].values\n",
    "data = data.drop(\"y\", axis = 1).values\n",
    "n_clusters = len(np.unique(truth))"
   ]
  },
  {
   "cell_type": "markdown",
   "metadata": {},
   "source": [
    "Find close clusters of features"
   ]
  },
  {
   "cell_type": "code",
   "execution_count": null,
   "metadata": {
    "ExecuteTime": {
     "end_time": "2020-05-31T20:34:37.738744Z",
     "start_time": "2020-05-31T20:34:36.148226Z"
    }
   },
   "outputs": [],
   "source": [
    "Z = linkage(data.T[cancer_genes_not_in_subspaces], method='complete', metric=\"correlation\")\n",
    "\n",
    "pred = fcluster(Z, 0.1, criterion='distance')"
   ]
  },
  {
   "cell_type": "code",
   "execution_count": null,
   "metadata": {
    "ExecuteTime": {
     "end_time": "2020-05-31T20:34:39.285741Z",
     "start_time": "2020-05-31T20:34:39.279932Z"
    }
   },
   "outputs": [],
   "source": [
    "feature_clusters = []\n",
    "for c, _ in Counter(pred).most_common()[:3]:\n",
    "    feature_clusters.append(cancer_genes_not_in_subspaces[np.where(pred ==c)[0]])\n",
    "feature_clusters"
   ]
  },
  {
   "cell_type": "code",
   "execution_count": null,
   "metadata": {
    "ExecuteTime": {
     "end_time": "2020-05-31T20:35:10.250685Z",
     "start_time": "2020-05-31T20:35:10.246811Z"
    }
   },
   "outputs": [],
   "source": [
    "np.save(\"data/rna_data/BRCA_close_gene_clusters1.npy\", feature_clusters)"
   ]
  },
  {
   "cell_type": "code",
   "execution_count": null,
   "metadata": {},
   "outputs": [],
   "source": []
  },
  {
   "cell_type": "markdown",
   "metadata": {},
   "source": [
    "# Analyze subspace results"
   ]
  },
  {
   "cell_type": "code",
   "execution_count": 29,
   "metadata": {
    "ExecuteTime": {
     "end_time": "2020-08-04T17:41:09.189068Z",
     "start_time": "2020-08-04T17:41:09.172776Z"
    }
   },
   "outputs": [
    {
     "name": "stdout",
     "output_type": "stream",
     "text": [
      "From 811 selected genes across 10 subspaces, 125 are in annotated genes set\n"
     ]
    }
   ],
   "source": [
    "solution_subspaces = solutions[\"features\"].values\n",
    "solution_subspaces = [ input_genes[s] for s in solution_subspaces]\n",
    "\n",
    "\n",
    "# %%capture cap\n",
    "\n",
    "all_subspaces= np.unique(np.concatenate(solution_subspaces))\n",
    "found = np.array([gi in an_genes for gi in all_subspaces])\n",
    "print(f\"From {len(all_subspaces)} selected genes across {len(solution_subspaces)} subspaces, \" + \n",
    "     f\"{Counter(found)[True]} are in annotated genes set\")"
   ]
  },
  {
   "cell_type": "code",
   "execution_count": 30,
   "metadata": {
    "ExecuteTime": {
     "end_time": "2020-08-04T17:41:09.616616Z",
     "start_time": "2020-08-04T17:41:09.562708Z"
    }
   },
   "outputs": [
    {
     "name": "stdout",
     "output_type": "stream",
     "text": [
      "\n",
      "\n",
      "Subspace 0 of size 15\n",
      "6 genes found: ['CD79A' 'FCRL5' 'PIM2' 'POU2AF1' 'TNFRSF13B' 'TNFRSF17'], responsible for: \n",
      "['TNF receptor superfamily member 13B'\n",
      " 'Pim-2 proto-oncogene, serine/threonine kinase'\n",
      " 'TNF receptor superfamily member 17' 'CD79a molecule'\n",
      " 'POU class 2 associating factor 1' 'Fc receptor like 5']\n",
      "\n",
      "\n",
      "Subspace 1 of size 14\n",
      "\n",
      "\n",
      "Subspace 2 of size 153\n",
      "21 genes found: ['BCL2L14' 'CALCA' 'DACH2' 'EYA4' 'FOXE1' 'GATA3' 'GPC5' 'GRHL2' 'GRM1'\n",
      " 'KDR' 'LMO3' 'OPCML' 'PRDM16' 'RASL11B' 'RHBG' 'RHCG' 'SCNN1B' 'SLC4A1'\n",
      " 'SSTR2' 'TEK' 'TIE1'], responsible for: \n",
      "['glypican 5' 'forkhead box E1'\n",
      " 'opioid binding protein/cell adhesion molecule like'\n",
      " 'EYA transcriptional coactivator and phosphatase 4'\n",
      " 'Rh family B glycoprotein (gene/pseudogene)' 'Rh family C glycoprotein'\n",
      " 'solute carrier family 4 member 1 (Diego blood group)' 'PR/SET domain 16'\n",
      " 'RAS like family 11 member B' 'calcitonin related polypeptide alpha'\n",
      " 'kinase insert domain receptor'\n",
      " 'tyrosine kinase with immunoglobulin like and EGF like domains 1'\n",
      " 'TEK receptor tyrosine kinase' 'sodium channel epithelial 1 beta subunit'\n",
      " 'somatostatin receptor 2' 'GATA binding protein 3'\n",
      " 'dachshund family transcription factor 2' 'LIM domain only 3'\n",
      " 'BCL2 like 14' 'grainyhead like transcription factor 2'\n",
      " 'glutamate metabotropic receptor 1']\n",
      "\n",
      "\n",
      "Subspace 3 of size 55\n",
      "7 genes found: ['AIFM1' 'CUBN' 'HNF1A' 'HNF4A' 'LRP2' 'RHOBTB1' 'SLC9A3R1'], responsible for: \n",
      "['cubilin' 'HNF1 homeobox A' 'LDL receptor related protein 2'\n",
      " 'apoptosis inducing factor mitochondria associated 1'\n",
      " 'Rho related BTB domain containing 1' 'SLC9A3 regulator 1'\n",
      " 'hepatocyte nuclear factor 4 alpha']\n",
      "\n",
      "\n",
      "Subspace 4 of size 2\n",
      "\n",
      "\n",
      "Subspace 5 of size 157\n",
      "36 genes found: ['AFAP1L2' 'CDA' 'CDH13' 'CSPG4' 'DLGAP1' 'EBF1' 'ELN' 'ENG' 'EPAS1' 'ERG'\n",
      " 'FLT1' 'FLT4' 'FRZB' 'HOXD11' 'IGF2' 'IL3RA' 'MRVI1' 'NOTCH3' 'NOTCH4'\n",
      " 'PCSK1' 'PDGFRB' 'PEAR1' 'PECAM1' 'PF4V1' 'PTPRB' 'RASGRF2' 'SLC22A23'\n",
      " 'SNAI2' 'SYNPO2' 'TBX2' 'TFAP2A' 'THY1' 'TIMP3' 'TPK1' 'TYRP1' 'ZNF521'], responsible for: \n",
      "['platelet endothelial aggregation receptor 1'\n",
      " 'thiamin pyrophosphokinase 1' 'homeobox D11'\n",
      " 'insulin like growth factor 2' 'early B cell factor 1'\n",
      " 'murine retrovirus integration site 1 homolog'\n",
      " 'chondroitin sulfate proteoglycan 4' 'cytidine deaminase'\n",
      " 'interleukin 3 receptor subunit alpha' 'notch 3'\n",
      " 'solute carrier family 22 member 23' 'DLG associated protein 1'\n",
      " 'ERG, ETS transcription factor' 'Thy-1 cell surface antigen'\n",
      " 'Ras protein specific guanine nucleotide releasing factor 2'\n",
      " 'synaptopodin 2' 'fms related tyrosine kinase 1'\n",
      " 'snail family transcriptional repressor 2'\n",
      " 'platelet and endothelial cell adhesion molecule 1'\n",
      " 'transcription factor AP-2 alpha' 'notch 4'\n",
      " 'platelet derived growth factor receptor beta' 'elastin'\n",
      " 'TIMP metallopeptidase inhibitor 3' 'zinc finger protein 521'\n",
      " 'cadherin 13' 'T-box 2' 'actin filament associated protein 1 like 2'\n",
      " 'tyrosinase related protein 1' 'endoglin' 'platelet factor 4 variant 1'\n",
      " 'endothelial PAS domain protein 1' 'frizzled related protein'\n",
      " 'proprotein convertase subtilisin/kexin type 1'\n",
      " 'fms related tyrosine kinase 4'\n",
      " 'protein tyrosine phosphatase, receptor type B']\n",
      "\n",
      "\n",
      "Subspace 6 of size 107\n",
      "24 genes found: ['AGAP2' 'BCL11B' 'CCR4' 'CD38' 'CD74' 'CXCR3' 'GFI1' 'IKZF3' 'IL2RB'\n",
      " 'IL2RG' 'IL7R' 'IRF4' 'ITK' 'JAKMIP1' 'KLRK1' 'LCK' 'LCP1' 'PIK3CD'\n",
      " 'PRF1' 'RUNX3' 'SLAMF6' 'TBX21' 'UCHL5' 'ZAP70'], responsible for: \n",
      "['B cell CLL/lymphoma 11B'\n",
      " 'ArfGAP with GTPase domain, ankyrin repeat and PH domain 2' 'T-box 21'\n",
      " 'IL2 inducible T cell kinase' 'ubiquitin C-terminal hydrolase L5'\n",
      " 'interferon regulatory factor 4' 'interleukin 2 receptor subunit gamma'\n",
      " 'perforin 1' 'LCK proto-oncogene, Src family tyrosine kinase'\n",
      " 'janus kinase and microtubule interacting protein 1'\n",
      " 'SLAM family member 6'\n",
      " 'growth factor independent 1 transcriptional repressor'\n",
      " 'interleukin 2 receptor subunit beta'\n",
      " 'phosphatidylinositol-4,5-bisphosphate 3-kinase catalytic subunit delta'\n",
      " 'runt related transcription factor 3' 'CD74 molecule'\n",
      " 'killer cell lectin like receptor K1' 'IKAROS family zinc finger 3'\n",
      " 'lymphocyte cytosolic protein 1' 'C-X-C motif chemokine receptor 3'\n",
      " 'interleukin 7 receptor' 'CD38 molecule'\n",
      " 'zeta chain of T cell receptor associated protein kinase 70'\n",
      " 'C-C motif chemokine receptor 4']\n",
      "\n",
      "\n",
      "Subspace 7 of size 152\n",
      "16 genes found: ['AXIN2' 'CD200' 'CDC25C' 'ELF3' 'ERC2' 'FAIM' 'GALNT5' 'IGFBP6' 'IL4R'\n",
      " 'IQCE' 'NBL1' 'PLXNB1' 'SLC16A1' 'SLC34A2' 'WNT5A' 'ZMYND10'], responsible for: \n",
      "['insulin like growth factor binding protein 6'\n",
      " 'ELKS/RAB6-interacting/CAST family member 2' 'axin 2'\n",
      " 'neuroblastoma 1, DAN family BMP antagonist' 'cell division cycle 25C'\n",
      " 'CD200 molecule' 'IQ motif containing E' 'Wnt family member 5A'\n",
      " 'solute carrier family 34 member 2' 'Fas apoptotic inhibitory molecule'\n",
      " 'interleukin 4 receptor'\n",
      " 'polypeptide N-acetylgalactosaminyltransferase 5' 'plexin B1'\n",
      " 'solute carrier family 16 member 1' 'zinc finger MYND-type containing 10'\n",
      " 'E74 like ETS transcription factor 3']\n",
      "\n",
      "\n",
      "Subspace 8 of size 4\n",
      "\n",
      "\n",
      "Subspace 9 of size 152\n",
      "15 genes found: ['ABCC10' 'CRB2' 'CYP2D6' 'DMTF1' 'FNBP4' 'KIAA0895L' 'MALAT1' 'MAMDC4'\n",
      " 'NEIL1' 'POU5F1' 'RAD52' 'RBM39' 'SPPL2B' 'TPX2' 'ZBTB48'], responsible for: \n",
      "['metastasis associated lung adenocarcinoma transcript 1 (non-protein coding)'\n",
      " 'formin binding protein 4' 'signal peptide peptidase like 2B'\n",
      " 'nei like DNA glycosylase 1'\n",
      " 'cyclin D binding myb like transcription factor 1'\n",
      " 'RAD52 homolog, DNA repair protein'\n",
      " 'cytochrome P450 family 2 subfamily D member 6' 'KIAA0895 like'\n",
      " 'MAM domain containing 4' 'crumbs 2, cell polarity complex component'\n",
      " 'zinc finger and BTB domain containing 48' 'POU class 5 homeobox 1'\n",
      " 'RNA binding motif protein 39'\n",
      " 'ATP binding cassette subfamily C member 10'\n",
      " 'TPX2, microtubule nucleation factor']\n"
     ]
    }
   ],
   "source": [
    "found_by_subspace = []\n",
    "for i, s in enumerate(solution_subspaces):\n",
    "#     tmp = subspace_match[subspace_match[\"subspace\"] == i][[\"ari\", \"additional_data\"]].values[0]\n",
    "#     print(f\"\\n\\nSubspace {i} of size {len(s)}, best corresponds to {tmp[1]} with match ari {tmp[0]}\")\n",
    "    print(f\"\\n\\nSubspace {i} of size {len(s)}\")\n",
    "    found = np.array([gi in an_genes for gi in s])\n",
    "    found_idx = np.where(found == True)[0]\n",
    "    if len(found_idx) > 0:\n",
    "        print(f\"{len(found_idx)} genes found: {s[found_idx]}, responsible for: \" )\n",
    "        gene_func = an_genes_df[an_genes_df[\"symbol\"].isin(s[found_idx])][\"name\"].values\n",
    "        print(gene_func)\n",
    "        perc =round(len(found_idx)/len(s), 2)\n",
    "        rdf.loc[rdf.shape[0]] = [filename, i, len(s), len(found_idx), perc, \" ,\".join(s[found_idx])]\n",
    "\n",
    "# with open('bc_genes.txt', 'w') as f:\n",
    "#     f.write(cap.stdout)"
   ]
  },
  {
   "cell_type": "code",
   "execution_count": 31,
   "metadata": {
    "ExecuteTime": {
     "end_time": "2020-08-04T17:41:11.452579Z",
     "start_time": "2020-08-04T17:41:11.441978Z"
    }
   },
   "outputs": [
    {
     "data": {
      "text/html": [
       "<div>\n",
       "<style scoped>\n",
       "    .dataframe tbody tr th:only-of-type {\n",
       "        vertical-align: middle;\n",
       "    }\n",
       "\n",
       "    .dataframe tbody tr th {\n",
       "        vertical-align: top;\n",
       "    }\n",
       "\n",
       "    .dataframe thead th {\n",
       "        text-align: right;\n",
       "    }\n",
       "</style>\n",
       "<table border=\"1\" class=\"dataframe\">\n",
       "  <thead>\n",
       "    <tr style=\"text-align: right;\">\n",
       "      <th></th>\n",
       "      <th>Dataset</th>\n",
       "      <th>Subspace No</th>\n",
       "      <th>Subspace size</th>\n",
       "      <th>Nb Cancer Genes</th>\n",
       "      <th>% Cancer Genes</th>\n",
       "      <th>Genes</th>\n",
       "    </tr>\n",
       "  </thead>\n",
       "  <tbody>\n",
       "    <tr>\n",
       "      <th>0</th>\n",
       "      <td>BRCA</td>\n",
       "      <td>1</td>\n",
       "      <td>40</td>\n",
       "      <td>9</td>\n",
       "      <td>0.23</td>\n",
       "      <td>AFF3 ,ERBB4 ,ESR1 ,GATA3 ,GREB1 ,INPP4B ,MYB ,...</td>\n",
       "    </tr>\n",
       "    <tr>\n",
       "      <th>1</th>\n",
       "      <td>BRCA</td>\n",
       "      <td>3</td>\n",
       "      <td>35</td>\n",
       "      <td>6</td>\n",
       "      <td>0.17</td>\n",
       "      <td>BCL11A ,CMTM7 ,FOXC1 ,MAPK4 ,NFIB ,WNT6</td>\n",
       "    </tr>\n",
       "    <tr>\n",
       "      <th>2</th>\n",
       "      <td>BRCA</td>\n",
       "      <td>7</td>\n",
       "      <td>6</td>\n",
       "      <td>1</td>\n",
       "      <td>0.17</td>\n",
       "      <td>XAF1</td>\n",
       "    </tr>\n",
       "    <tr>\n",
       "      <th>3</th>\n",
       "      <td>BRCA</td>\n",
       "      <td>8</td>\n",
       "      <td>2</td>\n",
       "      <td>1</td>\n",
       "      <td>0.50</td>\n",
       "      <td>PAX8</td>\n",
       "    </tr>\n",
       "    <tr>\n",
       "      <th>4</th>\n",
       "      <td>KIRP</td>\n",
       "      <td>0</td>\n",
       "      <td>15</td>\n",
       "      <td>6</td>\n",
       "      <td>0.40</td>\n",
       "      <td>CD79A ,FCRL5 ,PIM2 ,POU2AF1 ,TNFRSF13B ,TNFRSF17</td>\n",
       "    </tr>\n",
       "    <tr>\n",
       "      <th>5</th>\n",
       "      <td>KIRP</td>\n",
       "      <td>2</td>\n",
       "      <td>153</td>\n",
       "      <td>21</td>\n",
       "      <td>0.14</td>\n",
       "      <td>BCL2L14 ,CALCA ,DACH2 ,EYA4 ,FOXE1 ,GATA3 ,GPC...</td>\n",
       "    </tr>\n",
       "    <tr>\n",
       "      <th>6</th>\n",
       "      <td>KIRP</td>\n",
       "      <td>3</td>\n",
       "      <td>55</td>\n",
       "      <td>7</td>\n",
       "      <td>0.13</td>\n",
       "      <td>AIFM1 ,CUBN ,HNF1A ,HNF4A ,LRP2 ,RHOBTB1 ,SLC9...</td>\n",
       "    </tr>\n",
       "    <tr>\n",
       "      <th>7</th>\n",
       "      <td>KIRP</td>\n",
       "      <td>5</td>\n",
       "      <td>157</td>\n",
       "      <td>36</td>\n",
       "      <td>0.23</td>\n",
       "      <td>AFAP1L2 ,CDA ,CDH13 ,CSPG4 ,DLGAP1 ,EBF1 ,ELN ...</td>\n",
       "    </tr>\n",
       "    <tr>\n",
       "      <th>8</th>\n",
       "      <td>KIRP</td>\n",
       "      <td>6</td>\n",
       "      <td>107</td>\n",
       "      <td>24</td>\n",
       "      <td>0.22</td>\n",
       "      <td>AGAP2 ,BCL11B ,CCR4 ,CD38 ,CD74 ,CXCR3 ,GFI1 ,...</td>\n",
       "    </tr>\n",
       "    <tr>\n",
       "      <th>9</th>\n",
       "      <td>KIRP</td>\n",
       "      <td>7</td>\n",
       "      <td>152</td>\n",
       "      <td>16</td>\n",
       "      <td>0.11</td>\n",
       "      <td>AXIN2 ,CD200 ,CDC25C ,ELF3 ,ERC2 ,FAIM ,GALNT5...</td>\n",
       "    </tr>\n",
       "    <tr>\n",
       "      <th>10</th>\n",
       "      <td>KIRP</td>\n",
       "      <td>9</td>\n",
       "      <td>152</td>\n",
       "      <td>15</td>\n",
       "      <td>0.10</td>\n",
       "      <td>ABCC10 ,CRB2 ,CYP2D6 ,DMTF1 ,FNBP4 ,KIAA0895L ...</td>\n",
       "    </tr>\n",
       "  </tbody>\n",
       "</table>\n",
       "</div>"
      ],
      "text/plain": [
       "   Dataset Subspace No Subspace size Nb Cancer Genes  % Cancer Genes  \\\n",
       "0     BRCA           1            40               9            0.23   \n",
       "1     BRCA           3            35               6            0.17   \n",
       "2     BRCA           7             6               1            0.17   \n",
       "3     BRCA           8             2               1            0.50   \n",
       "4     KIRP           0            15               6            0.40   \n",
       "5     KIRP           2           153              21            0.14   \n",
       "6     KIRP           3            55               7            0.13   \n",
       "7     KIRP           5           157              36            0.23   \n",
       "8     KIRP           6           107              24            0.22   \n",
       "9     KIRP           7           152              16            0.11   \n",
       "10    KIRP           9           152              15            0.10   \n",
       "\n",
       "                                                Genes  \n",
       "0   AFF3 ,ERBB4 ,ESR1 ,GATA3 ,GREB1 ,INPP4B ,MYB ,...  \n",
       "1             BCL11A ,CMTM7 ,FOXC1 ,MAPK4 ,NFIB ,WNT6  \n",
       "2                                                XAF1  \n",
       "3                                                PAX8  \n",
       "4    CD79A ,FCRL5 ,PIM2 ,POU2AF1 ,TNFRSF13B ,TNFRSF17  \n",
       "5   BCL2L14 ,CALCA ,DACH2 ,EYA4 ,FOXE1 ,GATA3 ,GPC...  \n",
       "6   AIFM1 ,CUBN ,HNF1A ,HNF4A ,LRP2 ,RHOBTB1 ,SLC9...  \n",
       "7   AFAP1L2 ,CDA ,CDH13 ,CSPG4 ,DLGAP1 ,EBF1 ,ELN ...  \n",
       "8   AGAP2 ,BCL11B ,CCR4 ,CD38 ,CD74 ,CXCR3 ,GFI1 ,...  \n",
       "9   AXIN2 ,CD200 ,CDC25C ,ELF3 ,ERC2 ,FAIM ,GALNT5...  \n",
       "10  ABCC10 ,CRB2 ,CYP2D6 ,DMTF1 ,FNBP4 ,KIAA0895L ...  "
      ]
     },
     "execution_count": 31,
     "metadata": {},
     "output_type": "execute_result"
    }
   ],
   "source": [
    "rdf"
   ]
  },
  {
   "cell_type": "code",
   "execution_count": 32,
   "metadata": {},
   "outputs": [],
   "source": [
    "rdf.to_csv(\"../reports/annotated_genes.csv\")"
   ]
  },
  {
   "cell_type": "code",
   "execution_count": 29,
   "metadata": {
    "ExecuteTime": {
     "end_time": "2020-08-04T17:41:30.980458Z",
     "start_time": "2020-08-04T17:41:30.079952Z"
    }
   },
   "outputs": [],
   "source": [
    "rdf.to_excel(\"../reports/annotated_genes.xlsx\")"
   ]
  },
  {
   "cell_type": "code",
   "execution_count": null,
   "metadata": {
    "ExecuteTime": {
     "end_time": "2020-05-30T19:52:37.145639Z",
     "start_time": "2020-05-30T19:52:37.051375Z"
    }
   },
   "outputs": [],
   "source": [
    "# rdf.to_excel(\"reports/annotated_genes.xlsx\")"
   ]
  },
  {
   "cell_type": "code",
   "execution_count": null,
   "metadata": {},
   "outputs": [],
   "source": []
  }
 ],
 "metadata": {
  "kernelspec": {
   "display_name": "Python 3",
   "language": "python",
   "name": "python3"
  },
  "language_info": {
   "codemirror_mode": {
    "name": "ipython",
    "version": 3
   },
   "file_extension": ".py",
   "mimetype": "text/x-python",
   "name": "python",
   "nbconvert_exporter": "python",
   "pygments_lexer": "ipython3",
   "version": "3.6.9"
  }
 },
 "nbformat": 4,
 "nbformat_minor": 4
}
