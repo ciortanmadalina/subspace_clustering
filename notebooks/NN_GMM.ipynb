{
 "cells": [
  {
   "cell_type": "markdown",
   "metadata": {},
   "source": [
    "# Summary\n",
    "\n",
    "This notebook trains the neural network with simulated data, to approximate either the Silhouette or the Ratkowski lance scores of clustering feature subspaces with GMM."
   ]
  },
  {
   "cell_type": "code",
   "execution_count": null,
   "metadata": {
    "ExecuteTime": {
     "end_time": "2020-08-22T13:08:40.973494Z",
     "start_time": "2020-08-22T13:08:39.167994Z"
    }
   },
   "outputs": [],
   "source": [
    "from keras.backend.tensorflow_backend import set_session\n",
    "import tensorflow as tf\n",
    "config = tf.ConfigProto()\n",
    "config.gpu_options.allow_growth = True  # dynamically grow the memory used on the GPU\n",
    "config.log_device_placement = True  # to log device placement (on which device the operation ran)\n",
    "sess = tf.Session(config=config)\n",
    "set_session(sess)  # set this TensorFlow session as the default\n",
    "\n",
    "import matplotlib.pyplot as plt\n",
    "import numpy as np\n",
    "import pandas as pd\n",
    "import seaborn as sns\n",
    "import sklearn\n",
    "from sklearn.cluster import  KMeans\n",
    "from collections import Counter\n",
    "from sklearn import preprocessing\n",
    "from sklearn.metrics.cluster import adjusted_rand_score\n",
    "from sklearn.datasets.samples_generator import make_blobs\n",
    "import itertools\n",
    "import random\n",
    "\n",
    "import scipy\n",
    "from tqdm import tqdm\n",
    "import pickle\n",
    "import sys\n",
    "from keras.utils import to_categorical\n",
    "import keras\n",
    "from keras.models import load_model\n",
    "from datetime import datetime\n",
    "import time\n",
    "from keras.preprocessing.image import ImageDataGenerator#, array_to_img, img_to_array, load_img\n",
    "import scripts.data_generator as data_generator\n",
    "import scripts.internal_scores as validation\n",
    "import scripts.cnn_models as cnn_models\n",
    "import scripts.plot_losses as plot_losses\n",
    "import hdbscan\n",
    "random_state=0\n",
    "random.seed( random_state )\n",
    "np.random.seed(random_state)\n",
    "\n",
    "%load_ext autoreload\n",
    "%autoreload 2"
   ]
  },
  {
   "cell_type": "markdown",
   "metadata": {},
   "source": [
    "# Define score for the analysis"
   ]
  },
  {
   "cell_type": "code",
   "execution_count": null,
   "metadata": {
    "ExecuteTime": {
     "end_time": "2020-07-11T09:56:41.396736Z",
     "start_time": "2020-07-11T09:56:41.355334Z"
    }
   },
   "outputs": [],
   "source": [
    "score = \"gmm_arl\" # GMM + Ratkowski Lance\n",
    "# score = \"gmm_as\" # GMM + Silhouette"
   ]
  },
  {
   "cell_type": "markdown",
   "metadata": {},
   "source": [
    "# Put together all data for clusters into one file"
   ]
  },
  {
   "cell_type": "code",
   "execution_count": null,
   "metadata": {
    "ExecuteTime": {
     "end_time": "2020-08-22T13:08:44.822628Z",
     "start_time": "2020-08-22T13:08:44.774785Z"
    }
   },
   "outputs": [],
   "source": [
    "all_n_clusters = np.arange(2,20)\n",
    "num_classes = len(all_n_clusters)\n",
    "num_classes"
   ]
  },
  {
   "cell_type": "markdown",
   "metadata": {},
   "source": [
    "# Load simulated data"
   ]
  },
  {
   "cell_type": "code",
   "execution_count": null,
   "metadata": {
    "ExecuteTime": {
     "end_time": "2020-08-22T13:09:18.586205Z",
     "start_time": "2020-08-22T13:09:18.246050Z"
    }
   },
   "outputs": [],
   "source": [
    "x_train_img = np.load(\"../data/nn_data/img_x_train_img.npy\")\n",
    "x_train_k = np.load(\"../data/nn_data/img_x_train_k.npy\")\n",
    "y_train= pd.read_pickle(\"../data/nn_data/img_y_train.npy\")\n",
    "\n",
    "x_val_img = np.load(\"../data/nn_data/img_x_val_img.npy\")\n",
    "x_val_k = np.load(\"../data/nn_data/img_x_val_k.npy\")\n",
    "y_val= pd.read_pickle(\"../data/nn_data/img_y_val.npy\")\n",
    "\n",
    "x_train_img.shape, x_val_img.shape"
   ]
  },
  {
   "cell_type": "code",
   "execution_count": null,
   "metadata": {
    "ExecuteTime": {
     "end_time": "2020-07-11T09:56:42.722678Z",
     "start_time": "2020-07-11T09:56:42.538567Z"
    }
   },
   "outputs": [],
   "source": [
    "# idx= np.argmax(train_score)\n",
    "idx = np.random.randint(0, len(y_train))\n",
    "plt.imshow(x_train_img[idx][:,:,0])\n",
    "plt.title(y_train[score].values[idx] );\n",
    "print(np.argmax(x_train_k, axis = 1)[idx])"
   ]
  },
  {
   "cell_type": "markdown",
   "metadata": {},
   "source": [
    "## Define model\n"
   ]
  },
  {
   "cell_type": "code",
   "execution_count": null,
   "metadata": {
    "ExecuteTime": {
     "end_time": "2020-07-11T09:56:44.438992Z",
     "start_time": "2020-07-11T09:56:44.226968Z"
    }
   },
   "outputs": [],
   "source": [
    "def conditional_img_based_model(\n",
    "                input_shape1 = (21,21,1),\n",
    "                input_shape2 = (num_classes,),\n",
    "                filter_size=16,\n",
    "                dropout=0.2,\n",
    "                noise=0.005,\n",
    "                firstKernelSize=5,\n",
    "                secondKernelSize=3,):\n",
    "\n",
    "\n",
    "    input_layer = keras.layers.Input(input_shape1)\n",
    "    input_layer1 = keras.layers.Input(input_shape2)\n",
    "    x1 = keras.layers.Dense(50)(input_layer1)\n",
    "    x = input_layer\n",
    "#     x = GaussianNoise(stddev=noise)(x)\n",
    "    x = keras.layers.Conv2D(filters=filter_size,\n",
    "                                kernel_size=(firstKernelSize,firstKernelSize),\n",
    "                                padding='same')(x)\n",
    "    x = keras.layers.Conv2D(filters=filter_size,\n",
    "                                kernel_size=(firstKernelSize,firstKernelSize),\n",
    "                                padding='same')(x)\n",
    "    x = keras.layers.Activation(activation=\"relu\")(x)\n",
    "    x = keras.layers.MaxPooling2D(pool_size=(2, 2))(x)\n",
    "    x = keras.layers.Dropout(dropout)(x)\n",
    "    \n",
    "    x = keras.layers.Conv2D(filters=filter_size*2,\n",
    "                                kernel_size=(secondKernelSize, secondKernelSize),\n",
    "                                padding='same')(x)\n",
    "    x = keras.layers.Conv2D(filters=filter_size*2,\n",
    "                                kernel_size=(secondKernelSize, secondKernelSize),\n",
    "                                padding='same')(x)\n",
    "    x = keras.layers.Activation(activation=\"relu\")(x)\n",
    "    x = keras.layers.MaxPooling2D(pool_size=(2,2))(x)\n",
    "    x = keras.layers.Dropout(dropout)(x)\n",
    "\n",
    "    x = keras.layers.Flatten()(x)\n",
    "    x = keras.layers.Dense(50, activation = \"relu\")(x)\n",
    "    x=  keras.layers.Concatenate()([x, x1])\n",
    "    x = keras.layers.Dense(50, activation = \"relu\")(x)\n",
    "    x = keras.layers.Dense(20, activation = \"relu\")(x)\n",
    "    x = keras.layers.Dense(1)(x)\n",
    "\n",
    "    model = keras.models.Model(inputs=[input_layer, input_layer1], outputs=x)\n",
    "\n",
    "    model.compile(loss='mean_squared_error',\n",
    "                  optimizer=\"adam\",\n",
    "                  metrics=['mean_absolute_error', 'mse'])\n",
    "    return model\n",
    "model = conditional_img_based_model()\n",
    "model.summary()"
   ]
  },
  {
   "cell_type": "markdown",
   "metadata": {},
   "source": [
    "## Train"
   ]
  },
  {
   "cell_type": "code",
   "execution_count": null,
   "metadata": {
    "ExecuteTime": {
     "end_time": "2020-07-11T09:56:45.218440Z",
     "start_time": "2020-07-11T09:56:45.174029Z"
    }
   },
   "outputs": [],
   "source": [
    "batch_size = 200\n",
    "epochs = 1500\n",
    "\n",
    "pl = plot_losses.PlotLosses(printInterval=1, name = 'mean_absolute_error')\n",
    "es= keras.callbacks.EarlyStopping(monitor='val_loss', min_delta=0, patience=20,\n",
    "                              verbose=0, mode='auto')\n",
    "reduce_lr = keras.callbacks.ReduceLROnPlateau(monitor='loss', factor=0.2, patience=5, \n",
    "    min_lr=0.0001)"
   ]
  },
  {
   "cell_type": "code",
   "execution_count": null,
   "metadata": {
    "ExecuteTime": {
     "end_time": "2020-07-11T09:56:46.007797Z",
     "start_time": "2020-07-11T09:56:45.970667Z"
    }
   },
   "outputs": [],
   "source": [
    "datagen = ImageDataGenerator(\n",
    "    rotation_range=2,\n",
    "    horizontal_flip=True,\n",
    "    vertical_flip=True,\n",
    "    fill_mode='nearest')\n",
    "\n",
    "# model.fit_generator(\n",
    "#     datagen.flow(x_train_img, y_train[[\"score\"]].values, batch_size=batch_size),\n",
    "#     validation_data=(x_val_img ,y_val[[\"score\"]].values), \n",
    "#     steps_per_epoch=len(x_train_img) // batch_size,\n",
    "#     callbacks=[pl, reduce_lr],\n",
    "#     epochs=epochs, verbose = True)\n",
    "\n",
    "def custom_generator(datagen, X1, X2, y, batch_size):\n",
    "    genX1 = datagen.flow(X1, y,  batch_size=batch_size, seed=1)\n",
    "    genX2 = datagen.flow(X1, X2, batch_size=batch_size, seed=1)\n",
    "    while True:\n",
    "        X1i = genX1.next()\n",
    "        X2i = genX2.next()\n",
    "        yield [X1i[0], X2i[1]], X1i[1]\n",
    "\n",
    "model.fit_generator(\n",
    "    custom_generator(datagen, x_train_img, x_train_k,  y_train[[score]].values, batch_size),\n",
    "    validation_data=([x_val_img,x_val_k] ,y_val[[score]].values), \n",
    "    steps_per_epoch=len(x_train_img) // batch_size,\n",
    "    callbacks=[pl, reduce_lr],\n",
    "    epochs=65, verbose = True)\n",
    "\n",
    "model.save(f'../models/{score}.h5')"
   ]
  },
  {
   "cell_type": "markdown",
   "metadata": {},
   "source": [
    "# Test"
   ]
  },
  {
   "cell_type": "code",
   "execution_count": null,
   "metadata": {
    "ExecuteTime": {
     "end_time": "2020-08-22T13:08:51.624782Z",
     "start_time": "2020-08-22T13:08:48.340492Z"
    }
   },
   "outputs": [],
   "source": [
    "model = load_model(f'../models/gmm_as.h5')\n",
    "score = 'gmm_as'\n",
    "# score = \"gmm_arl\""
   ]
  },
  {
   "cell_type": "code",
   "execution_count": null,
   "metadata": {
    "ExecuteTime": {
     "end_time": "2020-08-22T13:09:02.641883Z",
     "start_time": "2020-08-22T13:09:02.240190Z"
    }
   },
   "outputs": [],
   "source": [
    "pred = model.predict([x_val_img, x_val_k] )\n",
    "y_val[\"pred\"] = np.ravel(pred)\n",
    "print(\"MSE \", sklearn.metrics.mean_squared_error(y_val[score], y_val[\"pred\"]))\n",
    "print(\"MAE \", sklearn.metrics.mean_absolute_error(y_val[score], y_val[\"pred\"]))"
   ]
  },
  {
   "cell_type": "code",
   "execution_count": null,
   "metadata": {
    "ExecuteTime": {
     "end_time": "2020-07-11T11:41:24.115681Z",
     "start_time": "2020-07-11T11:41:24.018466Z"
    }
   },
   "outputs": [],
   "source": [
    "x_test_ma_img = np.load(\"../data/nn_data/img_x_test_ma_img.npy\")\n",
    "x_test_ma_k = np.load(\"../data/nn_data/img_x_test_ma_k.npy\" )\n",
    "y_test_ma = pd.read_pickle(\"../data/nn_data/img_y_test_ma.npy\")"
   ]
  },
  {
   "cell_type": "code",
   "execution_count": null,
   "metadata": {},
   "outputs": [],
   "source": [
    "pred = model.predict([x_test_ma_img,x_test_ma_k] )\n",
    "y_test_ma[\"pred\"] = np.ravel(pred)\n",
    "y_test_ma.shape\n",
    "\n",
    "print(\"MSE \", sklearn.metrics.mean_squared_error(y_test_ma[score], y_test_ma[\"pred\"]))\n",
    "print(\"MAE \", sklearn.metrics.mean_absolute_error(y_test_ma[score], y_test_ma[\"pred\"]))"
   ]
  },
  {
   "cell_type": "code",
   "execution_count": null,
   "metadata": {
    "ExecuteTime": {
     "end_time": "2020-07-11T11:41:34.410744Z",
     "start_time": "2020-07-11T11:41:34.330137Z"
    }
   },
   "outputs": [],
   "source": [
    "x_test_rna_img = np.load(\"../data/nn_data/img_x_test_rna_img.npy\")\n",
    "x_test_rna_k = np.load(\"../data/nn_data/img_x_test_rna_k.npy\")\n",
    "y_test_rna = pd.read_pickle(\"../data/nn_data/img_y_test_rna.npy\")"
   ]
  },
  {
   "cell_type": "code",
   "execution_count": null,
   "metadata": {},
   "outputs": [],
   "source": [
    "pred = model.predict([x_test_rna_img,x_test_rna_k] )\n",
    "y_test_rna[\"pred\"] = np.ravel(pred)\n",
    "y_test_rna.shape\n",
    "\n",
    "print(\"MSE \", sklearn.metrics.mean_squared_error(y_test_rna[score], y_test_rna[\"pred\"]))\n",
    "print(\"MAE \", sklearn.metrics.mean_absolute_error(y_test_rna[score], y_test_rna[\"pred\"]))\n"
   ]
  },
  {
   "cell_type": "code",
   "execution_count": null,
   "metadata": {},
   "outputs": [],
   "source": []
  },
  {
   "cell_type": "code",
   "execution_count": null,
   "metadata": {},
   "outputs": [],
   "source": []
  },
  {
   "cell_type": "code",
   "execution_count": null,
   "metadata": {},
   "outputs": [],
   "source": []
  },
  {
   "cell_type": "code",
   "execution_count": null,
   "metadata": {},
   "outputs": [],
   "source": []
  },
  {
   "cell_type": "code",
   "execution_count": null,
   "metadata": {},
   "outputs": [],
   "source": []
  }
 ],
 "metadata": {
  "kernelspec": {
   "display_name": "Python 3",
   "language": "python",
   "name": "python3"
  },
  "language_info": {
   "codemirror_mode": {
    "name": "ipython",
    "version": 3
   },
   "file_extension": ".py",
   "mimetype": "text/x-python",
   "name": "python",
   "nbconvert_exporter": "python",
   "pygments_lexer": "ipython3",
   "version": "3.6.9"
  },
  "toc": {
   "base_numbering": 1,
   "nav_menu": {},
   "number_sections": true,
   "sideBar": true,
   "skip_h1_title": false,
   "title_cell": "Table of Contents",
   "title_sidebar": "Contents",
   "toc_cell": false,
   "toc_position": {},
   "toc_section_display": true,
   "toc_window_display": false
  },
  "varInspector": {
   "cols": {
    "lenName": 16,
    "lenType": 16,
    "lenVar": 40
   },
   "kernels_config": {
    "python": {
     "delete_cmd_postfix": "",
     "delete_cmd_prefix": "del ",
     "library": "var_list.py",
     "varRefreshCmd": "print(var_dic_list())"
    },
    "r": {
     "delete_cmd_postfix": ") ",
     "delete_cmd_prefix": "rm(",
     "library": "var_list.r",
     "varRefreshCmd": "cat(var_dic_list()) "
    }
   },
   "oldHeight": 361.5,
   "position": {
    "height": "40px",
    "left": "1035px",
    "right": "20px",
    "top": "120px",
    "width": "313px"
   },
   "types_to_exclude": [
    "module",
    "function",
    "builtin_function_or_method",
    "instance",
    "_Feature"
   ],
   "varInspector_section_display": "none",
   "window_display": false
  }
 },
 "nbformat": 4,
 "nbformat_minor": 2
}
