{
 "cells": [
  {
   "cell_type": "markdown",
   "metadata": {},
   "source": [
    "# Summary\n",
    "\n",
    "This notebook comprises all experiments we performed in order to compare various internal scores for clustering."
   ]
  },
  {
   "cell_type": "code",
   "execution_count": 1,
   "metadata": {
    "ExecuteTime": {
     "end_time": "2020-08-22T13:35:33.613401Z",
     "start_time": "2020-08-22T13:35:32.863537Z"
    }
   },
   "outputs": [
    {
     "name": "stderr",
     "output_type": "stream",
     "text": [
      "/usr/local/lib/python3.6/dist-packages/sklearn/utils/deprecation.py:143: FutureWarning: The sklearn.datasets.samples_generator module is  deprecated in version 0.22 and will be removed in version 0.24. The corresponding classes / functions should instead be imported from sklearn.datasets. Anything that cannot be imported from sklearn.datasets is now part of the private API.\n",
      "  warnings.warn(message, FutureWarning)\n"
     ]
    }
   ],
   "source": [
    "import sys\n",
    "sys.path.append(\"..\")\n",
    "\n",
    "import matplotlib.pyplot as plt\n",
    "from matplotlib.patches import Patch\n",
    "from matplotlib.lines import Line2D\n",
    "import matplotlib\n",
    "import numpy as np\n",
    "import pandas as pd\n",
    "import seaborn as sns\n",
    "from collections import Counter\n",
    "from sklearn import preprocessing\n",
    "import random\n",
    "import itertools\n",
    "from sklearn.cluster import KMeans\n",
    "from sklearn.metrics.cluster import adjusted_rand_score\n",
    "import pickle\n",
    "import scripts.data_generator as data_generator\n",
    "import scripts.validation_open_ensembles as validation\n",
    "plt.ion()\n",
    "plt.show()\n",
    "\n",
    "random_state=0\n",
    "random.seed( random_state )\n",
    "np.random.seed(random_state)\n",
    "\n",
    "plt.ion()\n",
    "plt.show()\n",
    "path = \"../\"\n",
    "\n",
    "%load_ext autoreload\n",
    "%autoreload 2"
   ]
  },
  {
   "cell_type": "markdown",
   "metadata": {},
   "source": [
    "# Utility functions"
   ]
  },
  {
   "cell_type": "code",
   "execution_count": 2,
   "metadata": {
    "ExecuteTime": {
     "end_time": "2020-08-22T13:35:35.136352Z",
     "start_time": "2020-08-22T13:35:35.087225Z"
    }
   },
   "outputs": [],
   "source": [
    "def plot(data_x, truth):\n",
    "    import scripts.plot_utils as plot_utils\n",
    "    from sklearn.decomposition import PCA\n",
    "    \n",
    "    predK = KMeans(n_clusters= n_clusters, random_state =0).fit(data_x).labels_\n",
    "    ari = adjusted_rand_score(truth, predK)\n",
    "    method = \"adapted_ratkowsky_lance\"\n",
    "    v = validation.validation(data_x, predK)\n",
    "    score=  getattr(v, method)()\n",
    "    print(f'ARI  {round(ari,2)}, {method} {score}')\n",
    "    \n",
    "    pca = PCA(2, random_state = 0)\n",
    "    pca_data = pca.fit_transform(data_x)\n",
    "    plotPCA = True\n",
    "    plotSilhouette = True\n",
    "    if plotPCA or plotSilhouette:\n",
    "        plt.figure(figsize=(4*(plotPCA*2+plotSilhouette),3))\n",
    "    if plotPCA:\n",
    "        plt.subplot(1,plotPCA*2+plotSilhouette,1)\n",
    "        plt.title(\"PCA truth\")\n",
    "        plt.scatter(pca_data[:, 0],pca_data[:, 1], c = truth)\n",
    "        plt.subplot(1,plotPCA*2+plotSilhouette,2)\n",
    "        plt.title(\"PCA pred\")\n",
    "        plt.scatter(pca_data[:, 0],pca_data[:, 1], c = predK)\n",
    "    if plotSilhouette:\n",
    "        ax = plt.subplot(1,2*plotPCA+plotSilhouette,2*plotPCA+plotSilhouette)\n",
    "        plot_utils.silhouette_plot(pca_data, truth, ax=ax)\n",
    "    plt.show()\n",
    "\n",
    "    \n",
    "def get_scores(data, ids, ground_truth):\n",
    "    values = []\n",
    "    for ii in ids:\n",
    "        v = validation.validation(data[:, ii], ground_truth)\n",
    "        score=  getattr(v, method)()\n",
    "        values.append(score)\n",
    "    return values\n",
    "\n",
    "def add_candidates(data, candidates, prev_pure_ids, prev_pure_scores):\n",
    "    new_ids = []\n",
    "    reference_scores = []\n",
    "    for i in range(len(prev_pure_ids)):\n",
    "        current_candidates = np.setdiff1d(candidates, prev_pure_ids[i])\n",
    "        if len(current_candidates) == 0:\n",
    "            break\n",
    "        new_ids.extend([np.append(prev_pure_ids[i],c) for c in current_candidates])\n",
    "        reference_scores.extend([prev_pure_scores[i]] * len(current_candidates))\n",
    "\n",
    "    new_scores = get_scores(data, new_ids, ground_truth)\n",
    "\n",
    "    deltas = np.array(new_scores) - np.array(reference_scores)\n",
    "    return new_ids, new_scores, deltas\n",
    "\n",
    "def evaluate_method(method, data, ground_truth, n_definingfeatures, plot_subpaces = False):\n",
    "    junk_features = np.setdiff1d(np.arange(data.shape[1]), np.arange(n_definingfeatures))\n",
    "    pure_features = np.arange(n_definingfeatures)\n",
    "    \n",
    "    prev_pure_ids = list(itertools.combinations(pure_features, 2))\n",
    "    prev_pure_scores = get_scores(data, prev_pure_ids, ground_truth)\n",
    "    delta_pure = []\n",
    "    delta_impure = []\n",
    "    max_score_pure = [max(prev_pure_scores)]\n",
    "\n",
    "    for ss in range(3,7, 1):\n",
    "        # Handle junk features\n",
    "        candidates = junk_features\n",
    "        new_ids_junk, new_scores_junk, deltas_junk = add_candidates(data, candidates, prev_pure_ids, prev_pure_scores)\n",
    "\n",
    "        candidates = pure_features\n",
    "        new_ids_pure, new_scores_pure, deltas_pure = add_candidates(data, candidates, prev_pure_ids, prev_pure_scores)\n",
    "\n",
    "        if plot_subpaces:\n",
    "            plt.figure(figsize=(12, 4))\n",
    "            ax = plt.subplot(121)\n",
    "            plt.title(f\"good features {ss}\")\n",
    "            plt.boxplot([deltas_pure, deltas_junk])\n",
    "            ax.set_xticklabels(['Pure', 'Pure + 1junk',])\n",
    "            plt.show()\n",
    "\n",
    "\n",
    "\n",
    "        if len(new_scores_pure)>0:\n",
    "            max_score_pure.append(np.max(new_scores_pure))\n",
    "            prev_pure_ids = new_ids_pure\n",
    "            prev_pure_scores = new_scores_pure\n",
    "            delta_pure.append(deltas_pure)\n",
    "            delta_impure.append(deltas_junk)\n",
    "        else:\n",
    "            prev_pure_ids = new_ids_junk\n",
    "            prev_pure_scores = new_scores_junk\n",
    "\n",
    "#     plt.figure(figsize=(12, 4))\n",
    "#     ax = plt.subplot(121)\n",
    "#     plt.title(f\"Overall {method}\")\n",
    "#     plt.boxplot([np.concatenate(delta_pure), np.concatenate(delta_impure)])\n",
    "#     ax.set_xticklabels(['Pure', 'Pure + 1junk',])\n",
    "#     plt.grid()\n",
    "#     plt.show()\n",
    "    \n",
    "    max_score_pure = preprocessing.MinMaxScaler().fit_transform(\n",
    "        np.array(max_score_pure).reshape(-1, 1)).reshape(-1)\n",
    "    \n",
    "    return delta_pure, delta_impure, max_score_pure\n",
    "\n",
    "\n",
    "methods = [\n",
    "    \"silhouette\",\n",
    "    \"calinski_harabasz\",\n",
    "    \"Dunns_index\",\n",
    "    \"Davies_Bouldin\",\n",
    "    \"Ratkowsky_Lance\",\n",
    "    \"adapted_ratkowsky_lance\",\n",
    "    \"adapted_silhouette\",\n",
    "]\n",
    "\n",
    "pretty_names = {\n",
    "    \"silhouette\": \"Silhouette\",\n",
    "    \"calinski_harabasz\": \"Calinski Harabasz\",\n",
    "    \"Dunns_index\": \"Dunn index\",\n",
    "    \"Davies_Bouldin\": \"Davies Bouldin\",\n",
    "    \"Ratkowsky_Lance\": \"Ratkowsky Lance\",\n",
    "    \"adapted_ratkowsky_lance\": \"Penalized Ratkowsky Lance\",\n",
    "    \"adapted_silhouette\": \"Penalized Silhouette\",\n",
    "}"
   ]
  },
  {
   "cell_type": "markdown",
   "metadata": {},
   "source": [
    "# Generate the data"
   ]
  },
  {
   "cell_type": "code",
   "execution_count": null,
   "metadata": {
    "ExecuteTime": {
     "end_time": "2020-08-22T13:31:43.076376Z",
     "start_time": "2020-08-22T13:31:42.655881Z"
    }
   },
   "outputs": [],
   "source": [
    "nb_subspaces = 1\n",
    "n_clusters = 5\n",
    "n_samples = np.random.randint(30, 50) * n_clusters\n",
    "cluster_std = 0.14\n",
    "\n",
    "random_state = 5\n",
    "n_definingfeatures = 8\n",
    "n_uniform_features=5\n",
    "n_normal_features=5\n",
    "\n",
    "data, truths = data_generator.make_data_for_loss(n_subspaces=nb_subspaces, n_clusters = n_clusters\n",
    "                        , n_samples = None, cluster_std = cluster_std\n",
    "                        , random_state = random_state, n_definingfeatures = n_definingfeatures\n",
    "                        , n_uniform_features = n_uniform_features, n_normal_features=n_normal_features)\n",
    "print(data.shape)\n",
    "ground_truth = truths[0]\n",
    "\n",
    "dataset_name = \"generated blobs\""
   ]
  },
  {
   "cell_type": "code",
   "execution_count": null,
   "metadata": {
    "ExecuteTime": {
     "end_time": "2020-08-22T13:31:48.311666Z",
     "start_time": "2020-08-22T13:31:48.288049Z"
    }
   },
   "outputs": [],
   "source": [
    "all_datasets = {\"generated blobs\": {\"data\": data, \"ground_truth\": truths[0]}}"
   ]
  },
  {
   "cell_type": "markdown",
   "metadata": {},
   "source": [
    "# Microarray analysis\n",
    "\n",
    "### Choose datasets with the biggest difference between top and worse features by ari"
   ]
  },
  {
   "cell_type": "code",
   "execution_count": null,
   "metadata": {
    "ExecuteTime": {
     "end_time": "2020-08-22T13:32:00.993624Z",
     "start_time": "2020-08-22T13:31:59.051369Z"
    }
   },
   "outputs": [],
   "source": [
    "path = '../data/microarray/'\n",
    "filenames = np.array([ 'khan', 'west', 'gordon','borovecki']) \n",
    "\n",
    "results = pd.DataFrame(columns=[\n",
    "    \"dataset\", \"n_clusters\", \"n\", \"d\", \"ari all features\",\n",
    "    \"ari top 5 features\", \"ari bottom 5 features\", \"delta aris\"\n",
    "])\n",
    "for name in filenames:\n",
    "    data = pd.read_pickle(f'{path}' + name + '.pkl')\n",
    "    truth = data[\"truth\"].values\n",
    "    data = data.drop(\"truth\", axis=1).values\n",
    "    n_clusters = len(np.unique(truth))\n",
    "    n_definingfeatures = 5\n",
    "    data_imp = data[:, :n_definingfeatures]\n",
    "    data_noise = data[:, -n_definingfeatures:]\n",
    "\n",
    "    predK = KMeans(n_clusters=n_clusters, random_state=0).fit(data).labels_\n",
    "    ari_all = adjusted_rand_score(truth, predK)\n",
    "\n",
    "    predK = KMeans(n_clusters=n_clusters, random_state=0).fit(data_imp).labels_\n",
    "    ari_imp = adjusted_rand_score(truth, predK)\n",
    "    predK = KMeans(n_clusters=n_clusters,\n",
    "                   random_state=0).fit(data_noise).labels_\n",
    "    ari_noise = adjusted_rand_score(truth, predK)\n",
    "    results.loc[results.shape[0]] = [\n",
    "        name, n_clusters, data.shape[0], data.shape[1], ari_all, ari_imp,\n",
    "        ari_noise, ari_imp - ari_noise\n",
    "    ]\n",
    "\n",
    "results.sort_values(by = \"delta aris\", ascending = False)"
   ]
  },
  {
   "cell_type": "code",
   "execution_count": null,
   "metadata": {
    "ExecuteTime": {
     "end_time": "2020-08-22T13:25:40.417183Z",
     "start_time": "2020-08-22T13:25:40.390977Z"
    }
   },
   "outputs": [],
   "source": [
    "# dataset_name = \"west\"\n",
    "# path = '../data/microarray/'\n",
    "# data = pd.read_pickle(f'{path}' + dataset_name + '.pkl')\n",
    "# ground_truth = data[\"truth\"].values\n",
    "# data = data.drop(\"truth\", axis = 1).values\n",
    "\n",
    "# n_clusters = len(np.unique(ground_truth))\n",
    "\n",
    "# n_definingfeatures = 5\n",
    "# data_imp = data[:, :n_definingfeatures]\n",
    "# data_noise = data[:, -n_definingfeatures*2:]\n",
    "# data = np.hstack([data_imp, data_noise])\n",
    "# data = preprocessing.MinMaxScaler().fit_transform(data)"
   ]
  },
  {
   "cell_type": "code",
   "execution_count": null,
   "metadata": {
    "ExecuteTime": {
     "end_time": "2020-08-22T13:32:05.450908Z",
     "start_time": "2020-08-22T13:32:05.385487Z"
    }
   },
   "outputs": [],
   "source": [
    "selected = [\"khan\", \"gordon\", \"west\"]\n",
    "\n",
    "for dataset_name in selected:\n",
    "    path = '../data/microarray/'\n",
    "    data = pd.read_pickle(f'{path}' + dataset_name + '.pkl')\n",
    "    ground_truth = data[\"truth\"].values\n",
    "    data = data.drop(\"truth\", axis = 1).values\n",
    "\n",
    "    n_clusters = len(np.unique(ground_truth))\n",
    "\n",
    "    n_definingfeatures = 5\n",
    "    data_imp = data[:, :n_definingfeatures]\n",
    "    data_noise = data[:, -n_definingfeatures*2:]\n",
    "    data = np.hstack([data_imp, data_noise])\n",
    "    data = preprocessing.MinMaxScaler().fit_transform(data)\n",
    "    all_datasets[dataset_name]= {\"data\": data, \"ground_truth\": ground_truth}\n",
    "\n",
    "\n",
    "\n",
    "with open('../data/loss_comparaison.pkl', 'wb') as f:\n",
    "    pickle.dump(all_datasets, f)"
   ]
  },
  {
   "cell_type": "markdown",
   "metadata": {},
   "source": [
    "# Start from here if data has been already generated"
   ]
  },
  {
   "cell_type": "code",
   "execution_count": 3,
   "metadata": {
    "ExecuteTime": {
     "end_time": "2020-08-22T13:35:51.351279Z",
     "start_time": "2020-08-22T13:35:51.333801Z"
    }
   },
   "outputs": [],
   "source": [
    "with open('../data/loss_comparaison.pkl', 'rb') as f:\n",
    "    all_datasets = pickle.load(f)"
   ]
  },
  {
   "cell_type": "code",
   "execution_count": 4,
   "metadata": {
    "ExecuteTime": {
     "end_time": "2020-08-22T13:38:00.968936Z",
     "start_time": "2020-08-22T13:35:52.103876Z"
    }
   },
   "outputs": [],
   "source": [
    "n_definingfeatures = 5\n",
    "\n",
    "for dataset_name, dataset_values in all_datasets.items():\n",
    "    data = dataset_values[\"data\"]\n",
    "    ground_truth = dataset_values[\"ground_truth\"]\n",
    "    results = {}\n",
    "    for method in methods:\n",
    "        delta_pure, delta_impure, max_score_pure = evaluate_method(method,\n",
    "                                               data,\n",
    "                                               ground_truth,\n",
    "                                               n_definingfeatures,\n",
    "                                               plot_subpaces=False)\n",
    "        results[method] = {\"pure\" : delta_pure, \"impure\": delta_impure, \"max_score_pure\" : max_score_pure}\n",
    "    all_datasets[dataset_name][\"results\"] = results"
   ]
  },
  {
   "cell_type": "markdown",
   "metadata": {},
   "source": [
    "# Boxplot figure with original internal scores"
   ]
  },
  {
   "cell_type": "code",
   "execution_count": 5,
   "metadata": {
    "ExecuteTime": {
     "end_time": "2020-08-22T13:38:43.375948Z",
     "start_time": "2020-08-22T13:38:41.632772Z"
    }
   },
   "outputs": [
    {
     "data": {
      "image/png": "[encoded data removed]",
      "text/plain": [
       "<Figure size 864x496.8 with 9 Axes>"
      ]
     },
     "metadata": {
      "needs_background": "light"
     },
     "output_type": "display_data"
    }
   ],
   "source": [
    "pretty_names = {\n",
    "    \"silhouette\": \"Silhouette\",\n",
    "    \"calinski_harabasz\": \"Calinski\\nHarabasz\",\n",
    "    \"Dunns_index\": \"Dunnn\\index\",\n",
    "    \"Davies_Bouldin\": \"Davies\\nBouldin\",\n",
    "    \"Ratkowsky_Lance\": \"Ratkowsky\\nLance\",\n",
    "    \"adapted_ratkowsky_lance\": \"Adapted\\nRatkowsky\\nLance\"\n",
    "}\n",
    "\n",
    "selected_methods = ['silhouette',\n",
    " 'Davies_Bouldin',\n",
    " 'Ratkowsky_Lance'\n",
    "                   ]\n",
    "selected_datasets =['generated blobs', 'khan', 'west']\n",
    "n_rows = len(selected_methods)\n",
    "fig = plt.figure(figsize=(12, 2.3* n_rows)) #, constrained_layout=False\n",
    "\n",
    "for i, method_name in enumerate(selected_methods):\n",
    "    for j,(dataset_name) in enumerate(selected_datasets):\n",
    "        results = all_datasets[dataset_name][\"results\"]\n",
    "        delta_pure = np.concatenate(results[method_name][\"pure\"])\n",
    "        delta_impure = np.concatenate(results[method_name][\"impure\"])\n",
    "        \n",
    "        max_val = np.max(np.concatenate([np.abs(delta_pure), np.abs(delta_impure)]))\n",
    "        \n",
    "        delta_pure = delta_pure/max_val\n",
    "        delta_impure = delta_impure/max_val\n",
    "\n",
    "        if method_name == 'Davies_Bouldin':\n",
    "            delta_pure = -delta_pure\n",
    "            delta_impure = -delta_impure\n",
    "            \n",
    "        p1 = int((100* len(np.where(delta_pure>=0)[0])/len(delta_pure)))\n",
    "        p2 = int((100* len(np.where(delta_impure<0)[0])/len(delta_impure)))\n",
    "        ax = plt.subplot(n_rows, len(selected_datasets),i*len(selected_datasets) + j+1)\n",
    "        if i == 0:\n",
    "#             plt.title(f\"{pretty_names[method_name]}\")\n",
    "            plt.title(f\"{dataset_name}\")\n",
    "        flierprops = dict(marker='o', markerfacecolor='black', markersize=3,\n",
    "                      linestyle='none', alpha =.4)\n",
    "\n",
    "\n",
    "        plt.boxplot([delta_pure, delta_impure],\n",
    "                   flierprops = flierprops, widths=.6, zorder=10)\n",
    "        ax.set_xticklabels(['+1 relevant', '+1 noisy',])\n",
    "        m = np.max(np.abs(list(ax.get_ylim())))\n",
    "        plt.ylim(-1, 1.3)\n",
    "        fontweight = 'normal' if i!= len(selected_methods)-1 else 'bold'\n",
    "        plt.text(0.8, 1.05, f\"{p1}% >0\", fontweight = fontweight)\n",
    "        plt.text(1.8, 1.05, f\"{p2}% <0\", fontweight = fontweight)\n",
    "        if j == 0:\n",
    "            plt.ylabel(f\"score change\")\n",
    "        plt.axhline(y=0, linestyle = \"--\", alpha = 0.6, linewidth=1)\n",
    "        if j == len(selected_datasets) - 1:\n",
    "            plt.text(2.6, 0, f\"{pretty_names[method_name]}\", weight='bold')\n",
    "\n",
    "plt.tight_layout()\n",
    "\n",
    "plt.savefig(f\"../images/loss_purity_comparaison_reduced.pdf\", bbox_inches='tight')"
   ]
  },
  {
   "cell_type": "markdown",
   "metadata": {},
   "source": [
    "# Boxplot figure with penalized internal scores"
   ]
  },
  {
   "cell_type": "code",
   "execution_count": 6,
   "metadata": {
    "ExecuteTime": {
     "end_time": "2020-08-22T13:38:52.500114Z",
     "start_time": "2020-08-22T13:38:50.230778Z"
    }
   },
   "outputs": [
    {
     "data": {
      "image/png": "[encoded data removed]",
      "text/plain": [
       "<Figure size 864x662.4 with 12 Axes>"
      ]
     },
     "metadata": {
      "needs_background": "light"
     },
     "output_type": "display_data"
    }
   ],
   "source": [
    "pretty_names['adapted_ratkowsky_lance']= 'Penalized\\nRatkowsky\\nLance'\n",
    "pretty_names['Ratkowsky_Lance']= 'Ratkowsky\\nLance'\n",
    "pretty_names['adapted_silhouette']= 'Penalized\\nSilhouette'\n",
    "\n",
    "selected_methods = ['silhouette', 'adapted_silhouette', 'Ratkowsky_Lance', 'adapted_ratkowsky_lance', ]\n",
    "selected_datasets =['generated blobs', 'khan'\n",
    "                    'west']\n",
    "n_rows = len(selected_methods)\n",
    "fig = plt.figure(figsize=(12, 2.3* n_rows)) #, constrained_layout=False\n",
    "\n",
    "for i, method_name in enumerate(selected_methods):\n",
    "    \n",
    "    for j,(dataset_name) in enumerate(selected_datasets):\n",
    "        results = all_datasets[dataset_name][\"results\"]\n",
    "        delta_pure = np.concatenate(results[method_name][\"pure\"])\n",
    "        delta_impure = np.concatenate(results[method_name][\"impure\"])\n",
    "        \n",
    "        max_val = np.max(np.concatenate([np.abs(delta_pure), np.abs(delta_impure)]))\n",
    "        \n",
    "        delta_pure = delta_pure/max_val\n",
    "        delta_impure = delta_impure/max_val\n",
    "\n",
    "        if method_name == 'Davies_Bouldin':\n",
    "            delta_pure = -delta_pure\n",
    "            delta_impure = -delta_impure\n",
    "            \n",
    "        p1 = int((100* len(np.where(delta_pure>=0)[0])/len(delta_pure)))\n",
    "        p2 = int((100* len(np.where(delta_impure<0)[0])/len(delta_impure)))\n",
    "        ax = plt.subplot(n_rows, len(selected_datasets),i*len(selected_datasets) + j+1)\n",
    "        if i == 0:\n",
    "#             plt.title(f\"{pretty_names[method_name]}\")\n",
    "            plt.title(f\"{dataset_name}\")\n",
    "        flierprops = dict(marker='o', markerfacecolor='black', markersize=3,\n",
    "                      linestyle='none', alpha =.4)\n",
    "\n",
    "\n",
    "        plt.boxplot([delta_pure, delta_impure],\n",
    "                   flierprops = flierprops, widths=.6, zorder=10)\n",
    "        ax.set_xticklabels(['+1 relevant', '+1 noisy',])\n",
    "        m = np.max(np.abs(list(ax.get_ylim())))\n",
    "        plt.ylim(-1, 1.3)\n",
    "        fontweight = 'normal' if i!= len(selected_methods)-1 else 'bold'\n",
    "        plt.text(0.8, 1.05, f\"{p1}% >0\", fontweight = fontweight)\n",
    "        plt.text(1.8, 1.05, f\"{p2}% <0\", fontweight = fontweight)\n",
    "        if j == 0:\n",
    "            plt.ylabel(f\"score change\")\n",
    "        plt.axhline(y=0, linestyle = \"--\", alpha = 0.6, linewidth=1)\n",
    "        if j == len(selected_datasets) - 1:\n",
    "            plt.text(2.6, 0, f\"{pretty_names[method_name]}\", weight='bold')\n",
    "\n",
    "plt.tight_layout()\n",
    "\n",
    "# plt.suptitle(\"Score change by adding one relevant vs noisy feature to an existing subspace \"+\n",
    "#              f\"of 2,3,4 and 5 good features on {dataset_name}\")\n",
    "# fig.subplots_adjust(wspace=0.3, top = 0.93)\n",
    "plt.savefig(f\"../images/loss_purity_comparaison_ratkowski.pdf\", bbox_inches='tight')"
   ]
  },
  {
   "cell_type": "code",
   "execution_count": null,
   "metadata": {},
   "outputs": [],
   "source": []
  },
  {
   "cell_type": "markdown",
   "metadata": {},
   "source": [
    "# Evaluate ranges of values for internal scores on subspaces having 2-40 features"
   ]
  },
  {
   "cell_type": "code",
   "execution_count": null,
   "metadata": {
    "ExecuteTime": {
     "end_time": "2020-08-04T08:59:01.643419Z",
     "start_time": "2020-08-04T08:59:01.273762Z"
    }
   },
   "outputs": [],
   "source": [
    "from tqdm import tqdm\n",
    "import scipy\n",
    "\n",
    "nb_subspaces = 1\n",
    "n_clusters = 5\n",
    "n_samples = np.random.randint(30, 50) * n_clusters\n",
    "cluster_std = 0.14\n",
    "\n",
    "random_state = 5\n",
    "n_definingfeatures = 40\n",
    "n_uniform_features=40\n",
    "n_normal_features=40\n",
    "\n",
    "data, truths = data_generator.make_data_for_loss(n_subspaces=nb_subspaces, n_clusters = n_clusters\n",
    "                        , n_samples = None, cluster_std = cluster_std\n",
    "                        , random_state = random_state, n_definingfeatures = n_definingfeatures\n",
    "                        , n_uniform_features = n_uniform_features, n_normal_features=n_normal_features)\n",
    "print(data.shape)\n",
    "ground_truth = truths[0]\n",
    "\n",
    "dataset_name = \"generated blobs\""
   ]
  },
  {
   "cell_type": "code",
   "execution_count": null,
   "metadata": {
    "ExecuteTime": {
     "end_time": "2020-08-04T09:08:35.615792Z",
     "start_time": "2020-08-04T08:59:03.060318Z"
    }
   },
   "outputs": [],
   "source": [
    "method = \"Ratkowsky_Lance\" #\"calinski_harabasz\"## \"adapted_ratkowsky_lance\"\n",
    "\n",
    "max_combinations = 1500\n",
    "all_scores = []\n",
    "for i in range(2, n_definingfeatures):\n",
    "#     n = len(list(itertools.combinations(np.arange(n_definingfeatures), i)))\n",
    "    n = scipy.special.comb(n_definingfeatures,i)\n",
    "    if max_combinations is not None and n > max_combinations:\n",
    "#         print(f\"{i} sampling {n}\")\n",
    "        # do sampling                                   \n",
    "        scores = np.zeros(max_combinations)\n",
    "        for j in range(max_combinations):\n",
    "            idx = np.random.choice(np.arange(n_definingfeatures), replace = False, size = i)\n",
    "            v = validation.validation(data[:, idx], truths[0])\n",
    "            scores[j]=  getattr(v, method)()\n",
    "    else:\n",
    "#         print(f\"{i} exhaustive {n}\")\n",
    "        scores = np.zeros(int(n))\n",
    "        for j,idx in enumerate(itertools.combinations(np.arange(n_definingfeatures), i)):\n",
    "            idx = np.array(idx)\n",
    "            v = validation.validation(data[:, idx], truths[0])\n",
    "            scores[j]=  getattr(v, method)()\n",
    "    all_scores.append(scores)"
   ]
  },
  {
   "cell_type": "code",
   "execution_count": null,
   "metadata": {
    "ExecuteTime": {
     "end_time": "2020-08-04T09:08:35.617911Z",
     "start_time": "2020-08-04T08:59:12.588Z"
    }
   },
   "outputs": [],
   "source": [
    "norm_factor = np.arange(2, len(all_scores) + 2)/(np.arange(2, len(all_scores) + 2)+1)"
   ]
  },
  {
   "cell_type": "markdown",
   "metadata": {},
   "source": [
    "# Combined plot"
   ]
  },
  {
   "cell_type": "code",
   "execution_count": null,
   "metadata": {
    "ExecuteTime": {
     "end_time": "2020-08-04T09:23:14.202987Z",
     "start_time": "2020-08-04T09:09:14.938165Z"
    }
   },
   "outputs": [],
   "source": [
    "plt.figure(figsize = (11, 10))\n",
    "\n",
    "method = \"silhouette\" #\"calinski_harabasz\"## \"adapted_ratkowsky_lance\"\n",
    "method_name = \"Silhouette\"\n",
    "letters = [\"a\", \"b\"]\n",
    "max_combinations = 1500\n",
    "all_scores = []\n",
    "for i in range(2, n_definingfeatures):\n",
    "#     n = len(list(itertools.combinations(np.arange(n_definingfeatures), i)))\n",
    "    n = scipy.special.comb(n_definingfeatures,i)\n",
    "    if max_combinations is not None and n > max_combinations:\n",
    "#         print(f\"{i} sampling {n}\")\n",
    "        # do sampling                                   \n",
    "        scores = np.zeros(max_combinations)\n",
    "        for j in range(max_combinations):\n",
    "            idx = np.random.choice(np.arange(n_definingfeatures), replace = False, size = i)\n",
    "            v = validation.validation(data[:, idx], truths[0])\n",
    "            scores[j]=  getattr(v, method)()\n",
    "    else:\n",
    "#         print(f\"{i} exhaustive {n}\")\n",
    "        scores = np.zeros(int(n))\n",
    "        for j,idx in enumerate(itertools.combinations(np.arange(n_definingfeatures), i)):\n",
    "            idx = np.array(idx)\n",
    "            v = validation.validation(data[:, idx], truths[0])\n",
    "            scores[j]=  getattr(v, method)()\n",
    "    all_scores.append(scores)\n",
    "norm_factor = np.arange(2, len(all_scores) + 2)/(np.arange(2, len(all_scores) + 2)+1)\n",
    "\n",
    "x = np.arange(2, len(all_scores) + 2)\n",
    "y1 = [min(all_scores[i]) for i in range(len(all_scores))]\n",
    "y2 = [max(all_scores[i]) for i in range(len(all_scores))]\n",
    "medians = [np.median(all_scores[i]) for i in range(len(all_scores))]\n",
    "ax = plt.subplot(411)\n",
    "plt.title(f\"({letters[0]}) Range of {method_name} score per subspace size for a {n_definingfeatures} D blob\")\n",
    "plt.plot(x,y1, label =f\"Minimum {method_name} score\", color = \"royalblue\")\n",
    "plt.plot(x, y2, label =f\"Maximum {method_name} score\", color = \"orange\")\n",
    "plt.plot(x, medians, label =f\"Median {method_name} score\", linestyle = \"--\", color = \"black\")\n",
    "plt.fill_between(x, y1, y2 , color = \"gray\", alpha = 0.2)\n",
    "plt.xlabel(\"Subspace size\")\n",
    "plt.ylabel(f\"{method_name} score\")\n",
    "\n",
    "ax.spines[\"top\"].set_visible(False)\n",
    "ax = ax.twinx()\n",
    "plt.plot(x,norm_factor, label = \"Normalization function\", color = \"firebrick\")\n",
    "plt.ylabel(\"Normalization score\")\n",
    "\n",
    "plt.legend(\n",
    "    handles = [\n",
    "        Line2D([0],[0], color='orange', lw=2,  label = \"Maximum Score\"),\n",
    "        Line2D([0],[0], color='royalblue', lw=2,  label = \"Minimum Score\"),\n",
    "        Line2D([0],[0], color='black', lw=2, linestyle='--', label = \"Median Score\"),\n",
    "        Line2D([0],[0], color='firebrick', lw=2,label = \"Normalization function\"),\n",
    "        Patch(facecolor= \"gray\", alpha = 0.2, label='Range of scores')\n",
    "    ]\n",
    "    ,\n",
    "    loc = \"lower right\")\n",
    "# plt.plot(np.arange(2, len(all_scores) + 2),1/norm_factor)\n",
    "ax.spines[\"top\"].set_visible(False)\n",
    "ax = plt.subplot(412)\n",
    "\n",
    "y1_2 = [min(all_scores[i]) * norm_factor[i] for i in range(len(all_scores))]\n",
    "y2_2 = [max(all_scores[i]) * norm_factor[i] for i in range(len(all_scores))]\n",
    "medians = [np.median(all_scores[i])  * norm_factor[i] for i in range(len(all_scores))]\n",
    "\n",
    "plt.title(f\"({letters[1]}) Penalized {method_name} scores per subspace size \")\n",
    "plt.plot(x,y1_2, label =f\"Minimum {method_name} score\", color = \"royalblue\")\n",
    "plt.plot(x, y2_2, label =f\"Maximum {method_name} score\", color = \"orange\")\n",
    "plt.plot(x, medians, label =f\"Median {method_name} score\", linestyle = \"--\", color = \"black\")\n",
    "plt.fill_between(x, y1_2, y2_2 , color = \"gray\", alpha = 0.2)\n",
    "plt.xlabel(\"Subspace size\")\n",
    "plt.ylabel(f\"{method_name} score\")\n",
    "ax.spines[\"top\"].set_visible(False)\n",
    "plt.legend(\n",
    "    handles = [\n",
    "        Line2D([0],[0], color='orange', lw=2,  label = \"Maximum Score\"),\n",
    "        Line2D([0],[0], color='royalblue', lw=2,  label = \"Minimum Score\"),\n",
    "        Line2D([0],[0], color='black', lw=2, linestyle='--', label = \"Median Score\"),\n",
    "\n",
    "        Patch(facecolor= \"gray\", alpha = 0.2, label='Range of scores')\n",
    "    ]\n",
    "    ,\n",
    "    loc = \"lower right\")\n",
    "\n",
    "\n",
    "\n",
    "method = \"Ratkowsky_Lance\" #\"calinski_harabasz\"## \"adapted_ratkowsky_lance\"\n",
    "method_name = \"Ratkowsky Lance\"\n",
    "letters = [\"c\", \"d\"]\n",
    "max_combinations = 1500\n",
    "all_scores = []\n",
    "for i in range(2, n_definingfeatures):\n",
    "#     n = len(list(itertools.combinations(np.arange(n_definingfeatures), i)))\n",
    "    n = scipy.special.comb(n_definingfeatures,i)\n",
    "    if max_combinations is not None and n > max_combinations:\n",
    "#         print(f\"{i} sampling {n}\")\n",
    "        # do sampling                                   \n",
    "        scores = np.zeros(max_combinations)\n",
    "        for j in range(max_combinations):\n",
    "            idx = np.random.choice(np.arange(n_definingfeatures), replace = False, size = i)\n",
    "            v = validation.validation(data[:, idx], truths[0])\n",
    "            scores[j]=  getattr(v, method)()\n",
    "    else:\n",
    "#         print(f\"{i} exhaustive {n}\")\n",
    "        scores = np.zeros(int(n))\n",
    "        for j,idx in enumerate(itertools.combinations(np.arange(n_definingfeatures), i)):\n",
    "            idx = np.array(idx)\n",
    "            v = validation.validation(data[:, idx], truths[0])\n",
    "            scores[j]=  getattr(v, method)()\n",
    "    all_scores.append(scores)\n",
    "norm_factor = np.arange(2, len(all_scores) + 2)/(np.arange(2, len(all_scores) + 2)+1)\n",
    "\n",
    "x = np.arange(2, len(all_scores) + 2)\n",
    "y1 = [min(all_scores[i]) for i in range(len(all_scores))]\n",
    "y2 = [max(all_scores[i]) for i in range(len(all_scores))]\n",
    "medians = [np.median(all_scores[i]) for i in range(len(all_scores))]\n",
    "ax = plt.subplot(413)\n",
    "plt.title(f\"({letters[0]}) Range of {method_name} score per subspace size for a {n_definingfeatures} D blob\")\n",
    "plt.plot(x,y1, label =f\"Minimum {method_name} score\", color = \"royalblue\")\n",
    "plt.plot(x, y2, label =f\"Maximum {method_name} score\", color = \"orange\")\n",
    "plt.plot(x, medians, label =f\"Median {method_name} score\", linestyle = \"--\", color = \"black\")\n",
    "plt.fill_between(x, y1, y2 , color = \"gray\", alpha = 0.2)\n",
    "plt.xlabel(\"Subspace size\")\n",
    "plt.ylabel(f\"{method_name} score\")\n",
    "\n",
    "ax.spines[\"top\"].set_visible(False)\n",
    "ax = ax.twinx()\n",
    "plt.plot(x,norm_factor, label = \"Normalization function\", color = \"firebrick\")\n",
    "plt.ylabel(\"Normalization score\")\n",
    "\n",
    "plt.legend(\n",
    "    handles = [\n",
    "        Line2D([0],[0], color='orange', lw=2,  label = \"Maximum Score\"),\n",
    "        Line2D([0],[0], color='royalblue', lw=2,  label = \"Minimum Score\"),\n",
    "        Line2D([0],[0], color='black', lw=2, linestyle='--', label = \"Median Score\"),\n",
    "        Line2D([0],[0], color='firebrick', lw=2,label = \"Normalization function\"),\n",
    "        Patch(facecolor= \"gray\", alpha = 0.2, label='Range of scores')\n",
    "    ]\n",
    "    ,\n",
    "    loc = \"lower right\")\n",
    "# plt.plot(np.arange(2, len(all_scores) + 2),1/norm_factor)\n",
    "ax.spines[\"top\"].set_visible(False)\n",
    "ax = plt.subplot(414)\n",
    "\n",
    "y1_2 = [min(all_scores[i]) * norm_factor[i] for i in range(len(all_scores))]\n",
    "y2_2 = [max(all_scores[i]) * norm_factor[i] for i in range(len(all_scores))]\n",
    "medians = [np.median(all_scores[i])  * norm_factor[i] for i in range(len(all_scores))]\n",
    "\n",
    "plt.title(f\"({letters[1]}) Penalized {method_name} scores per subspace size \")\n",
    "plt.plot(x,y1_2, label =f\"Minimum {method_name} score\", color = \"royalblue\")\n",
    "plt.plot(x, y2_2, label =f\"Maximum {method_name} score\", color = \"orange\")\n",
    "plt.plot(x, medians, label =f\"Median {method_name} score\", linestyle = \"--\", color = \"black\")\n",
    "plt.fill_between(x, y1_2, y2_2 , color = \"gray\", alpha = 0.2)\n",
    "plt.xlabel(\"Subspace size\")\n",
    "plt.ylabel(f\"{method_name} score\")\n",
    "ax.spines[\"top\"].set_visible(False)\n",
    "plt.legend(\n",
    "    handles = [\n",
    "        Line2D([0],[0], color='orange', lw=2,  label = \"Maximum Score\"),\n",
    "        Line2D([0],[0], color='royalblue', lw=2,  label = \"Minimum Score\"),\n",
    "        Line2D([0],[0], color='black', lw=2, linestyle='--', label = \"Median Score\"),\n",
    "\n",
    "        Patch(facecolor= \"gray\", alpha = 0.2, label='Range of scores')\n",
    "    ]\n",
    "    ,\n",
    "    loc = \"lower right\")\n",
    "\n",
    "\n",
    "plt.tight_layout()\n",
    "plt.savefig(f\"../images/loss_normalization_methods.pdf\",  bbox_inches='tight')"
   ]
  },
  {
   "cell_type": "code",
   "execution_count": null,
   "metadata": {},
   "outputs": [],
   "source": []
  },
  {
   "cell_type": "code",
   "execution_count": null,
   "metadata": {},
   "outputs": [],
   "source": []
  },
  {
   "cell_type": "code",
   "execution_count": null,
   "metadata": {},
   "outputs": [],
   "source": []
  },
  {
   "cell_type": "code",
   "execution_count": null,
   "metadata": {},
   "outputs": [],
   "source": []
  }
 ],
 "metadata": {
  "kernelspec": {
   "display_name": "Python 3",
   "language": "python",
   "name": "python3"
  },
  "language_info": {
   "codemirror_mode": {
    "name": "ipython",
    "version": 3
   },
   "file_extension": ".py",
   "mimetype": "text/x-python",
   "name": "python",
   "nbconvert_exporter": "python",
   "pygments_lexer": "ipython3",
   "version": "3.6.9"
  },
  "toc": {
   "base_numbering": 1,
   "nav_menu": {},
   "number_sections": true,
   "sideBar": true,
   "skip_h1_title": false,
   "title_cell": "Table of Contents",
   "title_sidebar": "Contents",
   "toc_cell": false,
   "toc_position": {
    "height": "calc(100% - 180px)",
    "left": "10px",
    "top": "150px",
    "width": "210px"
   },
   "toc_section_display": true,
   "toc_window_display": true
  },
  "varInspector": {
   "cols": {
    "lenName": 16,
    "lenType": 16,
    "lenVar": 40
   },
   "kernels_config": {
    "python": {
     "delete_cmd_postfix": "",
     "delete_cmd_prefix": "del ",
     "library": "var_list.py",
     "varRefreshCmd": "print(var_dic_list())"
    },
    "r": {
     "delete_cmd_postfix": ") ",
     "delete_cmd_prefix": "rm(",
     "library": "var_list.r",
     "varRefreshCmd": "cat(var_dic_list()) "
    }
   },
   "oldHeight": 361.5,
   "position": {
    "height": "40px",
    "left": "1035px",
    "right": "20px",
    "top": "120px",
    "width": "313px"
   },
   "types_to_exclude": [
    "module",
    "function",
    "builtin_function_or_method",
    "instance",
    "_Feature"
   ],
   "varInspector_section_display": "none",
   "window_display": false
  }
 },
 "nbformat": 4,
 "nbformat_minor": 2
}
