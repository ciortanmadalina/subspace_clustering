{
 "cells": [
  {
   "cell_type": "markdown",
   "metadata": {},
   "source": [
    "# Summary\n",
    "\n",
    "This notebook compares the results obtained by running the method in discovery mode with those of the semi-supervised mode."
   ]
  },
  {
   "cell_type": "code",
   "execution_count": 2,
   "metadata": {
    "ExecuteTime": {
     "end_time": "2020-08-04T09:35:53.007540Z",
     "start_time": "2020-08-04T09:35:51.194601Z"
    }
   },
   "outputs": [
    {
     "name": "stdout",
     "output_type": "stream",
     "text": [
      "Device mapping:\n",
      "/job:localhost/replica:0/task:0/device:XLA_CPU:0 -> device: XLA_CPU device\n",
      "/job:localhost/replica:0/task:0/device:XLA_GPU:0 -> device: XLA_GPU device\n",
      "/job:localhost/replica:0/task:0/device:GPU:0 -> device: 0, name: GeForce RTX 2060, pci bus id: 0000:01:00.0, compute capability: 7.5\n",
      "\n",
      "The autoreload extension is already loaded. To reload it, use:\n",
      "  %reload_ext autoreload\n"
     ]
    }
   ],
   "source": [
    "import sys\n",
    "sys.path.append(\"..\")\n",
    "\n",
    "#GPU configuration\n",
    "import tensorflow as tf\n",
    "from keras.backend.tensorflow_backend import set_session\n",
    "config = tf.ConfigProto()\n",
    "config.gpu_options.allow_growth = True  # dynamically grow the memory used on the GPU\n",
    "config.log_device_placement = True  # to log device placement (on which device the operation ran)\n",
    "sess = tf.Session(config=config)\n",
    "set_session(sess)\n",
    "\n",
    "import random\n",
    "import sys\n",
    "import seaborn as sns\n",
    "import matplotlib.pyplot as plt\n",
    "import numpy as np\n",
    "import pandas as pd\n",
    "import scripts.data_generator as data_generator\n",
    "import scripts.feature_ranking as feature_ranking\n",
    "import scripts.features_2d as features_2d\n",
    "import scripts.ga as ga\n",
    "import scripts.main as main\n",
    "import scripts.semi_supervised as semi_supervised\n",
    "import scripts.ga_evaluation as ga_evaluation\n",
    "import tensorflow as tf\n",
    "from IPython import get_ipython\n",
    "\n",
    "from tqdm import tqdm\n",
    "from collections import Counter\n",
    "\n",
    "from sklearn.metrics.cluster import adjusted_rand_score, silhouette_score\n",
    "plt.ion()\n",
    "plt.show()\n",
    "\n",
    "\n",
    "random_state=4\n",
    "random.seed( random_state )\n",
    "np.random.seed(random_state)\n",
    "method = \"adapted_ratkowsky_lance\"\n",
    "\n",
    "%load_ext autoreload\n",
    "%autoreload 2"
   ]
  },
  {
   "cell_type": "markdown",
   "metadata": {},
   "source": [
    "# Utils function"
   ]
  },
  {
   "cell_type": "code",
   "execution_count": 3,
   "metadata": {
    "ExecuteTime": {
     "end_time": "2020-07-11T10:41:06.868493Z",
     "start_time": "2020-07-11T10:41:06.773609Z"
    }
   },
   "outputs": [],
   "source": [
    "def discovery_vs_semisupervised(subspace_size=10):\n",
    "    n_clusters_per_subpace = [4, 4]\n",
    "    cluster_std = 0.10\n",
    "    clustering=\"gmm\"\n",
    "    method = \"adapted_ratkowsky_lance\"\n",
    "    data, best_subspaces, truths = data_generator.make_data_for_ga(\n",
    "        n_clusters_per_subpace,\n",
    "        cluster_std=[cluster_std] * len(n_clusters_per_subpace),\n",
    "        n_uniform_features=300,\n",
    "        n_normal_features=300,\n",
    "        n_neg_binomial=0,\n",
    "        n_gamma=100,\n",
    "        n_beta=100,\n",
    "        random_redundant=True,\n",
    "        n_redundant=1,\n",
    "        min_subspace_features=subspace_size,\n",
    "        max_subspace_features=subspace_size + 1,\n",
    "        max_neg_bin_p=0.3,\n",
    "        n_samples=1200,\n",
    "        plot=False)\n",
    "\n",
    "    truth = truths[0]\n",
    "    n_clusters = 4\n",
    "    # Semi-supervised analysis\n",
    "    meta_features = feature_ranking.rank_features(data,\n",
    "                                                  nb_bins=20,\n",
    "                                                  rank_threshold=90,\n",
    "                                                  z_file=None,\n",
    "                                                  metric='correlation',\n",
    "                                                  redundant_threshold=0.3)\n",
    "    model_file = f'models/gmm_arl.h5'\n",
    "    population, n = features_2d.run(data,\n",
    "                                    n_clusters,\n",
    "                                    meta_features,\n",
    "                                    model_file=model_file,\n",
    "                                    add_close_population=False)\n",
    "\n",
    "    population = population[[\"feature1\", \"feature2\"]]\n",
    "    semi_supervised_results = []\n",
    "    semi_supervised_ari = []\n",
    "    for i in range(len(best_subspaces)):\n",
    "        seeds = np.random.choice(best_subspaces[i], size=(3, 2), replace=False)\n",
    "        for seed in seeds:\n",
    "            best_subspace = semi_supervised.maximize_subspace(\n",
    "                seed,\n",
    "                data,\n",
    "                truths[i],\n",
    "                n_clusters,\n",
    "                meta_features,\n",
    "                population[:1000],\n",
    "                sampling=None,\n",
    "                debug=False,\n",
    "                allow_subspace_overlap=True,\n",
    "                method=method,\n",
    "                clustering=clustering)\n",
    "            semi_supervised_results.append(best_subspace[\"features\"])\n",
    "            semi_supervised_ari.append(best_subspace[\"ari\"])\n",
    "\n",
    "    # Discovery analysis\n",
    "    sol = main.discovery_analysis(data,\n",
    "                                  truth,\n",
    "                                  n_clusters,\n",
    "                                  nb_top_subspaces=3,\n",
    "                                  sampling=None,\n",
    "                                  allow_subspace_overlap=True,\n",
    "                                  redundant_threshold=0.3,\n",
    "                                  round_size=4,\n",
    "                                  metric='correlation',\n",
    "                                  method=method,\n",
    "                                  clustering=clustering,\n",
    "                                  model_file=model_file)\n",
    "\n",
    "    discovered_subspaces = sol[\"features\"].values\n",
    "    discovered_ari = []\n",
    "    for p in sol[\"partition\"].values:\n",
    "        a1 = adjusted_rand_score(truths[0], p)\n",
    "        a2 = adjusted_rand_score(truths[1], p)\n",
    "        discovered_ari.append(max(a1, a2))\n",
    "\n",
    "    return best_subspaces, discovered_subspaces, semi_supervised_results, discovered_ari, semi_supervised_ari"
   ]
  },
  {
   "cell_type": "markdown",
   "metadata": {},
   "source": [
    "# Step1 generate and cluster datasets with both methods"
   ]
  },
  {
   "cell_type": "code",
   "execution_count": 4,
   "metadata": {
    "ExecuteTime": {
     "end_time": "2020-07-11T13:39:59.005391Z",
     "start_time": "2020-07-11T10:41:06.871160Z"
    }
   },
   "outputs": [
    {
     "name": "stdout",
     "output_type": "stream",
     "text": [
      ".Total: (1200, 821), uniform (1200, 300) , normal (1200, 300),neg bin (1200, 0), gamma (1200, 100), moon (1200, 2), circle (1200, 2),  bimodal (1200, 0), redundat (1200, 1), outliers with uniform (1200, 0), outliers with normal (1200, 0) ,outlier binomial (1200, 0), beta features (1200, 100), \n",
      "(821,) (821,)\n",
      "Statistics computation 0.41 sec\n",
      "Entropy computation 1.46 sec\n",
      "KNN computation 0.76 sec\n",
      "Sorting and thresholds 0.03 sec\n",
      "Performing clustering from file\n",
      "Hierarchical clustering 0.38 sec\n",
      "Handle redundant features 0.02 sec\n",
      "Done 0.0 sec\n",
      "Returning 0 redundant features and  17 important features\n",
      "WARNING:tensorflow:From /usr/local/lib/python3.6/dist-packages/tensorflow_core/python/ops/resource_variable_ops.py:1630: calling BaseResourceVariable.__init__ (from tensorflow.python.ops.resource_variable_ops) with constraint is deprecated and will be removed in a future version.\n",
      "Instructions for updating:\n",
      "If using Keras pass *_constraint arguments to layers.\n",
      "WARNING:tensorflow:From /usr/local/lib/python3.6/dist-packages/keras/backend/tensorflow_backend.py:4070: The name tf.nn.max_pool is deprecated. Please use tf.nn.max_pool2d instead.\n",
      "\n",
      "WARNING:tensorflow:From /usr/local/lib/python3.6/dist-packages/keras/backend/tensorflow_backend.py:422: The name tf.global_variables is deprecated. Please use tf.compat.v1.global_variables instead.\n",
      "\n",
      "trimming 665 to 410\n",
      "handle_close_important (410, 3), total 1146\n",
      "relevant_features 466 => computing 4550 \n",
      "trimming 3300 to 0\n",
      "handle_important_features (410, 3),  total 4550\n",
      "irrelevant_features 355 => computing 1746\n",
      "trimming 1595 to 410\n",
      "handle_not_important_features (820, 3), total 1746\n",
      "handle_all_features 821 => computing 4075\n",
      "done predicting\n",
      "trimming 2537 to 821\n",
      "handle_all_features (1641, 3),  total 4075\n",
      "run (1641, 3), total 11517\n",
      "nb_dims : 821 => d = 50\n",
      "Non redundant features 821, orig size 821, nb imp : 17\n",
      "Initial subspace score {'adapted_ratkowsky_lance': 0.13405820405273508, 'ari': 0.78, 'structure': 'Counter({3: 307, 2: 305, 0: 299, 1: 289})', 'features': '8_9', 'size': 2}\n",
      "S=6, Tabu = 94S=9, Tabu = 191S=9, Tabu = 289nb_dims : 821 => d = 50\n",
      "Non redundant features 821, orig size 821, nb imp : 17\n",
      "Initial subspace score {'adapted_ratkowsky_lance': 0.11474478834256469, 'ari': 0.36, 'structure': 'Counter({0: 325, 1: 315, 3: 281, 2: 279})', 'features': '2_4', 'size': 2}\n",
      "S=6, Tabu = 95S=9, Tabu = 188S=9, Tabu = 286nb_dims : 821 => d = 50\n",
      "Non redundant features 821, orig size 821, nb imp : 17\n",
      "Initial subspace score {'adapted_ratkowsky_lance': 0.12466872112783761, 'ari': 0.45, 'structure': 'Counter({1: 323, 2: 304, 0: 299, 3: 274})', 'features': '1_3', 'size': 2}\n",
      "S=7, Tabu = 94S=9, Tabu = 191S=9, Tabu = 289nb_dims : 821 => d = 50\n",
      "Non redundant features 821, orig size 821, nb imp : 17\n",
      "Initial subspace score {'adapted_ratkowsky_lance': 0.1320892859451415, 'ari': 0.76, 'structure': 'Counter({0: 307, 1: 305, 2: 297, 3: 291})', 'features': '10_18', 'size': 2}\n",
      "S=8, Tabu = 91S=10, Tabu = 186S=10, Tabu = 285nb_dims : 821 => d = 50\n",
      "Non redundant features 821, orig size 821, nb imp : 17\n",
      "Initial subspace score {'adapted_ratkowsky_lance': 0.14916897558304723, 'ari': 0.89, 'structure': 'Counter({3: 318, 0: 301, 2: 299, 1: 282})', 'features': '14_16', 'size': 2}\n",
      "S=6, Tabu = 96S=9, Tabu = 191S=10, Tabu = 288S=10, Tabu = 385nb_dims : 821 => d = 50\n",
      "Non redundant features 821, orig size 821, nb imp : 17\n",
      "Initial subspace score {'adapted_ratkowsky_lance': 0.15007233369498335, 'ari': 0.96, 'structure': 'Counter({2: 301, 3: 300, 1: 300, 0: 299})', 'features': '15_17', 'size': 2}\n",
      "S=9, Tabu = 90S=10, Tabu = 189S=10, Tabu = 288Discovery Analysis\n",
      "(821,) (821,)\n",
      "Statistics computation 0.33 sec\n",
      "Entropy computation 1.44 sec\n",
      "KNN computation 0.77 sec\n",
      "Sorting and thresholds 0.03 sec\n",
      "Performing clustering from file\n",
      "Hierarchical clustering 0.37 sec\n",
      "Handle redundant features 0.02 sec\n",
      "Done 0.0 sec\n",
      "Returning 0 redundant features and  17 important features\n",
      "trimming 665 to 410\n",
      "handle_close_important (410, 3), total 1146\n",
      "relevant_features 466 => computing 4550 \n",
      "trimming 3300 to 0\n",
      "handle_important_features (410, 3),  total 4550\n",
      "irrelevant_features 355 => computing 1746\n",
      "trimming 1595 to 410\n",
      "handle_not_important_features (820, 3), total 1746\n",
      "handle_all_features 821 => computing 4075\n"
     ]
    },
    {
     "name": "stderr",
     "output_type": "stream",
     "text": [
      "\r",
      "  0%|          | 0/13 [00:00<?, ?it/s]"
     ]
    },
    {
     "name": "stdout",
     "output_type": "stream",
     "text": [
      "done predicting\n",
      "trimming 2537 to 821\n",
      "handle_all_features (1641, 3),  total 4075\n",
      "run (1641, 3), total 11517\n",
      "nb_dims : 821 => d = 50\n",
      "Non redundant features 821, orig size 821, nb imp : 17\n",
      "Selecting (50, 4) from archive\n"
     ]
    },
    {
     "name": "stderr",
     "output_type": "stream",
     "text": [
      " 31%|███       | 4/13 [00:37<01:26,  9.57s/it]"
     ]
    },
    {
     "name": "stdout",
     "output_type": "stream",
     "text": [
      "S=8, Tabu = 97S=8, Tabu = 194"
     ]
    },
    {
     "data": {
      "text/html": [
       "<div>\n",
       "<style scoped>\n",
       "    .dataframe tbody tr th:only-of-type {\n",
       "        vertical-align: middle;\n",
       "    }\n",
       "\n",
       "    .dataframe tbody tr th {\n",
       "        vertical-align: top;\n",
       "    }\n",
       "\n",
       "    .dataframe thead th {\n",
       "        text-align: right;\n",
       "    }\n",
       "</style>\n",
       "<table border=\"1\" class=\"dataframe\">\n",
       "  <thead>\n",
       "    <tr style=\"text-align: right;\">\n",
       "      <th></th>\n",
       "      <th>adapted_ratkowsky_lance</th>\n",
       "      <th>ari</th>\n",
       "      <th>features</th>\n",
       "      <th>partition</th>\n",
       "      <th>size</th>\n",
       "      <th>structure</th>\n",
       "    </tr>\n",
       "  </thead>\n",
       "  <tbody>\n",
       "    <tr>\n",
       "      <th>0</th>\n",
       "      <td>0.188463</td>\n",
       "      <td>0.0</td>\n",
       "      <td>[10, 11, 12, 14, 16, 17, 18, 19]</td>\n",
       "      <td>[0, 1, 3, 1, 1, 1, 2, 0, 3, 1, 1, 0, 0, 0, 0, ...</td>\n",
       "      <td>8.0</td>\n",
       "      <td>Counter({0: 300, 1: 300, 3: 300, 2: 300})</td>\n",
       "    </tr>\n",
       "  </tbody>\n",
       "</table>\n",
       "</div>"
      ],
      "text/plain": [
       "   adapted_ratkowsky_lance  ari                          features  \\\n",
       "0                 0.188463  0.0  [10, 11, 12, 14, 16, 17, 18, 19]   \n",
       "\n",
       "                                           partition  size  \\\n",
       "0  [0, 1, 3, 1, 1, 1, 2, 0, 3, 1, 1, 0, 0, 0, 0, ...   8.0   \n",
       "\n",
       "                                   structure  \n",
       "0  Counter({0: 300, 1: 300, 3: 300, 2: 300})  "
      ]
     },
     "metadata": {},
     "output_type": "display_data"
    },
    {
     "name": "stdout",
     "output_type": "stream",
     "text": [
      "Selecting (20, 4) from archive\n"
     ]
    },
    {
     "name": "stderr",
     "output_type": "stream",
     "text": [
      " 62%|██████▏   | 8/13 [01:31<00:55, 11.10s/it]"
     ]
    },
    {
     "name": "stdout",
     "output_type": "stream",
     "text": [
      "S=8, Tabu = 97S=8, Tabu = 196"
     ]
    },
    {
     "data": {
      "text/html": [
       "<div>\n",
       "<style scoped>\n",
       "    .dataframe tbody tr th:only-of-type {\n",
       "        vertical-align: middle;\n",
       "    }\n",
       "\n",
       "    .dataframe tbody tr th {\n",
       "        vertical-align: top;\n",
       "    }\n",
       "\n",
       "    .dataframe thead th {\n",
       "        text-align: right;\n",
       "    }\n",
       "</style>\n",
       "<table border=\"1\" class=\"dataframe\">\n",
       "  <thead>\n",
       "    <tr style=\"text-align: right;\">\n",
       "      <th></th>\n",
       "      <th>adapted_ratkowsky_lance</th>\n",
       "      <th>ari</th>\n",
       "      <th>features</th>\n",
       "      <th>partition</th>\n",
       "      <th>size</th>\n",
       "      <th>structure</th>\n",
       "    </tr>\n",
       "  </thead>\n",
       "  <tbody>\n",
       "    <tr>\n",
       "      <th>0</th>\n",
       "      <td>0.188463</td>\n",
       "      <td>0.0</td>\n",
       "      <td>[10, 11, 12, 14, 16, 17, 18, 19]</td>\n",
       "      <td>[0, 1, 3, 1, 1, 1, 2, 0, 3, 1, 1, 0, 0, 0, 0, ...</td>\n",
       "      <td>8.0</td>\n",
       "      <td>Counter({0: 300, 1: 300, 3: 300, 2: 300})</td>\n",
       "    </tr>\n",
       "    <tr>\n",
       "      <th>1</th>\n",
       "      <td>0.168541</td>\n",
       "      <td>1.0</td>\n",
       "      <td>[0, 1, 4, 5, 6, 7, 8, 9]</td>\n",
       "      <td>[1, 1, 0, 1, 1, 1, 1, 2, 2, 0, 0, 2, 3, 2, 0, ...</td>\n",
       "      <td>8.0</td>\n",
       "      <td>Counter({1: 300, 0: 300, 2: 300, 3: 300})</td>\n",
       "    </tr>\n",
       "  </tbody>\n",
       "</table>\n",
       "</div>"
      ],
      "text/plain": [
       "   adapted_ratkowsky_lance  ari                          features  \\\n",
       "0                 0.188463  0.0  [10, 11, 12, 14, 16, 17, 18, 19]   \n",
       "1                 0.168541  1.0          [0, 1, 4, 5, 6, 7, 8, 9]   \n",
       "\n",
       "                                           partition  size  \\\n",
       "0  [0, 1, 3, 1, 1, 1, 2, 0, 3, 1, 1, 0, 0, 0, 0, ...   8.0   \n",
       "1  [1, 1, 0, 1, 1, 1, 1, 2, 2, 0, 0, 2, 3, 2, 0, ...   8.0   \n",
       "\n",
       "                                   structure  \n",
       "0  Counter({0: 300, 1: 300, 3: 300, 2: 300})  \n",
       "1  Counter({1: 300, 0: 300, 2: 300, 3: 300})  "
      ]
     },
     "metadata": {},
     "output_type": "display_data"
    },
    {
     "name": "stdout",
     "output_type": "stream",
     "text": [
      "Selecting (28, 4) from archive\n"
     ]
    },
    {
     "name": "stderr",
     "output_type": "stream",
     "text": [
      " 92%|█████████▏| 12/13 [02:27<00:11, 11.84s/it]"
     ]
    },
    {
     "name": "stdout",
     "output_type": "stream",
     "text": [
      "S=5, Tabu = 92S=7, Tabu = 187S=7, Tabu = 284"
     ]
    },
    {
     "data": {
      "text/html": [
       "<div>\n",
       "<style scoped>\n",
       "    .dataframe tbody tr th:only-of-type {\n",
       "        vertical-align: middle;\n",
       "    }\n",
       "\n",
       "    .dataframe tbody tr th {\n",
       "        vertical-align: top;\n",
       "    }\n",
       "\n",
       "    .dataframe thead th {\n",
       "        text-align: right;\n",
       "    }\n",
       "</style>\n",
       "<table border=\"1\" class=\"dataframe\">\n",
       "  <thead>\n",
       "    <tr style=\"text-align: right;\">\n",
       "      <th></th>\n",
       "      <th>adapted_ratkowsky_lance</th>\n",
       "      <th>ari</th>\n",
       "      <th>features</th>\n",
       "      <th>partition</th>\n",
       "      <th>size</th>\n",
       "      <th>structure</th>\n",
       "    </tr>\n",
       "  </thead>\n",
       "  <tbody>\n",
       "    <tr>\n",
       "      <th>0</th>\n",
       "      <td>0.188463</td>\n",
       "      <td>0.0</td>\n",
       "      <td>[10, 11, 12, 14, 16, 17, 18, 19]</td>\n",
       "      <td>[0, 1, 3, 1, 1, 1, 2, 0, 3, 1, 1, 0, 0, 0, 0, ...</td>\n",
       "      <td>8.0</td>\n",
       "      <td>Counter({0: 300, 1: 300, 3: 300, 2: 300})</td>\n",
       "    </tr>\n",
       "    <tr>\n",
       "      <th>1</th>\n",
       "      <td>0.168541</td>\n",
       "      <td>1.0</td>\n",
       "      <td>[0, 1, 4, 5, 6, 7, 8, 9]</td>\n",
       "      <td>[1, 1, 0, 1, 1, 1, 1, 2, 2, 0, 0, 2, 3, 2, 0, ...</td>\n",
       "      <td>8.0</td>\n",
       "      <td>Counter({1: 300, 0: 300, 2: 300, 3: 300})</td>\n",
       "    </tr>\n",
       "    <tr>\n",
       "      <th>2</th>\n",
       "      <td>0.193410</td>\n",
       "      <td>0.0</td>\n",
       "      <td>[12, 13, 14, 15, 16, 17, 19]</td>\n",
       "      <td>[0, 1, 3, 1, 1, 1, 2, 0, 3, 1, 1, 0, 0, 0, 0, ...</td>\n",
       "      <td>7.0</td>\n",
       "      <td>Counter({0: 300, 1: 300, 3: 300, 2: 300})</td>\n",
       "    </tr>\n",
       "  </tbody>\n",
       "</table>\n",
       "</div>"
      ],
      "text/plain": [
       "   adapted_ratkowsky_lance  ari                          features  \\\n",
       "0                 0.188463  0.0  [10, 11, 12, 14, 16, 17, 18, 19]   \n",
       "1                 0.168541  1.0          [0, 1, 4, 5, 6, 7, 8, 9]   \n",
       "2                 0.193410  0.0      [12, 13, 14, 15, 16, 17, 19]   \n",
       "\n",
       "                                           partition  size  \\\n",
       "0  [0, 1, 3, 1, 1, 1, 2, 0, 3, 1, 1, 0, 0, 0, 0, ...   8.0   \n",
       "1  [1, 1, 0, 1, 1, 1, 1, 2, 2, 0, 0, 2, 3, 2, 0, ...   8.0   \n",
       "2  [0, 1, 3, 1, 1, 1, 2, 0, 3, 1, 1, 0, 0, 0, 0, ...   7.0   \n",
       "\n",
       "                                   structure  \n",
       "0  Counter({0: 300, 1: 300, 3: 300, 2: 300})  \n",
       "1  Counter({1: 300, 0: 300, 2: 300, 3: 300})  \n",
       "2  Counter({0: 300, 1: 300, 3: 300, 2: 300})  "
      ]
     },
     "metadata": {},
     "output_type": "display_data"
    },
    {
     "name": "stdout",
     "output_type": "stream",
     "text": [
      "Selecting (4, 4) from archive\n"
     ]
    },
    {
     "name": "stderr",
     "output_type": "stream",
     "text": [
      "100%|██████████| 13/13 [03:00<00:00, 13.92s/it]\n"
     ]
    },
    {
     "name": "stdout",
     "output_type": "stream",
     "text": [
      ".Total: (1200, 821), uniform (1200, 300) , normal (1200, 300),neg bin (1200, 0), gamma (1200, 100), moon (1200, 2), circle (1200, 2),  bimodal (1200, 0), redundat (1200, 1), outliers with uniform (1200, 0), outliers with normal (1200, 0) ,outlier binomial (1200, 0), beta features (1200, 100), \n",
      "(821,) (821,)\n",
      "Statistics computation 0.36 sec\n",
      "Entropy computation 1.49 sec\n",
      "KNN computation 0.88 sec\n",
      "Sorting and thresholds 0.03 sec\n",
      "Performing clustering from file\n",
      "Hierarchical clustering 0.42 sec\n",
      "Handle redundant features 0.02 sec\n",
      "Done 0.0 sec\n",
      "Returning 0 redundant features and  23 important features\n",
      "trimming 625 to 410\n",
      "handle_close_important (410, 3), total 1151\n",
      "relevant_features 469 => computing 4591 \n",
      "trimming 3142 to 0\n",
      "handle_important_features (410, 3),  total 4591\n",
      "irrelevant_features 352 => computing 1739\n",
      "trimming 1522 to 410\n",
      "handle_not_important_features (820, 3), total 1739\n",
      "handle_all_features 821 => computing 4075\n",
      "done predicting\n",
      "trimming 2473 to 821\n",
      "handle_all_features (1641, 3),  total 4075\n",
      "run (1641, 3), total 11556\n",
      "nb_dims : 821 => d = 50\n",
      "Non redundant features 821, orig size 821, nb imp : 23\n",
      "Initial subspace score {'adapted_ratkowsky_lance': 0.13405820405273508, 'ari': 0.78, 'structure': 'Counter({3: 307, 2: 305, 0: 299, 1: 289})', 'features': '8_9', 'size': 2}\n",
      "S=6, Tabu = 93S=9, Tabu = 188S=9, Tabu = 287nb_dims : 821 => d = 50\n",
      "Non redundant features 821, orig size 821, nb imp : 23\n",
      "Initial subspace score {'adapted_ratkowsky_lance': 0.11474478834256469, 'ari': 0.36, 'structure': 'Counter({0: 325, 1: 315, 3: 281, 2: 279})', 'features': '2_4', 'size': 2}\n",
      "S=4, Tabu = 97S=9, Tabu = 190S=9, Tabu = 287nb_dims : 821 => d = 50\n",
      "Non redundant features 821, orig size 821, nb imp : 23\n",
      "Initial subspace score {'adapted_ratkowsky_lance': 0.12466872112783761, 'ari': 0.45, 'structure': 'Counter({1: 323, 2: 304, 0: 299, 3: 274})', 'features': '1_3', 'size': 2}\n",
      "S=7, Tabu = 92S=9, Tabu = 188S=9, Tabu = 285nb_dims : 821 => d = 50\n",
      "Non redundant features 821, orig size 821, nb imp : 23\n",
      "Initial subspace score {'adapted_ratkowsky_lance': 0.14480535356465857, 'ari': 0.9, 'structure': 'Counter({1: 311, 3: 299, 0: 297, 2: 293})', 'features': '10_19', 'size': 2}\n",
      "S=6, Tabu = 94S=9, Tabu = 189S=9, Tabu = 287nb_dims : 821 => d = 50\n",
      "Non redundant features 821, orig size 821, nb imp : 23\n",
      "Initial subspace score {'adapted_ratkowsky_lance': 0.11097860766475137, 'ari': 0.53, 'structure': 'Counter({1: 600, 2: 299, 0: 170, 3: 131})', 'features': '14_18', 'size': 2}\n",
      "S=8, Tabu = 94S=11, Tabu = 190S=10, Tabu = 289nb_dims : 821 => d = 50\n",
      "Non redundant features 821, orig size 821, nb imp : 23\n",
      "Initial subspace score {'adapted_ratkowsky_lance': 0.1461338433267021, 'ari': 0.93, 'structure': 'Counter({3: 310, 1: 300, 0: 295, 2: 295})', 'features': '15_16', 'size': 2}\n",
      "S=9, Tabu = 92S=10, Tabu = 190S=10, Tabu = 287Discovery Analysis\n",
      "(821,) (821,)\n",
      "Statistics computation 0.27 sec\n",
      "Entropy computation 0.83 sec\n",
      "KNN computation 0.51 sec\n",
      "Sorting and thresholds 0.02 sec\n",
      "Performing clustering from file\n",
      "Hierarchical clustering 0.24 sec\n",
      "Handle redundant features 0.01 sec\n",
      "Done 0.0 sec\n",
      "Returning 0 redundant features and  23 important features\n",
      "trimming 625 to 410\n",
      "handle_close_important (410, 3), total 1151\n",
      "relevant_features 469 => computing 4591 \n",
      "trimming 3142 to 0\n",
      "handle_important_features (410, 3),  total 4591\n",
      "irrelevant_features 352 => computing 1739\n",
      "trimming 1522 to 410\n",
      "handle_not_important_features (820, 3), total 1739\n",
      "handle_all_features 821 => computing 4075\n"
     ]
    },
    {
     "name": "stderr",
     "output_type": "stream",
     "text": [
      "\r",
      "  0%|          | 0/13 [00:00<?, ?it/s]"
     ]
    },
    {
     "name": "stdout",
     "output_type": "stream",
     "text": [
      "done predicting\n",
      "trimming 2473 to 821\n",
      "handle_all_features (1641, 3),  total 4075\n",
      "run (1641, 3), total 11556\n",
      "nb_dims : 821 => d = 50\n",
      "Non redundant features 821, orig size 821, nb imp : 23\n",
      "Selecting (50, 4) from archive\n"
     ]
    },
    {
     "name": "stderr",
     "output_type": "stream",
     "text": [
      " 31%|███       | 4/13 [00:20<00:48,  5.37s/it]"
     ]
    },
    {
     "name": "stdout",
     "output_type": "stream",
     "text": [
      "S=9, Tabu = 94S=10, Tabu = 193S=10, Tabu = 290"
     ]
    },
    {
     "data": {
      "text/html": [
       "<div>\n",
       "<style scoped>\n",
       "    .dataframe tbody tr th:only-of-type {\n",
       "        vertical-align: middle;\n",
       "    }\n",
       "\n",
       "    .dataframe tbody tr th {\n",
       "        vertical-align: top;\n",
       "    }\n",
       "\n",
       "    .dataframe thead th {\n",
       "        text-align: right;\n",
       "    }\n",
       "</style>\n",
       "<table border=\"1\" class=\"dataframe\">\n",
       "  <thead>\n",
       "    <tr style=\"text-align: right;\">\n",
       "      <th></th>\n",
       "      <th>adapted_ratkowsky_lance</th>\n",
       "      <th>ari</th>\n",
       "      <th>features</th>\n",
       "      <th>partition</th>\n",
       "      <th>size</th>\n",
       "      <th>structure</th>\n",
       "    </tr>\n",
       "  </thead>\n",
       "  <tbody>\n",
       "    <tr>\n",
       "      <th>0</th>\n",
       "      <td>0.193387</td>\n",
       "      <td>0.0</td>\n",
       "      <td>[10, 11, 12, 13, 14, 15, 16, 17, 18, 19]</td>\n",
       "      <td>[0, 1, 3, 1, 1, 1, 2, 0, 3, 1, 1, 0, 0, 0, 0, ...</td>\n",
       "      <td>10.0</td>\n",
       "      <td>Counter({0: 300, 1: 300, 3: 300, 2: 300})</td>\n",
       "    </tr>\n",
       "  </tbody>\n",
       "</table>\n",
       "</div>"
      ],
      "text/plain": [
       "   adapted_ratkowsky_lance  ari                                  features  \\\n",
       "0                 0.193387  0.0  [10, 11, 12, 13, 14, 15, 16, 17, 18, 19]   \n",
       "\n",
       "                                           partition  size  \\\n",
       "0  [0, 1, 3, 1, 1, 1, 2, 0, 3, 1, 1, 0, 0, 0, 0, ...  10.0   \n",
       "\n",
       "                                   structure  \n",
       "0  Counter({0: 300, 1: 300, 3: 300, 2: 300})  "
      ]
     },
     "metadata": {},
     "output_type": "display_data"
    },
    {
     "name": "stdout",
     "output_type": "stream",
     "text": [
      "Selecting (26, 4) from archive\n"
     ]
    },
    {
     "name": "stderr",
     "output_type": "stream",
     "text": [
      " 62%|██████▏   | 8/13 [01:07<00:40,  8.02s/it]"
     ]
    },
    {
     "name": "stdout",
     "output_type": "stream",
     "text": [
      "S=9, Tabu = 96S=9, Tabu = 194"
     ]
    },
    {
     "data": {
      "text/html": [
       "<div>\n",
       "<style scoped>\n",
       "    .dataframe tbody tr th:only-of-type {\n",
       "        vertical-align: middle;\n",
       "    }\n",
       "\n",
       "    .dataframe tbody tr th {\n",
       "        vertical-align: top;\n",
       "    }\n",
       "\n",
       "    .dataframe thead th {\n",
       "        text-align: right;\n",
       "    }\n",
       "</style>\n",
       "<table border=\"1\" class=\"dataframe\">\n",
       "  <thead>\n",
       "    <tr style=\"text-align: right;\">\n",
       "      <th></th>\n",
       "      <th>adapted_ratkowsky_lance</th>\n",
       "      <th>ari</th>\n",
       "      <th>features</th>\n",
       "      <th>partition</th>\n",
       "      <th>size</th>\n",
       "      <th>structure</th>\n",
       "    </tr>\n",
       "  </thead>\n",
       "  <tbody>\n",
       "    <tr>\n",
       "      <th>0</th>\n",
       "      <td>0.193387</td>\n",
       "      <td>0.0</td>\n",
       "      <td>[10, 11, 12, 13, 14, 15, 16, 17, 18, 19]</td>\n",
       "      <td>[0, 1, 3, 1, 1, 1, 2, 0, 3, 1, 1, 0, 0, 0, 0, ...</td>\n",
       "      <td>10.0</td>\n",
       "      <td>Counter({0: 300, 1: 300, 3: 300, 2: 300})</td>\n",
       "    </tr>\n",
       "    <tr>\n",
       "      <th>1</th>\n",
       "      <td>0.169278</td>\n",
       "      <td>1.0</td>\n",
       "      <td>[0, 1, 3, 4, 5, 6, 7, 8, 9]</td>\n",
       "      <td>[3, 3, 0, 3, 3, 3, 3, 2, 2, 0, 0, 2, 1, 2, 0, ...</td>\n",
       "      <td>9.0</td>\n",
       "      <td>Counter({3: 300, 0: 300, 2: 300, 1: 300})</td>\n",
       "    </tr>\n",
       "  </tbody>\n",
       "</table>\n",
       "</div>"
      ],
      "text/plain": [
       "   adapted_ratkowsky_lance  ari                                  features  \\\n",
       "0                 0.193387  0.0  [10, 11, 12, 13, 14, 15, 16, 17, 18, 19]   \n",
       "1                 0.169278  1.0               [0, 1, 3, 4, 5, 6, 7, 8, 9]   \n",
       "\n",
       "                                           partition  size  \\\n",
       "0  [0, 1, 3, 1, 1, 1, 2, 0, 3, 1, 1, 0, 0, 0, 0, ...  10.0   \n",
       "1  [3, 3, 0, 3, 3, 3, 3, 2, 2, 0, 0, 2, 1, 2, 0, ...   9.0   \n",
       "\n",
       "                                   structure  \n",
       "0  Counter({0: 300, 1: 300, 3: 300, 2: 300})  \n",
       "1  Counter({3: 300, 0: 300, 2: 300, 1: 300})  "
      ]
     },
     "metadata": {},
     "output_type": "display_data"
    },
    {
     "name": "stdout",
     "output_type": "stream",
     "text": [
      "Selecting (34, 4) from archive\n"
     ]
    },
    {
     "name": "stderr",
     "output_type": "stream",
     "text": [
      " 92%|█████████▏| 12/13 [01:45<00:07,  7.52s/it]"
     ]
    },
    {
     "name": "stdout",
     "output_type": "stream",
     "text": [
      "S=2, Tabu = 96S=2, Tabu = 191"
     ]
    },
    {
     "data": {
      "text/html": [
       "<div>\n",
       "<style scoped>\n",
       "    .dataframe tbody tr th:only-of-type {\n",
       "        vertical-align: middle;\n",
       "    }\n",
       "\n",
       "    .dataframe tbody tr th {\n",
       "        vertical-align: top;\n",
       "    }\n",
       "\n",
       "    .dataframe thead th {\n",
       "        text-align: right;\n",
       "    }\n",
       "</style>\n",
       "<table border=\"1\" class=\"dataframe\">\n",
       "  <thead>\n",
       "    <tr style=\"text-align: right;\">\n",
       "      <th></th>\n",
       "      <th>adapted_ratkowsky_lance</th>\n",
       "      <th>ari</th>\n",
       "      <th>features</th>\n",
       "      <th>partition</th>\n",
       "      <th>size</th>\n",
       "      <th>structure</th>\n",
       "    </tr>\n",
       "  </thead>\n",
       "  <tbody>\n",
       "    <tr>\n",
       "      <th>0</th>\n",
       "      <td>0.193387</td>\n",
       "      <td>0.0</td>\n",
       "      <td>[10, 11, 12, 13, 14, 15, 16, 17, 18, 19]</td>\n",
       "      <td>[0, 1, 3, 1, 1, 1, 2, 0, 3, 1, 1, 0, 0, 0, 0, ...</td>\n",
       "      <td>10.0</td>\n",
       "      <td>Counter({0: 300, 1: 300, 3: 300, 2: 300})</td>\n",
       "    </tr>\n",
       "    <tr>\n",
       "      <th>1</th>\n",
       "      <td>0.169278</td>\n",
       "      <td>1.0</td>\n",
       "      <td>[0, 1, 3, 4, 5, 6, 7, 8, 9]</td>\n",
       "      <td>[3, 3, 0, 3, 3, 3, 3, 2, 2, 0, 0, 2, 1, 2, 0, ...</td>\n",
       "      <td>9.0</td>\n",
       "      <td>Counter({3: 300, 0: 300, 2: 300, 1: 300})</td>\n",
       "    </tr>\n",
       "    <tr>\n",
       "      <th>2</th>\n",
       "      <td>0.155206</td>\n",
       "      <td>-0.0</td>\n",
       "      <td>[223, 820]</td>\n",
       "      <td>[3, 2, 0, 0, 0, 3, 3, 3, 3, 0, 3, 2, 1, 1, 0, ...</td>\n",
       "      <td>2.0</td>\n",
       "      <td>Counter({0: 340, 3: 317, 1: 280, 2: 263})</td>\n",
       "    </tr>\n",
       "  </tbody>\n",
       "</table>\n",
       "</div>"
      ],
      "text/plain": [
       "   adapted_ratkowsky_lance  ari                                  features  \\\n",
       "0                 0.193387  0.0  [10, 11, 12, 13, 14, 15, 16, 17, 18, 19]   \n",
       "1                 0.169278  1.0               [0, 1, 3, 4, 5, 6, 7, 8, 9]   \n",
       "2                 0.155206 -0.0                                [223, 820]   \n",
       "\n",
       "                                           partition  size  \\\n",
       "0  [0, 1, 3, 1, 1, 1, 2, 0, 3, 1, 1, 0, 0, 0, 0, ...  10.0   \n",
       "1  [3, 3, 0, 3, 3, 3, 3, 2, 2, 0, 0, 2, 1, 2, 0, ...   9.0   \n",
       "2  [3, 2, 0, 0, 0, 3, 3, 3, 3, 0, 3, 2, 1, 1, 0, ...   2.0   \n",
       "\n",
       "                                   structure  \n",
       "0  Counter({0: 300, 1: 300, 3: 300, 2: 300})  \n",
       "1  Counter({3: 300, 0: 300, 2: 300, 1: 300})  \n",
       "2  Counter({0: 340, 3: 317, 1: 280, 2: 263})  "
      ]
     },
     "metadata": {},
     "output_type": "display_data"
    },
    {
     "name": "stdout",
     "output_type": "stream",
     "text": [
      "Selecting (2, 4) from archive\n"
     ]
    },
    {
     "name": "stderr",
     "output_type": "stream",
     "text": [
      "100%|██████████| 13/13 [01:56<00:00,  8.94s/it]\n",
      "/usr/local/lib/python3.6/dist-packages/numpy/core/fromnumeric.py:90: RuntimeWarning: overflow encountered in reduce\n",
      "  return ufunc.reduce(obj, axis, dtype, out, **passkwargs)\n"
     ]
    },
    {
     "name": "stdout",
     "output_type": "stream",
     "text": [
      ".Total: (1200, 821), uniform (1200, 300) , normal (1200, 300),neg bin (1200, 0), gamma (1200, 100), moon (1200, 2), circle (1200, 2),  bimodal (1200, 0), redundat (1200, 1), outliers with uniform (1200, 0), outliers with normal (1200, 0) ,outlier binomial (1200, 0), beta features (1200, 100), \n",
      "(821,) (821,)\n",
      "Statistics computation 0.23 sec\n",
      "Entropy computation 0.8 sec\n",
      "KNN computation 0.47 sec\n",
      "Sorting and thresholds 0.01 sec\n",
      "Performing clustering from file\n",
      "Hierarchical clustering 0.23 sec\n",
      "Handle redundant features 0.01 sec\n",
      "Done 0.0 sec\n",
      "Returning 0 redundant features and  16 important features\n",
      "trimming 670 to 410\n",
      "handle_close_important (410, 3), total 1150\n",
      "relevant_features 470 => computing 4594 \n",
      "trimming 3327 to 0\n",
      "handle_important_features (410, 3),  total 4594\n",
      "irrelevant_features 351 => computing 1720\n",
      "trimming 1552 to 410\n",
      "handle_not_important_features (820, 3), total 1720\n",
      "handle_all_features 821 => computing 4075\n",
      "done predicting\n",
      "trimming 2514 to 821\n",
      "handle_all_features (1641, 3),  total 4075\n",
      "run (1641, 3), total 11539\n",
      "nb_dims : 821 => d = 50\n",
      "Non redundant features 821, orig size 821, nb imp : 16\n",
      "Initial subspace score {'adapted_ratkowsky_lance': 0.13405820405273508, 'ari': 0.78, 'structure': 'Counter({3: 307, 2: 305, 0: 299, 1: 289})', 'features': '8_9', 'size': 2}\n",
      "S=6, Tabu = 94S=9, Tabu = 190S=9, Tabu = 289nb_dims : 821 => d = 50\n",
      "Non redundant features 821, orig size 821, nb imp : 16\n",
      "Initial subspace score {'adapted_ratkowsky_lance': 0.11474478834256469, 'ari': 0.36, 'structure': 'Counter({0: 325, 1: 315, 3: 281, 2: 279})', 'features': '2_4', 'size': 2}\n",
      "S=6, Tabu = 95S=9, Tabu = 189S=9, Tabu = 287nb_dims : 821 => d = 50\n",
      "Non redundant features 821, orig size 821, nb imp : 16\n",
      "Initial subspace score {'adapted_ratkowsky_lance': 0.12466872112783761, 'ari': 0.45, 'structure': 'Counter({1: 323, 2: 304, 0: 299, 3: 274})', 'features': '1_3', 'size': 2}\n",
      "S=7, Tabu = 94S=9, Tabu = 190S=9, Tabu = 289nb_dims : 821 => d = 50\n",
      "Non redundant features 821, orig size 821, nb imp : 16\n",
      "Initial subspace score {'adapted_ratkowsky_lance': 0.1317166228436768, 'ari': 0.78, 'structure': 'Counter({2: 304, 3: 301, 0: 299, 1: 296})', 'features': '15_18', 'size': 2}\n",
      "S=4, Tabu = 95S=6, Tabu = 191S=6, Tabu = 289nb_dims : 821 => d = 50\n",
      "Non redundant features 821, orig size 821, nb imp : 16\n",
      "Initial subspace score {'adapted_ratkowsky_lance': 0.1402961090042494, 'ari': 0.92, 'structure': 'Counter({1: 305, 3: 303, 2: 298, 0: 294})', 'features': '13_16', 'size': 2}\n",
      "S=8, Tabu = 91S=10, Tabu = 188S=10, Tabu = 286nb_dims : 821 => d = 50\n",
      "Non redundant features 821, orig size 821, nb imp : 16\n",
      "Initial subspace score {'adapted_ratkowsky_lance': 0.15160408688640312, 'ari': 0.79, 'structure': 'Counter({2: 332, 3: 301, 1: 300, 0: 267})', 'features': '14_19', 'size': 2}\n",
      "S=5, Tabu = 94S=7, Tabu = 191S=7, Tabu = 289Discovery Analysis\n"
     ]
    },
    {
     "name": "stderr",
     "output_type": "stream",
     "text": [
      "/usr/local/lib/python3.6/dist-packages/numpy/core/fromnumeric.py:90: RuntimeWarning: overflow encountered in reduce\n",
      "  return ufunc.reduce(obj, axis, dtype, out, **passkwargs)\n"
     ]
    },
    {
     "name": "stdout",
     "output_type": "stream",
     "text": [
      "(821,) (821,)\n",
      "Statistics computation 0.25 sec\n",
      "Entropy computation 0.86 sec\n",
      "KNN computation 0.47 sec\n",
      "Sorting and thresholds 0.02 sec\n",
      "Performing clustering from file\n",
      "Hierarchical clustering 0.24 sec\n",
      "Handle redundant features 0.01 sec\n",
      "Done 0.0 sec\n",
      "Returning 0 redundant features and  16 important features\n",
      "trimming 670 to 410\n",
      "handle_close_important (410, 3), total 1150\n",
      "relevant_features 470 => computing 4594 \n",
      "trimming 3327 to 0\n",
      "handle_important_features (410, 3),  total 4594\n",
      "irrelevant_features 351 => computing 1720\n",
      "trimming 1552 to 410\n",
      "handle_not_important_features (820, 3), total 1720\n",
      "handle_all_features 821 => computing 4075\n"
     ]
    },
    {
     "name": "stderr",
     "output_type": "stream",
     "text": [
      "\r",
      "  0%|          | 0/13 [00:00<?, ?it/s]"
     ]
    },
    {
     "name": "stdout",
     "output_type": "stream",
     "text": [
      "done predicting\n",
      "trimming 2514 to 821\n",
      "handle_all_features (1641, 3),  total 4075\n",
      "run (1641, 3), total 11539\n",
      "nb_dims : 821 => d = 50\n",
      "Non redundant features 821, orig size 821, nb imp : 16\n",
      "Selecting (50, 4) from archive\n"
     ]
    },
    {
     "name": "stderr",
     "output_type": "stream",
     "text": [
      " 31%|███       | 4/13 [00:20<00:48,  5.38s/it]"
     ]
    },
    {
     "name": "stdout",
     "output_type": "stream",
     "text": [
      "S=9, Tabu = 95S=10, Tabu = 193S=10, Tabu = 289"
     ]
    },
    {
     "data": {
      "text/html": [
       "<div>\n",
       "<style scoped>\n",
       "    .dataframe tbody tr th:only-of-type {\n",
       "        vertical-align: middle;\n",
       "    }\n",
       "\n",
       "    .dataframe tbody tr th {\n",
       "        vertical-align: top;\n",
       "    }\n",
       "\n",
       "    .dataframe thead th {\n",
       "        text-align: right;\n",
       "    }\n",
       "</style>\n",
       "<table border=\"1\" class=\"dataframe\">\n",
       "  <thead>\n",
       "    <tr style=\"text-align: right;\">\n",
       "      <th></th>\n",
       "      <th>adapted_ratkowsky_lance</th>\n",
       "      <th>ari</th>\n",
       "      <th>features</th>\n",
       "      <th>partition</th>\n",
       "      <th>size</th>\n",
       "      <th>structure</th>\n",
       "    </tr>\n",
       "  </thead>\n",
       "  <tbody>\n",
       "    <tr>\n",
       "      <th>0</th>\n",
       "      <td>0.193387</td>\n",
       "      <td>0.0</td>\n",
       "      <td>[10, 11, 12, 13, 14, 15, 16, 17, 18, 19]</td>\n",
       "      <td>[0, 1, 3, 1, 1, 1, 2, 0, 3, 1, 1, 0, 0, 0, 0, ...</td>\n",
       "      <td>10.0</td>\n",
       "      <td>Counter({0: 300, 1: 300, 3: 300, 2: 300})</td>\n",
       "    </tr>\n",
       "  </tbody>\n",
       "</table>\n",
       "</div>"
      ],
      "text/plain": [
       "   adapted_ratkowsky_lance  ari                                  features  \\\n",
       "0                 0.193387  0.0  [10, 11, 12, 13, 14, 15, 16, 17, 18, 19]   \n",
       "\n",
       "                                           partition  size  \\\n",
       "0  [0, 1, 3, 1, 1, 1, 2, 0, 3, 1, 1, 0, 0, 0, 0, ...  10.0   \n",
       "\n",
       "                                   structure  \n",
       "0  Counter({0: 300, 1: 300, 3: 300, 2: 300})  "
      ]
     },
     "metadata": {},
     "output_type": "display_data"
    },
    {
     "name": "stdout",
     "output_type": "stream",
     "text": [
      "Selecting (24, 4) from archive\n"
     ]
    },
    {
     "name": "stderr",
     "output_type": "stream",
     "text": [
      " 62%|██████▏   | 8/13 [01:06<00:38,  7.79s/it]"
     ]
    },
    {
     "name": "stdout",
     "output_type": "stream",
     "text": [
      "S=8, Tabu = 96S=9, Tabu = 192S=9, Tabu = 290"
     ]
    },
    {
     "data": {
      "text/html": [
       "<div>\n",
       "<style scoped>\n",
       "    .dataframe tbody tr th:only-of-type {\n",
       "        vertical-align: middle;\n",
       "    }\n",
       "\n",
       "    .dataframe tbody tr th {\n",
       "        vertical-align: top;\n",
       "    }\n",
       "\n",
       "    .dataframe thead th {\n",
       "        text-align: right;\n",
       "    }\n",
       "</style>\n",
       "<table border=\"1\" class=\"dataframe\">\n",
       "  <thead>\n",
       "    <tr style=\"text-align: right;\">\n",
       "      <th></th>\n",
       "      <th>adapted_ratkowsky_lance</th>\n",
       "      <th>ari</th>\n",
       "      <th>features</th>\n",
       "      <th>partition</th>\n",
       "      <th>size</th>\n",
       "      <th>structure</th>\n",
       "    </tr>\n",
       "  </thead>\n",
       "  <tbody>\n",
       "    <tr>\n",
       "      <th>0</th>\n",
       "      <td>0.193387</td>\n",
       "      <td>0.0</td>\n",
       "      <td>[10, 11, 12, 13, 14, 15, 16, 17, 18, 19]</td>\n",
       "      <td>[0, 1, 3, 1, 1, 1, 2, 0, 3, 1, 1, 0, 0, 0, 0, ...</td>\n",
       "      <td>10.0</td>\n",
       "      <td>Counter({0: 300, 1: 300, 3: 300, 2: 300})</td>\n",
       "    </tr>\n",
       "    <tr>\n",
       "      <th>1</th>\n",
       "      <td>0.169278</td>\n",
       "      <td>1.0</td>\n",
       "      <td>[0, 1, 3, 4, 5, 6, 7, 8, 9]</td>\n",
       "      <td>[3, 3, 0, 3, 3, 3, 3, 2, 2, 0, 0, 2, 1, 2, 0, ...</td>\n",
       "      <td>9.0</td>\n",
       "      <td>Counter({3: 300, 0: 300, 2: 300, 1: 300})</td>\n",
       "    </tr>\n",
       "  </tbody>\n",
       "</table>\n",
       "</div>"
      ],
      "text/plain": [
       "   adapted_ratkowsky_lance  ari                                  features  \\\n",
       "0                 0.193387  0.0  [10, 11, 12, 13, 14, 15, 16, 17, 18, 19]   \n",
       "1                 0.169278  1.0               [0, 1, 3, 4, 5, 6, 7, 8, 9]   \n",
       "\n",
       "                                           partition  size  \\\n",
       "0  [0, 1, 3, 1, 1, 1, 2, 0, 3, 1, 1, 0, 0, 0, 0, ...  10.0   \n",
       "1  [3, 3, 0, 3, 3, 3, 3, 2, 2, 0, 0, 2, 1, 2, 0, ...   9.0   \n",
       "\n",
       "                                   structure  \n",
       "0  Counter({0: 300, 1: 300, 3: 300, 2: 300})  \n",
       "1  Counter({3: 300, 0: 300, 2: 300, 1: 300})  "
      ]
     },
     "metadata": {},
     "output_type": "display_data"
    },
    {
     "name": "stdout",
     "output_type": "stream",
     "text": [
      "Selecting (29, 4) from archive\n"
     ]
    },
    {
     "name": "stderr",
     "output_type": "stream",
     "text": [
      " 92%|█████████▏| 12/13 [01:51<00:08,  8.17s/it]"
     ]
    },
    {
     "name": "stdout",
     "output_type": "stream",
     "text": [
      "S=4, Tabu = 97S=5, Tabu = 192S=6, Tabu = 287S=7, Tabu = 379S=8, Tabu = 464S=8, Tabu = 543"
     ]
    },
    {
     "data": {
      "text/html": [
       "<div>\n",
       "<style scoped>\n",
       "    .dataframe tbody tr th:only-of-type {\n",
       "        vertical-align: middle;\n",
       "    }\n",
       "\n",
       "    .dataframe tbody tr th {\n",
       "        vertical-align: top;\n",
       "    }\n",
       "\n",
       "    .dataframe thead th {\n",
       "        text-align: right;\n",
       "    }\n",
       "</style>\n",
       "<table border=\"1\" class=\"dataframe\">\n",
       "  <thead>\n",
       "    <tr style=\"text-align: right;\">\n",
       "      <th></th>\n",
       "      <th>adapted_ratkowsky_lance</th>\n",
       "      <th>ari</th>\n",
       "      <th>features</th>\n",
       "      <th>partition</th>\n",
       "      <th>size</th>\n",
       "      <th>structure</th>\n",
       "    </tr>\n",
       "  </thead>\n",
       "  <tbody>\n",
       "    <tr>\n",
       "      <th>0</th>\n",
       "      <td>0.193387</td>\n",
       "      <td>0.0</td>\n",
       "      <td>[10, 11, 12, 13, 14, 15, 16, 17, 18, 19]</td>\n",
       "      <td>[0, 1, 3, 1, 1, 1, 2, 0, 3, 1, 1, 0, 0, 0, 0, ...</td>\n",
       "      <td>10.0</td>\n",
       "      <td>Counter({0: 300, 1: 300, 3: 300, 2: 300})</td>\n",
       "    </tr>\n",
       "    <tr>\n",
       "      <th>1</th>\n",
       "      <td>0.169278</td>\n",
       "      <td>1.0</td>\n",
       "      <td>[0, 1, 3, 4, 5, 6, 7, 8, 9]</td>\n",
       "      <td>[3, 3, 0, 3, 3, 3, 3, 2, 2, 0, 0, 2, 1, 2, 0, ...</td>\n",
       "      <td>9.0</td>\n",
       "      <td>Counter({3: 300, 0: 300, 2: 300, 1: 300})</td>\n",
       "    </tr>\n",
       "    <tr>\n",
       "      <th>2</th>\n",
       "      <td>0.142901</td>\n",
       "      <td>0.0</td>\n",
       "      <td>[10, 11, 12, 14, 18, 19, 248, 820]</td>\n",
       "      <td>[0, 1, 3, 1, 3, 3, 2, 0, 1, 3, 3, 0, 0, 0, 0, ...</td>\n",
       "      <td>8.0</td>\n",
       "      <td>Counter({3: 335, 0: 300, 2: 300, 1: 265})</td>\n",
       "    </tr>\n",
       "  </tbody>\n",
       "</table>\n",
       "</div>"
      ],
      "text/plain": [
       "   adapted_ratkowsky_lance  ari                                  features  \\\n",
       "0                 0.193387  0.0  [10, 11, 12, 13, 14, 15, 16, 17, 18, 19]   \n",
       "1                 0.169278  1.0               [0, 1, 3, 4, 5, 6, 7, 8, 9]   \n",
       "2                 0.142901  0.0        [10, 11, 12, 14, 18, 19, 248, 820]   \n",
       "\n",
       "                                           partition  size  \\\n",
       "0  [0, 1, 3, 1, 1, 1, 2, 0, 3, 1, 1, 0, 0, 0, 0, ...  10.0   \n",
       "1  [3, 3, 0, 3, 3, 3, 3, 2, 2, 0, 0, 2, 1, 2, 0, ...   9.0   \n",
       "2  [0, 1, 3, 1, 3, 3, 2, 0, 1, 3, 3, 0, 0, 0, 0, ...   8.0   \n",
       "\n",
       "                                   structure  \n",
       "0  Counter({0: 300, 1: 300, 3: 300, 2: 300})  \n",
       "1  Counter({3: 300, 0: 300, 2: 300, 1: 300})  \n",
       "2  Counter({3: 335, 0: 300, 2: 300, 1: 265})  "
      ]
     },
     "metadata": {},
     "output_type": "display_data"
    },
    {
     "name": "stdout",
     "output_type": "stream",
     "text": [
      "Selecting (3, 4) from archive\n"
     ]
    },
    {
     "name": "stderr",
     "output_type": "stream",
     "text": [
      "100%|██████████| 13/13 [02:25<00:00, 11.17s/it]\n",
      "/usr/local/lib/python3.6/dist-packages/numpy/core/fromnumeric.py:90: RuntimeWarning: overflow encountered in reduce\n",
      "  return ufunc.reduce(obj, axis, dtype, out, **passkwargs)\n"
     ]
    },
    {
     "name": "stdout",
     "output_type": "stream",
     "text": [
      ".Total: (1200, 821), uniform (1200, 300) , normal (1200, 300),neg bin (1200, 0), gamma (1200, 100), moon (1200, 2), circle (1200, 2),  bimodal (1200, 0), redundat (1200, 1), outliers with uniform (1200, 0), outliers with normal (1200, 0) ,outlier binomial (1200, 0), beta features (1200, 100), \n",
      "(821,) (821,)\n",
      "Statistics computation 0.26 sec\n",
      "Entropy computation 0.82 sec\n",
      "KNN computation 0.48 sec\n",
      "Sorting and thresholds 0.02 sec\n",
      "Performing clustering from file\n",
      "Hierarchical clustering 0.23 sec\n",
      "Handle redundant features 0.01 sec\n",
      "Done 0.0 sec\n",
      "Returning 0 redundant features and  15 important features\n",
      "trimming 678 to 410\n",
      "handle_close_important (410, 3), total 1140\n",
      "relevant_features 476 => computing 4637 \n",
      "trimming 3328 to 0\n",
      "handle_important_features (410, 3),  total 4637\n",
      "irrelevant_features 345 => computing 1697\n",
      "trimming 1530 to 410\n",
      "handle_not_important_features (820, 3), total 1697\n",
      "handle_all_features 821 => computing 4075\n",
      "done predicting\n",
      "trimming 2507 to 821\n",
      "handle_all_features (1641, 3),  total 4075\n",
      "run (1641, 3), total 11549\n",
      "nb_dims : 821 => d = 50\n",
      "Non redundant features 821, orig size 821, nb imp : 15\n",
      "Initial subspace score {'adapted_ratkowsky_lance': 0.13405820405273508, 'ari': 0.78, 'structure': 'Counter({3: 307, 2: 305, 0: 299, 1: 289})', 'features': '8_9', 'size': 2}\n",
      "S=8, Tabu = 92S=10, Tabu = 190S=10, Tabu = 288nb_dims : 821 => d = 50\n",
      "Non redundant features 821, orig size 821, nb imp : 15\n",
      "Initial subspace score {'adapted_ratkowsky_lance': 0.11474478834256469, 'ari': 0.36, 'structure': 'Counter({0: 325, 1: 315, 3: 281, 2: 279})', 'features': '2_4', 'size': 2}\n",
      "S=5, Tabu = 96S=10, Tabu = 190S=10, Tabu = 288nb_dims : 821 => d = 50\n",
      "Non redundant features 821, orig size 821, nb imp : 15\n",
      "Initial subspace score {'adapted_ratkowsky_lance': 0.12466872112783761, 'ari': 0.45, 'structure': 'Counter({1: 323, 2: 304, 0: 299, 3: 274})', 'features': '1_3', 'size': 2}\n",
      "S=7, Tabu = 93S=10, Tabu = 187S=10, Tabu = 285nb_dims : 821 => d = 50\n",
      "Non redundant features 821, orig size 821, nb imp : 15\n",
      "Initial subspace score {'adapted_ratkowsky_lance': 0.14123714465991255, 'ari': 0.61, 'structure': 'Counter({3: 342, 1: 301, 2: 291, 0: 266})', 'features': '12_18', 'size': 2}\n",
      "S=8, Tabu = 94S=10, Tabu = 188S=10, Tabu = 286nb_dims : 821 => d = 50\n",
      "Non redundant features 821, orig size 821, nb imp : 15\n",
      "Initial subspace score {'adapted_ratkowsky_lance': 0.14242266366545872, 'ari': 0.89, 'structure': 'Counter({0: 309, 1: 303, 3: 297, 2: 291})', 'features': '11_19', 'size': 2}\n",
      "S=7, Tabu = 95S=9, Tabu = 190S=9, Tabu = 288nb_dims : 821 => d = 50\n",
      "Non redundant features 821, orig size 821, nb imp : 15\n",
      "Initial subspace score {'adapted_ratkowsky_lance': 0.1477705154560554, 'ari': 0.81, 'structure': 'Counter({1: 318, 0: 301, 2: 300, 3: 281})', 'features': '10_17', 'size': 2}\n",
      "S=9, Tabu = 92S=10, Tabu = 188S=10, Tabu = 286Discovery Analysis\n"
     ]
    },
    {
     "name": "stderr",
     "output_type": "stream",
     "text": [
      "/usr/local/lib/python3.6/dist-packages/numpy/core/fromnumeric.py:90: RuntimeWarning: overflow encountered in reduce\n",
      "  return ufunc.reduce(obj, axis, dtype, out, **passkwargs)\n"
     ]
    },
    {
     "name": "stdout",
     "output_type": "stream",
     "text": [
      "(821,) (821,)\n",
      "Statistics computation 0.27 sec\n",
      "Entropy computation 0.86 sec\n",
      "KNN computation 0.5 sec\n",
      "Sorting and thresholds 0.02 sec\n",
      "Performing clustering from file\n",
      "Hierarchical clustering 0.23 sec\n",
      "Handle redundant features 0.01 sec\n",
      "Done 0.0 sec\n",
      "Returning 0 redundant features and  15 important features\n",
      "trimming 678 to 410\n",
      "handle_close_important (410, 3), total 1140\n",
      "relevant_features 476 => computing 4637 \n",
      "trimming 3328 to 0\n",
      "handle_important_features (410, 3),  total 4637\n",
      "irrelevant_features 345 => computing 1697\n",
      "trimming 1530 to 410\n",
      "handle_not_important_features (820, 3), total 1697\n",
      "handle_all_features 821 => computing 4075\n"
     ]
    },
    {
     "name": "stderr",
     "output_type": "stream",
     "text": [
      "\r",
      "  0%|          | 0/13 [00:00<?, ?it/s]"
     ]
    },
    {
     "name": "stdout",
     "output_type": "stream",
     "text": [
      "done predicting\n",
      "trimming 2507 to 821\n",
      "handle_all_features (1641, 3),  total 4075\n",
      "run (1641, 3), total 11549\n",
      "nb_dims : 821 => d = 50\n",
      "Non redundant features 821, orig size 821, nb imp : 15\n",
      "Selecting (50, 4) from archive\n"
     ]
    },
    {
     "name": "stderr",
     "output_type": "stream",
     "text": [
      " 31%|███       | 4/13 [00:19<00:45,  5.09s/it]"
     ]
    },
    {
     "name": "stdout",
     "output_type": "stream",
     "text": [
      "S=10, Tabu = 96S=10, Tabu = 195"
     ]
    },
    {
     "data": {
      "text/html": [
       "<div>\n",
       "<style scoped>\n",
       "    .dataframe tbody tr th:only-of-type {\n",
       "        vertical-align: middle;\n",
       "    }\n",
       "\n",
       "    .dataframe tbody tr th {\n",
       "        vertical-align: top;\n",
       "    }\n",
       "\n",
       "    .dataframe thead th {\n",
       "        text-align: right;\n",
       "    }\n",
       "</style>\n",
       "<table border=\"1\" class=\"dataframe\">\n",
       "  <thead>\n",
       "    <tr style=\"text-align: right;\">\n",
       "      <th></th>\n",
       "      <th>adapted_ratkowsky_lance</th>\n",
       "      <th>ari</th>\n",
       "      <th>features</th>\n",
       "      <th>partition</th>\n",
       "      <th>size</th>\n",
       "      <th>structure</th>\n",
       "    </tr>\n",
       "  </thead>\n",
       "  <tbody>\n",
       "    <tr>\n",
       "      <th>0</th>\n",
       "      <td>0.193387</td>\n",
       "      <td>0.0</td>\n",
       "      <td>[10, 11, 12, 13, 14, 15, 16, 17, 18, 19]</td>\n",
       "      <td>[0, 1, 3, 1, 1, 1, 2, 0, 3, 1, 1, 0, 0, 0, 0, ...</td>\n",
       "      <td>10.0</td>\n",
       "      <td>Counter({0: 300, 1: 300, 3: 300, 2: 300})</td>\n",
       "    </tr>\n",
       "  </tbody>\n",
       "</table>\n",
       "</div>"
      ],
      "text/plain": [
       "   adapted_ratkowsky_lance  ari                                  features  \\\n",
       "0                 0.193387  0.0  [10, 11, 12, 13, 14, 15, 16, 17, 18, 19]   \n",
       "\n",
       "                                           partition  size  \\\n",
       "0  [0, 1, 3, 1, 1, 1, 2, 0, 3, 1, 1, 0, 0, 0, 0, ...  10.0   \n",
       "\n",
       "                                   structure  \n",
       "0  Counter({0: 300, 1: 300, 3: 300, 2: 300})  "
      ]
     },
     "metadata": {},
     "output_type": "display_data"
    },
    {
     "name": "stdout",
     "output_type": "stream",
     "text": [
      "Selecting (22, 4) from archive\n"
     ]
    },
    {
     "name": "stderr",
     "output_type": "stream",
     "text": [
      " 62%|██████▏   | 8/13 [00:58<00:35,  7.17s/it]"
     ]
    },
    {
     "name": "stdout",
     "output_type": "stream",
     "text": [
      "S=9, Tabu = 98S=10, Tabu = 193S=10, Tabu = 288"
     ]
    },
    {
     "data": {
      "text/html": [
       "<div>\n",
       "<style scoped>\n",
       "    .dataframe tbody tr th:only-of-type {\n",
       "        vertical-align: middle;\n",
       "    }\n",
       "\n",
       "    .dataframe tbody tr th {\n",
       "        vertical-align: top;\n",
       "    }\n",
       "\n",
       "    .dataframe thead th {\n",
       "        text-align: right;\n",
       "    }\n",
       "</style>\n",
       "<table border=\"1\" class=\"dataframe\">\n",
       "  <thead>\n",
       "    <tr style=\"text-align: right;\">\n",
       "      <th></th>\n",
       "      <th>adapted_ratkowsky_lance</th>\n",
       "      <th>ari</th>\n",
       "      <th>features</th>\n",
       "      <th>partition</th>\n",
       "      <th>size</th>\n",
       "      <th>structure</th>\n",
       "    </tr>\n",
       "  </thead>\n",
       "  <tbody>\n",
       "    <tr>\n",
       "      <th>0</th>\n",
       "      <td>0.193387</td>\n",
       "      <td>0.0</td>\n",
       "      <td>[10, 11, 12, 13, 14, 15, 16, 17, 18, 19]</td>\n",
       "      <td>[0, 1, 3, 1, 1, 1, 2, 0, 3, 1, 1, 0, 0, 0, 0, ...</td>\n",
       "      <td>10.0</td>\n",
       "      <td>Counter({0: 300, 1: 300, 3: 300, 2: 300})</td>\n",
       "    </tr>\n",
       "    <tr>\n",
       "      <th>1</th>\n",
       "      <td>0.169964</td>\n",
       "      <td>1.0</td>\n",
       "      <td>[0, 1, 3, 4, 5, 6, 7, 8, 9, 820]</td>\n",
       "      <td>[3, 3, 0, 3, 3, 3, 3, 2, 2, 0, 0, 2, 1, 2, 0, ...</td>\n",
       "      <td>10.0</td>\n",
       "      <td>Counter({3: 300, 0: 300, 2: 300, 1: 300})</td>\n",
       "    </tr>\n",
       "  </tbody>\n",
       "</table>\n",
       "</div>"
      ],
      "text/plain": [
       "   adapted_ratkowsky_lance  ari                                  features  \\\n",
       "0                 0.193387  0.0  [10, 11, 12, 13, 14, 15, 16, 17, 18, 19]   \n",
       "1                 0.169964  1.0          [0, 1, 3, 4, 5, 6, 7, 8, 9, 820]   \n",
       "\n",
       "                                           partition  size  \\\n",
       "0  [0, 1, 3, 1, 1, 1, 2, 0, 3, 1, 1, 0, 0, 0, 0, ...  10.0   \n",
       "1  [3, 3, 0, 3, 3, 3, 3, 2, 2, 0, 0, 2, 1, 2, 0, ...  10.0   \n",
       "\n",
       "                                   structure  \n",
       "0  Counter({0: 300, 1: 300, 3: 300, 2: 300})  \n",
       "1  Counter({3: 300, 0: 300, 2: 300, 1: 300})  "
      ]
     },
     "metadata": {},
     "output_type": "display_data"
    },
    {
     "name": "stdout",
     "output_type": "stream",
     "text": [
      "Selecting (33, 4) from archive\n"
     ]
    },
    {
     "name": "stderr",
     "output_type": "stream",
     "text": [
      " 92%|█████████▏| 12/13 [01:44<00:08,  8.18s/it]"
     ]
    },
    {
     "name": "stdout",
     "output_type": "stream",
     "text": [
      "S=2, Tabu = 99S=2, Tabu = 193"
     ]
    },
    {
     "data": {
      "text/html": [
       "<div>\n",
       "<style scoped>\n",
       "    .dataframe tbody tr th:only-of-type {\n",
       "        vertical-align: middle;\n",
       "    }\n",
       "\n",
       "    .dataframe tbody tr th {\n",
       "        vertical-align: top;\n",
       "    }\n",
       "\n",
       "    .dataframe thead th {\n",
       "        text-align: right;\n",
       "    }\n",
       "</style>\n",
       "<table border=\"1\" class=\"dataframe\">\n",
       "  <thead>\n",
       "    <tr style=\"text-align: right;\">\n",
       "      <th></th>\n",
       "      <th>adapted_ratkowsky_lance</th>\n",
       "      <th>ari</th>\n",
       "      <th>features</th>\n",
       "      <th>partition</th>\n",
       "      <th>size</th>\n",
       "      <th>structure</th>\n",
       "    </tr>\n",
       "  </thead>\n",
       "  <tbody>\n",
       "    <tr>\n",
       "      <th>0</th>\n",
       "      <td>0.193387</td>\n",
       "      <td>0.0</td>\n",
       "      <td>[10, 11, 12, 13, 14, 15, 16, 17, 18, 19]</td>\n",
       "      <td>[0, 1, 3, 1, 1, 1, 2, 0, 3, 1, 1, 0, 0, 0, 0, ...</td>\n",
       "      <td>10.0</td>\n",
       "      <td>Counter({0: 300, 1: 300, 3: 300, 2: 300})</td>\n",
       "    </tr>\n",
       "    <tr>\n",
       "      <th>1</th>\n",
       "      <td>0.169964</td>\n",
       "      <td>1.0</td>\n",
       "      <td>[0, 1, 3, 4, 5, 6, 7, 8, 9, 820]</td>\n",
       "      <td>[3, 3, 0, 3, 3, 3, 3, 2, 2, 0, 0, 2, 1, 2, 0, ...</td>\n",
       "      <td>10.0</td>\n",
       "      <td>Counter({3: 300, 0: 300, 2: 300, 1: 300})</td>\n",
       "    </tr>\n",
       "    <tr>\n",
       "      <th>2</th>\n",
       "      <td>0.127675</td>\n",
       "      <td>-0.0</td>\n",
       "      <td>[74, 115]</td>\n",
       "      <td>[0, 2, 2, 1, 2, 1, 3, 1, 3, 2, 1, 2, 0, 0, 1, ...</td>\n",
       "      <td>2.0</td>\n",
       "      <td>Counter({3: 306, 2: 305, 0: 297, 1: 292})</td>\n",
       "    </tr>\n",
       "  </tbody>\n",
       "</table>\n",
       "</div>"
      ],
      "text/plain": [
       "   adapted_ratkowsky_lance  ari                                  features  \\\n",
       "0                 0.193387  0.0  [10, 11, 12, 13, 14, 15, 16, 17, 18, 19]   \n",
       "1                 0.169964  1.0          [0, 1, 3, 4, 5, 6, 7, 8, 9, 820]   \n",
       "2                 0.127675 -0.0                                 [74, 115]   \n",
       "\n",
       "                                           partition  size  \\\n",
       "0  [0, 1, 3, 1, 1, 1, 2, 0, 3, 1, 1, 0, 0, 0, 0, ...  10.0   \n",
       "1  [3, 3, 0, 3, 3, 3, 3, 2, 2, 0, 0, 2, 1, 2, 0, ...  10.0   \n",
       "2  [0, 2, 2, 1, 2, 1, 3, 1, 3, 2, 1, 2, 0, 0, 1, ...   2.0   \n",
       "\n",
       "                                   structure  \n",
       "0  Counter({0: 300, 1: 300, 3: 300, 2: 300})  \n",
       "1  Counter({3: 300, 0: 300, 2: 300, 1: 300})  \n",
       "2  Counter({3: 306, 2: 305, 0: 297, 1: 292})  "
      ]
     },
     "metadata": {},
     "output_type": "display_data"
    },
    {
     "name": "stdout",
     "output_type": "stream",
     "text": [
      "Selecting (3, 4) from archive\n"
     ]
    },
    {
     "name": "stderr",
     "output_type": "stream",
     "text": [
      "100%|██████████| 13/13 [01:54<00:00,  8.78s/it]\n"
     ]
    },
    {
     "name": "stdout",
     "output_type": "stream",
     "text": [
      ".Total: (1200, 821), uniform (1200, 300) , normal (1200, 300),neg bin (1200, 0), gamma (1200, 100), moon (1200, 2), circle (1200, 2),  bimodal (1200, 0), redundat (1200, 1), outliers with uniform (1200, 0), outliers with normal (1200, 0) ,outlier binomial (1200, 0), beta features (1200, 100), \n",
      "(821,) (821,)\n",
      "Statistics computation 0.22 sec\n",
      "Entropy computation 0.82 sec\n",
      "KNN computation 0.45 sec\n",
      "Sorting and thresholds 0.01 sec\n",
      "Performing clustering from file\n",
      "Hierarchical clustering 0.22 sec\n",
      "Handle redundant features 0.01 sec\n",
      "Done 0.0 sec\n",
      "Returning 0 redundant features and  21 important features\n",
      "trimming 640 to 410\n",
      "handle_close_important (410, 3), total 1113\n",
      "relevant_features 471 => computing 4597 \n",
      "trimming 3338 to 0\n",
      "handle_important_features (410, 3),  total 4597\n",
      "irrelevant_features 350 => computing 1721\n",
      "trimming 1547 to 410\n",
      "handle_not_important_features (820, 3), total 1721\n",
      "handle_all_features 821 => computing 4075\n",
      "done predicting\n",
      "trimming 2548 to 821\n",
      "handle_all_features (1641, 3),  total 4075\n",
      "run (1641, 3), total 11506\n",
      "nb_dims : 821 => d = 50\n",
      "Non redundant features 821, orig size 821, nb imp : 21\n",
      "Initial subspace score {'adapted_ratkowsky_lance': 0.13405820405273508, 'ari': 0.78, 'structure': 'Counter({3: 307, 2: 305, 0: 299, 1: 289})', 'features': '8_9', 'size': 2}\n",
      "S=7, Tabu = 93S=9, Tabu = 189S=9, Tabu = 286nb_dims : 821 => d = 50\n",
      "Non redundant features 821, orig size 821, nb imp : 21\n",
      "Initial subspace score {'adapted_ratkowsky_lance': 0.11474478834256469, 'ari': 0.36, 'structure': 'Counter({0: 325, 1: 315, 3: 281, 2: 279})', 'features': '2_4', 'size': 2}\n",
      "S=4, Tabu = 97S=9, Tabu = 192S=9, Tabu = 290nb_dims : 821 => d = 50\n",
      "Non redundant features 821, orig size 821, nb imp : 21\n",
      "Initial subspace score {'adapted_ratkowsky_lance': 0.12466872112783761, 'ari': 0.45, 'structure': 'Counter({1: 323, 2: 304, 0: 299, 3: 274})', 'features': '1_3', 'size': 2}\n",
      "S=8, Tabu = 91S=9, Tabu = 189S=9, Tabu = 289nb_dims : 821 => d = 50\n",
      "Non redundant features 821, orig size 821, nb imp : 21\n",
      "Initial subspace score {'adapted_ratkowsky_lance': 0.14795763155863056, 'ari': 0.75, 'structure': 'Counter({0: 325, 3: 308, 1: 300, 2: 267})', 'features': '11_12', 'size': 2}\n",
      "S=11, Tabu = 88S=10, Tabu = 187nb_dims : 821 => d = 50\n",
      "Non redundant features 821, orig size 821, nb imp : 21\n",
      "Initial subspace score {'adapted_ratkowsky_lance': 0.1332985167073923, 'ari': 0.73, 'structure': 'Counter({3: 307, 2: 307, 1: 296, 0: 290})', 'features': '18_19', 'size': 2}\n",
      "S=7, Tabu = 93S=10, Tabu = 189S=10, Tabu = 286nb_dims : 821 => d = 50\n",
      "Non redundant features 821, orig size 821, nb imp : 21\n",
      "Initial subspace score {'adapted_ratkowsky_lance': 0.15224116915112948, 'ari': 1.0, 'structure': 'Counter({1: 301, 3: 300, 2: 300, 0: 299})', 'features': '14_15', 'size': 2}\n",
      "S=6, Tabu = 93S=7, Tabu = 191S=7, Tabu = 287Discovery Analysis\n",
      "(821,) (821,)\n",
      "Statistics computation 0.23 sec\n",
      "Entropy computation 0.84 sec\n",
      "KNN computation 0.47 sec\n",
      "Sorting and thresholds 0.02 sec\n",
      "Performing clustering from file\n",
      "Hierarchical clustering 0.23 sec\n",
      "Handle redundant features 0.01 sec\n",
      "Done 0.0 sec\n",
      "Returning 0 redundant features and  21 important features\n",
      "trimming 640 to 410\n",
      "handle_close_important (410, 3), total 1113\n",
      "relevant_features 471 => computing 4597 \n",
      "trimming 3338 to 0\n",
      "handle_important_features (410, 3),  total 4597\n",
      "irrelevant_features 350 => computing 1721\n",
      "trimming 1547 to 410\n",
      "handle_not_important_features (820, 3), total 1721\n",
      "handle_all_features 821 => computing 4075\n"
     ]
    },
    {
     "name": "stderr",
     "output_type": "stream",
     "text": [
      "\r",
      "  0%|          | 0/13 [00:00<?, ?it/s]"
     ]
    },
    {
     "name": "stdout",
     "output_type": "stream",
     "text": [
      "done predicting\n",
      "trimming 2548 to 821\n",
      "handle_all_features (1641, 3),  total 4075\n",
      "run (1641, 3), total 11506\n",
      "nb_dims : 821 => d = 50\n",
      "Non redundant features 821, orig size 821, nb imp : 21\n",
      "Selecting (50, 4) from archive\n"
     ]
    },
    {
     "name": "stderr",
     "output_type": "stream",
     "text": [
      " 31%|███       | 4/13 [00:19<00:45,  5.07s/it]"
     ]
    },
    {
     "name": "stdout",
     "output_type": "stream",
     "text": [
      "S=7, Tabu = 98S=7, Tabu = 197"
     ]
    },
    {
     "data": {
      "text/html": [
       "<div>\n",
       "<style scoped>\n",
       "    .dataframe tbody tr th:only-of-type {\n",
       "        vertical-align: middle;\n",
       "    }\n",
       "\n",
       "    .dataframe tbody tr th {\n",
       "        vertical-align: top;\n",
       "    }\n",
       "\n",
       "    .dataframe thead th {\n",
       "        text-align: right;\n",
       "    }\n",
       "</style>\n",
       "<table border=\"1\" class=\"dataframe\">\n",
       "  <thead>\n",
       "    <tr style=\"text-align: right;\">\n",
       "      <th></th>\n",
       "      <th>adapted_ratkowsky_lance</th>\n",
       "      <th>ari</th>\n",
       "      <th>features</th>\n",
       "      <th>partition</th>\n",
       "      <th>size</th>\n",
       "      <th>structure</th>\n",
       "    </tr>\n",
       "  </thead>\n",
       "  <tbody>\n",
       "    <tr>\n",
       "      <th>0</th>\n",
       "      <td>0.18246</td>\n",
       "      <td>0.0</td>\n",
       "      <td>[10, 11, 13, 14, 15, 18, 19]</td>\n",
       "      <td>[0, 3, 1, 3, 3, 3, 2, 0, 1, 3, 3, 0, 0, 0, 0, ...</td>\n",
       "      <td>7.0</td>\n",
       "      <td>Counter({0: 300, 3: 300, 1: 300, 2: 300})</td>\n",
       "    </tr>\n",
       "  </tbody>\n",
       "</table>\n",
       "</div>"
      ],
      "text/plain": [
       "   adapted_ratkowsky_lance  ari                      features  \\\n",
       "0                  0.18246  0.0  [10, 11, 13, 14, 15, 18, 19]   \n",
       "\n",
       "                                           partition  size  \\\n",
       "0  [0, 3, 1, 3, 3, 3, 2, 0, 1, 3, 3, 0, 0, 0, 0, ...   7.0   \n",
       "\n",
       "                                   structure  \n",
       "0  Counter({0: 300, 3: 300, 1: 300, 2: 300})  "
      ]
     },
     "metadata": {},
     "output_type": "display_data"
    },
    {
     "name": "stdout",
     "output_type": "stream",
     "text": [
      "Selecting (17, 4) from archive\n"
     ]
    },
    {
     "name": "stderr",
     "output_type": "stream",
     "text": [
      " 62%|██████▏   | 8/13 [00:51<00:30,  6.09s/it]"
     ]
    },
    {
     "name": "stdout",
     "output_type": "stream",
     "text": [
      "S=9, Tabu = 96S=9, Tabu = 196"
     ]
    },
    {
     "data": {
      "text/html": [
       "<div>\n",
       "<style scoped>\n",
       "    .dataframe tbody tr th:only-of-type {\n",
       "        vertical-align: middle;\n",
       "    }\n",
       "\n",
       "    .dataframe tbody tr th {\n",
       "        vertical-align: top;\n",
       "    }\n",
       "\n",
       "    .dataframe thead th {\n",
       "        text-align: right;\n",
       "    }\n",
       "</style>\n",
       "<table border=\"1\" class=\"dataframe\">\n",
       "  <thead>\n",
       "    <tr style=\"text-align: right;\">\n",
       "      <th></th>\n",
       "      <th>adapted_ratkowsky_lance</th>\n",
       "      <th>ari</th>\n",
       "      <th>features</th>\n",
       "      <th>partition</th>\n",
       "      <th>size</th>\n",
       "      <th>structure</th>\n",
       "    </tr>\n",
       "  </thead>\n",
       "  <tbody>\n",
       "    <tr>\n",
       "      <th>0</th>\n",
       "      <td>0.182460</td>\n",
       "      <td>0.0</td>\n",
       "      <td>[10, 11, 13, 14, 15, 18, 19]</td>\n",
       "      <td>[0, 3, 1, 3, 3, 3, 2, 0, 1, 3, 3, 0, 0, 0, 0, ...</td>\n",
       "      <td>7.0</td>\n",
       "      <td>Counter({0: 300, 3: 300, 1: 300, 2: 300})</td>\n",
       "    </tr>\n",
       "    <tr>\n",
       "      <th>1</th>\n",
       "      <td>0.169278</td>\n",
       "      <td>1.0</td>\n",
       "      <td>[0, 1, 3, 4, 5, 6, 7, 8, 9]</td>\n",
       "      <td>[3, 3, 0, 3, 3, 3, 3, 2, 2, 0, 0, 2, 1, 2, 0, ...</td>\n",
       "      <td>9.0</td>\n",
       "      <td>Counter({3: 300, 0: 300, 2: 300, 1: 300})</td>\n",
       "    </tr>\n",
       "  </tbody>\n",
       "</table>\n",
       "</div>"
      ],
      "text/plain": [
       "   adapted_ratkowsky_lance  ari                      features  \\\n",
       "0                 0.182460  0.0  [10, 11, 13, 14, 15, 18, 19]   \n",
       "1                 0.169278  1.0   [0, 1, 3, 4, 5, 6, 7, 8, 9]   \n",
       "\n",
       "                                           partition  size  \\\n",
       "0  [0, 3, 1, 3, 3, 3, 2, 0, 1, 3, 3, 0, 0, 0, 0, ...   7.0   \n",
       "1  [3, 3, 0, 3, 3, 3, 3, 2, 2, 0, 0, 2, 1, 2, 0, ...   9.0   \n",
       "\n",
       "                                   structure  \n",
       "0  Counter({0: 300, 3: 300, 1: 300, 2: 300})  \n",
       "1  Counter({3: 300, 0: 300, 2: 300, 1: 300})  "
      ]
     },
     "metadata": {},
     "output_type": "display_data"
    },
    {
     "name": "stdout",
     "output_type": "stream",
     "text": [
      "Selecting (29, 4) from archive\n"
     ]
    },
    {
     "name": "stderr",
     "output_type": "stream",
     "text": [
      " 92%|█████████▏| 12/13 [01:27<00:06,  6.89s/it]"
     ]
    },
    {
     "name": "stdout",
     "output_type": "stream",
     "text": [
      "S=4, Tabu = 92S=5, Tabu = 190S=8, Tabu = 282S=9, Tabu = 374S=9, Tabu = 458"
     ]
    },
    {
     "data": {
      "text/html": [
       "<div>\n",
       "<style scoped>\n",
       "    .dataframe tbody tr th:only-of-type {\n",
       "        vertical-align: middle;\n",
       "    }\n",
       "\n",
       "    .dataframe tbody tr th {\n",
       "        vertical-align: top;\n",
       "    }\n",
       "\n",
       "    .dataframe thead th {\n",
       "        text-align: right;\n",
       "    }\n",
       "</style>\n",
       "<table border=\"1\" class=\"dataframe\">\n",
       "  <thead>\n",
       "    <tr style=\"text-align: right;\">\n",
       "      <th></th>\n",
       "      <th>adapted_ratkowsky_lance</th>\n",
       "      <th>ari</th>\n",
       "      <th>features</th>\n",
       "      <th>partition</th>\n",
       "      <th>size</th>\n",
       "      <th>structure</th>\n",
       "    </tr>\n",
       "  </thead>\n",
       "  <tbody>\n",
       "    <tr>\n",
       "      <th>0</th>\n",
       "      <td>0.182460</td>\n",
       "      <td>0.0</td>\n",
       "      <td>[10, 11, 13, 14, 15, 18, 19]</td>\n",
       "      <td>[0, 3, 1, 3, 3, 3, 2, 0, 1, 3, 3, 0, 0, 0, 0, ...</td>\n",
       "      <td>7.0</td>\n",
       "      <td>Counter({0: 300, 3: 300, 1: 300, 2: 300})</td>\n",
       "    </tr>\n",
       "    <tr>\n",
       "      <th>1</th>\n",
       "      <td>0.169278</td>\n",
       "      <td>1.0</td>\n",
       "      <td>[0, 1, 3, 4, 5, 6, 7, 8, 9]</td>\n",
       "      <td>[3, 3, 0, 3, 3, 3, 3, 2, 2, 0, 0, 2, 1, 2, 0, ...</td>\n",
       "      <td>9.0</td>\n",
       "      <td>Counter({3: 300, 0: 300, 2: 300, 1: 300})</td>\n",
       "    </tr>\n",
       "    <tr>\n",
       "      <th>2</th>\n",
       "      <td>0.190996</td>\n",
       "      <td>0.0</td>\n",
       "      <td>[10, 11, 12, 13, 14, 15, 16, 17, 18]</td>\n",
       "      <td>[0, 3, 2, 3, 3, 3, 1, 0, 2, 3, 3, 0, 0, 0, 0, ...</td>\n",
       "      <td>9.0</td>\n",
       "      <td>Counter({0: 300, 3: 300, 2: 300, 1: 300})</td>\n",
       "    </tr>\n",
       "  </tbody>\n",
       "</table>\n",
       "</div>"
      ],
      "text/plain": [
       "   adapted_ratkowsky_lance  ari                              features  \\\n",
       "0                 0.182460  0.0          [10, 11, 13, 14, 15, 18, 19]   \n",
       "1                 0.169278  1.0           [0, 1, 3, 4, 5, 6, 7, 8, 9]   \n",
       "2                 0.190996  0.0  [10, 11, 12, 13, 14, 15, 16, 17, 18]   \n",
       "\n",
       "                                           partition  size  \\\n",
       "0  [0, 3, 1, 3, 3, 3, 2, 0, 1, 3, 3, 0, 0, 0, 0, ...   7.0   \n",
       "1  [3, 3, 0, 3, 3, 3, 3, 2, 2, 0, 0, 2, 1, 2, 0, ...   9.0   \n",
       "2  [0, 3, 2, 3, 3, 3, 1, 0, 2, 3, 3, 0, 0, 0, 0, ...   9.0   \n",
       "\n",
       "                                   structure  \n",
       "0  Counter({0: 300, 3: 300, 1: 300, 2: 300})  \n",
       "1  Counter({3: 300, 0: 300, 2: 300, 1: 300})  \n",
       "2  Counter({0: 300, 3: 300, 2: 300, 1: 300})  "
      ]
     },
     "metadata": {},
     "output_type": "display_data"
    },
    {
     "name": "stdout",
     "output_type": "stream",
     "text": [
      "Selecting (12, 4) from archive\n"
     ]
    },
    {
     "name": "stderr",
     "output_type": "stream",
     "text": [
      "100%|██████████| 13/13 [01:59<00:00,  9.19s/it]\n",
      "/usr/local/lib/python3.6/dist-packages/numpy/core/fromnumeric.py:90: RuntimeWarning: overflow encountered in reduce\n",
      "  return ufunc.reduce(obj, axis, dtype, out, **passkwargs)\n"
     ]
    },
    {
     "name": "stdout",
     "output_type": "stream",
     "text": [
      ".Total: (1200, 861), uniform (1200, 300) , normal (1200, 300),neg bin (1200, 0), gamma (1200, 100), moon (1200, 2), circle (1200, 2),  bimodal (1200, 0), redundat (1200, 1), outliers with uniform (1200, 0), outliers with normal (1200, 0) ,outlier binomial (1200, 0), beta features (1200, 100), \n",
      "(861,) (861,)\n",
      "Statistics computation 0.22 sec\n",
      "Entropy computation 0.83 sec\n",
      "KNN computation 0.54 sec\n",
      "Sorting and thresholds 0.02 sec\n",
      "Performing clustering from file\n",
      "Hierarchical clustering 0.25 sec\n",
      "Handle redundant features 0.02 sec\n",
      "Done 0.0 sec\n",
      "Returning 8 redundant features and  19 important features\n",
      "trimming 725 to 426\n",
      "handle_close_important (426, 3), total 1192\n",
      "relevant_features 481 => computing 4702 \n",
      "trimming 3386 to 8\n",
      "handle_important_features (434, 3),  total 4702\n",
      "irrelevant_features 372 => computing 1832\n",
      "trimming 1628 to 426\n",
      "handle_not_important_features (860, 3), total 1832\n",
      "handle_all_features 853 => computing 4235\n",
      "done predicting\n",
      "trimming 2730 to 853\n",
      "handle_all_features (1713, 3),  total 4235\n",
      "run (1713, 3), total 11961\n",
      "nb_dims : 861 => d = 50\n",
      "Non redundant features 853, orig size 861, nb imp : 19\n",
      "Initial subspace score {'adapted_ratkowsky_lance': 0.14310258554203809, 'ari': 0.62, 'structure': 'Counter({2: 601, 0: 299, 3: 199, 1: 101})', 'features': '14_22', 'size': 2}\n",
      "S=13, Tabu = 87S=25, Tabu = 174S=27, Tabu = 269S=27, Tabu = 366nb_dims : 861 => d = 50\n",
      "Non redundant features 853, orig size 861, nb imp : 19\n",
      "Initial subspace score {'adapted_ratkowsky_lance': 0.12742638657194064, 'ari': 0.59, 'structure': 'Counter({2: 320, 3: 316, 1: 303, 0: 261})', 'features': '11_26', 'size': 2}\n",
      "S=14, Tabu = 87S=26, Tabu = 172S=28, Tabu = 270S=28, Tabu = 367nb_dims : 861 => d = 50\n",
      "Non redundant features 853, orig size 861, nb imp : 19\n",
      "Initial subspace score {'adapted_ratkowsky_lance': 0.15282759718666983, 'ari': 0.97, 'structure': 'Counter({1: 305, 0: 300, 2: 300, 3: 295})', 'features': '7_17', 'size': 2}\n",
      "S=11, Tabu = 85S=20, Tabu = 171S=28, Tabu = 259S=28, Tabu = 357nb_dims : 861 => d = 50\n",
      "Non redundant features 853, orig size 861, nb imp : 19\n",
      "Initial subspace score {'adapted_ratkowsky_lance': 0.13152570460767454, 'ari': 0.45, 'structure': 'Counter({3: 317, 1: 313, 0: 299, 2: 271})', 'features': '33_58', 'size': 2}\n",
      "S=16, Tabu = 83S=31, Tabu = 165S=31, Tabu = 265nb_dims : 861 => d = 50\n",
      "Non redundant features 853, orig size 861, nb imp : 19\n",
      "Initial subspace score {'adapted_ratkowsky_lance': 0.14518105074529, 'ari': 0.6, 'structure': 'Counter({1: 600, 0: 297, 3: 205, 2: 98})', 'features': '48_54', 'size': 2}\n",
      "S=11, Tabu = 91S=13, Tabu = 188S=13, Tabu = 288nb_dims : 861 => d = 50\n",
      "Non redundant features 853, orig size 861, nb imp : 19\n",
      "Initial subspace score {'adapted_ratkowsky_lance': 0.148403320808773, 'ari': 0.76, 'structure': 'Counter({3: 314, 1: 300, 0: 293, 2: 293})', 'features': '51_56', 'size': 2}\n",
      "S=12, Tabu = 90S=26, Tabu = 173S=26, Tabu = 270Discovery Analysis\n"
     ]
    },
    {
     "name": "stderr",
     "output_type": "stream",
     "text": [
      "/usr/local/lib/python3.6/dist-packages/numpy/core/fromnumeric.py:90: RuntimeWarning: overflow encountered in reduce\n",
      "  return ufunc.reduce(obj, axis, dtype, out, **passkwargs)\n"
     ]
    },
    {
     "name": "stdout",
     "output_type": "stream",
     "text": [
      "(861,) (861,)\n",
      "Statistics computation 0.33 sec\n",
      "Entropy computation 0.95 sec\n",
      "KNN computation 0.63 sec\n",
      "Sorting and thresholds 0.02 sec\n",
      "Performing clustering from file\n",
      "Hierarchical clustering 0.3 sec\n",
      "Handle redundant features 0.03 sec\n",
      "Done 0.0 sec\n",
      "Returning 8 redundant features and  19 important features\n",
      "trimming 725 to 426\n",
      "handle_close_important (426, 3), total 1192\n",
      "relevant_features 481 => computing 4702 \n",
      "trimming 3386 to 8\n",
      "handle_important_features (434, 3),  total 4702\n",
      "irrelevant_features 372 => computing 1832\n",
      "trimming 1628 to 426\n",
      "handle_not_important_features (860, 3), total 1832\n",
      "handle_all_features 853 => computing 4235\n"
     ]
    },
    {
     "name": "stderr",
     "output_type": "stream",
     "text": [
      "\r",
      "  0%|          | 0/13 [00:00<?, ?it/s]"
     ]
    },
    {
     "name": "stdout",
     "output_type": "stream",
     "text": [
      "done predicting\n",
      "trimming 2730 to 853\n",
      "handle_all_features (1713, 3),  total 4235\n",
      "run (1713, 3), total 11961\n",
      "nb_dims : 861 => d = 50\n",
      "Non redundant features 853, orig size 861, nb imp : 19\n",
      "Selecting (50, 4) from archive\n"
     ]
    },
    {
     "name": "stderr",
     "output_type": "stream",
     "text": [
      " 31%|███       | 4/13 [00:25<00:58,  6.48s/it]"
     ]
    },
    {
     "name": "stdout",
     "output_type": "stream",
     "text": [
      "S=20, Tabu = 87S=28, Tabu = 178S=28, Tabu = 276"
     ]
    },
    {
     "data": {
      "text/html": [
       "<div>\n",
       "<style scoped>\n",
       "    .dataframe tbody tr th:only-of-type {\n",
       "        vertical-align: middle;\n",
       "    }\n",
       "\n",
       "    .dataframe tbody tr th {\n",
       "        vertical-align: top;\n",
       "    }\n",
       "\n",
       "    .dataframe thead th {\n",
       "        text-align: right;\n",
       "    }\n",
       "</style>\n",
       "<table border=\"1\" class=\"dataframe\">\n",
       "  <thead>\n",
       "    <tr style=\"text-align: right;\">\n",
       "      <th></th>\n",
       "      <th>adapted_ratkowsky_lance</th>\n",
       "      <th>ari</th>\n",
       "      <th>features</th>\n",
       "      <th>partition</th>\n",
       "      <th>size</th>\n",
       "      <th>structure</th>\n",
       "    </tr>\n",
       "  </thead>\n",
       "  <tbody>\n",
       "    <tr>\n",
       "      <th>0</th>\n",
       "      <td>0.202533</td>\n",
       "      <td>-0.0</td>\n",
       "      <td>[30, 31, 32, 33, 34, 35, 36, 37, 38, 39, 40, 4...</td>\n",
       "      <td>[0, 1, 0, 3, 3, 0, 3, 0, 2, 0, 3, 3, 1, 1, 0, ...</td>\n",
       "      <td>28.0</td>\n",
       "      <td>Counter({0: 300, 1: 300, 3: 300, 2: 300})</td>\n",
       "    </tr>\n",
       "  </tbody>\n",
       "</table>\n",
       "</div>"
      ],
      "text/plain": [
       "   adapted_ratkowsky_lance  ari  \\\n",
       "0                 0.202533 -0.0   \n",
       "\n",
       "                                            features  \\\n",
       "0  [30, 31, 32, 33, 34, 35, 36, 37, 38, 39, 40, 4...   \n",
       "\n",
       "                                           partition  size  \\\n",
       "0  [0, 1, 0, 3, 3, 0, 3, 0, 2, 0, 3, 3, 1, 1, 0, ...  28.0   \n",
       "\n",
       "                                   structure  \n",
       "0  Counter({0: 300, 1: 300, 3: 300, 2: 300})  "
      ]
     },
     "metadata": {},
     "output_type": "display_data"
    },
    {
     "name": "stdout",
     "output_type": "stream",
     "text": [
      "Selecting (16, 4) from archive\n"
     ]
    },
    {
     "name": "stderr",
     "output_type": "stream",
     "text": [
      " 62%|██████▏   | 8/13 [01:56<01:17, 15.54s/it]"
     ]
    },
    {
     "name": "stdout",
     "output_type": "stream",
     "text": [
      "S=27, Tabu = 95S=27, Tabu = 195"
     ]
    },
    {
     "data": {
      "text/html": [
       "<div>\n",
       "<style scoped>\n",
       "    .dataframe tbody tr th:only-of-type {\n",
       "        vertical-align: middle;\n",
       "    }\n",
       "\n",
       "    .dataframe tbody tr th {\n",
       "        vertical-align: top;\n",
       "    }\n",
       "\n",
       "    .dataframe thead th {\n",
       "        text-align: right;\n",
       "    }\n",
       "</style>\n",
       "<table border=\"1\" class=\"dataframe\">\n",
       "  <thead>\n",
       "    <tr style=\"text-align: right;\">\n",
       "      <th></th>\n",
       "      <th>adapted_ratkowsky_lance</th>\n",
       "      <th>ari</th>\n",
       "      <th>features</th>\n",
       "      <th>partition</th>\n",
       "      <th>size</th>\n",
       "      <th>structure</th>\n",
       "    </tr>\n",
       "  </thead>\n",
       "  <tbody>\n",
       "    <tr>\n",
       "      <th>0</th>\n",
       "      <td>0.202533</td>\n",
       "      <td>-0.0</td>\n",
       "      <td>[30, 31, 32, 33, 34, 35, 36, 37, 38, 39, 40, 4...</td>\n",
       "      <td>[0, 1, 0, 3, 3, 0, 3, 0, 2, 0, 3, 3, 1, 1, 0, ...</td>\n",
       "      <td>28.0</td>\n",
       "      <td>Counter({0: 300, 1: 300, 3: 300, 2: 300})</td>\n",
       "    </tr>\n",
       "    <tr>\n",
       "      <th>1</th>\n",
       "      <td>0.201018</td>\n",
       "      <td>1.0</td>\n",
       "      <td>[0, 1, 3, 4, 5, 6, 7, 9, 10, 12, 13, 14, 15, 1...</td>\n",
       "      <td>[3, 0, 2, 1, 0, 0, 1, 1, 3, 0, 0, 1, 3, 0, 2, ...</td>\n",
       "      <td>27.0</td>\n",
       "      <td>Counter({3: 300, 0: 300, 2: 300, 1: 300})</td>\n",
       "    </tr>\n",
       "  </tbody>\n",
       "</table>\n",
       "</div>"
      ],
      "text/plain": [
       "   adapted_ratkowsky_lance  ari  \\\n",
       "0                 0.202533 -0.0   \n",
       "1                 0.201018  1.0   \n",
       "\n",
       "                                            features  \\\n",
       "0  [30, 31, 32, 33, 34, 35, 36, 37, 38, 39, 40, 4...   \n",
       "1  [0, 1, 3, 4, 5, 6, 7, 9, 10, 12, 13, 14, 15, 1...   \n",
       "\n",
       "                                           partition  size  \\\n",
       "0  [0, 1, 0, 3, 3, 0, 3, 0, 2, 0, 3, 3, 1, 1, 0, ...  28.0   \n",
       "1  [3, 0, 2, 1, 0, 0, 1, 1, 3, 0, 0, 1, 3, 0, 2, ...  27.0   \n",
       "\n",
       "                                   structure  \n",
       "0  Counter({0: 300, 1: 300, 3: 300, 2: 300})  \n",
       "1  Counter({3: 300, 0: 300, 2: 300, 1: 300})  "
      ]
     },
     "metadata": {},
     "output_type": "display_data"
    },
    {
     "name": "stdout",
     "output_type": "stream",
     "text": [
      "Selecting (50, 4) from archive\n"
     ]
    },
    {
     "name": "stderr",
     "output_type": "stream",
     "text": [
      " 92%|█████████▏| 12/13 [02:56<00:11, 11.96s/it]"
     ]
    },
    {
     "name": "stdout",
     "output_type": "stream",
     "text": [
      "S=2, Tabu = 98S=2, Tabu = 197"
     ]
    },
    {
     "data": {
      "text/html": [
       "<div>\n",
       "<style scoped>\n",
       "    .dataframe tbody tr th:only-of-type {\n",
       "        vertical-align: middle;\n",
       "    }\n",
       "\n",
       "    .dataframe tbody tr th {\n",
       "        vertical-align: top;\n",
       "    }\n",
       "\n",
       "    .dataframe thead th {\n",
       "        text-align: right;\n",
       "    }\n",
       "</style>\n",
       "<table border=\"1\" class=\"dataframe\">\n",
       "  <thead>\n",
       "    <tr style=\"text-align: right;\">\n",
       "      <th></th>\n",
       "      <th>adapted_ratkowsky_lance</th>\n",
       "      <th>ari</th>\n",
       "      <th>features</th>\n",
       "      <th>partition</th>\n",
       "      <th>size</th>\n",
       "      <th>structure</th>\n",
       "    </tr>\n",
       "  </thead>\n",
       "  <tbody>\n",
       "    <tr>\n",
       "      <th>0</th>\n",
       "      <td>0.202533</td>\n",
       "      <td>-0.0</td>\n",
       "      <td>[30, 31, 32, 33, 34, 35, 36, 37, 38, 39, 40, 4...</td>\n",
       "      <td>[0, 1, 0, 3, 3, 0, 3, 0, 2, 0, 3, 3, 1, 1, 0, ...</td>\n",
       "      <td>28.0</td>\n",
       "      <td>Counter({0: 300, 1: 300, 3: 300, 2: 300})</td>\n",
       "    </tr>\n",
       "    <tr>\n",
       "      <th>1</th>\n",
       "      <td>0.201018</td>\n",
       "      <td>1.0</td>\n",
       "      <td>[0, 1, 3, 4, 5, 6, 7, 9, 10, 12, 13, 14, 15, 1...</td>\n",
       "      <td>[3, 0, 2, 1, 0, 0, 1, 1, 3, 0, 0, 1, 3, 0, 2, ...</td>\n",
       "      <td>27.0</td>\n",
       "      <td>Counter({3: 300, 0: 300, 2: 300, 1: 300})</td>\n",
       "    </tr>\n",
       "    <tr>\n",
       "      <th>2</th>\n",
       "      <td>0.127717</td>\n",
       "      <td>-0.0</td>\n",
       "      <td>[108, 293]</td>\n",
       "      <td>[2, 3, 2, 2, 3, 3, 1, 0, 3, 2, 0, 2, 2, 0, 3, ...</td>\n",
       "      <td>2.0</td>\n",
       "      <td>Counter({0: 316, 2: 307, 3: 297, 1: 280})</td>\n",
       "    </tr>\n",
       "  </tbody>\n",
       "</table>\n",
       "</div>"
      ],
      "text/plain": [
       "   adapted_ratkowsky_lance  ari  \\\n",
       "0                 0.202533 -0.0   \n",
       "1                 0.201018  1.0   \n",
       "2                 0.127717 -0.0   \n",
       "\n",
       "                                            features  \\\n",
       "0  [30, 31, 32, 33, 34, 35, 36, 37, 38, 39, 40, 4...   \n",
       "1  [0, 1, 3, 4, 5, 6, 7, 9, 10, 12, 13, 14, 15, 1...   \n",
       "2                                         [108, 293]   \n",
       "\n",
       "                                           partition  size  \\\n",
       "0  [0, 1, 0, 3, 3, 0, 3, 0, 2, 0, 3, 3, 1, 1, 0, ...  28.0   \n",
       "1  [3, 0, 2, 1, 0, 0, 1, 1, 3, 0, 0, 1, 3, 0, 2, ...  27.0   \n",
       "2  [2, 3, 2, 2, 3, 3, 1, 0, 3, 2, 0, 2, 2, 0, 3, ...   2.0   \n",
       "\n",
       "                                   structure  \n",
       "0  Counter({0: 300, 1: 300, 3: 300, 2: 300})  \n",
       "1  Counter({3: 300, 0: 300, 2: 300, 1: 300})  \n",
       "2  Counter({0: 316, 2: 307, 3: 297, 1: 280})  "
      ]
     },
     "metadata": {},
     "output_type": "display_data"
    },
    {
     "name": "stdout",
     "output_type": "stream",
     "text": [
      "Selecting (2, 4) from archive\n"
     ]
    },
    {
     "name": "stderr",
     "output_type": "stream",
     "text": [
      "100%|██████████| 13/13 [03:08<00:00, 14.48s/it]\n",
      "/usr/local/lib/python3.6/dist-packages/numpy/core/fromnumeric.py:90: RuntimeWarning: overflow encountered in reduce\n",
      "  return ufunc.reduce(obj, axis, dtype, out, **passkwargs)\n"
     ]
    },
    {
     "name": "stdout",
     "output_type": "stream",
     "text": [
      ".Total: (1200, 861), uniform (1200, 300) , normal (1200, 300),neg bin (1200, 0), gamma (1200, 100), moon (1200, 2), circle (1200, 2),  bimodal (1200, 0), redundat (1200, 1), outliers with uniform (1200, 0), outliers with normal (1200, 0) ,outlier binomial (1200, 0), beta features (1200, 100), \n",
      "(861,) (861,)\n",
      "Statistics computation 0.28 sec\n",
      "Entropy computation 0.95 sec\n",
      "KNN computation 0.6 sec\n",
      "Sorting and thresholds 0.02 sec\n",
      "Performing clustering from file\n",
      "Hierarchical clustering 0.29 sec\n",
      "Handle redundant features 0.02 sec\n",
      "Done 0.0 sec\n",
      "Returning 8 redundant features and  19 important features\n",
      "trimming 717 to 426\n",
      "handle_close_important (426, 3), total 1171\n",
      "relevant_features 481 => computing 4702 \n",
      "trimming 3424 to 8\n",
      "handle_important_features (434, 3),  total 4702\n",
      "irrelevant_features 372 => computing 1832\n",
      "trimming 1606 to 426\n",
      "handle_not_important_features (860, 3), total 1832\n",
      "handle_all_features 853 => computing 4235\n",
      "done predicting\n",
      "trimming 2671 to 853\n",
      "handle_all_features (1713, 3),  total 4235\n",
      "run (1713, 3), total 11940\n",
      "nb_dims : 861 => d = 50\n",
      "Non redundant features 853, orig size 861, nb imp : 19\n",
      "Initial subspace score {'adapted_ratkowsky_lance': 0.14310258554203809, 'ari': 0.62, 'structure': 'Counter({2: 601, 0: 299, 3: 199, 1: 101})', 'features': '14_22', 'size': 2}\n",
      "S=13, Tabu = 84S=26, Tabu = 171S=27, Tabu = 269S=28, Tabu = 366S=28, Tabu = 463nb_dims : 861 => d = 50\n",
      "Non redundant features 853, orig size 861, nb imp : 19\n",
      "Initial subspace score {'adapted_ratkowsky_lance': 0.12742638657194064, 'ari': 0.59, 'structure': 'Counter({2: 320, 3: 316, 1: 303, 0: 261})', 'features': '11_26', 'size': 2}\n",
      "S=15, Tabu = 86S=28, Tabu = 171S=29, Tabu = 269S=29, Tabu = 367nb_dims : 861 => d = 50\n",
      "Non redundant features 853, orig size 861, nb imp : 19\n",
      "Initial subspace score {'adapted_ratkowsky_lance': 0.15282759718666983, 'ari': 0.97, 'structure': 'Counter({1: 305, 0: 300, 2: 300, 3: 295})', 'features': '7_17', 'size': 2}\n",
      "S=12, Tabu = 88S=19, Tabu = 178S=27, Tabu = 268S=28, Tabu = 365S=28, Tabu = 461nb_dims : 861 => d = 50\n",
      "Non redundant features 853, orig size 861, nb imp : 19\n",
      "Initial subspace score {'adapted_ratkowsky_lance': 0.13770078581767004, 'ari': 0.77, 'structure': 'Counter({1: 320, 0: 302, 2: 300, 3: 278})', 'features': '35_47', 'size': 2}\n",
      "S=15, Tabu = 86S=28, Tabu = 172S=28, Tabu = 271nb_dims : 861 => d = 50\n",
      "Non redundant features 853, orig size 861, nb imp : 19\n",
      "Initial subspace score {'adapted_ratkowsky_lance': 0.15557792428448425, 'ari': 0.98, 'structure': 'Counter({3: 304, 2: 300, 0: 298, 1: 298})', 'features': '46_49', 'size': 2}\n",
      "S=17, Tabu = 83S=26, Tabu = 174S=29, Tabu = 269S=29, Tabu = 367nb_dims : 861 => d = 50\n",
      "Non redundant features 853, orig size 861, nb imp : 19\n",
      "Initial subspace score {'adapted_ratkowsky_lance': 0.1314289464164975, 'ari': 0.55, 'structure': 'Counter({1: 600, 2: 252, 0: 175, 3: 173})', 'features': '51_57', 'size': 2}\n",
      "S=15, Tabu = 84S=21, Tabu = 175S=23, Tabu = 270S=23, Tabu = 366Discovery Analysis\n"
     ]
    },
    {
     "name": "stderr",
     "output_type": "stream",
     "text": [
      "/usr/local/lib/python3.6/dist-packages/numpy/core/fromnumeric.py:90: RuntimeWarning: overflow encountered in reduce\n",
      "  return ufunc.reduce(obj, axis, dtype, out, **passkwargs)\n"
     ]
    },
    {
     "name": "stdout",
     "output_type": "stream",
     "text": [
      "(861,) (861,)\n",
      "Statistics computation 0.31 sec\n",
      "Entropy computation 0.92 sec\n",
      "KNN computation 0.59 sec\n",
      "Sorting and thresholds 0.02 sec\n",
      "Performing clustering from file\n",
      "Hierarchical clustering 0.28 sec\n",
      "Handle redundant features 0.02 sec\n",
      "Done 0.0 sec\n",
      "Returning 8 redundant features and  19 important features\n",
      "trimming 717 to 426\n",
      "handle_close_important (426, 3), total 1171\n",
      "relevant_features 481 => computing 4702 \n",
      "trimming 3424 to 8\n",
      "handle_important_features (434, 3),  total 4702\n",
      "irrelevant_features 372 => computing 1832\n",
      "trimming 1606 to 426\n",
      "handle_not_important_features (860, 3), total 1832\n",
      "handle_all_features 853 => computing 4235\n"
     ]
    },
    {
     "name": "stderr",
     "output_type": "stream",
     "text": [
      "\r",
      "  0%|          | 0/13 [00:00<?, ?it/s]"
     ]
    },
    {
     "name": "stdout",
     "output_type": "stream",
     "text": [
      "done predicting\n",
      "trimming 2671 to 853\n",
      "handle_all_features (1713, 3),  total 4235\n",
      "run (1713, 3), total 11940\n",
      "nb_dims : 861 => d = 50\n",
      "Non redundant features 853, orig size 861, nb imp : 19\n",
      "Selecting (50, 4) from archive\n"
     ]
    },
    {
     "name": "stderr",
     "output_type": "stream",
     "text": [
      " 31%|███       | 4/13 [00:24<00:56,  6.31s/it]"
     ]
    },
    {
     "name": "stdout",
     "output_type": "stream",
     "text": [
      "S=23, Tabu = 87S=26, Tabu = 181S=29, Tabu = 273S=29, Tabu = 369"
     ]
    },
    {
     "data": {
      "text/html": [
       "<div>\n",
       "<style scoped>\n",
       "    .dataframe tbody tr th:only-of-type {\n",
       "        vertical-align: middle;\n",
       "    }\n",
       "\n",
       "    .dataframe tbody tr th {\n",
       "        vertical-align: top;\n",
       "    }\n",
       "\n",
       "    .dataframe thead th {\n",
       "        text-align: right;\n",
       "    }\n",
       "</style>\n",
       "<table border=\"1\" class=\"dataframe\">\n",
       "  <thead>\n",
       "    <tr style=\"text-align: right;\">\n",
       "      <th></th>\n",
       "      <th>adapted_ratkowsky_lance</th>\n",
       "      <th>ari</th>\n",
       "      <th>features</th>\n",
       "      <th>partition</th>\n",
       "      <th>size</th>\n",
       "      <th>structure</th>\n",
       "    </tr>\n",
       "  </thead>\n",
       "  <tbody>\n",
       "    <tr>\n",
       "      <th>0</th>\n",
       "      <td>0.196485</td>\n",
       "      <td>1.0</td>\n",
       "      <td>[0, 1, 2, 3, 4, 5, 6, 7, 8, 9, 10, 12, 13, 14,...</td>\n",
       "      <td>[3, 0, 2, 1, 0, 0, 1, 1, 3, 0, 0, 1, 3, 0, 2, ...</td>\n",
       "      <td>29.0</td>\n",
       "      <td>Counter({3: 300, 0: 300, 2: 300, 1: 300})</td>\n",
       "    </tr>\n",
       "  </tbody>\n",
       "</table>\n",
       "</div>"
      ],
      "text/plain": [
       "   adapted_ratkowsky_lance  ari  \\\n",
       "0                 0.196485  1.0   \n",
       "\n",
       "                                            features  \\\n",
       "0  [0, 1, 2, 3, 4, 5, 6, 7, 8, 9, 10, 12, 13, 14,...   \n",
       "\n",
       "                                           partition  size  \\\n",
       "0  [3, 0, 2, 1, 0, 0, 1, 1, 3, 0, 0, 1, 3, 0, 2, ...  29.0   \n",
       "\n",
       "                                   structure  \n",
       "0  Counter({3: 300, 0: 300, 2: 300, 1: 300})  "
      ]
     },
     "metadata": {},
     "output_type": "display_data"
    },
    {
     "name": "stdout",
     "output_type": "stream",
     "text": [
      "Selecting (31, 4) from archive\n"
     ]
    },
    {
     "name": "stderr",
     "output_type": "stream",
     "text": [
      " 62%|██████▏   | 8/13 [02:02<01:17, 15.56s/it]"
     ]
    },
    {
     "name": "stdout",
     "output_type": "stream",
     "text": [
      "S=26, Tabu = 88S=28, Tabu = 185S=28, Tabu = 285"
     ]
    },
    {
     "data": {
      "text/html": [
       "<div>\n",
       "<style scoped>\n",
       "    .dataframe tbody tr th:only-of-type {\n",
       "        vertical-align: middle;\n",
       "    }\n",
       "\n",
       "    .dataframe tbody tr th {\n",
       "        vertical-align: top;\n",
       "    }\n",
       "\n",
       "    .dataframe thead th {\n",
       "        text-align: right;\n",
       "    }\n",
       "</style>\n",
       "<table border=\"1\" class=\"dataframe\">\n",
       "  <thead>\n",
       "    <tr style=\"text-align: right;\">\n",
       "      <th></th>\n",
       "      <th>adapted_ratkowsky_lance</th>\n",
       "      <th>ari</th>\n",
       "      <th>features</th>\n",
       "      <th>partition</th>\n",
       "      <th>size</th>\n",
       "      <th>structure</th>\n",
       "    </tr>\n",
       "  </thead>\n",
       "  <tbody>\n",
       "    <tr>\n",
       "      <th>0</th>\n",
       "      <td>0.196485</td>\n",
       "      <td>1.0</td>\n",
       "      <td>[0, 1, 2, 3, 4, 5, 6, 7, 8, 9, 10, 12, 13, 14,...</td>\n",
       "      <td>[3, 0, 2, 1, 0, 0, 1, 1, 3, 0, 0, 1, 3, 0, 2, ...</td>\n",
       "      <td>29.0</td>\n",
       "      <td>Counter({3: 300, 0: 300, 2: 300, 1: 300})</td>\n",
       "    </tr>\n",
       "    <tr>\n",
       "      <th>1</th>\n",
       "      <td>0.202886</td>\n",
       "      <td>-0.0</td>\n",
       "      <td>[31, 32, 34, 35, 36, 37, 38, 40, 41, 42, 43, 4...</td>\n",
       "      <td>[0, 2, 0, 1, 1, 0, 1, 0, 3, 0, 1, 1, 2, 2, 0, ...</td>\n",
       "      <td>28.0</td>\n",
       "      <td>Counter({0: 300, 2: 300, 1: 300, 3: 300})</td>\n",
       "    </tr>\n",
       "  </tbody>\n",
       "</table>\n",
       "</div>"
      ],
      "text/plain": [
       "   adapted_ratkowsky_lance  ari  \\\n",
       "0                 0.196485  1.0   \n",
       "1                 0.202886 -0.0   \n",
       "\n",
       "                                            features  \\\n",
       "0  [0, 1, 2, 3, 4, 5, 6, 7, 8, 9, 10, 12, 13, 14,...   \n",
       "1  [31, 32, 34, 35, 36, 37, 38, 40, 41, 42, 43, 4...   \n",
       "\n",
       "                                           partition  size  \\\n",
       "0  [3, 0, 2, 1, 0, 0, 1, 1, 3, 0, 0, 1, 3, 0, 2, ...  29.0   \n",
       "1  [0, 2, 0, 1, 1, 0, 1, 0, 3, 0, 1, 1, 2, 2, 0, ...  28.0   \n",
       "\n",
       "                                   structure  \n",
       "0  Counter({3: 300, 0: 300, 2: 300, 1: 300})  \n",
       "1  Counter({0: 300, 2: 300, 1: 300, 3: 300})  "
      ]
     },
     "metadata": {},
     "output_type": "display_data"
    },
    {
     "name": "stdout",
     "output_type": "stream",
     "text": [
      "Selecting (50, 4) from archive\n"
     ]
    },
    {
     "name": "stderr",
     "output_type": "stream",
     "text": [
      " 92%|█████████▏| 12/13 [03:16<00:13, 13.34s/it]"
     ]
    },
    {
     "name": "stdout",
     "output_type": "stream",
     "text": [
      "S=2, Tabu = 99S=2, Tabu = 198"
     ]
    },
    {
     "data": {
      "text/html": [
       "<div>\n",
       "<style scoped>\n",
       "    .dataframe tbody tr th:only-of-type {\n",
       "        vertical-align: middle;\n",
       "    }\n",
       "\n",
       "    .dataframe tbody tr th {\n",
       "        vertical-align: top;\n",
       "    }\n",
       "\n",
       "    .dataframe thead th {\n",
       "        text-align: right;\n",
       "    }\n",
       "</style>\n",
       "<table border=\"1\" class=\"dataframe\">\n",
       "  <thead>\n",
       "    <tr style=\"text-align: right;\">\n",
       "      <th></th>\n",
       "      <th>adapted_ratkowsky_lance</th>\n",
       "      <th>ari</th>\n",
       "      <th>features</th>\n",
       "      <th>partition</th>\n",
       "      <th>size</th>\n",
       "      <th>structure</th>\n",
       "    </tr>\n",
       "  </thead>\n",
       "  <tbody>\n",
       "    <tr>\n",
       "      <th>0</th>\n",
       "      <td>0.196485</td>\n",
       "      <td>1.0</td>\n",
       "      <td>[0, 1, 2, 3, 4, 5, 6, 7, 8, 9, 10, 12, 13, 14,...</td>\n",
       "      <td>[3, 0, 2, 1, 0, 0, 1, 1, 3, 0, 0, 1, 3, 0, 2, ...</td>\n",
       "      <td>29.0</td>\n",
       "      <td>Counter({3: 300, 0: 300, 2: 300, 1: 300})</td>\n",
       "    </tr>\n",
       "    <tr>\n",
       "      <th>1</th>\n",
       "      <td>0.202886</td>\n",
       "      <td>-0.0</td>\n",
       "      <td>[31, 32, 34, 35, 36, 37, 38, 40, 41, 42, 43, 4...</td>\n",
       "      <td>[0, 2, 0, 1, 1, 0, 1, 0, 3, 0, 1, 1, 2, 2, 0, ...</td>\n",
       "      <td>28.0</td>\n",
       "      <td>Counter({0: 300, 2: 300, 1: 300, 3: 300})</td>\n",
       "    </tr>\n",
       "    <tr>\n",
       "      <th>2</th>\n",
       "      <td>0.127619</td>\n",
       "      <td>0.0</td>\n",
       "      <td>[178, 288]</td>\n",
       "      <td>[2, 2, 3, 0, 1, 3, 2, 1, 1, 3, 3, 2, 3, 2, 1, ...</td>\n",
       "      <td>2.0</td>\n",
       "      <td>Counter({2: 319, 1: 313, 3: 288, 0: 280})</td>\n",
       "    </tr>\n",
       "  </tbody>\n",
       "</table>\n",
       "</div>"
      ],
      "text/plain": [
       "   adapted_ratkowsky_lance  ari  \\\n",
       "0                 0.196485  1.0   \n",
       "1                 0.202886 -0.0   \n",
       "2                 0.127619  0.0   \n",
       "\n",
       "                                            features  \\\n",
       "0  [0, 1, 2, 3, 4, 5, 6, 7, 8, 9, 10, 12, 13, 14,...   \n",
       "1  [31, 32, 34, 35, 36, 37, 38, 40, 41, 42, 43, 4...   \n",
       "2                                         [178, 288]   \n",
       "\n",
       "                                           partition  size  \\\n",
       "0  [3, 0, 2, 1, 0, 0, 1, 1, 3, 0, 0, 1, 3, 0, 2, ...  29.0   \n",
       "1  [0, 2, 0, 1, 1, 0, 1, 0, 3, 0, 1, 1, 2, 2, 0, ...  28.0   \n",
       "2  [2, 2, 3, 0, 1, 3, 2, 1, 1, 3, 3, 2, 3, 2, 1, ...   2.0   \n",
       "\n",
       "                                   structure  \n",
       "0  Counter({3: 300, 0: 300, 2: 300, 1: 300})  \n",
       "1  Counter({0: 300, 2: 300, 1: 300, 3: 300})  \n",
       "2  Counter({2: 319, 1: 313, 3: 288, 0: 280})  "
      ]
     },
     "metadata": {},
     "output_type": "display_data"
    },
    {
     "name": "stdout",
     "output_type": "stream",
     "text": [
      "Selecting (4, 4) from archive\n"
     ]
    },
    {
     "name": "stderr",
     "output_type": "stream",
     "text": [
      "100%|██████████| 13/13 [03:28<00:00, 16.01s/it]\n",
      "/usr/local/lib/python3.6/dist-packages/numpy/core/fromnumeric.py:90: RuntimeWarning: overflow encountered in reduce\n",
      "  return ufunc.reduce(obj, axis, dtype, out, **passkwargs)\n"
     ]
    },
    {
     "name": "stdout",
     "output_type": "stream",
     "text": [
      ".Total: (1200, 861), uniform (1200, 300) , normal (1200, 300),neg bin (1200, 0), gamma (1200, 100), moon (1200, 2), circle (1200, 2),  bimodal (1200, 0), redundat (1200, 1), outliers with uniform (1200, 0), outliers with normal (1200, 0) ,outlier binomial (1200, 0), beta features (1200, 100), \n",
      "(861,) (861,)\n",
      "Statistics computation 0.31 sec\n",
      "Entropy computation 0.92 sec\n",
      "KNN computation 0.59 sec\n",
      "Sorting and thresholds 0.02 sec\n",
      "Performing clustering from file\n",
      "Hierarchical clustering 0.31 sec\n",
      "Handle redundant features 0.02 sec\n",
      "Done 0.0 sec\n",
      "Returning 8 redundant features and  21 important features\n",
      "trimming 739 to 426\n",
      "handle_close_important (426, 3), total 1190\n",
      "relevant_features 483 => computing 4719 \n",
      "trimming 3309 to 8\n",
      "handle_important_features (434, 3),  total 4719\n",
      "irrelevant_features 370 => computing 1825\n",
      "trimming 1618 to 426\n",
      "handle_not_important_features (860, 3), total 1825\n",
      "handle_all_features 853 => computing 4235\n",
      "done predicting\n",
      "trimming 2698 to 853\n",
      "handle_all_features (1713, 3),  total 4235\n",
      "run (1713, 3), total 11969\n",
      "nb_dims : 861 => d = 50\n",
      "Non redundant features 853, orig size 861, nb imp : 21\n",
      "Initial subspace score {'adapted_ratkowsky_lance': 0.14310258554203809, 'ari': 0.62, 'structure': 'Counter({2: 601, 0: 299, 3: 199, 1: 101})', 'features': '14_22', 'size': 2}\n",
      "S=14, Tabu = 86S=25, Tabu = 174S=28, Tabu = 270S=28, Tabu = 368nb_dims : 861 => d = 50\n",
      "Non redundant features 853, orig size 861, nb imp : 21\n",
      "Initial subspace score {'adapted_ratkowsky_lance': 0.12742638657194064, 'ari': 0.59, 'structure': 'Counter({2: 320, 3: 316, 1: 303, 0: 261})', 'features': '11_26', 'size': 2}\n",
      "S=13, Tabu = 87S=28, Tabu = 171S=30, Tabu = 268S=30, Tabu = 366nb_dims : 861 => d = 50\n",
      "Non redundant features 853, orig size 861, nb imp : 21\n",
      "Initial subspace score {'adapted_ratkowsky_lance': 0.15282759718666983, 'ari': 0.97, 'structure': 'Counter({1: 305, 0: 300, 2: 300, 3: 295})', 'features': '7_17', 'size': 2}\n",
      "S=11, Tabu = 88S=19, Tabu = 179S=28, Tabu = 266S=29, Tabu = 364S=29, Tabu = 458nb_dims : 861 => d = 50\n",
      "Non redundant features 853, orig size 861, nb imp : 21\n",
      "Initial subspace score {'adapted_ratkowsky_lance': 0.1338882139047935, 'ari': 0.57, 'structure': 'Counter({3: 375, 1: 306, 2: 266, 0: 253})', 'features': '30_43', 'size': 2}\n",
      "S=15, Tabu = 86S=30, Tabu = 169S=30, Tabu = 269nb_dims : 861 => d = 50\n",
      "Non redundant features 853, orig size 861, nb imp : 21\n",
      "Initial subspace score {'adapted_ratkowsky_lance': 0.15330978105389886, 'ari': 0.63, 'structure': 'Counter({3: 370, 1: 300, 2: 296, 0: 234})', 'features': '34_55', 'size': 2}\n",
      "S=8, Tabu = 94S=18, Tabu = 182S=23, Tabu = 275S=24, Tabu = 373S=24, Tabu = 470nb_dims : 861 => d = 50\n",
      "Non redundant features 853, orig size 861, nb imp : 21\n",
      "Initial subspace score {'adapted_ratkowsky_lance': 0.14575802283708916, 'ari': 0.84, 'structure': 'Counter({0: 301, 3: 301, 2: 300, 1: 298})', 'features': '32_53', 'size': 2}\n",
      "S=11, Tabu = 88S=20, Tabu = 179S=22, Tabu = 276S=22, Tabu = 374Discovery Analysis\n"
     ]
    },
    {
     "name": "stderr",
     "output_type": "stream",
     "text": [
      "/usr/local/lib/python3.6/dist-packages/numpy/core/fromnumeric.py:90: RuntimeWarning: overflow encountered in reduce\n",
      "  return ufunc.reduce(obj, axis, dtype, out, **passkwargs)\n"
     ]
    },
    {
     "name": "stdout",
     "output_type": "stream",
     "text": [
      "(861,) (861,)\n",
      "Statistics computation 0.27 sec\n",
      "Entropy computation 0.98 sec\n",
      "KNN computation 0.62 sec\n",
      "Sorting and thresholds 0.02 sec\n",
      "Performing clustering from file\n",
      "Hierarchical clustering 0.3 sec\n",
      "Handle redundant features 0.02 sec\n",
      "Done 0.0 sec\n",
      "Returning 8 redundant features and  21 important features\n",
      "trimming 739 to 426\n",
      "handle_close_important (426, 3), total 1190\n",
      "relevant_features 483 => computing 4719 \n",
      "trimming 3309 to 8\n",
      "handle_important_features (434, 3),  total 4719\n",
      "irrelevant_features 370 => computing 1825\n",
      "trimming 1618 to 426\n",
      "handle_not_important_features (860, 3), total 1825\n",
      "handle_all_features 853 => computing 4235\n"
     ]
    },
    {
     "name": "stderr",
     "output_type": "stream",
     "text": [
      "\r",
      "  0%|          | 0/13 [00:00<?, ?it/s]"
     ]
    },
    {
     "name": "stdout",
     "output_type": "stream",
     "text": [
      "done predicting\n",
      "trimming 2698 to 853\n",
      "handle_all_features (1713, 3),  total 4235\n",
      "run (1713, 3), total 11969\n",
      "nb_dims : 861 => d = 50\n",
      "Non redundant features 853, orig size 861, nb imp : 21\n",
      "Selecting (50, 4) from archive\n"
     ]
    },
    {
     "name": "stderr",
     "output_type": "stream",
     "text": [
      " 31%|███       | 4/13 [00:23<00:55,  6.19s/it]"
     ]
    },
    {
     "name": "stdout",
     "output_type": "stream",
     "text": [
      "S=24, Tabu = 86S=29, Tabu = 180S=29, Tabu = 278"
     ]
    },
    {
     "data": {
      "text/html": [
       "<div>\n",
       "<style scoped>\n",
       "    .dataframe tbody tr th:only-of-type {\n",
       "        vertical-align: middle;\n",
       "    }\n",
       "\n",
       "    .dataframe tbody tr th {\n",
       "        vertical-align: top;\n",
       "    }\n",
       "\n",
       "    .dataframe thead th {\n",
       "        text-align: right;\n",
       "    }\n",
       "</style>\n",
       "<table border=\"1\" class=\"dataframe\">\n",
       "  <thead>\n",
       "    <tr style=\"text-align: right;\">\n",
       "      <th></th>\n",
       "      <th>adapted_ratkowsky_lance</th>\n",
       "      <th>ari</th>\n",
       "      <th>features</th>\n",
       "      <th>partition</th>\n",
       "      <th>size</th>\n",
       "      <th>structure</th>\n",
       "    </tr>\n",
       "  </thead>\n",
       "  <tbody>\n",
       "    <tr>\n",
       "      <th>0</th>\n",
       "      <td>0.19426</td>\n",
       "      <td>1.0</td>\n",
       "      <td>[0, 1, 2, 3, 4, 5, 6, 7, 9, 10, 12, 13, 14, 15...</td>\n",
       "      <td>[3, 0, 2, 1, 0, 0, 1, 1, 3, 0, 0, 1, 3, 0, 2, ...</td>\n",
       "      <td>29.0</td>\n",
       "      <td>Counter({3: 300, 0: 300, 2: 300, 1: 300})</td>\n",
       "    </tr>\n",
       "  </tbody>\n",
       "</table>\n",
       "</div>"
      ],
      "text/plain": [
       "   adapted_ratkowsky_lance  ari  \\\n",
       "0                  0.19426  1.0   \n",
       "\n",
       "                                            features  \\\n",
       "0  [0, 1, 2, 3, 4, 5, 6, 7, 9, 10, 12, 13, 14, 15...   \n",
       "\n",
       "                                           partition  size  \\\n",
       "0  [3, 0, 2, 1, 0, 0, 1, 1, 3, 0, 0, 1, 3, 0, 2, ...  29.0   \n",
       "\n",
       "                                   structure  \n",
       "0  Counter({3: 300, 0: 300, 2: 300, 1: 300})  "
      ]
     },
     "metadata": {},
     "output_type": "display_data"
    },
    {
     "name": "stdout",
     "output_type": "stream",
     "text": [
      "Selecting (28, 4) from archive\n"
     ]
    },
    {
     "name": "stderr",
     "output_type": "stream",
     "text": [
      " 62%|██████▏   | 8/13 [01:50<01:12, 14.57s/it]"
     ]
    },
    {
     "name": "stdout",
     "output_type": "stream",
     "text": [
      "S=28, Tabu = 87S=28, Tabu = 186"
     ]
    },
    {
     "data": {
      "text/html": [
       "<div>\n",
       "<style scoped>\n",
       "    .dataframe tbody tr th:only-of-type {\n",
       "        vertical-align: middle;\n",
       "    }\n",
       "\n",
       "    .dataframe tbody tr th {\n",
       "        vertical-align: top;\n",
       "    }\n",
       "\n",
       "    .dataframe thead th {\n",
       "        text-align: right;\n",
       "    }\n",
       "</style>\n",
       "<table border=\"1\" class=\"dataframe\">\n",
       "  <thead>\n",
       "    <tr style=\"text-align: right;\">\n",
       "      <th></th>\n",
       "      <th>adapted_ratkowsky_lance</th>\n",
       "      <th>ari</th>\n",
       "      <th>features</th>\n",
       "      <th>partition</th>\n",
       "      <th>size</th>\n",
       "      <th>structure</th>\n",
       "    </tr>\n",
       "  </thead>\n",
       "  <tbody>\n",
       "    <tr>\n",
       "      <th>0</th>\n",
       "      <td>0.194260</td>\n",
       "      <td>1.0</td>\n",
       "      <td>[0, 1, 2, 3, 4, 5, 6, 7, 9, 10, 12, 13, 14, 15...</td>\n",
       "      <td>[3, 0, 2, 1, 0, 0, 1, 1, 3, 0, 0, 1, 3, 0, 2, ...</td>\n",
       "      <td>29.0</td>\n",
       "      <td>Counter({3: 300, 0: 300, 2: 300, 1: 300})</td>\n",
       "    </tr>\n",
       "    <tr>\n",
       "      <th>1</th>\n",
       "      <td>0.202897</td>\n",
       "      <td>-0.0</td>\n",
       "      <td>[31, 32, 34, 35, 36, 37, 38, 40, 41, 42, 43, 4...</td>\n",
       "      <td>[0, 2, 0, 1, 1, 0, 1, 0, 3, 0, 1, 1, 2, 2, 0, ...</td>\n",
       "      <td>28.0</td>\n",
       "      <td>Counter({0: 300, 2: 300, 1: 300, 3: 300})</td>\n",
       "    </tr>\n",
       "  </tbody>\n",
       "</table>\n",
       "</div>"
      ],
      "text/plain": [
       "   adapted_ratkowsky_lance  ari  \\\n",
       "0                 0.194260  1.0   \n",
       "1                 0.202897 -0.0   \n",
       "\n",
       "                                            features  \\\n",
       "0  [0, 1, 2, 3, 4, 5, 6, 7, 9, 10, 12, 13, 14, 15...   \n",
       "1  [31, 32, 34, 35, 36, 37, 38, 40, 41, 42, 43, 4...   \n",
       "\n",
       "                                           partition  size  \\\n",
       "0  [3, 0, 2, 1, 0, 0, 1, 1, 3, 0, 0, 1, 3, 0, 2, ...  29.0   \n",
       "1  [0, 2, 0, 1, 1, 0, 1, 0, 3, 0, 1, 1, 2, 2, 0, ...  28.0   \n",
       "\n",
       "                                   structure  \n",
       "0  Counter({3: 300, 0: 300, 2: 300, 1: 300})  \n",
       "1  Counter({0: 300, 2: 300, 1: 300, 3: 300})  "
      ]
     },
     "metadata": {},
     "output_type": "display_data"
    },
    {
     "name": "stdout",
     "output_type": "stream",
     "text": [
      "Selecting (50, 4) from archive\n"
     ]
    },
    {
     "name": "stderr",
     "output_type": "stream",
     "text": [
      " 92%|█████████▏| 12/13 [02:45<00:10, 10.97s/it]"
     ]
    },
    {
     "name": "stdout",
     "output_type": "stream",
     "text": [
      "S=2, Tabu = 98S=2, Tabu = 195"
     ]
    },
    {
     "data": {
      "text/html": [
       "<div>\n",
       "<style scoped>\n",
       "    .dataframe tbody tr th:only-of-type {\n",
       "        vertical-align: middle;\n",
       "    }\n",
       "\n",
       "    .dataframe tbody tr th {\n",
       "        vertical-align: top;\n",
       "    }\n",
       "\n",
       "    .dataframe thead th {\n",
       "        text-align: right;\n",
       "    }\n",
       "</style>\n",
       "<table border=\"1\" class=\"dataframe\">\n",
       "  <thead>\n",
       "    <tr style=\"text-align: right;\">\n",
       "      <th></th>\n",
       "      <th>adapted_ratkowsky_lance</th>\n",
       "      <th>ari</th>\n",
       "      <th>features</th>\n",
       "      <th>partition</th>\n",
       "      <th>size</th>\n",
       "      <th>structure</th>\n",
       "    </tr>\n",
       "  </thead>\n",
       "  <tbody>\n",
       "    <tr>\n",
       "      <th>0</th>\n",
       "      <td>0.194260</td>\n",
       "      <td>1.0</td>\n",
       "      <td>[0, 1, 2, 3, 4, 5, 6, 7, 9, 10, 12, 13, 14, 15...</td>\n",
       "      <td>[3, 0, 2, 1, 0, 0, 1, 1, 3, 0, 0, 1, 3, 0, 2, ...</td>\n",
       "      <td>29.0</td>\n",
       "      <td>Counter({3: 300, 0: 300, 2: 300, 1: 300})</td>\n",
       "    </tr>\n",
       "    <tr>\n",
       "      <th>1</th>\n",
       "      <td>0.202897</td>\n",
       "      <td>-0.0</td>\n",
       "      <td>[31, 32, 34, 35, 36, 37, 38, 40, 41, 42, 43, 4...</td>\n",
       "      <td>[0, 2, 0, 1, 1, 0, 1, 0, 3, 0, 1, 1, 2, 2, 0, ...</td>\n",
       "      <td>28.0</td>\n",
       "      <td>Counter({0: 300, 2: 300, 1: 300, 3: 300})</td>\n",
       "    </tr>\n",
       "    <tr>\n",
       "      <th>2</th>\n",
       "      <td>0.128583</td>\n",
       "      <td>-0.0</td>\n",
       "      <td>[213, 848]</td>\n",
       "      <td>[2, 2, 3, 2, 1, 0, 3, 3, 1, 2, 1, 3, 0, 2, 1, ...</td>\n",
       "      <td>2.0</td>\n",
       "      <td>Counter({3: 349, 0: 339, 1: 266, 2: 246})</td>\n",
       "    </tr>\n",
       "  </tbody>\n",
       "</table>\n",
       "</div>"
      ],
      "text/plain": [
       "   adapted_ratkowsky_lance  ari  \\\n",
       "0                 0.194260  1.0   \n",
       "1                 0.202897 -0.0   \n",
       "2                 0.128583 -0.0   \n",
       "\n",
       "                                            features  \\\n",
       "0  [0, 1, 2, 3, 4, 5, 6, 7, 9, 10, 12, 13, 14, 15...   \n",
       "1  [31, 32, 34, 35, 36, 37, 38, 40, 41, 42, 43, 4...   \n",
       "2                                         [213, 848]   \n",
       "\n",
       "                                           partition  size  \\\n",
       "0  [3, 0, 2, 1, 0, 0, 1, 1, 3, 0, 0, 1, 3, 0, 2, ...  29.0   \n",
       "1  [0, 2, 0, 1, 1, 0, 1, 0, 3, 0, 1, 1, 2, 2, 0, ...  28.0   \n",
       "2  [2, 2, 3, 2, 1, 0, 3, 3, 1, 2, 1, 3, 0, 2, 1, ...   2.0   \n",
       "\n",
       "                                   structure  \n",
       "0  Counter({3: 300, 0: 300, 2: 300, 1: 300})  \n",
       "1  Counter({0: 300, 2: 300, 1: 300, 3: 300})  \n",
       "2  Counter({3: 349, 0: 339, 1: 266, 2: 246})  "
      ]
     },
     "metadata": {},
     "output_type": "display_data"
    },
    {
     "name": "stdout",
     "output_type": "stream",
     "text": [
      "Selecting (3, 4) from archive\n"
     ]
    },
    {
     "name": "stderr",
     "output_type": "stream",
     "text": [
      "100%|██████████| 13/13 [02:56<00:00, 13.57s/it]\n",
      "/usr/local/lib/python3.6/dist-packages/numpy/core/fromnumeric.py:90: RuntimeWarning: overflow encountered in reduce\n",
      "  return ufunc.reduce(obj, axis, dtype, out, **passkwargs)\n"
     ]
    },
    {
     "name": "stdout",
     "output_type": "stream",
     "text": [
      ".Total: (1200, 861), uniform (1200, 300) , normal (1200, 300),neg bin (1200, 0), gamma (1200, 100), moon (1200, 2), circle (1200, 2),  bimodal (1200, 0), redundat (1200, 1), outliers with uniform (1200, 0), outliers with normal (1200, 0) ,outlier binomial (1200, 0), beta features (1200, 100), \n",
      "(861,) (861,)\n",
      "Statistics computation 0.27 sec\n",
      "Entropy computation 0.83 sec\n",
      "KNN computation 0.52 sec\n",
      "Sorting and thresholds 0.02 sec\n",
      "Performing clustering from file\n",
      "Hierarchical clustering 0.26 sec\n",
      "Handle redundant features 0.02 sec\n",
      "Done 0.0 sec\n",
      "Returning 8 redundant features and  18 important features\n",
      "trimming 720 to 426\n",
      "handle_close_important (426, 3), total 1191\n",
      "relevant_features 484 => computing 4738 \n",
      "trimming 3415 to 8\n",
      "handle_important_features (434, 3),  total 4738\n",
      "irrelevant_features 369 => computing 1814\n",
      "trimming 1544 to 426\n",
      "handle_not_important_features (860, 3), total 1814\n",
      "handle_all_features 853 => computing 4235\n",
      "done predicting\n",
      "trimming 2695 to 853\n",
      "handle_all_features (1713, 3),  total 4235\n",
      "run (1713, 3), total 11978\n",
      "nb_dims : 861 => d = 50\n",
      "Non redundant features 853, orig size 861, nb imp : 18\n",
      "Initial subspace score {'adapted_ratkowsky_lance': 0.14310258554203809, 'ari': 0.62, 'structure': 'Counter({2: 601, 0: 299, 3: 199, 1: 101})', 'features': '14_22', 'size': 2}\n",
      "S=14, Tabu = 83S=26, Tabu = 170S=28, Tabu = 267S=28, Tabu = 364nb_dims : 861 => d = 50\n",
      "Non redundant features 853, orig size 861, nb imp : 18\n",
      "Initial subspace score {'adapted_ratkowsky_lance': 0.12742638657194064, 'ari': 0.59, 'structure': 'Counter({2: 320, 3: 316, 1: 303, 0: 261})', 'features': '11_26', 'size': 2}\n",
      "S=15, Tabu = 87S=28, Tabu = 173S=30, Tabu = 269S=30, Tabu = 366nb_dims : 861 => d = 50\n",
      "Non redundant features 853, orig size 861, nb imp : 18\n",
      "Initial subspace score {'adapted_ratkowsky_lance': 0.15282759718666983, 'ari': 0.97, 'structure': 'Counter({1: 305, 0: 300, 2: 300, 3: 295})', 'features': '7_17', 'size': 2}\n",
      "S=10, Tabu = 89S=16, Tabu = 179S=27, Tabu = 266S=27, Tabu = 365nb_dims : 861 => d = 50\n",
      "Non redundant features 853, orig size 861, nb imp : 18\n",
      "Initial subspace score {'adapted_ratkowsky_lance': 0.12699822553711884, 'ari': 0.74, 'structure': 'Counter({2: 314, 1: 305, 3: 296, 0: 285})', 'features': '33_52', 'size': 2}\n",
      "S=17, Tabu = 82S=30, Tabu = 169S=30, Tabu = 267nb_dims : 861 => d = 50\n",
      "Non redundant features 853, orig size 861, nb imp : 18\n",
      "Initial subspace score {'adapted_ratkowsky_lance': 0.14438694045295122, 'ari': 0.63, 'structure': 'Counter({0: 600, 1: 300, 2: 173, 3: 127})', 'features': '50_59', 'size': 2}\n",
      "S=15, Tabu = 85S=27, Tabu = 170S=27, Tabu = 267nb_dims : 861 => d = 50\n",
      "Non redundant features 853, orig size 861, nb imp : 18\n",
      "Initial subspace score {'adapted_ratkowsky_lance': 0.15776771620389915, 'ari': 0.78, 'structure': 'Counter({1: 329, 0: 300, 2: 300, 3: 271})', 'features': '55_57', 'size': 2}\n",
      "S=15, Tabu = 87S=24, Tabu = 176S=29, Tabu = 269S=29, Tabu = 367Discovery Analysis\n"
     ]
    },
    {
     "name": "stderr",
     "output_type": "stream",
     "text": [
      "/usr/local/lib/python3.6/dist-packages/numpy/core/fromnumeric.py:90: RuntimeWarning: overflow encountered in reduce\n",
      "  return ufunc.reduce(obj, axis, dtype, out, **passkwargs)\n"
     ]
    },
    {
     "name": "stdout",
     "output_type": "stream",
     "text": [
      "(861,) (861,)\n",
      "Statistics computation 0.18 sec\n",
      "Entropy computation 0.8 sec\n",
      "KNN computation 0.5 sec\n",
      "Sorting and thresholds 0.01 sec\n",
      "Performing clustering from file\n",
      "Hierarchical clustering 0.22 sec\n",
      "Handle redundant features 0.02 sec\n",
      "Done 0.0 sec\n",
      "Returning 8 redundant features and  18 important features\n",
      "trimming 720 to 426\n",
      "handle_close_important (426, 3), total 1191\n",
      "relevant_features 484 => computing 4738 \n",
      "trimming 3415 to 8\n",
      "handle_important_features (434, 3),  total 4738\n",
      "irrelevant_features 369 => computing 1814\n",
      "trimming 1544 to 426\n",
      "handle_not_important_features (860, 3), total 1814\n",
      "handle_all_features 853 => computing 4235\n"
     ]
    },
    {
     "name": "stderr",
     "output_type": "stream",
     "text": [
      "\r",
      "  0%|          | 0/13 [00:00<?, ?it/s]"
     ]
    },
    {
     "name": "stdout",
     "output_type": "stream",
     "text": [
      "done predicting\n",
      "trimming 2695 to 853\n",
      "handle_all_features (1713, 3),  total 4235\n",
      "run (1713, 3), total 11978\n",
      "nb_dims : 861 => d = 50\n",
      "Non redundant features 853, orig size 861, nb imp : 18\n",
      "Selecting (50, 4) from archive\n"
     ]
    },
    {
     "name": "stderr",
     "output_type": "stream",
     "text": [
      " 31%|███       | 4/13 [00:21<00:49,  5.50s/it]"
     ]
    },
    {
     "name": "stdout",
     "output_type": "stream",
     "text": [
      "S=23, Tabu = 87S=28, Tabu = 181S=29, Tabu = 279S=29, Tabu = 378"
     ]
    },
    {
     "data": {
      "text/html": [
       "<div>\n",
       "<style scoped>\n",
       "    .dataframe tbody tr th:only-of-type {\n",
       "        vertical-align: middle;\n",
       "    }\n",
       "\n",
       "    .dataframe tbody tr th {\n",
       "        vertical-align: top;\n",
       "    }\n",
       "\n",
       "    .dataframe thead th {\n",
       "        text-align: right;\n",
       "    }\n",
       "</style>\n",
       "<table border=\"1\" class=\"dataframe\">\n",
       "  <thead>\n",
       "    <tr style=\"text-align: right;\">\n",
       "      <th></th>\n",
       "      <th>adapted_ratkowsky_lance</th>\n",
       "      <th>ari</th>\n",
       "      <th>features</th>\n",
       "      <th>partition</th>\n",
       "      <th>size</th>\n",
       "      <th>structure</th>\n",
       "    </tr>\n",
       "  </thead>\n",
       "  <tbody>\n",
       "    <tr>\n",
       "      <th>0</th>\n",
       "      <td>0.198446</td>\n",
       "      <td>1.0</td>\n",
       "      <td>[0, 1, 2, 3, 4, 5, 6, 7, 9, 10, 11, 12, 13, 14...</td>\n",
       "      <td>[3, 0, 2, 1, 0, 0, 1, 1, 3, 0, 0, 1, 3, 0, 2, ...</td>\n",
       "      <td>29.0</td>\n",
       "      <td>Counter({3: 300, 0: 300, 2: 300, 1: 300})</td>\n",
       "    </tr>\n",
       "  </tbody>\n",
       "</table>\n",
       "</div>"
      ],
      "text/plain": [
       "   adapted_ratkowsky_lance  ari  \\\n",
       "0                 0.198446  1.0   \n",
       "\n",
       "                                            features  \\\n",
       "0  [0, 1, 2, 3, 4, 5, 6, 7, 9, 10, 11, 12, 13, 14...   \n",
       "\n",
       "                                           partition  size  \\\n",
       "0  [3, 0, 2, 1, 0, 0, 1, 1, 3, 0, 0, 1, 3, 0, 2, ...  29.0   \n",
       "\n",
       "                                   structure  \n",
       "0  Counter({3: 300, 0: 300, 2: 300, 1: 300})  "
      ]
     },
     "metadata": {},
     "output_type": "display_data"
    },
    {
     "name": "stdout",
     "output_type": "stream",
     "text": [
      "Selecting (44, 4) from archive\n"
     ]
    },
    {
     "name": "stderr",
     "output_type": "stream",
     "text": [
      " 62%|██████▏   | 8/13 [01:44<01:01, 12.22s/it]"
     ]
    },
    {
     "name": "stdout",
     "output_type": "stream",
     "text": [
      "S=29, Tabu = 82S=29, Tabu = 182"
     ]
    },
    {
     "data": {
      "text/html": [
       "<div>\n",
       "<style scoped>\n",
       "    .dataframe tbody tr th:only-of-type {\n",
       "        vertical-align: middle;\n",
       "    }\n",
       "\n",
       "    .dataframe tbody tr th {\n",
       "        vertical-align: top;\n",
       "    }\n",
       "\n",
       "    .dataframe thead th {\n",
       "        text-align: right;\n",
       "    }\n",
       "</style>\n",
       "<table border=\"1\" class=\"dataframe\">\n",
       "  <thead>\n",
       "    <tr style=\"text-align: right;\">\n",
       "      <th></th>\n",
       "      <th>adapted_ratkowsky_lance</th>\n",
       "      <th>ari</th>\n",
       "      <th>features</th>\n",
       "      <th>partition</th>\n",
       "      <th>size</th>\n",
       "      <th>structure</th>\n",
       "    </tr>\n",
       "  </thead>\n",
       "  <tbody>\n",
       "    <tr>\n",
       "      <th>0</th>\n",
       "      <td>0.198446</td>\n",
       "      <td>1.0</td>\n",
       "      <td>[0, 1, 2, 3, 4, 5, 6, 7, 9, 10, 11, 12, 13, 14...</td>\n",
       "      <td>[3, 0, 2, 1, 0, 0, 1, 1, 3, 0, 0, 1, 3, 0, 2, ...</td>\n",
       "      <td>29.0</td>\n",
       "      <td>Counter({3: 300, 0: 300, 2: 300, 1: 300})</td>\n",
       "    </tr>\n",
       "    <tr>\n",
       "      <th>1</th>\n",
       "      <td>0.199459</td>\n",
       "      <td>-0.0</td>\n",
       "      <td>[31, 32, 34, 35, 36, 37, 38, 39, 40, 41, 42, 4...</td>\n",
       "      <td>[0, 2, 0, 1, 1, 0, 1, 0, 3, 0, 1, 1, 2, 2, 0, ...</td>\n",
       "      <td>29.0</td>\n",
       "      <td>Counter({0: 300, 2: 300, 1: 300, 3: 300})</td>\n",
       "    </tr>\n",
       "  </tbody>\n",
       "</table>\n",
       "</div>"
      ],
      "text/plain": [
       "   adapted_ratkowsky_lance  ari  \\\n",
       "0                 0.198446  1.0   \n",
       "1                 0.199459 -0.0   \n",
       "\n",
       "                                            features  \\\n",
       "0  [0, 1, 2, 3, 4, 5, 6, 7, 9, 10, 11, 12, 13, 14...   \n",
       "1  [31, 32, 34, 35, 36, 37, 38, 39, 40, 41, 42, 4...   \n",
       "\n",
       "                                           partition  size  \\\n",
       "0  [3, 0, 2, 1, 0, 0, 1, 1, 3, 0, 0, 1, 3, 0, 2, ...  29.0   \n",
       "1  [0, 2, 0, 1, 1, 0, 1, 0, 3, 0, 1, 1, 2, 2, 0, ...  29.0   \n",
       "\n",
       "                                   structure  \n",
       "0  Counter({3: 300, 0: 300, 2: 300, 1: 300})  \n",
       "1  Counter({0: 300, 2: 300, 1: 300, 3: 300})  "
      ]
     },
     "metadata": {},
     "output_type": "display_data"
    },
    {
     "name": "stdout",
     "output_type": "stream",
     "text": [
      "Selecting (50, 4) from archive\n"
     ]
    },
    {
     "name": "stderr",
     "output_type": "stream",
     "text": [
      " 92%|█████████▏| 12/13 [02:35<00:09,  9.78s/it]"
     ]
    },
    {
     "name": "stdout",
     "output_type": "stream",
     "text": [
      "S=3, Tabu = 97S=5, Tabu = 188S=5, Tabu = 285"
     ]
    },
    {
     "data": {
      "text/html": [
       "<div>\n",
       "<style scoped>\n",
       "    .dataframe tbody tr th:only-of-type {\n",
       "        vertical-align: middle;\n",
       "    }\n",
       "\n",
       "    .dataframe tbody tr th {\n",
       "        vertical-align: top;\n",
       "    }\n",
       "\n",
       "    .dataframe thead th {\n",
       "        text-align: right;\n",
       "    }\n",
       "</style>\n",
       "<table border=\"1\" class=\"dataframe\">\n",
       "  <thead>\n",
       "    <tr style=\"text-align: right;\">\n",
       "      <th></th>\n",
       "      <th>adapted_ratkowsky_lance</th>\n",
       "      <th>ari</th>\n",
       "      <th>features</th>\n",
       "      <th>partition</th>\n",
       "      <th>size</th>\n",
       "      <th>structure</th>\n",
       "    </tr>\n",
       "  </thead>\n",
       "  <tbody>\n",
       "    <tr>\n",
       "      <th>0</th>\n",
       "      <td>0.198446</td>\n",
       "      <td>1.0</td>\n",
       "      <td>[0, 1, 2, 3, 4, 5, 6, 7, 9, 10, 11, 12, 13, 14...</td>\n",
       "      <td>[3, 0, 2, 1, 0, 0, 1, 1, 3, 0, 0, 1, 3, 0, 2, ...</td>\n",
       "      <td>29.0</td>\n",
       "      <td>Counter({3: 300, 0: 300, 2: 300, 1: 300})</td>\n",
       "    </tr>\n",
       "    <tr>\n",
       "      <th>1</th>\n",
       "      <td>0.199459</td>\n",
       "      <td>-0.0</td>\n",
       "      <td>[31, 32, 34, 35, 36, 37, 38, 39, 40, 41, 42, 4...</td>\n",
       "      <td>[0, 2, 0, 1, 1, 0, 1, 0, 3, 0, 1, 1, 2, 2, 0, ...</td>\n",
       "      <td>29.0</td>\n",
       "      <td>Counter({0: 300, 2: 300, 1: 300, 3: 300})</td>\n",
       "    </tr>\n",
       "    <tr>\n",
       "      <th>2</th>\n",
       "      <td>0.156692</td>\n",
       "      <td>-0.0</td>\n",
       "      <td>[48, 49, 57, 444, 860]</td>\n",
       "      <td>[2, 0, 2, 3, 3, 2, 1, 0, 1, 2, 1, 1, 0, 2, 0, ...</td>\n",
       "      <td>5.0</td>\n",
       "      <td>Counter({0: 366, 1: 317, 3: 283, 2: 234})</td>\n",
       "    </tr>\n",
       "  </tbody>\n",
       "</table>\n",
       "</div>"
      ],
      "text/plain": [
       "   adapted_ratkowsky_lance  ari  \\\n",
       "0                 0.198446  1.0   \n",
       "1                 0.199459 -0.0   \n",
       "2                 0.156692 -0.0   \n",
       "\n",
       "                                            features  \\\n",
       "0  [0, 1, 2, 3, 4, 5, 6, 7, 9, 10, 11, 12, 13, 14...   \n",
       "1  [31, 32, 34, 35, 36, 37, 38, 39, 40, 41, 42, 4...   \n",
       "2                             [48, 49, 57, 444, 860]   \n",
       "\n",
       "                                           partition  size  \\\n",
       "0  [3, 0, 2, 1, 0, 0, 1, 1, 3, 0, 0, 1, 3, 0, 2, ...  29.0   \n",
       "1  [0, 2, 0, 1, 1, 0, 1, 0, 3, 0, 1, 1, 2, 2, 0, ...  29.0   \n",
       "2  [2, 0, 2, 3, 3, 2, 1, 0, 1, 2, 1, 1, 0, 2, 0, ...   5.0   \n",
       "\n",
       "                                   structure  \n",
       "0  Counter({3: 300, 0: 300, 2: 300, 1: 300})  \n",
       "1  Counter({0: 300, 2: 300, 1: 300, 3: 300})  \n",
       "2  Counter({0: 366, 1: 317, 3: 283, 2: 234})  "
      ]
     },
     "metadata": {},
     "output_type": "display_data"
    },
    {
     "name": "stdout",
     "output_type": "stream",
     "text": [
      "Selecting (1, 4) from archive\n"
     ]
    },
    {
     "name": "stderr",
     "output_type": "stream",
     "text": [
      "100%|██████████| 13/13 [02:49<00:00, 13.02s/it]\n",
      "/usr/local/lib/python3.6/dist-packages/numpy/core/fromnumeric.py:90: RuntimeWarning: overflow encountered in reduce\n",
      "  return ufunc.reduce(obj, axis, dtype, out, **passkwargs)\n"
     ]
    },
    {
     "name": "stdout",
     "output_type": "stream",
     "text": [
      ".Total: (1200, 861), uniform (1200, 300) , normal (1200, 300),neg bin (1200, 0), gamma (1200, 100), moon (1200, 2), circle (1200, 2),  bimodal (1200, 0), redundat (1200, 1), outliers with uniform (1200, 0), outliers with normal (1200, 0) ,outlier binomial (1200, 0), beta features (1200, 100), \n",
      "(861,) (861,)\n",
      "Statistics computation 0.17 sec\n",
      "Entropy computation 0.77 sec\n",
      "KNN computation 0.42 sec\n",
      "Sorting and thresholds 0.01 sec\n",
      "Performing clustering from file\n",
      "Hierarchical clustering 0.22 sec\n",
      "Handle redundant features 0.02 sec\n",
      "Done 0.0 sec\n",
      "Returning 8 redundant features and  21 important features\n",
      "trimming 738 to 426\n",
      "handle_close_important (426, 3), total 1170\n",
      "relevant_features 478 => computing 4674 \n",
      "trimming 3346 to 8\n",
      "handle_important_features (434, 3),  total 4674\n",
      "irrelevant_features 375 => computing 1855\n",
      "trimming 1661 to 426\n",
      "handle_not_important_features (860, 3), total 1855\n",
      "handle_all_features 853 => computing 4235\n",
      "done predicting\n",
      "trimming 2781 to 853\n",
      "handle_all_features (1713, 3),  total 4235\n",
      "run (1713, 3), total 11934\n",
      "nb_dims : 861 => d = 50\n",
      "Non redundant features 853, orig size 861, nb imp : 21\n",
      "Initial subspace score {'adapted_ratkowsky_lance': 0.14310258554203809, 'ari': 0.62, 'structure': 'Counter({2: 601, 0: 299, 3: 199, 1: 101})', 'features': '14_22', 'size': 2}\n",
      "S=15, Tabu = 84S=26, Tabu = 173S=28, Tabu = 270S=29, Tabu = 367S=29, Tabu = 464nb_dims : 861 => d = 50\n",
      "Non redundant features 853, orig size 861, nb imp : 21\n",
      "Initial subspace score {'adapted_ratkowsky_lance': 0.12742638657194064, 'ari': 0.59, 'structure': 'Counter({2: 320, 3: 316, 1: 303, 0: 261})', 'features': '11_26', 'size': 2}\n",
      "S=16, Tabu = 85S=27, Tabu = 171S=28, Tabu = 268S=28, Tabu = 368nb_dims : 861 => d = 50\n",
      "Non redundant features 853, orig size 861, nb imp : 21\n",
      "Initial subspace score {'adapted_ratkowsky_lance': 0.15282759718666983, 'ari': 0.97, 'structure': 'Counter({1: 305, 0: 300, 2: 300, 3: 295})', 'features': '7_17', 'size': 2}\n",
      "S=14, Tabu = 84S=20, Tabu = 178S=27, Tabu = 270S=29, Tabu = 365S=29, Tabu = 463nb_dims : 861 => d = 50\n",
      "Non redundant features 853, orig size 861, nb imp : 21\n",
      "Initial subspace score {'adapted_ratkowsky_lance': 0.15020204481264537, 'ari': 1.0, 'structure': 'Counter({0: 300, 2: 300, 1: 300, 3: 300})', 'features': '40_52', 'size': 2}\n",
      "S=15, Tabu = 81S=29, Tabu = 165S=29, Tabu = 264nb_dims : 861 => d = 50\n",
      "Non redundant features 853, orig size 861, nb imp : 21\n",
      "Initial subspace score {'adapted_ratkowsky_lance': 0.1550399331701632, 'ari': 0.7, 'structure': 'Counter({3: 329, 1: 300, 2: 300, 0: 271})', 'features': '42_50', 'size': 2}\n",
      "S=17, Tabu = 79S=28, Tabu = 167S=28, Tabu = 263nb_dims : 861 => d = 50\n",
      "Non redundant features 853, orig size 861, nb imp : 21\n",
      "Initial subspace score {'adapted_ratkowsky_lance': 0.13789667406539252, 'ari': 0.9, 'structure': 'Counter({2: 302, 1: 301, 0: 300, 3: 297})', 'features': '32_35', 'size': 2}\n",
      "S=16, Tabu = 85S=30, Tabu = 171S=30, Tabu = 269Discovery Analysis\n"
     ]
    },
    {
     "name": "stderr",
     "output_type": "stream",
     "text": [
      "/usr/local/lib/python3.6/dist-packages/numpy/core/fromnumeric.py:90: RuntimeWarning: overflow encountered in reduce\n",
      "  return ufunc.reduce(obj, axis, dtype, out, **passkwargs)\n"
     ]
    },
    {
     "name": "stdout",
     "output_type": "stream",
     "text": [
      "(861,) (861,)\n",
      "Statistics computation 0.17 sec\n",
      "Entropy computation 0.77 sec\n",
      "KNN computation 0.44 sec\n",
      "Sorting and thresholds 0.01 sec\n",
      "Performing clustering from file\n",
      "Hierarchical clustering 0.22 sec\n",
      "Handle redundant features 0.02 sec\n",
      "Done 0.0 sec\n",
      "Returning 8 redundant features and  21 important features\n",
      "trimming 738 to 426\n",
      "handle_close_important (426, 3), total 1170\n",
      "relevant_features 478 => computing 4674 \n",
      "trimming 3346 to 8\n",
      "handle_important_features (434, 3),  total 4674\n",
      "irrelevant_features 375 => computing 1855\n",
      "trimming 1661 to 426\n",
      "handle_not_important_features (860, 3), total 1855\n",
      "handle_all_features 853 => computing 4235\n"
     ]
    },
    {
     "name": "stderr",
     "output_type": "stream",
     "text": [
      "\r",
      "  0%|          | 0/13 [00:00<?, ?it/s]"
     ]
    },
    {
     "name": "stdout",
     "output_type": "stream",
     "text": [
      "done predicting\n",
      "trimming 2781 to 853\n",
      "handle_all_features (1713, 3),  total 4235\n",
      "run (1713, 3), total 11934\n",
      "nb_dims : 861 => d = 50\n",
      "Non redundant features 853, orig size 861, nb imp : 21\n",
      "Selecting (50, 4) from archive\n"
     ]
    },
    {
     "name": "stderr",
     "output_type": "stream",
     "text": [
      " 31%|███       | 4/13 [00:21<00:49,  5.50s/it]"
     ]
    },
    {
     "name": "stdout",
     "output_type": "stream",
     "text": [
      "S=29, Tabu = 80S=30, Tabu = 176S=30, Tabu = 276"
     ]
    },
    {
     "data": {
      "text/html": [
       "<div>\n",
       "<style scoped>\n",
       "    .dataframe tbody tr th:only-of-type {\n",
       "        vertical-align: middle;\n",
       "    }\n",
       "\n",
       "    .dataframe tbody tr th {\n",
       "        vertical-align: top;\n",
       "    }\n",
       "\n",
       "    .dataframe thead th {\n",
       "        text-align: right;\n",
       "    }\n",
       "</style>\n",
       "<table border=\"1\" class=\"dataframe\">\n",
       "  <thead>\n",
       "    <tr style=\"text-align: right;\">\n",
       "      <th></th>\n",
       "      <th>adapted_ratkowsky_lance</th>\n",
       "      <th>ari</th>\n",
       "      <th>features</th>\n",
       "      <th>partition</th>\n",
       "      <th>size</th>\n",
       "      <th>structure</th>\n",
       "    </tr>\n",
       "  </thead>\n",
       "  <tbody>\n",
       "    <tr>\n",
       "      <th>0</th>\n",
       "      <td>0.199551</td>\n",
       "      <td>-0.0</td>\n",
       "      <td>[30, 31, 32, 33, 34, 35, 36, 37, 38, 40, 41, 4...</td>\n",
       "      <td>[0, 2, 0, 1, 1, 0, 1, 0, 3, 0, 1, 1, 2, 2, 0, ...</td>\n",
       "      <td>30.0</td>\n",
       "      <td>Counter({0: 300, 2: 300, 1: 300, 3: 300})</td>\n",
       "    </tr>\n",
       "  </tbody>\n",
       "</table>\n",
       "</div>"
      ],
      "text/plain": [
       "   adapted_ratkowsky_lance  ari  \\\n",
       "0                 0.199551 -0.0   \n",
       "\n",
       "                                            features  \\\n",
       "0  [30, 31, 32, 33, 34, 35, 36, 37, 38, 40, 41, 4...   \n",
       "\n",
       "                                           partition  size  \\\n",
       "0  [0, 2, 0, 1, 1, 0, 1, 0, 3, 0, 1, 1, 2, 2, 0, ...  30.0   \n",
       "\n",
       "                                   structure  \n",
       "0  Counter({0: 300, 2: 300, 1: 300, 3: 300})  "
      ]
     },
     "metadata": {},
     "output_type": "display_data"
    },
    {
     "name": "stdout",
     "output_type": "stream",
     "text": [
      "Selecting (30, 4) from archive\n"
     ]
    },
    {
     "name": "stderr",
     "output_type": "stream",
     "text": [
      " 62%|██████▏   | 8/13 [01:44<01:08, 13.77s/it]"
     ]
    },
    {
     "name": "stdout",
     "output_type": "stream",
     "text": [
      "S=24, Tabu = 88S=27, Tabu = 183S=28, Tabu = 281S=29, Tabu = 376S=29, Tabu = 471"
     ]
    },
    {
     "data": {
      "text/html": [
       "<div>\n",
       "<style scoped>\n",
       "    .dataframe tbody tr th:only-of-type {\n",
       "        vertical-align: middle;\n",
       "    }\n",
       "\n",
       "    .dataframe tbody tr th {\n",
       "        vertical-align: top;\n",
       "    }\n",
       "\n",
       "    .dataframe thead th {\n",
       "        text-align: right;\n",
       "    }\n",
       "</style>\n",
       "<table border=\"1\" class=\"dataframe\">\n",
       "  <thead>\n",
       "    <tr style=\"text-align: right;\">\n",
       "      <th></th>\n",
       "      <th>adapted_ratkowsky_lance</th>\n",
       "      <th>ari</th>\n",
       "      <th>features</th>\n",
       "      <th>partition</th>\n",
       "      <th>size</th>\n",
       "      <th>structure</th>\n",
       "    </tr>\n",
       "  </thead>\n",
       "  <tbody>\n",
       "    <tr>\n",
       "      <th>0</th>\n",
       "      <td>0.199551</td>\n",
       "      <td>-0.0</td>\n",
       "      <td>[30, 31, 32, 33, 34, 35, 36, 37, 38, 40, 41, 4...</td>\n",
       "      <td>[0, 2, 0, 1, 1, 0, 1, 0, 3, 0, 1, 1, 2, 2, 0, ...</td>\n",
       "      <td>30.0</td>\n",
       "      <td>Counter({0: 300, 2: 300, 1: 300, 3: 300})</td>\n",
       "    </tr>\n",
       "    <tr>\n",
       "      <th>1</th>\n",
       "      <td>0.198446</td>\n",
       "      <td>1.0</td>\n",
       "      <td>[0, 1, 2, 3, 4, 5, 6, 7, 9, 10, 11, 12, 13, 14...</td>\n",
       "      <td>[3, 0, 2, 1, 0, 0, 1, 1, 3, 0, 0, 1, 3, 0, 2, ...</td>\n",
       "      <td>29.0</td>\n",
       "      <td>Counter({3: 300, 0: 300, 2: 300, 1: 300})</td>\n",
       "    </tr>\n",
       "  </tbody>\n",
       "</table>\n",
       "</div>"
      ],
      "text/plain": [
       "   adapted_ratkowsky_lance  ari  \\\n",
       "0                 0.199551 -0.0   \n",
       "1                 0.198446  1.0   \n",
       "\n",
       "                                            features  \\\n",
       "0  [30, 31, 32, 33, 34, 35, 36, 37, 38, 40, 41, 4...   \n",
       "1  [0, 1, 2, 3, 4, 5, 6, 7, 9, 10, 11, 12, 13, 14...   \n",
       "\n",
       "                                           partition  size  \\\n",
       "0  [0, 2, 0, 1, 1, 0, 1, 0, 3, 0, 1, 1, 2, 2, 0, ...  30.0   \n",
       "1  [3, 0, 2, 1, 0, 0, 1, 1, 3, 0, 0, 1, 3, 0, 2, ...  29.0   \n",
       "\n",
       "                                   structure  \n",
       "0  Counter({0: 300, 2: 300, 1: 300, 3: 300})  \n",
       "1  Counter({3: 300, 0: 300, 2: 300, 1: 300})  "
      ]
     },
     "metadata": {},
     "output_type": "display_data"
    },
    {
     "name": "stdout",
     "output_type": "stream",
     "text": [
      "Selecting (50, 4) from archive\n"
     ]
    },
    {
     "name": "stderr",
     "output_type": "stream",
     "text": [
      " 92%|█████████▏| 12/13 [03:20<00:14, 14.78s/it]"
     ]
    },
    {
     "name": "stdout",
     "output_type": "stream",
     "text": [
      "S=2, Tabu = 99S=2, Tabu = 197"
     ]
    },
    {
     "data": {
      "text/html": [
       "<div>\n",
       "<style scoped>\n",
       "    .dataframe tbody tr th:only-of-type {\n",
       "        vertical-align: middle;\n",
       "    }\n",
       "\n",
       "    .dataframe tbody tr th {\n",
       "        vertical-align: top;\n",
       "    }\n",
       "\n",
       "    .dataframe thead th {\n",
       "        text-align: right;\n",
       "    }\n",
       "</style>\n",
       "<table border=\"1\" class=\"dataframe\">\n",
       "  <thead>\n",
       "    <tr style=\"text-align: right;\">\n",
       "      <th></th>\n",
       "      <th>adapted_ratkowsky_lance</th>\n",
       "      <th>ari</th>\n",
       "      <th>features</th>\n",
       "      <th>partition</th>\n",
       "      <th>size</th>\n",
       "      <th>structure</th>\n",
       "    </tr>\n",
       "  </thead>\n",
       "  <tbody>\n",
       "    <tr>\n",
       "      <th>0</th>\n",
       "      <td>0.199551</td>\n",
       "      <td>-0.0</td>\n",
       "      <td>[30, 31, 32, 33, 34, 35, 36, 37, 38, 40, 41, 4...</td>\n",
       "      <td>[0, 2, 0, 1, 1, 0, 1, 0, 3, 0, 1, 1, 2, 2, 0, ...</td>\n",
       "      <td>30.0</td>\n",
       "      <td>Counter({0: 300, 2: 300, 1: 300, 3: 300})</td>\n",
       "    </tr>\n",
       "    <tr>\n",
       "      <th>1</th>\n",
       "      <td>0.198446</td>\n",
       "      <td>1.0</td>\n",
       "      <td>[0, 1, 2, 3, 4, 5, 6, 7, 9, 10, 11, 12, 13, 14...</td>\n",
       "      <td>[3, 0, 2, 1, 0, 0, 1, 1, 3, 0, 0, 1, 3, 0, 2, ...</td>\n",
       "      <td>29.0</td>\n",
       "      <td>Counter({3: 300, 0: 300, 2: 300, 1: 300})</td>\n",
       "    </tr>\n",
       "    <tr>\n",
       "      <th>2</th>\n",
       "      <td>0.128478</td>\n",
       "      <td>-0.0</td>\n",
       "      <td>[99, 205]</td>\n",
       "      <td>[3, 2, 0, 2, 0, 1, 0, 0, 3, 0, 2, 3, 2, 1, 3, ...</td>\n",
       "      <td>2.0</td>\n",
       "      <td>Counter({0: 322, 3: 305, 2: 291, 1: 282})</td>\n",
       "    </tr>\n",
       "  </tbody>\n",
       "</table>\n",
       "</div>"
      ],
      "text/plain": [
       "   adapted_ratkowsky_lance  ari  \\\n",
       "0                 0.199551 -0.0   \n",
       "1                 0.198446  1.0   \n",
       "2                 0.128478 -0.0   \n",
       "\n",
       "                                            features  \\\n",
       "0  [30, 31, 32, 33, 34, 35, 36, 37, 38, 40, 41, 4...   \n",
       "1  [0, 1, 2, 3, 4, 5, 6, 7, 9, 10, 11, 12, 13, 14...   \n",
       "2                                          [99, 205]   \n",
       "\n",
       "                                           partition  size  \\\n",
       "0  [0, 2, 0, 1, 1, 0, 1, 0, 3, 0, 1, 1, 2, 2, 0, ...  30.0   \n",
       "1  [3, 0, 2, 1, 0, 0, 1, 1, 3, 0, 0, 1, 3, 0, 2, ...  29.0   \n",
       "2  [3, 2, 0, 2, 0, 1, 0, 0, 3, 0, 2, 3, 2, 1, 3, ...   2.0   \n",
       "\n",
       "                                   structure  \n",
       "0  Counter({0: 300, 2: 300, 1: 300, 3: 300})  \n",
       "1  Counter({3: 300, 0: 300, 2: 300, 1: 300})  \n",
       "2  Counter({0: 322, 3: 305, 2: 291, 1: 282})  "
      ]
     },
     "metadata": {},
     "output_type": "display_data"
    },
    {
     "name": "stdout",
     "output_type": "stream",
     "text": [
      "Selecting (1, 4) from archive\n"
     ]
    },
    {
     "name": "stderr",
     "output_type": "stream",
     "text": [
      "100%|██████████| 13/13 [03:29<00:00, 16.11s/it]\n",
      "/usr/local/lib/python3.6/dist-packages/numpy/core/fromnumeric.py:90: RuntimeWarning: overflow encountered in reduce\n",
      "  return ufunc.reduce(obj, axis, dtype, out, **passkwargs)\n"
     ]
    },
    {
     "name": "stdout",
     "output_type": "stream",
     "text": [
      ".Total: (1200, 921), uniform (1200, 300) , normal (1200, 300),neg bin (1200, 0), gamma (1200, 100), moon (1200, 2), circle (1200, 2),  bimodal (1200, 0), redundat (1200, 1), outliers with uniform (1200, 0), outliers with normal (1200, 0) ,outlier binomial (1200, 0), beta features (1200, 100), \n",
      "(921,) (921,)\n",
      "Statistics computation 0.21 sec\n",
      "Entropy computation 0.83 sec\n",
      "KNN computation 0.52 sec\n",
      "Sorting and thresholds 0.01 sec\n",
      "Performing clustering from file\n",
      "Hierarchical clustering 0.25 sec\n",
      "Handle redundant features 0.04 sec\n",
      "Done 0.0 sec\n",
      "Returning 33 redundant features and  20 important features\n",
      "trimming 758 to 444\n",
      "handle_close_important (444, 3), total 1229\n",
      "relevant_features 506 => computing 4947 \n",
      "trimming 3528 to 33\n",
      "handle_important_features (477, 3),  total 4947\n",
      "irrelevant_features 382 => computing 1875\n",
      "trimming 1614 to 444\n",
      "handle_not_important_features (921, 3), total 1875\n",
      "handle_all_features 888 => computing 4416\n",
      "done predicting\n",
      "trimming 2908 to 888\n",
      "handle_all_features (1809, 3),  total 4416\n",
      "run (1809, 3), total 12467\n",
      "nb_dims : 921 => d = 50\n",
      "Non redundant features 888, orig size 921, nb imp : 20\n",
      "Initial subspace score {'adapted_ratkowsky_lance': 0.12906808179762475, 'ari': 0.6, 'structure': 'Counter({1: 371, 0: 329, 2: 265, 3: 235})', 'features': '3_11', 'size': 2}\n",
      "S=15, Tabu = 85S=33, Tabu = 166S=45, Tabu = 253S=54, Tabu = 339S=54, Tabu = 437nb_dims : 921 => d = 50\n",
      "Non redundant features 888, orig size 921, nb imp : 20\n",
      "Initial subspace score {'adapted_ratkowsky_lance': 0.1312045283996908, 'ari': 0.63, 'structure': 'Counter({1: 332, 3: 303, 2: 298, 0: 267})', 'features': '14_34', 'size': 2}\n",
      "S=11, Tabu = 90S=32, Tabu = 168S=48, Tabu = 251S=53, Tabu = 345S=54, Tabu = 442S=55, Tabu = 538S=55, Tabu = 632nb_dims : 921 => d = 50\n",
      "Non redundant features 888, orig size 921, nb imp : 20\n",
      "Initial subspace score {'adapted_ratkowsky_lance': 0.1537035816009027, 'ari': 0.89, 'structure': 'Counter({3: 310, 2: 300, 1: 300, 0: 290})', 'features': '43_49', 'size': 2}\n",
      "S=18, Tabu = 81S=35, Tabu = 162S=50, Tabu = 242S=52, Tabu = 339S=52, Tabu = 437nb_dims : 921 => d = 50\n",
      "Non redundant features 888, orig size 921, nb imp : 20\n",
      "Initial subspace score {'adapted_ratkowsky_lance': 0.1527460390245216, 'ari': 0.97, 'structure': 'Counter({3: 302, 0: 300, 2: 300, 1: 298})', 'features': '62_75', 'size': 2}\n",
      "S=23, Tabu = 78S=52, Tabu = 146S=56, Tabu = 241S=57, Tabu = 337S=58, Tabu = 434S=58, Tabu = 528nb_dims : 921 => d = 50\n",
      "Non redundant features 888, orig size 921, nb imp : 20\n",
      "Initial subspace score {'adapted_ratkowsky_lance': 0.14959232913844323, 'ari': 0.9, 'structure': 'Counter({3: 304, 0: 301, 1: 299, 2: 296})', 'features': '92_102', 'size': 2}\n",
      "S=19, Tabu = 81S=46, Tabu = 151S=56, Tabu = 238S=57, Tabu = 335S=57, Tabu = 433nb_dims : 921 => d = 50\n",
      "Non redundant features 888, orig size 921, nb imp : 20\n",
      "Initial subspace score {'adapted_ratkowsky_lance': 0.14336634347387517, 'ari': 0.75, 'structure': 'Counter({3: 306, 1: 302, 2: 302, 0: 290})', 'features': '61_94', 'size': 2}\n",
      "S=14, Tabu = 86S=33, Tabu = 165S=49, Tabu = 248S=50, Tabu = 346S=50, Tabu = 446Discovery Analysis\n"
     ]
    },
    {
     "name": "stderr",
     "output_type": "stream",
     "text": [
      "/usr/local/lib/python3.6/dist-packages/numpy/core/fromnumeric.py:90: RuntimeWarning: overflow encountered in reduce\n",
      "  return ufunc.reduce(obj, axis, dtype, out, **passkwargs)\n"
     ]
    },
    {
     "name": "stdout",
     "output_type": "stream",
     "text": [
      "(921,) (921,)\n",
      "Statistics computation 0.22 sec\n",
      "Entropy computation 0.84 sec\n",
      "KNN computation 0.5 sec\n",
      "Sorting and thresholds 0.01 sec\n",
      "Performing clustering from file\n",
      "Hierarchical clustering 0.25 sec\n",
      "Handle redundant features 0.04 sec\n",
      "Done 0.0 sec\n",
      "Returning 33 redundant features and  20 important features\n",
      "trimming 758 to 444\n",
      "handle_close_important (444, 3), total 1229\n",
      "relevant_features 506 => computing 4947 \n",
      "trimming 3528 to 33\n",
      "handle_important_features (477, 3),  total 4947\n",
      "irrelevant_features 382 => computing 1875\n",
      "trimming 1614 to 444\n",
      "handle_not_important_features (921, 3), total 1875\n",
      "handle_all_features 888 => computing 4416\n"
     ]
    },
    {
     "name": "stderr",
     "output_type": "stream",
     "text": [
      "\r",
      "  0%|          | 0/13 [00:00<?, ?it/s]"
     ]
    },
    {
     "name": "stdout",
     "output_type": "stream",
     "text": [
      "done predicting\n",
      "trimming 2908 to 888\n",
      "handle_all_features (1809, 3),  total 4416\n",
      "run (1809, 3), total 12467\n",
      "nb_dims : 921 => d = 50\n",
      "Non redundant features 888, orig size 921, nb imp : 20\n",
      "Selecting (50, 4) from archive\n"
     ]
    },
    {
     "name": "stderr",
     "output_type": "stream",
     "text": [
      " 31%|███       | 4/13 [00:22<00:52,  5.81s/it]"
     ]
    },
    {
     "name": "stdout",
     "output_type": "stream",
     "text": [
      "S=31, Tabu = 77S=48, Tabu = 159S=50, Tabu = 256S=57, Tabu = 347S=57, Tabu = 442"
     ]
    },
    {
     "data": {
      "text/html": [
       "<div>\n",
       "<style scoped>\n",
       "    .dataframe tbody tr th:only-of-type {\n",
       "        vertical-align: middle;\n",
       "    }\n",
       "\n",
       "    .dataframe tbody tr th {\n",
       "        vertical-align: top;\n",
       "    }\n",
       "\n",
       "    .dataframe thead th {\n",
       "        text-align: right;\n",
       "    }\n",
       "</style>\n",
       "<table border=\"1\" class=\"dataframe\">\n",
       "  <thead>\n",
       "    <tr style=\"text-align: right;\">\n",
       "      <th></th>\n",
       "      <th>adapted_ratkowsky_lance</th>\n",
       "      <th>ari</th>\n",
       "      <th>features</th>\n",
       "      <th>partition</th>\n",
       "      <th>size</th>\n",
       "      <th>structure</th>\n",
       "    </tr>\n",
       "  </thead>\n",
       "  <tbody>\n",
       "    <tr>\n",
       "      <th>0</th>\n",
       "      <td>0.205666</td>\n",
       "      <td>-0.0</td>\n",
       "      <td>[60, 61, 62, 64, 65, 66, 67, 68, 69, 70, 71, 7...</td>\n",
       "      <td>[0, 2, 1, 0, 0, 1, 0, 0, 0, 0, 1, 3, 0, 3, 1, ...</td>\n",
       "      <td>57.0</td>\n",
       "      <td>Counter({0: 300, 2: 300, 1: 300, 3: 300})</td>\n",
       "    </tr>\n",
       "  </tbody>\n",
       "</table>\n",
       "</div>"
      ],
      "text/plain": [
       "   adapted_ratkowsky_lance  ari  \\\n",
       "0                 0.205666 -0.0   \n",
       "\n",
       "                                            features  \\\n",
       "0  [60, 61, 62, 64, 65, 66, 67, 68, 69, 70, 71, 7...   \n",
       "\n",
       "                                           partition  size  \\\n",
       "0  [0, 2, 1, 0, 0, 1, 0, 0, 0, 0, 1, 3, 0, 3, 1, ...  57.0   \n",
       "\n",
       "                                   structure  \n",
       "0  Counter({0: 300, 2: 300, 1: 300, 3: 300})  "
      ]
     },
     "metadata": {},
     "output_type": "display_data"
    },
    {
     "name": "stdout",
     "output_type": "stream",
     "text": [
      "Selecting (45, 4) from archive\n"
     ]
    },
    {
     "name": "stderr",
     "output_type": "stream",
     "text": [
      " 62%|██████▏   | 8/13 [02:47<01:36, 19.27s/it]"
     ]
    },
    {
     "name": "stdout",
     "output_type": "stream",
     "text": [
      "S=31, Tabu = 83S=41, Tabu = 173S=43, Tabu = 270S=51, Tabu = 359S=53, Tabu = 456S=53, Tabu = 554"
     ]
    },
    {
     "data": {
      "text/html": [
       "<div>\n",
       "<style scoped>\n",
       "    .dataframe tbody tr th:only-of-type {\n",
       "        vertical-align: middle;\n",
       "    }\n",
       "\n",
       "    .dataframe tbody tr th {\n",
       "        vertical-align: top;\n",
       "    }\n",
       "\n",
       "    .dataframe thead th {\n",
       "        text-align: right;\n",
       "    }\n",
       "</style>\n",
       "<table border=\"1\" class=\"dataframe\">\n",
       "  <thead>\n",
       "    <tr style=\"text-align: right;\">\n",
       "      <th></th>\n",
       "      <th>adapted_ratkowsky_lance</th>\n",
       "      <th>ari</th>\n",
       "      <th>features</th>\n",
       "      <th>partition</th>\n",
       "      <th>size</th>\n",
       "      <th>structure</th>\n",
       "    </tr>\n",
       "  </thead>\n",
       "  <tbody>\n",
       "    <tr>\n",
       "      <th>0</th>\n",
       "      <td>0.205666</td>\n",
       "      <td>-0.0</td>\n",
       "      <td>[60, 61, 62, 64, 65, 66, 67, 68, 69, 70, 71, 7...</td>\n",
       "      <td>[0, 2, 1, 0, 0, 1, 0, 0, 0, 0, 1, 3, 0, 3, 1, ...</td>\n",
       "      <td>57.0</td>\n",
       "      <td>Counter({0: 300, 2: 300, 1: 300, 3: 300})</td>\n",
       "    </tr>\n",
       "    <tr>\n",
       "      <th>1</th>\n",
       "      <td>0.199266</td>\n",
       "      <td>1.0</td>\n",
       "      <td>[0, 1, 2, 3, 4, 5, 6, 7, 8, 10, 12, 13, 14, 15...</td>\n",
       "      <td>[1, 3, 1, 1, 3, 2, 2, 1, 3, 2, 2, 3, 2, 3, 1, ...</td>\n",
       "      <td>53.0</td>\n",
       "      <td>Counter({1: 300, 3: 300, 2: 300, 0: 300})</td>\n",
       "    </tr>\n",
       "  </tbody>\n",
       "</table>\n",
       "</div>"
      ],
      "text/plain": [
       "   adapted_ratkowsky_lance  ari  \\\n",
       "0                 0.205666 -0.0   \n",
       "1                 0.199266  1.0   \n",
       "\n",
       "                                            features  \\\n",
       "0  [60, 61, 62, 64, 65, 66, 67, 68, 69, 70, 71, 7...   \n",
       "1  [0, 1, 2, 3, 4, 5, 6, 7, 8, 10, 12, 13, 14, 15...   \n",
       "\n",
       "                                           partition  size  \\\n",
       "0  [0, 2, 1, 0, 0, 1, 0, 0, 0, 0, 1, 3, 0, 3, 1, ...  57.0   \n",
       "1  [1, 3, 1, 1, 3, 2, 2, 1, 3, 2, 2, 3, 2, 3, 1, ...  53.0   \n",
       "\n",
       "                                   structure  \n",
       "0  Counter({0: 300, 2: 300, 1: 300, 3: 300})  \n",
       "1  Counter({1: 300, 3: 300, 2: 300, 0: 300})  "
      ]
     },
     "metadata": {},
     "output_type": "display_data"
    },
    {
     "name": "stdout",
     "output_type": "stream",
     "text": [
      "Selecting (50, 4) from archive\n"
     ]
    },
    {
     "name": "stderr",
     "output_type": "stream",
     "text": [
      " 92%|█████████▏| 12/13 [05:10<00:20, 20.81s/it]"
     ]
    },
    {
     "name": "stdout",
     "output_type": "stream",
     "text": [
      "S=3, Tabu = 97S=5, Tabu = 191S=5, Tabu = 290"
     ]
    },
    {
     "data": {
      "text/html": [
       "<div>\n",
       "<style scoped>\n",
       "    .dataframe tbody tr th:only-of-type {\n",
       "        vertical-align: middle;\n",
       "    }\n",
       "\n",
       "    .dataframe tbody tr th {\n",
       "        vertical-align: top;\n",
       "    }\n",
       "\n",
       "    .dataframe thead th {\n",
       "        text-align: right;\n",
       "    }\n",
       "</style>\n",
       "<table border=\"1\" class=\"dataframe\">\n",
       "  <thead>\n",
       "    <tr style=\"text-align: right;\">\n",
       "      <th></th>\n",
       "      <th>adapted_ratkowsky_lance</th>\n",
       "      <th>ari</th>\n",
       "      <th>features</th>\n",
       "      <th>partition</th>\n",
       "      <th>size</th>\n",
       "      <th>structure</th>\n",
       "    </tr>\n",
       "  </thead>\n",
       "  <tbody>\n",
       "    <tr>\n",
       "      <th>0</th>\n",
       "      <td>0.205666</td>\n",
       "      <td>-0.00</td>\n",
       "      <td>[60, 61, 62, 64, 65, 66, 67, 68, 69, 70, 71, 7...</td>\n",
       "      <td>[0, 2, 1, 0, 0, 1, 0, 0, 0, 0, 1, 3, 0, 3, 1, ...</td>\n",
       "      <td>57.0</td>\n",
       "      <td>Counter({0: 300, 2: 300, 1: 300, 3: 300})</td>\n",
       "    </tr>\n",
       "    <tr>\n",
       "      <th>1</th>\n",
       "      <td>0.199266</td>\n",
       "      <td>1.00</td>\n",
       "      <td>[0, 1, 2, 3, 4, 5, 6, 7, 8, 10, 12, 13, 14, 15...</td>\n",
       "      <td>[1, 3, 1, 1, 3, 2, 2, 1, 3, 2, 2, 3, 2, 3, 1, ...</td>\n",
       "      <td>53.0</td>\n",
       "      <td>Counter({1: 300, 3: 300, 2: 300, 0: 300})</td>\n",
       "    </tr>\n",
       "    <tr>\n",
       "      <th>2</th>\n",
       "      <td>0.166468</td>\n",
       "      <td>0.23</td>\n",
       "      <td>[14, 29, 43, 331, 920]</td>\n",
       "      <td>[0, 3, 0, 0, 1, 0, 2, 0, 1, 0, 2, 3, 2, 1, 2, ...</td>\n",
       "      <td>5.0</td>\n",
       "      <td>Counter({2: 462, 0: 438, 3: 170, 1: 130})</td>\n",
       "    </tr>\n",
       "  </tbody>\n",
       "</table>\n",
       "</div>"
      ],
      "text/plain": [
       "   adapted_ratkowsky_lance   ari  \\\n",
       "0                 0.205666 -0.00   \n",
       "1                 0.199266  1.00   \n",
       "2                 0.166468  0.23   \n",
       "\n",
       "                                            features  \\\n",
       "0  [60, 61, 62, 64, 65, 66, 67, 68, 69, 70, 71, 7...   \n",
       "1  [0, 1, 2, 3, 4, 5, 6, 7, 8, 10, 12, 13, 14, 15...   \n",
       "2                             [14, 29, 43, 331, 920]   \n",
       "\n",
       "                                           partition  size  \\\n",
       "0  [0, 2, 1, 0, 0, 1, 0, 0, 0, 0, 1, 3, 0, 3, 1, ...  57.0   \n",
       "1  [1, 3, 1, 1, 3, 2, 2, 1, 3, 2, 2, 3, 2, 3, 1, ...  53.0   \n",
       "2  [0, 3, 0, 0, 1, 0, 2, 0, 1, 0, 2, 3, 2, 1, 2, ...   5.0   \n",
       "\n",
       "                                   structure  \n",
       "0  Counter({0: 300, 2: 300, 1: 300, 3: 300})  \n",
       "1  Counter({1: 300, 3: 300, 2: 300, 0: 300})  \n",
       "2  Counter({2: 462, 0: 438, 3: 170, 1: 130})  "
      ]
     },
     "metadata": {},
     "output_type": "display_data"
    },
    {
     "name": "stdout",
     "output_type": "stream",
     "text": [
      "Selecting (1, 4) from archive\n"
     ]
    },
    {
     "name": "stderr",
     "output_type": "stream",
     "text": [
      "100%|██████████| 13/13 [05:23<00:00, 24.89s/it]\n",
      "/usr/local/lib/python3.6/dist-packages/numpy/core/fromnumeric.py:90: RuntimeWarning: overflow encountered in reduce\n",
      "  return ufunc.reduce(obj, axis, dtype, out, **passkwargs)\n"
     ]
    },
    {
     "name": "stdout",
     "output_type": "stream",
     "text": [
      ".Total: (1200, 921), uniform (1200, 300) , normal (1200, 300),neg bin (1200, 0), gamma (1200, 100), moon (1200, 2), circle (1200, 2),  bimodal (1200, 0), redundat (1200, 1), outliers with uniform (1200, 0), outliers with normal (1200, 0) ,outlier binomial (1200, 0), beta features (1200, 100), \n",
      "(921,) (921,)\n",
      "Statistics computation 0.23 sec\n",
      "Entropy computation 0.8 sec\n",
      "KNN computation 0.52 sec\n",
      "Sorting and thresholds 0.01 sec\n",
      "Performing clustering from file\n",
      "Hierarchical clustering 0.25 sec\n",
      "Handle redundant features 0.04 sec\n",
      "Done 0.0 sec\n",
      "Returning 33 redundant features and  20 important features\n",
      "trimming 803 to 444\n",
      "handle_close_important (444, 3), total 1259\n",
      "relevant_features 502 => computing 4920 \n",
      "trimming 3712 to 33\n",
      "handle_important_features (477, 3),  total 4920\n",
      "irrelevant_features 386 => computing 1914\n",
      "trimming 1736 to 444\n",
      "handle_not_important_features (921, 3), total 1914\n",
      "handle_all_features 888 => computing 4416\n",
      "done predicting\n",
      "trimming 3018 to 888\n",
      "handle_all_features (1809, 3),  total 4416\n",
      "run (1809, 3), total 12509\n",
      "nb_dims : 921 => d = 50\n",
      "Non redundant features 888, orig size 921, nb imp : 20\n",
      "Initial subspace score {'adapted_ratkowsky_lance': 0.12906808179762475, 'ari': 0.6, 'structure': 'Counter({1: 371, 0: 329, 2: 265, 3: 235})', 'features': '3_11', 'size': 2}\n",
      "S=15, Tabu = 85S=35, Tabu = 164S=46, Tabu = 251S=54, Tabu = 341S=54, Tabu = 436nb_dims : 921 => d = 50\n",
      "Non redundant features 888, orig size 921, nb imp : 20\n",
      "Initial subspace score {'adapted_ratkowsky_lance': 0.1312045283996908, 'ari': 0.63, 'structure': 'Counter({1: 332, 3: 303, 2: 298, 0: 267})', 'features': '14_34', 'size': 2}\n",
      "S=12, Tabu = 90S=32, Tabu = 169S=38, Tabu = 262S=42, Tabu = 355S=44, Tabu = 451S=45, Tabu = 546S=45, Tabu = 643nb_dims : 921 => d = 50\n",
      "Non redundant features 888, orig size 921, nb imp : 20\n",
      "Initial subspace score {'adapted_ratkowsky_lance': 0.1537035816009027, 'ari': 0.89, 'structure': 'Counter({3: 310, 2: 300, 1: 300, 0: 290})', 'features': '43_49', 'size': 2}\n",
      "S=13, Tabu = 87S=33, Tabu = 166S=52, Tabu = 244S=55, Tabu = 341S=55, Tabu = 439nb_dims : 921 => d = 50\n",
      "Non redundant features 888, orig size 921, nb imp : 20\n",
      "Initial subspace score {'adapted_ratkowsky_lance': 0.15414596659274768, 'ari': 0.98, 'structure': 'Counter({3: 302, 2: 301, 1: 299, 0: 298})', 'features': '62_87', 'size': 2}\n",
      "S=24, Tabu = 76S=52, Tabu = 146S=58, Tabu = 239S=58, Tabu = 338nb_dims : 921 => d = 50\n",
      "Non redundant features 888, orig size 921, nb imp : 20\n",
      "Initial subspace score {'adapted_ratkowsky_lance': 0.15147749755758033, 'ari': 0.76, 'structure': 'Counter({3: 352, 2: 300, 1: 299, 0: 249})', 'features': '64_119', 'size': 2}\n",
      "S=30, Tabu = 71S=54, Tabu = 147S=56, Tabu = 245S=58, Tabu = 341S=59, Tabu = 436S=59, Tabu = 532nb_dims : 921 => d = 50\n",
      "Non redundant features 888, orig size 921, nb imp : 20\n",
      "Initial subspace score {'adapted_ratkowsky_lance': 0.15206628610792822, 'ari': 0.68, 'structure': 'Counter({1: 340, 0: 300, 2: 300, 3: 260})', 'features': '75_79', 'size': 2}\n",
      "S=30, Tabu = 72S=54, Tabu = 146S=57, Tabu = 241S=59, Tabu = 338S=59, Tabu = 436Discovery Analysis\n"
     ]
    },
    {
     "name": "stderr",
     "output_type": "stream",
     "text": [
      "/usr/local/lib/python3.6/dist-packages/numpy/core/fromnumeric.py:90: RuntimeWarning: overflow encountered in reduce\n",
      "  return ufunc.reduce(obj, axis, dtype, out, **passkwargs)\n"
     ]
    },
    {
     "name": "stdout",
     "output_type": "stream",
     "text": [
      "(921,) (921,)\n",
      "Statistics computation 0.21 sec\n",
      "Entropy computation 0.84 sec\n",
      "KNN computation 0.5 sec\n",
      "Sorting and thresholds 0.01 sec\n",
      "Performing clustering from file\n",
      "Hierarchical clustering 0.24 sec\n",
      "Handle redundant features 0.04 sec\n",
      "Done 0.0 sec\n",
      "Returning 33 redundant features and  20 important features\n",
      "trimming 803 to 444\n",
      "handle_close_important (444, 3), total 1259\n",
      "relevant_features 502 => computing 4920 \n",
      "trimming 3712 to 33\n",
      "handle_important_features (477, 3),  total 4920\n",
      "irrelevant_features 386 => computing 1914\n",
      "trimming 1736 to 444\n",
      "handle_not_important_features (921, 3), total 1914\n",
      "handle_all_features 888 => computing 4416\n"
     ]
    },
    {
     "name": "stderr",
     "output_type": "stream",
     "text": [
      "\r",
      "  0%|          | 0/13 [00:00<?, ?it/s]"
     ]
    },
    {
     "name": "stdout",
     "output_type": "stream",
     "text": [
      "done predicting\n",
      "trimming 3018 to 888\n",
      "handle_all_features (1809, 3),  total 4416\n",
      "run (1809, 3), total 12509\n",
      "nb_dims : 921 => d = 50\n",
      "Non redundant features 888, orig size 921, nb imp : 20\n",
      "Selecting (50, 4) from archive\n"
     ]
    },
    {
     "name": "stderr",
     "output_type": "stream",
     "text": [
      " 31%|███       | 4/13 [00:21<00:50,  5.57s/it]"
     ]
    },
    {
     "name": "stdout",
     "output_type": "stream",
     "text": [
      "S=28, Tabu = 80S=50, Tabu = 156S=56, Tabu = 250S=57, Tabu = 348S=58, Tabu = 446S=58, Tabu = 543"
     ]
    },
    {
     "data": {
      "text/html": [
       "<div>\n",
       "<style scoped>\n",
       "    .dataframe tbody tr th:only-of-type {\n",
       "        vertical-align: middle;\n",
       "    }\n",
       "\n",
       "    .dataframe tbody tr th {\n",
       "        vertical-align: top;\n",
       "    }\n",
       "\n",
       "    .dataframe thead th {\n",
       "        text-align: right;\n",
       "    }\n",
       "</style>\n",
       "<table border=\"1\" class=\"dataframe\">\n",
       "  <thead>\n",
       "    <tr style=\"text-align: right;\">\n",
       "      <th></th>\n",
       "      <th>adapted_ratkowsky_lance</th>\n",
       "      <th>ari</th>\n",
       "      <th>features</th>\n",
       "      <th>partition</th>\n",
       "      <th>size</th>\n",
       "      <th>structure</th>\n",
       "    </tr>\n",
       "  </thead>\n",
       "  <tbody>\n",
       "    <tr>\n",
       "      <th>0</th>\n",
       "      <td>0.207051</td>\n",
       "      <td>-0.0</td>\n",
       "      <td>[60, 61, 62, 63, 64, 66, 67, 68, 69, 70, 71, 7...</td>\n",
       "      <td>[0, 3, 2, 0, 0, 2, 0, 0, 0, 0, 2, 1, 0, 1, 2, ...</td>\n",
       "      <td>58.0</td>\n",
       "      <td>Counter({0: 300, 3: 300, 2: 300, 1: 300})</td>\n",
       "    </tr>\n",
       "  </tbody>\n",
       "</table>\n",
       "</div>"
      ],
      "text/plain": [
       "   adapted_ratkowsky_lance  ari  \\\n",
       "0                 0.207051 -0.0   \n",
       "\n",
       "                                            features  \\\n",
       "0  [60, 61, 62, 63, 64, 66, 67, 68, 69, 70, 71, 7...   \n",
       "\n",
       "                                           partition  size  \\\n",
       "0  [0, 3, 2, 0, 0, 2, 0, 0, 0, 0, 2, 1, 0, 1, 2, ...  58.0   \n",
       "\n",
       "                                   structure  \n",
       "0  Counter({0: 300, 3: 300, 2: 300, 1: 300})  "
      ]
     },
     "metadata": {},
     "output_type": "display_data"
    },
    {
     "name": "stdout",
     "output_type": "stream",
     "text": [
      "Selecting (37, 4) from archive\n"
     ]
    },
    {
     "name": "stderr",
     "output_type": "stream",
     "text": [
      " 62%|██████▏   | 8/13 [03:33<02:05, 25.12s/it]"
     ]
    },
    {
     "name": "stdout",
     "output_type": "stream",
     "text": [
      "S=34, Tabu = 84S=46, Tabu = 169S=49, Tabu = 266S=52, Tabu = 362S=52, Tabu = 461"
     ]
    },
    {
     "data": {
      "text/html": [
       "<div>\n",
       "<style scoped>\n",
       "    .dataframe tbody tr th:only-of-type {\n",
       "        vertical-align: middle;\n",
       "    }\n",
       "\n",
       "    .dataframe tbody tr th {\n",
       "        vertical-align: top;\n",
       "    }\n",
       "\n",
       "    .dataframe thead th {\n",
       "        text-align: right;\n",
       "    }\n",
       "</style>\n",
       "<table border=\"1\" class=\"dataframe\">\n",
       "  <thead>\n",
       "    <tr style=\"text-align: right;\">\n",
       "      <th></th>\n",
       "      <th>adapted_ratkowsky_lance</th>\n",
       "      <th>ari</th>\n",
       "      <th>features</th>\n",
       "      <th>partition</th>\n",
       "      <th>size</th>\n",
       "      <th>structure</th>\n",
       "    </tr>\n",
       "  </thead>\n",
       "  <tbody>\n",
       "    <tr>\n",
       "      <th>0</th>\n",
       "      <td>0.207051</td>\n",
       "      <td>-0.0</td>\n",
       "      <td>[60, 61, 62, 63, 64, 66, 67, 68, 69, 70, 71, 7...</td>\n",
       "      <td>[0, 3, 2, 0, 0, 2, 0, 0, 0, 0, 2, 1, 0, 1, 2, ...</td>\n",
       "      <td>58.0</td>\n",
       "      <td>Counter({0: 300, 3: 300, 2: 300, 1: 300})</td>\n",
       "    </tr>\n",
       "    <tr>\n",
       "      <th>1</th>\n",
       "      <td>0.204501</td>\n",
       "      <td>1.0</td>\n",
       "      <td>[1, 2, 3, 4, 5, 6, 7, 9, 10, 11, 12, 13, 14, 1...</td>\n",
       "      <td>[3, 1, 3, 3, 1, 2, 2, 3, 1, 2, 2, 1, 2, 1, 3, ...</td>\n",
       "      <td>52.0</td>\n",
       "      <td>Counter({3: 300, 1: 300, 2: 300, 0: 300})</td>\n",
       "    </tr>\n",
       "  </tbody>\n",
       "</table>\n",
       "</div>"
      ],
      "text/plain": [
       "   adapted_ratkowsky_lance  ari  \\\n",
       "0                 0.207051 -0.0   \n",
       "1                 0.204501  1.0   \n",
       "\n",
       "                                            features  \\\n",
       "0  [60, 61, 62, 63, 64, 66, 67, 68, 69, 70, 71, 7...   \n",
       "1  [1, 2, 3, 4, 5, 6, 7, 9, 10, 11, 12, 13, 14, 1...   \n",
       "\n",
       "                                           partition  size  \\\n",
       "0  [0, 3, 2, 0, 0, 2, 0, 0, 0, 0, 2, 1, 0, 1, 2, ...  58.0   \n",
       "1  [3, 1, 3, 3, 1, 2, 2, 3, 1, 2, 2, 1, 2, 1, 3, ...  52.0   \n",
       "\n",
       "                                   structure  \n",
       "0  Counter({0: 300, 3: 300, 2: 300, 1: 300})  \n",
       "1  Counter({3: 300, 1: 300, 2: 300, 0: 300})  "
      ]
     },
     "metadata": {},
     "output_type": "display_data"
    },
    {
     "name": "stdout",
     "output_type": "stream",
     "text": [
      "Selecting (50, 4) from archive\n"
     ]
    },
    {
     "name": "stderr",
     "output_type": "stream",
     "text": [
      " 92%|█████████▏| 12/13 [05:38<00:20, 20.49s/it]"
     ]
    },
    {
     "name": "stdout",
     "output_type": "stream",
     "text": [
      "S=7, Tabu = 93S=17, Tabu = 182S=35, Tabu = 262S=43, Tabu = 352S=46, Tabu = 447S=46, Tabu = 544"
     ]
    },
    {
     "data": {
      "text/html": [
       "<div>\n",
       "<style scoped>\n",
       "    .dataframe tbody tr th:only-of-type {\n",
       "        vertical-align: middle;\n",
       "    }\n",
       "\n",
       "    .dataframe tbody tr th {\n",
       "        vertical-align: top;\n",
       "    }\n",
       "\n",
       "    .dataframe thead th {\n",
       "        text-align: right;\n",
       "    }\n",
       "</style>\n",
       "<table border=\"1\" class=\"dataframe\">\n",
       "  <thead>\n",
       "    <tr style=\"text-align: right;\">\n",
       "      <th></th>\n",
       "      <th>adapted_ratkowsky_lance</th>\n",
       "      <th>ari</th>\n",
       "      <th>features</th>\n",
       "      <th>partition</th>\n",
       "      <th>size</th>\n",
       "      <th>structure</th>\n",
       "    </tr>\n",
       "  </thead>\n",
       "  <tbody>\n",
       "    <tr>\n",
       "      <th>0</th>\n",
       "      <td>0.207051</td>\n",
       "      <td>-0.0</td>\n",
       "      <td>[60, 61, 62, 63, 64, 66, 67, 68, 69, 70, 71, 7...</td>\n",
       "      <td>[0, 3, 2, 0, 0, 2, 0, 0, 0, 0, 2, 1, 0, 1, 2, ...</td>\n",
       "      <td>58.0</td>\n",
       "      <td>Counter({0: 300, 3: 300, 2: 300, 1: 300})</td>\n",
       "    </tr>\n",
       "    <tr>\n",
       "      <th>1</th>\n",
       "      <td>0.204501</td>\n",
       "      <td>1.0</td>\n",
       "      <td>[1, 2, 3, 4, 5, 6, 7, 9, 10, 11, 12, 13, 14, 1...</td>\n",
       "      <td>[3, 1, 3, 3, 1, 2, 2, 3, 1, 2, 2, 1, 2, 1, 3, ...</td>\n",
       "      <td>52.0</td>\n",
       "      <td>Counter({3: 300, 1: 300, 2: 300, 0: 300})</td>\n",
       "    </tr>\n",
       "    <tr>\n",
       "      <th>2</th>\n",
       "      <td>0.202170</td>\n",
       "      <td>-0.0</td>\n",
       "      <td>[60, 62, 63, 64, 66, 67, 68, 69, 71, 72, 73, 7...</td>\n",
       "      <td>[0, 3, 2, 0, 0, 2, 0, 0, 0, 0, 2, 1, 0, 1, 2, ...</td>\n",
       "      <td>46.0</td>\n",
       "      <td>Counter({0: 300, 3: 300, 2: 300, 1: 300})</td>\n",
       "    </tr>\n",
       "  </tbody>\n",
       "</table>\n",
       "</div>"
      ],
      "text/plain": [
       "   adapted_ratkowsky_lance  ari  \\\n",
       "0                 0.207051 -0.0   \n",
       "1                 0.204501  1.0   \n",
       "2                 0.202170 -0.0   \n",
       "\n",
       "                                            features  \\\n",
       "0  [60, 61, 62, 63, 64, 66, 67, 68, 69, 70, 71, 7...   \n",
       "1  [1, 2, 3, 4, 5, 6, 7, 9, 10, 11, 12, 13, 14, 1...   \n",
       "2  [60, 62, 63, 64, 66, 67, 68, 69, 71, 72, 73, 7...   \n",
       "\n",
       "                                           partition  size  \\\n",
       "0  [0, 3, 2, 0, 0, 2, 0, 0, 0, 0, 2, 1, 0, 1, 2, ...  58.0   \n",
       "1  [3, 1, 3, 3, 1, 2, 2, 3, 1, 2, 2, 1, 2, 1, 3, ...  52.0   \n",
       "2  [0, 3, 2, 0, 0, 2, 0, 0, 0, 0, 2, 1, 0, 1, 2, ...  46.0   \n",
       "\n",
       "                                   structure  \n",
       "0  Counter({0: 300, 3: 300, 2: 300, 1: 300})  \n",
       "1  Counter({3: 300, 1: 300, 2: 300, 0: 300})  \n",
       "2  Counter({0: 300, 3: 300, 2: 300, 1: 300})  "
      ]
     },
     "metadata": {},
     "output_type": "display_data"
    },
    {
     "name": "stdout",
     "output_type": "stream",
     "text": [
      "Selecting (7, 4) from archive\n"
     ]
    },
    {
     "name": "stderr",
     "output_type": "stream",
     "text": [
      "100%|██████████| 13/13 [07:18<00:00, 33.70s/it]\n"
     ]
    },
    {
     "name": "stdout",
     "output_type": "stream",
     "text": [
      ".Total: (1200, 921), uniform (1200, 300) , normal (1200, 300),neg bin (1200, 0), gamma (1200, 100), moon (1200, 2), circle (1200, 2),  bimodal (1200, 0), redundat (1200, 1), outliers with uniform (1200, 0), outliers with normal (1200, 0) ,outlier binomial (1200, 0), beta features (1200, 100), \n",
      "(921,) (921,)\n",
      "Statistics computation 0.18 sec\n",
      "Entropy computation 0.81 sec\n",
      "KNN computation 0.49 sec\n",
      "Sorting and thresholds 0.01 sec\n",
      "Performing clustering from file\n",
      "Hierarchical clustering 0.24 sec\n",
      "Handle redundant features 0.04 sec\n",
      "Done 0.0 sec\n",
      "Returning 33 redundant features and  20 important features\n",
      "trimming 785 to 444\n",
      "handle_close_important (444, 3), total 1246\n",
      "relevant_features 507 => computing 4975 \n",
      "trimming 3631 to 33\n",
      "handle_important_features (477, 3),  total 4975\n",
      "irrelevant_features 381 => computing 1874\n",
      "trimming 1660 to 444\n",
      "handle_not_important_features (921, 3), total 1874\n",
      "handle_all_features 888 => computing 4416\n",
      "done predicting\n",
      "trimming 2968 to 888\n",
      "handle_all_features (1809, 3),  total 4416\n",
      "run (1809, 3), total 12511\n",
      "nb_dims : 921 => d = 50\n",
      "Non redundant features 888, orig size 921, nb imp : 20\n",
      "Initial subspace score {'adapted_ratkowsky_lance': 0.12906808179762475, 'ari': 0.6, 'structure': 'Counter({1: 371, 0: 329, 2: 265, 3: 235})', 'features': '3_11', 'size': 2}\n",
      "S=15, Tabu = 85S=35, Tabu = 164S=46, Tabu = 252S=51, Tabu = 346S=53, Tabu = 441S=53, Tabu = 541nb_dims : 921 => d = 50\n",
      "Non redundant features 888, orig size 921, nb imp : 20\n",
      "Initial subspace score {'adapted_ratkowsky_lance': 0.1312045283996908, 'ari': 0.63, 'structure': 'Counter({1: 332, 3: 303, 2: 298, 0: 267})', 'features': '14_34', 'size': 2}\n",
      "S=15, Tabu = 84S=43, Tabu = 153S=54, Tabu = 242S=58, Tabu = 338S=58, Tabu = 437nb_dims : 921 => d = 50\n",
      "Non redundant features 888, orig size 921, nb imp : 20\n",
      "Initial subspace score {'adapted_ratkowsky_lance': 0.1537035816009027, 'ari': 0.89, 'structure': 'Counter({3: 310, 2: 300, 1: 300, 0: 290})', 'features': '43_49', 'size': 2}\n",
      "S=17, Tabu = 81S=39, Tabu = 158S=46, Tabu = 250S=47, Tabu = 346S=48, Tabu = 441S=48, Tabu = 537nb_dims : 921 => d = 50\n",
      "Non redundant features 888, orig size 921, nb imp : 20\n",
      "Initial subspace score {'adapted_ratkowsky_lance': 0.1527460390245216, 'ari': 0.97, 'structure': 'Counter({3: 302, 0: 300, 2: 300, 1: 298})', 'features': '62_75', 'size': 2}\n",
      "S=21, Tabu = 79S=48, Tabu = 149S=56, Tabu = 239S=56, Tabu = 339nb_dims : 921 => d = 50\n",
      "Non redundant features 888, orig size 921, nb imp : 20\n",
      "Initial subspace score {'adapted_ratkowsky_lance': 0.14959232913844323, 'ari': 0.9, 'structure': 'Counter({3: 304, 0: 301, 1: 299, 2: 296})', 'features': '92_102', 'size': 2}\n",
      "S=22, Tabu = 80S=48, Tabu = 152S=58, Tabu = 239S=58, Tabu = 337nb_dims : 921 => d = 50\n",
      "Non redundant features 888, orig size 921, nb imp : 20\n",
      "Initial subspace score {'adapted_ratkowsky_lance': 0.14336634347387517, 'ari': 0.75, 'structure': 'Counter({3: 306, 1: 302, 2: 302, 0: 290})', 'features': '61_94', 'size': 2}\n",
      "S=12, Tabu = 88S=28, Tabu = 171S=40, Tabu = 258S=46, Tabu = 350S=51, Tabu = 441S=52, Tabu = 537S=52, Tabu = 630Discovery Analysis\n",
      "(921,) (921,)\n",
      "Statistics computation 0.21 sec\n",
      "Entropy computation 0.82 sec\n",
      "KNN computation 0.52 sec\n",
      "Sorting and thresholds 0.01 sec\n",
      "Performing clustering from file\n",
      "Hierarchical clustering 0.24 sec\n",
      "Handle redundant features 0.04 sec\n",
      "Done 0.0 sec\n",
      "Returning 33 redundant features and  20 important features\n",
      "trimming 785 to 444\n",
      "handle_close_important (444, 3), total 1246\n",
      "relevant_features 507 => computing 4975 \n",
      "trimming 3631 to 33\n",
      "handle_important_features (477, 3),  total 4975\n",
      "irrelevant_features 381 => computing 1874\n",
      "trimming 1660 to 444\n",
      "handle_not_important_features (921, 3), total 1874\n",
      "handle_all_features 888 => computing 4416\n"
     ]
    },
    {
     "name": "stderr",
     "output_type": "stream",
     "text": [
      "\r",
      "  0%|          | 0/13 [00:00<?, ?it/s]"
     ]
    },
    {
     "name": "stdout",
     "output_type": "stream",
     "text": [
      "done predicting\n",
      "trimming 2968 to 888\n",
      "handle_all_features (1809, 3),  total 4416\n",
      "run (1809, 3), total 12511\n",
      "nb_dims : 921 => d = 50\n",
      "Non redundant features 888, orig size 921, nb imp : 20\n",
      "Selecting (50, 4) from archive\n"
     ]
    },
    {
     "name": "stderr",
     "output_type": "stream",
     "text": [
      " 31%|███       | 4/13 [00:22<00:51,  5.67s/it]"
     ]
    },
    {
     "name": "stdout",
     "output_type": "stream",
     "text": [
      "S=40, Tabu = 70S=55, Tabu = 154S=57, Tabu = 251S=57, Tabu = 350"
     ]
    },
    {
     "data": {
      "text/html": [
       "<div>\n",
       "<style scoped>\n",
       "    .dataframe tbody tr th:only-of-type {\n",
       "        vertical-align: middle;\n",
       "    }\n",
       "\n",
       "    .dataframe tbody tr th {\n",
       "        vertical-align: top;\n",
       "    }\n",
       "\n",
       "    .dataframe thead th {\n",
       "        text-align: right;\n",
       "    }\n",
       "</style>\n",
       "<table border=\"1\" class=\"dataframe\">\n",
       "  <thead>\n",
       "    <tr style=\"text-align: right;\">\n",
       "      <th></th>\n",
       "      <th>adapted_ratkowsky_lance</th>\n",
       "      <th>ari</th>\n",
       "      <th>features</th>\n",
       "      <th>partition</th>\n",
       "      <th>size</th>\n",
       "      <th>structure</th>\n",
       "    </tr>\n",
       "  </thead>\n",
       "  <tbody>\n",
       "    <tr>\n",
       "      <th>0</th>\n",
       "      <td>0.207516</td>\n",
       "      <td>-0.0</td>\n",
       "      <td>[60, 61, 62, 63, 64, 65, 66, 67, 68, 69, 70, 7...</td>\n",
       "      <td>[0, 1, 3, 0, 0, 3, 0, 0, 0, 0, 3, 2, 0, 2, 3, ...</td>\n",
       "      <td>57.0</td>\n",
       "      <td>Counter({0: 300, 1: 300, 3: 300, 2: 300})</td>\n",
       "    </tr>\n",
       "  </tbody>\n",
       "</table>\n",
       "</div>"
      ],
      "text/plain": [
       "   adapted_ratkowsky_lance  ari  \\\n",
       "0                 0.207516 -0.0   \n",
       "\n",
       "                                            features  \\\n",
       "0  [60, 61, 62, 63, 64, 65, 66, 67, 68, 69, 70, 7...   \n",
       "\n",
       "                                           partition  size  \\\n",
       "0  [0, 1, 3, 0, 0, 3, 0, 0, 0, 0, 3, 2, 0, 2, 3, ...  57.0   \n",
       "\n",
       "                                   structure  \n",
       "0  Counter({0: 300, 1: 300, 3: 300, 2: 300})  "
      ]
     },
     "metadata": {},
     "output_type": "display_data"
    },
    {
     "name": "stdout",
     "output_type": "stream",
     "text": [
      "Selecting (42, 4) from archive\n"
     ]
    },
    {
     "name": "stderr",
     "output_type": "stream",
     "text": [
      " 62%|██████▏   | 8/13 [02:42<01:39, 19.88s/it]"
     ]
    },
    {
     "name": "stdout",
     "output_type": "stream",
     "text": [
      "S=43, Tabu = 71S=49, Tabu = 163S=50, Tabu = 259S=51, Tabu = 354S=51, Tabu = 452"
     ]
    },
    {
     "data": {
      "text/html": [
       "<div>\n",
       "<style scoped>\n",
       "    .dataframe tbody tr th:only-of-type {\n",
       "        vertical-align: middle;\n",
       "    }\n",
       "\n",
       "    .dataframe tbody tr th {\n",
       "        vertical-align: top;\n",
       "    }\n",
       "\n",
       "    .dataframe thead th {\n",
       "        text-align: right;\n",
       "    }\n",
       "</style>\n",
       "<table border=\"1\" class=\"dataframe\">\n",
       "  <thead>\n",
       "    <tr style=\"text-align: right;\">\n",
       "      <th></th>\n",
       "      <th>adapted_ratkowsky_lance</th>\n",
       "      <th>ari</th>\n",
       "      <th>features</th>\n",
       "      <th>partition</th>\n",
       "      <th>size</th>\n",
       "      <th>structure</th>\n",
       "    </tr>\n",
       "  </thead>\n",
       "  <tbody>\n",
       "    <tr>\n",
       "      <th>0</th>\n",
       "      <td>0.207516</td>\n",
       "      <td>-0.0</td>\n",
       "      <td>[60, 61, 62, 63, 64, 65, 66, 67, 68, 69, 70, 7...</td>\n",
       "      <td>[0, 1, 3, 0, 0, 3, 0, 0, 0, 0, 3, 2, 0, 2, 3, ...</td>\n",
       "      <td>57.0</td>\n",
       "      <td>Counter({0: 300, 1: 300, 3: 300, 2: 300})</td>\n",
       "    </tr>\n",
       "    <tr>\n",
       "      <th>1</th>\n",
       "      <td>0.202444</td>\n",
       "      <td>1.0</td>\n",
       "      <td>[0, 1, 2, 3, 4, 6, 7, 10, 11, 12, 13, 14, 15, ...</td>\n",
       "      <td>[1, 2, 1, 1, 2, 3, 3, 1, 2, 3, 3, 2, 3, 2, 1, ...</td>\n",
       "      <td>51.0</td>\n",
       "      <td>Counter({1: 300, 2: 300, 3: 300, 0: 300})</td>\n",
       "    </tr>\n",
       "  </tbody>\n",
       "</table>\n",
       "</div>"
      ],
      "text/plain": [
       "   adapted_ratkowsky_lance  ari  \\\n",
       "0                 0.207516 -0.0   \n",
       "1                 0.202444  1.0   \n",
       "\n",
       "                                            features  \\\n",
       "0  [60, 61, 62, 63, 64, 65, 66, 67, 68, 69, 70, 7...   \n",
       "1  [0, 1, 2, 3, 4, 6, 7, 10, 11, 12, 13, 14, 15, ...   \n",
       "\n",
       "                                           partition  size  \\\n",
       "0  [0, 1, 3, 0, 0, 3, 0, 0, 0, 0, 3, 2, 0, 2, 3, ...  57.0   \n",
       "1  [1, 2, 1, 1, 2, 3, 3, 1, 2, 3, 3, 2, 3, 2, 1, ...  51.0   \n",
       "\n",
       "                                   structure  \n",
       "0  Counter({0: 300, 1: 300, 3: 300, 2: 300})  \n",
       "1  Counter({1: 300, 2: 300, 3: 300, 0: 300})  "
      ]
     },
     "metadata": {},
     "output_type": "display_data"
    },
    {
     "name": "stdout",
     "output_type": "stream",
     "text": [
      "Selecting (50, 4) from archive\n"
     ]
    },
    {
     "name": "stderr",
     "output_type": "stream",
     "text": [
      " 92%|█████████▏| 12/13 [04:47<00:19, 19.29s/it]"
     ]
    },
    {
     "name": "stdout",
     "output_type": "stream",
     "text": [
      "S=21, Tabu = 81S=47, Tabu = 152S=56, Tabu = 238S=56, Tabu = 336"
     ]
    },
    {
     "data": {
      "text/html": [
       "<div>\n",
       "<style scoped>\n",
       "    .dataframe tbody tr th:only-of-type {\n",
       "        vertical-align: middle;\n",
       "    }\n",
       "\n",
       "    .dataframe tbody tr th {\n",
       "        vertical-align: top;\n",
       "    }\n",
       "\n",
       "    .dataframe thead th {\n",
       "        text-align: right;\n",
       "    }\n",
       "</style>\n",
       "<table border=\"1\" class=\"dataframe\">\n",
       "  <thead>\n",
       "    <tr style=\"text-align: right;\">\n",
       "      <th></th>\n",
       "      <th>adapted_ratkowsky_lance</th>\n",
       "      <th>ari</th>\n",
       "      <th>features</th>\n",
       "      <th>partition</th>\n",
       "      <th>size</th>\n",
       "      <th>structure</th>\n",
       "    </tr>\n",
       "  </thead>\n",
       "  <tbody>\n",
       "    <tr>\n",
       "      <th>0</th>\n",
       "      <td>0.207516</td>\n",
       "      <td>-0.0</td>\n",
       "      <td>[60, 61, 62, 63, 64, 65, 66, 67, 68, 69, 70, 7...</td>\n",
       "      <td>[0, 1, 3, 0, 0, 3, 0, 0, 0, 0, 3, 2, 0, 2, 3, ...</td>\n",
       "      <td>57.0</td>\n",
       "      <td>Counter({0: 300, 1: 300, 3: 300, 2: 300})</td>\n",
       "    </tr>\n",
       "    <tr>\n",
       "      <th>1</th>\n",
       "      <td>0.202444</td>\n",
       "      <td>1.0</td>\n",
       "      <td>[0, 1, 2, 3, 4, 6, 7, 10, 11, 12, 13, 14, 15, ...</td>\n",
       "      <td>[1, 2, 1, 1, 2, 3, 3, 1, 2, 3, 3, 2, 3, 2, 1, ...</td>\n",
       "      <td>51.0</td>\n",
       "      <td>Counter({1: 300, 2: 300, 3: 300, 0: 300})</td>\n",
       "    </tr>\n",
       "    <tr>\n",
       "      <th>2</th>\n",
       "      <td>0.208923</td>\n",
       "      <td>-0.0</td>\n",
       "      <td>[60, 61, 62, 64, 65, 66, 67, 68, 69, 70, 71, 7...</td>\n",
       "      <td>[0, 3, 2, 0, 0, 2, 0, 0, 0, 0, 2, 1, 0, 1, 2, ...</td>\n",
       "      <td>56.0</td>\n",
       "      <td>Counter({0: 300, 3: 300, 2: 300, 1: 300})</td>\n",
       "    </tr>\n",
       "  </tbody>\n",
       "</table>\n",
       "</div>"
      ],
      "text/plain": [
       "   adapted_ratkowsky_lance  ari  \\\n",
       "0                 0.207516 -0.0   \n",
       "1                 0.202444  1.0   \n",
       "2                 0.208923 -0.0   \n",
       "\n",
       "                                            features  \\\n",
       "0  [60, 61, 62, 63, 64, 65, 66, 67, 68, 69, 70, 7...   \n",
       "1  [0, 1, 2, 3, 4, 6, 7, 10, 11, 12, 13, 14, 15, ...   \n",
       "2  [60, 61, 62, 64, 65, 66, 67, 68, 69, 70, 71, 7...   \n",
       "\n",
       "                                           partition  size  \\\n",
       "0  [0, 1, 3, 0, 0, 3, 0, 0, 0, 0, 3, 2, 0, 2, 3, ...  57.0   \n",
       "1  [1, 2, 1, 1, 2, 3, 3, 1, 2, 3, 3, 2, 3, 2, 1, ...  51.0   \n",
       "2  [0, 3, 2, 0, 0, 2, 0, 0, 0, 0, 2, 1, 0, 1, 2, ...  56.0   \n",
       "\n",
       "                                   structure  \n",
       "0  Counter({0: 300, 1: 300, 3: 300, 2: 300})  \n",
       "1  Counter({1: 300, 2: 300, 3: 300, 0: 300})  \n",
       "2  Counter({0: 300, 3: 300, 2: 300, 1: 300})  "
      ]
     },
     "metadata": {},
     "output_type": "display_data"
    },
    {
     "name": "stdout",
     "output_type": "stream",
     "text": [
      "Selecting (9, 4) from archive\n"
     ]
    },
    {
     "name": "stderr",
     "output_type": "stream",
     "text": [
      "100%|██████████| 13/13 [06:18<00:00, 29.11s/it]\n",
      "/usr/local/lib/python3.6/dist-packages/numpy/core/fromnumeric.py:90: RuntimeWarning: overflow encountered in reduce\n",
      "  return ufunc.reduce(obj, axis, dtype, out, **passkwargs)\n"
     ]
    },
    {
     "name": "stdout",
     "output_type": "stream",
     "text": [
      ".Total: (1200, 921), uniform (1200, 300) , normal (1200, 300),neg bin (1200, 0), gamma (1200, 100), moon (1200, 2), circle (1200, 2),  bimodal (1200, 0), redundat (1200, 1), outliers with uniform (1200, 0), outliers with normal (1200, 0) ,outlier binomial (1200, 0), beta features (1200, 100), \n",
      "(921,) (921,)\n",
      "Statistics computation 0.2 sec\n",
      "Entropy computation 0.84 sec\n",
      "KNN computation 0.51 sec\n",
      "Sorting and thresholds 0.01 sec\n",
      "Performing clustering from file\n",
      "Hierarchical clustering 0.25 sec\n",
      "Handle redundant features 0.04 sec\n",
      "Done 0.0 sec\n",
      "Returning 34 redundant features and  22 important features\n",
      "trimming 784 to 443\n",
      "handle_close_important (443, 3), total 1245\n",
      "relevant_features 507 => computing 4975 \n",
      "trimming 3692 to 34\n",
      "handle_important_features (477, 3),  total 4975\n",
      "irrelevant_features 380 => computing 1866\n",
      "trimming 1716 to 443\n",
      "handle_not_important_features (920, 3), total 1866\n",
      "handle_all_features 887 => computing 4407\n",
      "done predicting\n",
      "trimming 2933 to 887\n",
      "handle_all_features (1807, 3),  total 4407\n",
      "run (1807, 3), total 12493\n",
      "nb_dims : 921 => d = 50\n",
      "Non redundant features 887, orig size 921, nb imp : 22\n",
      "Initial subspace score {'adapted_ratkowsky_lance': 0.1452506341275092, 'ari': 0.8, 'structure': 'Counter({3: 304, 1: 303, 2: 300, 0: 293})', 'features': '3_52', 'size': 2}\n",
      "S=16, Tabu = 84S=35, Tabu = 163S=43, Tabu = 252S=49, Tabu = 343S=49, Tabu = 439nb_dims : 921 => d = 50\n",
      "Non redundant features 887, orig size 921, nb imp : 22\n",
      "Initial subspace score {'adapted_ratkowsky_lance': 0.14610175556867705, 'ari': 0.76, 'structure': 'Counter({3: 330, 1: 298, 0: 292, 2: 280})', 'features': '35_58', 'size': 2}\n",
      "S=14, Tabu = 88S=32, Tabu = 164S=48, Tabu = 244S=51, Tabu = 340S=53, Tabu = 436S=53, Tabu = 532nb_dims : 921 => d = 50\n",
      "Non redundant features 887, orig size 921, nb imp : 22\n",
      "Initial subspace score {'adapted_ratkowsky_lance': 0.12106078528510851, 'ari': 0.51, 'structure': 'Counter({2: 346, 0: 287, 1: 285, 3: 282})', 'features': '45_55', 'size': 2}\n",
      "S=14, Tabu = 88S=38, Tabu = 164S=55, Tabu = 246S=56, Tabu = 343S=56, Tabu = 443nb_dims : 921 => d = 50\n",
      "Non redundant features 887, orig size 921, nb imp : 22\n",
      "Initial subspace score {'adapted_ratkowsky_lance': 0.13402287971543597, 'ari': 0.52, 'structure': 'Counter({0: 467, 2: 435, 3: 151, 1: 147})', 'features': '91_95', 'size': 2}\n",
      "S=19, Tabu = 79S=45, Tabu = 150S=58, Tabu = 236S=59, Tabu = 334S=59, Tabu = 431nb_dims : 921 => d = 50\n",
      "Non redundant features 887, orig size 921, nb imp : 22\n",
      "Initial subspace score {'adapted_ratkowsky_lance': 0.15651226784460892, 'ari': 0.51, 'structure': 'Counter({3: 325, 0: 300, 1: 300, 2: 275})', 'features': '64_73', 'size': 2}\n",
      "S=17, Tabu = 83S=46, Tabu = 151S=56, Tabu = 241S=58, Tabu = 336S=58, Tabu = 434nb_dims : 921 => d = 50\n",
      "Non redundant features 887, orig size 921, nb imp : 22\n",
      "Initial subspace score {'adapted_ratkowsky_lance': 0.15258711674970332, 'ari': 0.99, 'structure': 'Counter({1: 301, 2: 301, 3: 300, 0: 298})', 'features': '75_105', 'size': 2}\n",
      "S=21, Tabu = 79S=43, Tabu = 157S=55, Tabu = 244S=55, Tabu = 343Discovery Analysis\n"
     ]
    },
    {
     "name": "stderr",
     "output_type": "stream",
     "text": [
      "/usr/local/lib/python3.6/dist-packages/numpy/core/fromnumeric.py:90: RuntimeWarning: overflow encountered in reduce\n",
      "  return ufunc.reduce(obj, axis, dtype, out, **passkwargs)\n"
     ]
    },
    {
     "name": "stdout",
     "output_type": "stream",
     "text": [
      "(921,) (921,)\n",
      "Statistics computation 0.21 sec\n",
      "Entropy computation 0.82 sec\n",
      "KNN computation 0.49 sec\n",
      "Sorting and thresholds 0.01 sec\n",
      "Performing clustering from file\n",
      "Hierarchical clustering 0.25 sec\n",
      "Handle redundant features 0.03 sec\n",
      "Done 0.0 sec\n",
      "Returning 34 redundant features and  22 important features\n",
      "trimming 784 to 443\n",
      "handle_close_important (443, 3), total 1245\n",
      "relevant_features 507 => computing 4975 \n",
      "trimming 3692 to 34\n",
      "handle_important_features (477, 3),  total 4975\n",
      "irrelevant_features 380 => computing 1866\n",
      "trimming 1716 to 443\n",
      "handle_not_important_features (920, 3), total 1866\n",
      "handle_all_features 887 => computing 4407\n"
     ]
    },
    {
     "name": "stderr",
     "output_type": "stream",
     "text": [
      "\r",
      "  0%|          | 0/13 [00:00<?, ?it/s]"
     ]
    },
    {
     "name": "stdout",
     "output_type": "stream",
     "text": [
      "done predicting\n",
      "trimming 2933 to 887\n",
      "handle_all_features (1807, 3),  total 4407\n",
      "run (1807, 3), total 12493\n",
      "nb_dims : 921 => d = 50\n",
      "Non redundant features 887, orig size 921, nb imp : 22\n",
      "Selecting (50, 4) from archive\n"
     ]
    },
    {
     "name": "stderr",
     "output_type": "stream",
     "text": [
      " 31%|███       | 4/13 [00:21<00:50,  5.60s/it]"
     ]
    },
    {
     "name": "stdout",
     "output_type": "stream",
     "text": [
      "S=34, Tabu = 76S=48, Tabu = 161S=52, Tabu = 257S=55, Tabu = 354S=58, Tabu = 448S=59, Tabu = 542S=59, Tabu = 636"
     ]
    },
    {
     "data": {
      "text/html": [
       "<div>\n",
       "<style scoped>\n",
       "    .dataframe tbody tr th:only-of-type {\n",
       "        vertical-align: middle;\n",
       "    }\n",
       "\n",
       "    .dataframe tbody tr th {\n",
       "        vertical-align: top;\n",
       "    }\n",
       "\n",
       "    .dataframe thead th {\n",
       "        text-align: right;\n",
       "    }\n",
       "</style>\n",
       "<table border=\"1\" class=\"dataframe\">\n",
       "  <thead>\n",
       "    <tr style=\"text-align: right;\">\n",
       "      <th></th>\n",
       "      <th>adapted_ratkowsky_lance</th>\n",
       "      <th>ari</th>\n",
       "      <th>features</th>\n",
       "      <th>partition</th>\n",
       "      <th>size</th>\n",
       "      <th>structure</th>\n",
       "    </tr>\n",
       "  </thead>\n",
       "  <tbody>\n",
       "    <tr>\n",
       "      <th>0</th>\n",
       "      <td>0.20637</td>\n",
       "      <td>-0.0</td>\n",
       "      <td>[60, 61, 62, 63, 64, 65, 66, 69, 70, 71, 72, 7...</td>\n",
       "      <td>[0, 1, 3, 0, 0, 3, 0, 0, 0, 0, 3, 2, 0, 2, 3, ...</td>\n",
       "      <td>59.0</td>\n",
       "      <td>Counter({0: 300, 1: 300, 3: 300, 2: 300})</td>\n",
       "    </tr>\n",
       "  </tbody>\n",
       "</table>\n",
       "</div>"
      ],
      "text/plain": [
       "   adapted_ratkowsky_lance  ari  \\\n",
       "0                  0.20637 -0.0   \n",
       "\n",
       "                                            features  \\\n",
       "0  [60, 61, 62, 63, 64, 65, 66, 69, 70, 71, 72, 7...   \n",
       "\n",
       "                                           partition  size  \\\n",
       "0  [0, 1, 3, 0, 0, 3, 0, 0, 0, 0, 3, 2, 0, 2, 3, ...  59.0   \n",
       "\n",
       "                                   structure  \n",
       "0  Counter({0: 300, 1: 300, 3: 300, 2: 300})  "
      ]
     },
     "metadata": {},
     "output_type": "display_data"
    },
    {
     "name": "stdout",
     "output_type": "stream",
     "text": [
      "Selecting (45, 4) from archive\n"
     ]
    },
    {
     "name": "stderr",
     "output_type": "stream",
     "text": [
      " 62%|██████▏   | 8/13 [03:43<02:04, 24.92s/it]"
     ]
    },
    {
     "name": "stdout",
     "output_type": "stream",
     "text": [
      "S=42, Tabu = 72S=52, Tabu = 160S=55, Tabu = 255S=55, Tabu = 354"
     ]
    },
    {
     "data": {
      "text/html": [
       "<div>\n",
       "<style scoped>\n",
       "    .dataframe tbody tr th:only-of-type {\n",
       "        vertical-align: middle;\n",
       "    }\n",
       "\n",
       "    .dataframe tbody tr th {\n",
       "        vertical-align: top;\n",
       "    }\n",
       "\n",
       "    .dataframe thead th {\n",
       "        text-align: right;\n",
       "    }\n",
       "</style>\n",
       "<table border=\"1\" class=\"dataframe\">\n",
       "  <thead>\n",
       "    <tr style=\"text-align: right;\">\n",
       "      <th></th>\n",
       "      <th>adapted_ratkowsky_lance</th>\n",
       "      <th>ari</th>\n",
       "      <th>features</th>\n",
       "      <th>partition</th>\n",
       "      <th>size</th>\n",
       "      <th>structure</th>\n",
       "    </tr>\n",
       "  </thead>\n",
       "  <tbody>\n",
       "    <tr>\n",
       "      <th>0</th>\n",
       "      <td>0.206370</td>\n",
       "      <td>-0.0</td>\n",
       "      <td>[60, 61, 62, 63, 64, 65, 66, 69, 70, 71, 72, 7...</td>\n",
       "      <td>[0, 1, 3, 0, 0, 3, 0, 0, 0, 0, 3, 2, 0, 2, 3, ...</td>\n",
       "      <td>59.0</td>\n",
       "      <td>Counter({0: 300, 1: 300, 3: 300, 2: 300})</td>\n",
       "    </tr>\n",
       "    <tr>\n",
       "      <th>1</th>\n",
       "      <td>0.200427</td>\n",
       "      <td>1.0</td>\n",
       "      <td>[0, 1, 2, 3, 4, 6, 7, 8, 9, 10, 11, 12, 13, 14...</td>\n",
       "      <td>[1, 3, 1, 1, 3, 2, 2, 1, 3, 2, 2, 3, 2, 3, 1, ...</td>\n",
       "      <td>55.0</td>\n",
       "      <td>Counter({1: 300, 3: 300, 2: 300, 0: 300})</td>\n",
       "    </tr>\n",
       "  </tbody>\n",
       "</table>\n",
       "</div>"
      ],
      "text/plain": [
       "   adapted_ratkowsky_lance  ari  \\\n",
       "0                 0.206370 -0.0   \n",
       "1                 0.200427  1.0   \n",
       "\n",
       "                                            features  \\\n",
       "0  [60, 61, 62, 63, 64, 65, 66, 69, 70, 71, 72, 7...   \n",
       "1  [0, 1, 2, 3, 4, 6, 7, 8, 9, 10, 11, 12, 13, 14...   \n",
       "\n",
       "                                           partition  size  \\\n",
       "0  [0, 1, 3, 0, 0, 3, 0, 0, 0, 0, 3, 2, 0, 2, 3, ...  59.0   \n",
       "1  [1, 3, 1, 1, 3, 2, 2, 1, 3, 2, 2, 3, 2, 3, 1, ...  55.0   \n",
       "\n",
       "                                   structure  \n",
       "0  Counter({0: 300, 1: 300, 3: 300, 2: 300})  \n",
       "1  Counter({1: 300, 3: 300, 2: 300, 0: 300})  "
      ]
     },
     "metadata": {},
     "output_type": "display_data"
    },
    {
     "name": "stdout",
     "output_type": "stream",
     "text": [
      "Selecting (50, 4) from archive\n"
     ]
    },
    {
     "name": "stderr",
     "output_type": "stream",
     "text": [
      " 92%|█████████▏| 12/13 [05:31<00:18, 18.57s/it]"
     ]
    },
    {
     "name": "stdout",
     "output_type": "stream",
     "text": [
      "S=2, Tabu = 95S=2, Tabu = 193"
     ]
    },
    {
     "data": {
      "text/html": [
       "<div>\n",
       "<style scoped>\n",
       "    .dataframe tbody tr th:only-of-type {\n",
       "        vertical-align: middle;\n",
       "    }\n",
       "\n",
       "    .dataframe tbody tr th {\n",
       "        vertical-align: top;\n",
       "    }\n",
       "\n",
       "    .dataframe thead th {\n",
       "        text-align: right;\n",
       "    }\n",
       "</style>\n",
       "<table border=\"1\" class=\"dataframe\">\n",
       "  <thead>\n",
       "    <tr style=\"text-align: right;\">\n",
       "      <th></th>\n",
       "      <th>adapted_ratkowsky_lance</th>\n",
       "      <th>ari</th>\n",
       "      <th>features</th>\n",
       "      <th>partition</th>\n",
       "      <th>size</th>\n",
       "      <th>structure</th>\n",
       "    </tr>\n",
       "  </thead>\n",
       "  <tbody>\n",
       "    <tr>\n",
       "      <th>0</th>\n",
       "      <td>0.206370</td>\n",
       "      <td>-0.0</td>\n",
       "      <td>[60, 61, 62, 63, 64, 65, 66, 69, 70, 71, 72, 7...</td>\n",
       "      <td>[0, 1, 3, 0, 0, 3, 0, 0, 0, 0, 3, 2, 0, 2, 3, ...</td>\n",
       "      <td>59.0</td>\n",
       "      <td>Counter({0: 300, 1: 300, 3: 300, 2: 300})</td>\n",
       "    </tr>\n",
       "    <tr>\n",
       "      <th>1</th>\n",
       "      <td>0.200427</td>\n",
       "      <td>1.0</td>\n",
       "      <td>[0, 1, 2, 3, 4, 6, 7, 8, 9, 10, 11, 12, 13, 14...</td>\n",
       "      <td>[1, 3, 1, 1, 3, 2, 2, 1, 3, 2, 2, 3, 2, 3, 1, ...</td>\n",
       "      <td>55.0</td>\n",
       "      <td>Counter({1: 300, 3: 300, 2: 300, 0: 300})</td>\n",
       "    </tr>\n",
       "    <tr>\n",
       "      <th>2</th>\n",
       "      <td>0.128485</td>\n",
       "      <td>-0.0</td>\n",
       "      <td>[299, 347]</td>\n",
       "      <td>[0, 2, 1, 2, 3, 1, 2, 2, 1, 3, 3, 1, 0, 3, 1, ...</td>\n",
       "      <td>2.0</td>\n",
       "      <td>Counter({0: 333, 3: 297, 1: 294, 2: 276})</td>\n",
       "    </tr>\n",
       "  </tbody>\n",
       "</table>\n",
       "</div>"
      ],
      "text/plain": [
       "   adapted_ratkowsky_lance  ari  \\\n",
       "0                 0.206370 -0.0   \n",
       "1                 0.200427  1.0   \n",
       "2                 0.128485 -0.0   \n",
       "\n",
       "                                            features  \\\n",
       "0  [60, 61, 62, 63, 64, 65, 66, 69, 70, 71, 72, 7...   \n",
       "1  [0, 1, 2, 3, 4, 6, 7, 8, 9, 10, 11, 12, 13, 14...   \n",
       "2                                         [299, 347]   \n",
       "\n",
       "                                           partition  size  \\\n",
       "0  [0, 1, 3, 0, 0, 3, 0, 0, 0, 0, 3, 2, 0, 2, 3, ...  59.0   \n",
       "1  [1, 3, 1, 1, 3, 2, 2, 1, 3, 2, 2, 3, 2, 3, 1, ...  55.0   \n",
       "2  [0, 2, 1, 2, 3, 1, 2, 2, 1, 3, 3, 1, 0, 3, 1, ...   2.0   \n",
       "\n",
       "                                   structure  \n",
       "0  Counter({0: 300, 1: 300, 3: 300, 2: 300})  \n",
       "1  Counter({1: 300, 3: 300, 2: 300, 0: 300})  \n",
       "2  Counter({0: 333, 3: 297, 1: 294, 2: 276})  "
      ]
     },
     "metadata": {},
     "output_type": "display_data"
    },
    {
     "name": "stdout",
     "output_type": "stream",
     "text": [
      "Selecting (4, 4) from archive\n"
     ]
    },
    {
     "name": "stderr",
     "output_type": "stream",
     "text": [
      "100%|██████████| 13/13 [05:40<00:00, 26.19s/it]\n",
      "/usr/local/lib/python3.6/dist-packages/numpy/core/fromnumeric.py:90: RuntimeWarning: overflow encountered in reduce\n",
      "  return ufunc.reduce(obj, axis, dtype, out, **passkwargs)\n"
     ]
    },
    {
     "name": "stdout",
     "output_type": "stream",
     "text": [
      ".Total: (1200, 921), uniform (1200, 300) , normal (1200, 300),neg bin (1200, 0), gamma (1200, 100), moon (1200, 2), circle (1200, 2),  bimodal (1200, 0), redundat (1200, 1), outliers with uniform (1200, 0), outliers with normal (1200, 0) ,outlier binomial (1200, 0), beta features (1200, 100), \n",
      "(921,) (921,)\n",
      "Statistics computation 0.19 sec\n",
      "Entropy computation 0.81 sec\n",
      "KNN computation 0.49 sec\n",
      "Sorting and thresholds 0.01 sec\n",
      "Performing clustering from file\n",
      "Hierarchical clustering 0.24 sec\n",
      "Handle redundant features 0.04 sec\n",
      "Done 0.0 sec\n",
      "Returning 33 redundant features and  21 important features\n",
      "trimming 813 to 444\n",
      "handle_close_important (444, 3), total 1275\n",
      "relevant_features 511 => computing 5007 \n",
      "trimming 3818 to 33\n",
      "handle_important_features (477, 3),  total 5007\n",
      "irrelevant_features 377 => computing 1846\n",
      "trimming 1682 to 444\n",
      "handle_not_important_features (921, 3), total 1846\n",
      "handle_all_features 888 => computing 4416\n",
      "done predicting\n",
      "trimming 2989 to 888\n",
      "handle_all_features (1809, 3),  total 4416\n",
      "run (1809, 3), total 12544\n",
      "nb_dims : 921 => d = 50\n",
      "Non redundant features 888, orig size 921, nb imp : 21\n",
      "Initial subspace score {'adapted_ratkowsky_lance': 0.12906808179762475, 'ari': 0.6, 'structure': 'Counter({1: 371, 0: 329, 2: 265, 3: 235})', 'features': '3_11', 'size': 2}\n",
      "S=15, Tabu = 84S=35, Tabu = 162S=50, Tabu = 246S=52, Tabu = 338S=52, Tabu = 437nb_dims : 921 => d = 50\n",
      "Non redundant features 888, orig size 921, nb imp : 21\n",
      "Initial subspace score {'adapted_ratkowsky_lance': 0.1312045283996908, 'ari': 0.63, 'structure': 'Counter({1: 332, 3: 303, 2: 298, 0: 267})', 'features': '14_34', 'size': 2}\n",
      "S=13, Tabu = 89S=34, Tabu = 165S=49, Tabu = 247S=52, Tabu = 342S=53, Tabu = 440S=54, Tabu = 535S=54, Tabu = 630nb_dims : 921 => d = 50\n",
      "Non redundant features 888, orig size 921, nb imp : 21\n",
      "Initial subspace score {'adapted_ratkowsky_lance': 0.1537035816009027, 'ari': 0.89, 'structure': 'Counter({3: 310, 2: 300, 1: 300, 0: 290})', 'features': '43_49', 'size': 2}\n",
      "S=16, Tabu = 83S=37, Tabu = 158S=51, Tabu = 241S=57, Tabu = 332S=57, Tabu = 431nb_dims : 921 => d = 50\n",
      "Non redundant features 888, orig size 921, nb imp : 21\n",
      "Initial subspace score {'adapted_ratkowsky_lance': 0.1519535675365879, 'ari': 0.81, 'structure': 'Counter({1: 318, 2: 305, 0: 294, 3: 283})', 'features': '75_102', 'size': 2}\n",
      "S=13, Tabu = 88S=16, Tabu = 185S=19, Tabu = 279S=19, Tabu = 378nb_dims : 921 => d = 50\n",
      "Non redundant features 888, orig size 921, nb imp : 21\n",
      "Initial subspace score {'adapted_ratkowsky_lance': 0.15103502910974204, 'ari': 0.97, 'structure': 'Counter({0: 301, 2: 301, 3: 300, 1: 298})', 'features': '92_105', 'size': 2}\n",
      "S=20, Tabu = 79S=51, Tabu = 146S=60, Tabu = 234S=61, Tabu = 331S=61, Tabu = 428nb_dims : 921 => d = 50\n",
      "Non redundant features 888, orig size 921, nb imp : 21\n",
      "Initial subspace score {'adapted_ratkowsky_lance': 0.14333905874279146, 'ari': 0.71, 'structure': 'Counter({3: 333, 1: 300, 2: 299, 0: 268})', 'features': '78_86', 'size': 2}\n",
      "S=21, Tabu = 76S=51, Tabu = 145S=58, Tabu = 235S=59, Tabu = 333S=59, Tabu = 431Discovery Analysis\n"
     ]
    },
    {
     "name": "stderr",
     "output_type": "stream",
     "text": [
      "/usr/local/lib/python3.6/dist-packages/numpy/core/fromnumeric.py:90: RuntimeWarning: overflow encountered in reduce\n",
      "  return ufunc.reduce(obj, axis, dtype, out, **passkwargs)\n"
     ]
    },
    {
     "name": "stdout",
     "output_type": "stream",
     "text": [
      "(921,) (921,)\n",
      "Statistics computation 0.21 sec\n",
      "Entropy computation 0.81 sec\n",
      "KNN computation 0.51 sec\n",
      "Sorting and thresholds 0.01 sec\n",
      "Performing clustering from file\n",
      "Hierarchical clustering 0.25 sec\n",
      "Handle redundant features 0.04 sec\n",
      "Done 0.0 sec\n",
      "Returning 33 redundant features and  21 important features\n",
      "trimming 813 to 444\n",
      "handle_close_important (444, 3), total 1275\n",
      "relevant_features 511 => computing 5007 \n",
      "trimming 3818 to 33\n",
      "handle_important_features (477, 3),  total 5007\n",
      "irrelevant_features 377 => computing 1846\n",
      "trimming 1682 to 444\n",
      "handle_not_important_features (921, 3), total 1846\n",
      "handle_all_features 888 => computing 4416\n"
     ]
    },
    {
     "name": "stderr",
     "output_type": "stream",
     "text": [
      "\r",
      "  0%|          | 0/13 [00:00<?, ?it/s]"
     ]
    },
    {
     "name": "stdout",
     "output_type": "stream",
     "text": [
      "done predicting\n",
      "trimming 2989 to 888\n",
      "handle_all_features (1809, 3),  total 4416\n",
      "run (1809, 3), total 12544\n",
      "nb_dims : 921 => d = 50\n",
      "Non redundant features 888, orig size 921, nb imp : 21\n",
      "Selecting (50, 4) from archive\n"
     ]
    },
    {
     "name": "stderr",
     "output_type": "stream",
     "text": [
      " 31%|███       | 4/13 [00:23<00:54,  6.07s/it]"
     ]
    },
    {
     "name": "stdout",
     "output_type": "stream",
     "text": [
      "S=34, Tabu = 78S=50, Tabu = 160S=52, Tabu = 257S=57, Tabu = 351S=58, Tabu = 448S=58, Tabu = 544"
     ]
    },
    {
     "data": {
      "text/html": [
       "<div>\n",
       "<style scoped>\n",
       "    .dataframe tbody tr th:only-of-type {\n",
       "        vertical-align: middle;\n",
       "    }\n",
       "\n",
       "    .dataframe tbody tr th {\n",
       "        vertical-align: top;\n",
       "    }\n",
       "\n",
       "    .dataframe thead th {\n",
       "        text-align: right;\n",
       "    }\n",
       "</style>\n",
       "<table border=\"1\" class=\"dataframe\">\n",
       "  <thead>\n",
       "    <tr style=\"text-align: right;\">\n",
       "      <th></th>\n",
       "      <th>adapted_ratkowsky_lance</th>\n",
       "      <th>ari</th>\n",
       "      <th>features</th>\n",
       "      <th>partition</th>\n",
       "      <th>size</th>\n",
       "      <th>structure</th>\n",
       "    </tr>\n",
       "  </thead>\n",
       "  <tbody>\n",
       "    <tr>\n",
       "      <th>0</th>\n",
       "      <td>0.207191</td>\n",
       "      <td>-0.0</td>\n",
       "      <td>[60, 61, 62, 63, 64, 65, 66, 67, 68, 69, 70, 7...</td>\n",
       "      <td>[0, 1, 3, 0, 0, 3, 0, 0, 0, 0, 3, 2, 0, 2, 3, ...</td>\n",
       "      <td>58.0</td>\n",
       "      <td>Counter({0: 300, 1: 300, 3: 300, 2: 300})</td>\n",
       "    </tr>\n",
       "  </tbody>\n",
       "</table>\n",
       "</div>"
      ],
      "text/plain": [
       "   adapted_ratkowsky_lance  ari  \\\n",
       "0                 0.207191 -0.0   \n",
       "\n",
       "                                            features  \\\n",
       "0  [60, 61, 62, 63, 64, 65, 66, 67, 68, 69, 70, 7...   \n",
       "\n",
       "                                           partition  size  \\\n",
       "0  [0, 1, 3, 0, 0, 3, 0, 0, 0, 0, 3, 2, 0, 2, 3, ...  58.0   \n",
       "\n",
       "                                   structure  \n",
       "0  Counter({0: 300, 1: 300, 3: 300, 2: 300})  "
      ]
     },
     "metadata": {},
     "output_type": "display_data"
    },
    {
     "name": "stdout",
     "output_type": "stream",
     "text": [
      "Selecting (32, 4) from archive\n"
     ]
    },
    {
     "name": "stderr",
     "output_type": "stream",
     "text": [
      "/usr/local/lib/python3.6/dist-packages/sklearn/mixture/_base.py:267: ConvergenceWarning: Initialization 1 did not converge. Try different init parameters, or increase max_iter, tol or check for degenerate data.\n",
      "  % (init + 1), ConvergenceWarning)\n",
      " 62%|██████▏   | 8/13 [03:42<02:11, 26.27s/it]"
     ]
    },
    {
     "name": "stdout",
     "output_type": "stream",
     "text": [
      "S=42, Tabu = 77S=49, Tabu = 168S=51, Tabu = 262S=52, Tabu = 361S=52, Tabu = 460"
     ]
    },
    {
     "data": {
      "text/html": [
       "<div>\n",
       "<style scoped>\n",
       "    .dataframe tbody tr th:only-of-type {\n",
       "        vertical-align: middle;\n",
       "    }\n",
       "\n",
       "    .dataframe tbody tr th {\n",
       "        vertical-align: top;\n",
       "    }\n",
       "\n",
       "    .dataframe thead th {\n",
       "        text-align: right;\n",
       "    }\n",
       "</style>\n",
       "<table border=\"1\" class=\"dataframe\">\n",
       "  <thead>\n",
       "    <tr style=\"text-align: right;\">\n",
       "      <th></th>\n",
       "      <th>adapted_ratkowsky_lance</th>\n",
       "      <th>ari</th>\n",
       "      <th>features</th>\n",
       "      <th>partition</th>\n",
       "      <th>size</th>\n",
       "      <th>structure</th>\n",
       "    </tr>\n",
       "  </thead>\n",
       "  <tbody>\n",
       "    <tr>\n",
       "      <th>0</th>\n",
       "      <td>0.207191</td>\n",
       "      <td>-0.0</td>\n",
       "      <td>[60, 61, 62, 63, 64, 65, 66, 67, 68, 69, 70, 7...</td>\n",
       "      <td>[0, 1, 3, 0, 0, 3, 0, 0, 0, 0, 3, 2, 0, 2, 3, ...</td>\n",
       "      <td>58.0</td>\n",
       "      <td>Counter({0: 300, 1: 300, 3: 300, 2: 300})</td>\n",
       "    </tr>\n",
       "    <tr>\n",
       "      <th>1</th>\n",
       "      <td>0.204160</td>\n",
       "      <td>1.0</td>\n",
       "      <td>[0, 1, 2, 3, 4, 5, 6, 7, 10, 11, 12, 14, 15, 1...</td>\n",
       "      <td>[1, 2, 1, 1, 2, 3, 3, 1, 2, 3, 3, 2, 3, 2, 1, ...</td>\n",
       "      <td>52.0</td>\n",
       "      <td>Counter({1: 300, 2: 300, 3: 300, 0: 300})</td>\n",
       "    </tr>\n",
       "  </tbody>\n",
       "</table>\n",
       "</div>"
      ],
      "text/plain": [
       "   adapted_ratkowsky_lance  ari  \\\n",
       "0                 0.207191 -0.0   \n",
       "1                 0.204160  1.0   \n",
       "\n",
       "                                            features  \\\n",
       "0  [60, 61, 62, 63, 64, 65, 66, 67, 68, 69, 70, 7...   \n",
       "1  [0, 1, 2, 3, 4, 5, 6, 7, 10, 11, 12, 14, 15, 1...   \n",
       "\n",
       "                                           partition  size  \\\n",
       "0  [0, 1, 3, 0, 0, 3, 0, 0, 0, 0, 3, 2, 0, 2, 3, ...  58.0   \n",
       "1  [1, 2, 1, 1, 2, 3, 3, 1, 2, 3, 3, 2, 3, 2, 1, ...  52.0   \n",
       "\n",
       "                                   structure  \n",
       "0  Counter({0: 300, 1: 300, 3: 300, 2: 300})  \n",
       "1  Counter({1: 300, 2: 300, 3: 300, 0: 300})  "
      ]
     },
     "metadata": {},
     "output_type": "display_data"
    },
    {
     "name": "stdout",
     "output_type": "stream",
     "text": [
      "Selecting (50, 4) from archive\n"
     ]
    },
    {
     "name": "stderr",
     "output_type": "stream",
     "text": [
      " 92%|█████████▏| 12/13 [05:50<00:21, 21.04s/it]"
     ]
    },
    {
     "name": "stdout",
     "output_type": "stream",
     "text": [
      "S=14, Tabu = 83S=41, Tabu = 154S=49, Tabu = 245S=53, Tabu = 337S=57, Tabu = 427S=58, Tabu = 522S=58, Tabu = 608"
     ]
    },
    {
     "data": {
      "text/html": [
       "<div>\n",
       "<style scoped>\n",
       "    .dataframe tbody tr th:only-of-type {\n",
       "        vertical-align: middle;\n",
       "    }\n",
       "\n",
       "    .dataframe tbody tr th {\n",
       "        vertical-align: top;\n",
       "    }\n",
       "\n",
       "    .dataframe thead th {\n",
       "        text-align: right;\n",
       "    }\n",
       "</style>\n",
       "<table border=\"1\" class=\"dataframe\">\n",
       "  <thead>\n",
       "    <tr style=\"text-align: right;\">\n",
       "      <th></th>\n",
       "      <th>adapted_ratkowsky_lance</th>\n",
       "      <th>ari</th>\n",
       "      <th>features</th>\n",
       "      <th>partition</th>\n",
       "      <th>size</th>\n",
       "      <th>structure</th>\n",
       "    </tr>\n",
       "  </thead>\n",
       "  <tbody>\n",
       "    <tr>\n",
       "      <th>0</th>\n",
       "      <td>0.207191</td>\n",
       "      <td>-0.0</td>\n",
       "      <td>[60, 61, 62, 63, 64, 65, 66, 67, 68, 69, 70, 7...</td>\n",
       "      <td>[0, 1, 3, 0, 0, 3, 0, 0, 0, 0, 3, 2, 0, 2, 3, ...</td>\n",
       "      <td>58.0</td>\n",
       "      <td>Counter({0: 300, 1: 300, 3: 300, 2: 300})</td>\n",
       "    </tr>\n",
       "    <tr>\n",
       "      <th>1</th>\n",
       "      <td>0.204160</td>\n",
       "      <td>1.0</td>\n",
       "      <td>[0, 1, 2, 3, 4, 5, 6, 7, 10, 11, 12, 14, 15, 1...</td>\n",
       "      <td>[1, 2, 1, 1, 2, 3, 3, 1, 2, 3, 3, 2, 3, 2, 1, ...</td>\n",
       "      <td>52.0</td>\n",
       "      <td>Counter({1: 300, 2: 300, 3: 300, 0: 300})</td>\n",
       "    </tr>\n",
       "    <tr>\n",
       "      <th>2</th>\n",
       "      <td>0.205405</td>\n",
       "      <td>-0.0</td>\n",
       "      <td>[60, 61, 62, 63, 64, 65, 66, 67, 69, 70, 71, 7...</td>\n",
       "      <td>[0, 3, 2, 0, 0, 2, 0, 0, 0, 0, 2, 1, 0, 1, 2, ...</td>\n",
       "      <td>58.0</td>\n",
       "      <td>Counter({0: 300, 3: 300, 2: 300, 1: 300})</td>\n",
       "    </tr>\n",
       "  </tbody>\n",
       "</table>\n",
       "</div>"
      ],
      "text/plain": [
       "   adapted_ratkowsky_lance  ari  \\\n",
       "0                 0.207191 -0.0   \n",
       "1                 0.204160  1.0   \n",
       "2                 0.205405 -0.0   \n",
       "\n",
       "                                            features  \\\n",
       "0  [60, 61, 62, 63, 64, 65, 66, 67, 68, 69, 70, 7...   \n",
       "1  [0, 1, 2, 3, 4, 5, 6, 7, 10, 11, 12, 14, 15, 1...   \n",
       "2  [60, 61, 62, 63, 64, 65, 66, 67, 69, 70, 71, 7...   \n",
       "\n",
       "                                           partition  size  \\\n",
       "0  [0, 1, 3, 0, 0, 3, 0, 0, 0, 0, 3, 2, 0, 2, 3, ...  58.0   \n",
       "1  [1, 2, 1, 1, 2, 3, 3, 1, 2, 3, 3, 2, 3, 2, 1, ...  52.0   \n",
       "2  [0, 3, 2, 0, 0, 2, 0, 0, 0, 0, 2, 1, 0, 1, 2, ...  58.0   \n",
       "\n",
       "                                   structure  \n",
       "0  Counter({0: 300, 1: 300, 3: 300, 2: 300})  \n",
       "1  Counter({1: 300, 2: 300, 3: 300, 0: 300})  \n",
       "2  Counter({0: 300, 3: 300, 2: 300, 1: 300})  "
      ]
     },
     "metadata": {},
     "output_type": "display_data"
    },
    {
     "name": "stdout",
     "output_type": "stream",
     "text": [
      "Selecting (2, 4) from archive\n"
     ]
    },
    {
     "name": "stderr",
     "output_type": "stream",
     "text": [
      "100%|██████████| 13/13 [08:35<00:00, 39.63s/it]\n"
     ]
    }
   ],
   "source": [
    "subspace_sizes = [10, 30, 60]\n",
    "results = []\n",
    "\n",
    "for ss in subspace_sizes:\n",
    "    subspace_results = []\n",
    "    for _ in range(5):\n",
    "        print(\".\", end = \"\")\n",
    "        (true_subspace, discovered_subspace, ssupervised_results,\n",
    "        ari_d, ari_s) = discovery_vs_semisupervised(\n",
    "            subspace_size=ss)\n",
    "        subspace_results.append([true_subspace, discovered_subspace, ssupervised_results, ari_d, ari_s])\n",
    "    results.append(subspace_results)\n",
    "\n",
    "np.save(\"../../data/discovery_vs_semisupervised.npy\", results)\n"
   ]
  },
  {
   "cell_type": "markdown",
   "metadata": {},
   "source": [
    "# Step2 Analyze and plot results"
   ]
  },
  {
   "cell_type": "code",
   "execution_count": 3,
   "metadata": {
    "ExecuteTime": {
     "end_time": "2020-08-04T09:40:44.426554Z",
     "start_time": "2020-08-04T09:40:44.377238Z"
    }
   },
   "outputs": [],
   "source": [
    "results = np.load(\"../../data/discovery_vs_semisupervised.npy\", allow_pickle=True)"
   ]
  },
  {
   "cell_type": "code",
   "execution_count": 4,
   "metadata": {
    "ExecuteTime": {
     "end_time": "2020-08-04T09:40:49.715774Z",
     "start_time": "2020-08-04T09:40:49.654152Z"
    }
   },
   "outputs": [
    {
     "name": "stdout",
     "output_type": "stream",
     "text": [
      "0.9099999999999999 0.95 gain : 0.040000000000000036\n",
      "0.8441489128914561 1.0\n",
      "0.9366666666666668 0.9533333333333334 gain : 0.016666666666666607\n",
      "0.6907009976361862 0.9893333333333333\n",
      "0.9033333333333333 0.9266666666666665 gain : 0.023333333333333206\n",
      "0.8822788618099806 0.9793333333333333\n"
     ]
    }
   ],
   "source": [
    "subspace_sizes = [10, 30, 60]\n",
    "\n",
    "df = pd.DataFrame(columns=[\"values\", \"subspace size\", \"mode\"])\n",
    "df_ari = pd.DataFrame(columns=[\"values\", \"subspace size\", \"mode\"])\n",
    "for i in range(len(results)):\n",
    "    unsup = []\n",
    "    semisup = []\n",
    "    ari_d = []\n",
    "    ari_s = []\n",
    "    for j in range(len(results[i])):\n",
    "        dataset = results[i][j]\n",
    "        true_subspaces = dataset[0]\n",
    "        ari_d.extend(dataset[3])\n",
    "        ari_s.extend(dataset[4])\n",
    "        for true_subspace in true_subspaces:\n",
    "            temp = []\n",
    "            for sub in dataset[1]:\n",
    "                temp.append(len(np.intersect1d(true_subspace, sub))/ len(true_subspace))\n",
    "            unsup.append(max(temp))\n",
    "\n",
    "        for true_subspace in true_subspaces:\n",
    "            temp = []\n",
    "            for sub in dataset[2]:\n",
    "                temp.append(len(np.intersect1d(true_subspace, sub))/ len(true_subspace))\n",
    "            semisup.append(max(temp))\n",
    "    print(np.mean(unsup), np.mean(semisup), \"gain :\", np.mean(semisup) -np.mean(unsup))\n",
    "    print(np.mean(ari_d),np.mean(ari_s))\n",
    "\n",
    "    df1 = pd.DataFrame()\n",
    "    df1[\"values\"] =unsup\n",
    "    df1[\"subspace size\"] =subspace_sizes[i] + 1\n",
    "    df1[\"mode\"] = \"unsupervised\"\n",
    "    \n",
    "    df2 = pd.DataFrame()\n",
    "    df2[\"values\"] =semisup\n",
    "    df2[\"subspace size\"] =subspace_sizes[i] + 1\n",
    "    df2[\"mode\"] = \"semi-supervised\"\n",
    "    df = pd.concat([df, df1, df2])\n",
    "    \n",
    "    df_ari1 = pd.DataFrame()\n",
    "    df_ari1[\"values\"] =ari_d\n",
    "    df_ari1[\"subspace size\"] =subspace_sizes[i] + 1\n",
    "    df_ari1[\"mode\"] = \"unsupervised\"\n",
    "    \n",
    "    df_ari2 = pd.DataFrame()\n",
    "    df_ari2[\"values\"] =ari_s\n",
    "    df_ari2[\"subspace size\"] =subspace_sizes[i] + 1\n",
    "    df_ari2[\"mode\"] = \"semi-supervised\"\n",
    "    df_ari = pd.concat([df_ari, df_ari1, df_ari2])"
   ]
  },
  {
   "cell_type": "code",
   "execution_count": 5,
   "metadata": {
    "ExecuteTime": {
     "end_time": "2020-08-04T09:53:15.596533Z",
     "start_time": "2020-08-04T09:53:15.557277Z"
    }
   },
   "outputs": [],
   "source": [
    "df[\"subspace size\"] = df[\"subspace size\"].apply(lambda x : x -1)\n",
    "df_ari[\"subspace size\"] = df_ari[\"subspace size\"].apply(lambda x : x -1)"
   ]
  },
  {
   "cell_type": "code",
   "execution_count": 6,
   "metadata": {
    "ExecuteTime": {
     "end_time": "2020-08-04T09:53:17.310848Z",
     "start_time": "2020-08-04T09:53:16.448624Z"
    }
   },
   "outputs": [
    {
     "data": {
      "image/png": "[encoded data removed]",
      "text/plain": [
       "<Figure size 864x288 with 2 Axes>"
      ]
     },
     "metadata": {
      "needs_background": "light"
     },
     "output_type": "display_data"
    }
   ],
   "source": [
    "plt.figure(figsize = (12,4))\n",
    "ax = plt.subplot(121)\n",
    "means = df.groupby([\"subspace size\", \"mode\"]).mean().unstack(1).T.values\n",
    "sns.boxplot(x = \"subspace size\", y = \"values\", hue = \"mode\",  data = df, ax = ax)\n",
    "plt.ylabel(\"% subspace overvlap\")\n",
    "sns.despine()\n",
    "ylim = ax.get_ylim()\n",
    "plt.ylim((ylim[0], ylim[1] + 0.01))\n",
    "ax.legend(bbox_to_anchor=(1,0.2))\n",
    "for i in range(len(subspace_sizes)):\n",
    "    plt.text(i - 0.3, 1.005,round(means[1][i], 2))\n",
    "    plt.text(i + 0.1, 1.005,round(means[0][i], 2))\n",
    "plt.title(\"(a) % Features identified\")\n",
    "\n",
    "ax = plt.subplot(122)\n",
    "means = df_ari.groupby([\"subspace size\", \"mode\"]).mean().unstack(1).T.values\n",
    "sns.barplot(x = \"subspace size\", y = \"values\", hue = \"mode\",  data = df_ari, ax = ax)\n",
    "plt.ylabel(\"ARI\")\n",
    "sns.despine()\n",
    "for i in range(len(subspace_sizes)):\n",
    "    plt.text(i - 0.3, 1.03,round(means[1][i], 2))\n",
    "    plt.text(i + 0.1, 1.03,round(means[0][i], 2))\n",
    "ax.legend(bbox_to_anchor=(0.8,0.2))\n",
    "plt.title(\"(b) ARI\")\n",
    "\n",
    "plt.savefig(\"../images/discovery_vs_semi-supervised.pdf\", bbox_inches='tight')"
   ]
  },
  {
   "cell_type": "code",
   "execution_count": null,
   "metadata": {},
   "outputs": [],
   "source": []
  }
 ],
 "metadata": {
  "kernelspec": {
   "display_name": "Python 3",
   "language": "python",
   "name": "python3"
  },
  "language_info": {
   "codemirror_mode": {
    "name": "ipython",
    "version": 3
   },
   "file_extension": ".py",
   "mimetype": "text/x-python",
   "name": "python",
   "nbconvert_exporter": "python",
   "pygments_lexer": "ipython3",
   "version": "3.6.9"
  },
  "toc": {
   "base_numbering": 1,
   "nav_menu": {},
   "number_sections": true,
   "sideBar": true,
   "skip_h1_title": false,
   "title_cell": "Table of Contents",
   "title_sidebar": "Contents",
   "toc_cell": false,
   "toc_position": {},
   "toc_section_display": true,
   "toc_window_display": false
  },
  "varInspector": {
   "cols": {
    "lenName": 16,
    "lenType": 16,
    "lenVar": 40
   },
   "kernels_config": {
    "python": {
     "delete_cmd_postfix": "",
     "delete_cmd_prefix": "del ",
     "library": "var_list.py",
     "varRefreshCmd": "print(var_dic_list())"
    },
    "r": {
     "delete_cmd_postfix": ") ",
     "delete_cmd_prefix": "rm(",
     "library": "var_list.r",
     "varRefreshCmd": "cat(var_dic_list()) "
    }
   },
   "oldHeight": 361.5,
   "position": {
    "height": "40px",
    "left": "1035px",
    "right": "20px",
    "top": "120px",
    "width": "313px"
   },
   "types_to_exclude": [
    "module",
    "function",
    "builtin_function_or_method",
    "instance",
    "_Feature"
   ],
   "varInspector_section_display": "none",
   "window_display": false
  }
 },
 "nbformat": 4,
 "nbformat_minor": 2
}
