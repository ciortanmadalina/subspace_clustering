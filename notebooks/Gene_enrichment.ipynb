{
 "cells": [
  {
   "cell_type": "markdown",
   "metadata": {
    "ExecuteTime": {
     "end_time": "2020-06-13T10:06:13.511017Z",
     "start_time": "2020-06-13T10:06:13.508886Z"
    }
   },
   "source": [
    "# Summary\n",
    "\n",
    "This notebooks allows to replicate the results of the gene enrichment analysis on the 2 RNA-seq datasets, BRCA and KIRP."
   ]
  },
  {
   "cell_type": "code",
   "execution_count": null,
   "metadata": {
    "ExecuteTime": {
     "end_time": "2020-06-13T10:18:03.331111Z",
     "start_time": "2020-06-13T10:18:02.335057Z"
    }
   },
   "outputs": [],
   "source": [
    "import sys\n",
    "sys.path.append(\"..\")\n",
    "import matplotlib.pyplot as plt\n",
    "import numpy as np\n",
    "import pandas as pd\n",
    "import seaborn as sns\n",
    "from collections import Counter\n",
    "import itertools\n",
    "import random\n",
    "import scipy\n",
    "from tqdm import tqdm\n",
    "import pickle\n",
    "import os\n",
    "import gseapy as gp\n",
    "from gseapy.plot import barplot, dotplot\n",
    "\n",
    "plt.ion()\n",
    "plt.show()\n",
    "\n",
    "\n",
    "%load_ext autoreload\n",
    "%autoreload 2"
   ]
  },
  {
   "cell_type": "code",
   "execution_count": null,
   "metadata": {
    "ExecuteTime": {
     "end_time": "2020-06-13T10:18:03.697547Z",
     "start_time": "2020-06-13T10:18:03.354799Z"
    }
   },
   "outputs": [],
   "source": [
    "names = gp.get_library_name() # default: Human\n",
    "names\n",
    "\n",
    "gene_sets = ['GO_Biological_Process_2013',\n",
    " 'GO_Biological_Process_2015',\n",
    " 'GO_Biological_Process_2017',\n",
    " 'GO_Biological_Process_2017b',\n",
    " 'GO_Biological_Process_2018',\n",
    " 'GO_Cellular_Component_2013',\n",
    " 'GO_Cellular_Component_2015',\n",
    " 'GO_Cellular_Component_2017',\n",
    " 'GO_Cellular_Component_2017b',\n",
    " 'GO_Cellular_Component_2018',\n",
    " 'GO_Molecular_Function_2013',\n",
    " 'GO_Molecular_Function_2015',\n",
    " 'GO_Molecular_Function_2017',\n",
    " 'GO_Molecular_Function_2017b',\n",
    " 'GO_Molecular_Function_2018',]"
   ]
  },
  {
   "cell_type": "markdown",
   "metadata": {},
   "source": [
    "# BRCA analysis"
   ]
  },
  {
   "cell_type": "code",
   "execution_count": null,
   "metadata": {
    "ExecuteTime": {
     "end_time": "2020-06-13T10:18:04.716308Z",
     "start_time": "2020-06-13T10:18:04.588555Z"
    }
   },
   "outputs": [],
   "source": [
    "filename =\"BRCA\"\n",
    "data = pd.read_pickle(f\"../data/rna_data/{filename}.pkl\")\n",
    "solutions = pd.read_pickle(f\"../data/{filename}_gmm_adapted_ratkowsky_lance.pkl\")"
   ]
  },
  {
   "cell_type": "code",
   "execution_count": null,
   "metadata": {
    "ExecuteTime": {
     "end_time": "2020-06-13T10:18:05.366695Z",
     "start_time": "2020-06-13T10:18:05.310701Z"
    }
   },
   "outputs": [],
   "source": [
    "input_genes = data.columns[:-1]\n",
    "input_genes = np.array([g.split('|')[0] for g in input_genes])"
   ]
  },
  {
   "cell_type": "code",
   "execution_count": null,
   "metadata": {
    "ExecuteTime": {
     "end_time": "2020-06-13T10:24:47.038798Z",
     "start_time": "2020-06-13T10:23:24.341182Z"
    }
   },
   "outputs": [],
   "source": [
    "for i, subspace in enumerate(solutions[\"features\"].values):\n",
    "    if len(subspace) >10:\n",
    "        gene_list = [ input_genes[s] for s in subspace]\n",
    "        enr = gp.enrichr(\n",
    "                     gene_list=gene_list,\n",
    "                     description='test_name',\n",
    "                     gene_sets=gene_sets,\n",
    "                     outdir='test/enrichr_kegg',\n",
    "                     cutoff=0.05 # test dataset, use lower value from range(0,1)\n",
    "                    )\n",
    "        \n",
    "        print(f\"analyzing subspace {i} of size {len(subspace)}\")\n",
    "        plt.figure()\n",
    "        barplot(enr.res2d,title='Barplot', cutoff=0.05)\n",
    "        plt.show()\n",
    "        \n",
    "        dd = enr.res2d[enr.res2d[\"Adjusted P-value\"]<=0.05][[\"Gene_set\", \"Term\"]].drop_duplicates()\n",
    "        ontology = dd[\"Gene_set\"].unique()\n",
    "        print(f\"ontology { ontology}, {dd.shape[0]} functions\")\n"
   ]
  },
  {
   "cell_type": "markdown",
   "metadata": {},
   "source": [
    "# KIRP analysis"
   ]
  },
  {
   "cell_type": "code",
   "execution_count": null,
   "metadata": {
    "ExecuteTime": {
     "end_time": "2020-06-13T11:53:57.473702Z",
     "start_time": "2020-06-13T11:53:57.381327Z"
    },
    "scrolled": false
   },
   "outputs": [],
   "source": [
    "filename =\"KIRP\" \n",
    "data = pd.read_pickle(f\"../data/rna_data/{filename}.pkl\")\n",
    "solutions = pd.read_pickle(f\"../data/KIRP_gmm_adapted_ratkowsky_lance.pkl\")\n",
    "\n",
    "input_genes = data.columns[:-1]\n",
    "input_genes = np.array([g.split('|')[0] for g in input_genes])\n",
    "\n",
    "for i, subspace in enumerate(solutions[\"features\"].values):\n",
    "    if len(subspace) >10:\n",
    "        gene_list = [ input_genes[s] for s in subspace]\n",
    "        enr = gp.enrichr(\n",
    "                     gene_list=gene_list,\n",
    "                     description='test_name',\n",
    "                     gene_sets=gene_sets,\n",
    "                     outdir='test/enrichr_kegg',\n",
    "                     cutoff=0.05 # test dataset, use lower value from range(0,1)\n",
    "                    )\n",
    "        print(f\"analyzing subspace {i} of size {len(subspace)}\")\n",
    "        barplot(enr.res2d,title='Barplot', cutoff=0.05)\n",
    "        plt.show()\n",
    "        \n",
    "        dd = enr.res2d[enr.res2d[\"Adjusted P-value\"]<=0.05][[\"Gene_set\", \"Term\"]].drop_duplicates()\n",
    "        ontology = dd[\"Gene_set\"].unique()\n",
    "        print(f\"ontology { ontology}, {dd.shape[0]} functions\")\n",
    "        \n",
    "        "
   ]
  },
  {
   "cell_type": "code",
   "execution_count": null,
   "metadata": {},
   "outputs": [],
   "source": []
  }
 ],
 "metadata": {
  "kernelspec": {
   "display_name": "Python 3",
   "language": "python",
   "name": "python3"
  },
  "language_info": {
   "codemirror_mode": {
    "name": "ipython",
    "version": 3
   },
   "file_extension": ".py",
   "mimetype": "text/x-python",
   "name": "python",
   "nbconvert_exporter": "python",
   "pygments_lexer": "ipython3",
   "version": "3.6.9"
  }
 },
 "nbformat": 4,
 "nbformat_minor": 4
}
